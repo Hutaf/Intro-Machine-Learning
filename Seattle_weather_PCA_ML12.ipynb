{
  "nbformat": 4,
  "nbformat_minor": 0,
  "metadata": {
    "kernelspec": {
      "display_name": "Python 3",
      "language": "python",
      "name": "python3"
    },
    "language_info": {
      "codemirror_mode": {
        "name": "ipython",
        "version": 3
      },
      "file_extension": ".py",
      "mimetype": "text/x-python",
      "name": "python",
      "nbconvert_exporter": "python",
      "pygments_lexer": "ipython3",
      "version": "3.5.6"
    },
    "colab": {
      "name": "Seattle_weather_PCA_ML11.ipynb",
      "provenance": [],
      "collapsed_sections": [],
      "include_colab_link": true
    }
  },
  "cells": [
    {
      "cell_type": "markdown",
      "metadata": {
        "id": "view-in-github",
        "colab_type": "text"
      },
      "source": [
        "<a href=\"https://colab.research.google.com/github/Hutaf/SDA-Machine-Learning/blob/main/Seattle_weather_PCA_ML11.ipynb\" target=\"_parent\"><img src=\"https://colab.research.google.com/assets/colab-badge.svg\" alt=\"Open In Colab\"/></a>"
      ]
    },
    {
      "cell_type": "markdown",
      "metadata": {
        "id": "N8bJQ9wjpylY"
      },
      "source": [
        "## Assignment ML11\n",
        "###  Use PCA to reduce the number of features for the seattle weather data.\n"
      ]
    },
    {
      "cell_type": "code",
      "metadata": {
        "id": "7zPVWwdIqWDR"
      },
      "source": [
        "import pandas as pd\n",
        "import numpy as np\n",
        "import seaborn as sns\n",
        "import matplotlib.pyplot as plt\n",
        "from sklearn.linear_model import LogisticRegression\n",
        "from sklearn.model_selection import train_test_split\n",
        "from sklearn.decomposition import PCA\n",
        "from sklearn.metrics import accuracy_score, precision_score, recall_score, mean_squared_error, confusion_matrix"
      ],
      "execution_count": 1,
      "outputs": []
    },
    {
      "cell_type": "code",
      "metadata": {
        "id": "QAZdZ96uGA7k"
      },
      "source": [
        "filepath = 'https://raw.githubusercontent.com/daniel-dc-cd/data_science/master/module_4_ML/data/seattle_weather_1948-2017.csv'\n",
        "df = pd.read_csv(filepath)"
      ],
      "execution_count": 2,
      "outputs": []
    },
    {
      "cell_type": "markdown",
      "metadata": {
        "id": "hvrHeHvkwxaG"
      },
      "source": [
        "### Explore Seattle weather data"
      ]
    },
    {
      "cell_type": "code",
      "metadata": {
        "id": "NIvpsvxKGA7r",
        "colab": {
          "base_uri": "https://localhost:8080/",
          "height": 875
        },
        "outputId": "e4b7a63e-bef8-4442-d514-7cbce99fced2"
      },
      "source": [
        "print('-'*50)\n",
        "print(df.info())\n",
        "print('-'*50)\n",
        "print(df.describe())\n",
        "print('-'*50)\n",
        "print(df.corr())\n",
        "print('-'*50)\n",
        "df.head(10)"
      ],
      "execution_count": 3,
      "outputs": [
        {
          "output_type": "stream",
          "text": [
            "--------------------------------------------------\n",
            "<class 'pandas.core.frame.DataFrame'>\n",
            "RangeIndex: 25551 entries, 0 to 25550\n",
            "Data columns (total 5 columns):\n",
            " #   Column  Non-Null Count  Dtype  \n",
            "---  ------  --------------  -----  \n",
            " 0   DATE    25551 non-null  object \n",
            " 1   PRCP    25548 non-null  float64\n",
            " 2   TMAX    25551 non-null  int64  \n",
            " 3   TMIN    25551 non-null  int64  \n",
            " 4   RAIN    25548 non-null  object \n",
            "dtypes: float64(1), int64(2), object(2)\n",
            "memory usage: 998.2+ KB\n",
            "None\n",
            "--------------------------------------------------\n",
            "               PRCP          TMAX          TMIN\n",
            "count  25548.000000  25551.000000  25551.000000\n",
            "mean       0.106222     59.544206     44.514226\n",
            "std        0.239031     12.772984      8.892836\n",
            "min        0.000000      4.000000      0.000000\n",
            "25%        0.000000     50.000000     38.000000\n",
            "50%        0.000000     58.000000     45.000000\n",
            "75%        0.100000     69.000000     52.000000\n",
            "max        5.020000    103.000000     71.000000\n",
            "--------------------------------------------------\n",
            "          PRCP      TMAX      TMIN\n",
            "PRCP  1.000000 -0.226736 -0.064365\n",
            "TMAX -0.226736  1.000000  0.860684\n",
            "TMIN -0.064365  0.860684  1.000000\n",
            "--------------------------------------------------\n"
          ],
          "name": "stdout"
        },
        {
          "output_type": "execute_result",
          "data": {
            "text/html": [
              "<div>\n",
              "<style scoped>\n",
              "    .dataframe tbody tr th:only-of-type {\n",
              "        vertical-align: middle;\n",
              "    }\n",
              "\n",
              "    .dataframe tbody tr th {\n",
              "        vertical-align: top;\n",
              "    }\n",
              "\n",
              "    .dataframe thead th {\n",
              "        text-align: right;\n",
              "    }\n",
              "</style>\n",
              "<table border=\"1\" class=\"dataframe\">\n",
              "  <thead>\n",
              "    <tr style=\"text-align: right;\">\n",
              "      <th></th>\n",
              "      <th>DATE</th>\n",
              "      <th>PRCP</th>\n",
              "      <th>TMAX</th>\n",
              "      <th>TMIN</th>\n",
              "      <th>RAIN</th>\n",
              "    </tr>\n",
              "  </thead>\n",
              "  <tbody>\n",
              "    <tr>\n",
              "      <th>0</th>\n",
              "      <td>1948-01-01</td>\n",
              "      <td>0.47</td>\n",
              "      <td>51</td>\n",
              "      <td>42</td>\n",
              "      <td>True</td>\n",
              "    </tr>\n",
              "    <tr>\n",
              "      <th>1</th>\n",
              "      <td>1948-01-02</td>\n",
              "      <td>0.59</td>\n",
              "      <td>45</td>\n",
              "      <td>36</td>\n",
              "      <td>True</td>\n",
              "    </tr>\n",
              "    <tr>\n",
              "      <th>2</th>\n",
              "      <td>1948-01-03</td>\n",
              "      <td>0.42</td>\n",
              "      <td>45</td>\n",
              "      <td>35</td>\n",
              "      <td>True</td>\n",
              "    </tr>\n",
              "    <tr>\n",
              "      <th>3</th>\n",
              "      <td>1948-01-04</td>\n",
              "      <td>0.31</td>\n",
              "      <td>45</td>\n",
              "      <td>34</td>\n",
              "      <td>True</td>\n",
              "    </tr>\n",
              "    <tr>\n",
              "      <th>4</th>\n",
              "      <td>1948-01-05</td>\n",
              "      <td>0.17</td>\n",
              "      <td>45</td>\n",
              "      <td>32</td>\n",
              "      <td>True</td>\n",
              "    </tr>\n",
              "    <tr>\n",
              "      <th>5</th>\n",
              "      <td>1948-01-06</td>\n",
              "      <td>0.44</td>\n",
              "      <td>48</td>\n",
              "      <td>39</td>\n",
              "      <td>True</td>\n",
              "    </tr>\n",
              "    <tr>\n",
              "      <th>6</th>\n",
              "      <td>1948-01-07</td>\n",
              "      <td>0.41</td>\n",
              "      <td>50</td>\n",
              "      <td>40</td>\n",
              "      <td>True</td>\n",
              "    </tr>\n",
              "    <tr>\n",
              "      <th>7</th>\n",
              "      <td>1948-01-08</td>\n",
              "      <td>0.04</td>\n",
              "      <td>48</td>\n",
              "      <td>35</td>\n",
              "      <td>True</td>\n",
              "    </tr>\n",
              "    <tr>\n",
              "      <th>8</th>\n",
              "      <td>1948-01-09</td>\n",
              "      <td>0.12</td>\n",
              "      <td>50</td>\n",
              "      <td>31</td>\n",
              "      <td>True</td>\n",
              "    </tr>\n",
              "    <tr>\n",
              "      <th>9</th>\n",
              "      <td>1948-01-10</td>\n",
              "      <td>0.74</td>\n",
              "      <td>43</td>\n",
              "      <td>34</td>\n",
              "      <td>True</td>\n",
              "    </tr>\n",
              "  </tbody>\n",
              "</table>\n",
              "</div>"
            ],
            "text/plain": [
              "         DATE  PRCP  TMAX  TMIN  RAIN\n",
              "0  1948-01-01  0.47    51    42  True\n",
              "1  1948-01-02  0.59    45    36  True\n",
              "2  1948-01-03  0.42    45    35  True\n",
              "3  1948-01-04  0.31    45    34  True\n",
              "4  1948-01-05  0.17    45    32  True\n",
              "5  1948-01-06  0.44    48    39  True\n",
              "6  1948-01-07  0.41    50    40  True\n",
              "7  1948-01-08  0.04    48    35  True\n",
              "8  1948-01-09  0.12    50    31  True\n",
              "9  1948-01-10  0.74    43    34  True"
            ]
          },
          "metadata": {
            "tags": []
          },
          "execution_count": 3
        }
      ]
    },
    {
      "cell_type": "code",
      "metadata": {
        "id": "7wQoIB9UyjM0",
        "colab": {
          "base_uri": "https://localhost:8080/",
          "height": 287
        },
        "outputId": "d1cbfa79-4bd3-4a27-9dbd-908c2d82be82"
      },
      "source": [
        "sns.heatmap(df.corr())"
      ],
      "execution_count": 4,
      "outputs": [
        {
          "output_type": "execute_result",
          "data": {
            "text/plain": [
              "<matplotlib.axes._subplots.AxesSubplot at 0x7f21a8966c88>"
            ]
          },
          "metadata": {
            "tags": []
          },
          "execution_count": 4
        },
        {
          "output_type": "display_data",
          "data": {
            "image/png": "[encoded data removed]",
            "text/plain": [
              "<Figure size 432x288 with 2 Axes>"
            ]
          },
          "metadata": {
            "tags": [],
            "needs_background": "light"
          }
        }
      ]
    },
    {
      "cell_type": "code",
      "metadata": {
        "id": "oBfa1dJxiVjp",
        "colab": {
          "base_uri": "https://localhost:8080/",
          "height": 609
        },
        "outputId": "0bfa0960-5275-432c-ef0b-7e080fa55f80"
      },
      "source": [
        "plt.figure(figsize=(10,10))\n",
        "sns.boxplot(data=df)"
      ],
      "execution_count": 5,
      "outputs": [
        {
          "output_type": "execute_result",
          "data": {
            "text/plain": [
              "<matplotlib.axes._subplots.AxesSubplot at 0x7f21a56187f0>"
            ]
          },
          "metadata": {
            "tags": []
          },
          "execution_count": 5
        },
        {
          "output_type": "display_data",
          "data": {
            "image/png": "[encoded data removed]",
            "text/plain": [
              "<Figure size 720x720 with 1 Axes>"
            ]
          },
          "metadata": {
            "tags": [],
            "needs_background": "light"
          }
        }
      ]
    },
    {
      "cell_type": "code",
      "metadata": {
        "id": "8x3QE_JerfpJ",
        "colab": {
          "base_uri": "https://localhost:8080/",
          "height": 609
        },
        "outputId": "ee7ebfb5-a17a-412a-a4be-cdf7756839d5"
      },
      "source": [
        "plt.figure(figsize=(10,10))\n",
        "sns.barplot(data=df)"
      ],
      "execution_count": 6,
      "outputs": [
        {
          "output_type": "execute_result",
          "data": {
            "text/plain": [
              "<matplotlib.axes._subplots.AxesSubplot at 0x7f21a5101ef0>"
            ]
          },
          "metadata": {
            "tags": []
          },
          "execution_count": 6
        },
        {
          "output_type": "display_data",
          "data": {
            "image/png": "[encoded data removed]",
            "text/plain": [
              "<Figure size 720x720 with 1 Axes>"
            ]
          },
          "metadata": {
            "tags": [],
            "needs_background": "light"
          }
        }
      ]
    },
    {
      "cell_type": "code",
      "metadata": {
        "id": "txNmnV8-yNGZ",
        "colab": {
          "base_uri": "https://localhost:8080/",
          "height": 351
        },
        "outputId": "b67686dd-b3b9-4c9b-bfc0-87f0c9d338e1"
      },
      "source": [
        "sns.countplot(df['RAIN'])"
      ],
      "execution_count": 7,
      "outputs": [
        {
          "output_type": "stream",
          "text": [
            "/usr/local/lib/python3.6/dist-packages/seaborn/_decorators.py:43: FutureWarning: Pass the following variable as a keyword arg: x. From version 0.12, the only valid positional argument will be `data`, and passing other arguments without an explicit keyword will result in an error or misinterpretation.\n",
            "  FutureWarning\n"
          ],
          "name": "stderr"
        },
        {
          "output_type": "execute_result",
          "data": {
            "text/plain": [
              "<matplotlib.axes._subplots.AxesSubplot at 0x7f21a50664e0>"
            ]
          },
          "metadata": {
            "tags": []
          },
          "execution_count": 7
        },
        {
          "output_type": "display_data",
          "data": {
            "image/png": "[encoded data removed]",
            "text/plain": [
              "<Figure size 432x288 with 1 Axes>"
            ]
          },
          "metadata": {
            "tags": [],
            "needs_background": "light"
          }
        }
      ]
    },
    {
      "cell_type": "markdown",
      "metadata": {
        "id": "y0Trs6zRuLBA"
      },
      "source": [
        "### Preparing the Seattle weather data"
      ]
    },
    {
      "cell_type": "code",
      "metadata": {
        "id": "Q-9j3I5toPws",
        "colab": {
          "base_uri": "https://localhost:8080/"
        },
        "outputId": "ed8e7643-f642-47de-e240-1930bb422df9"
      },
      "source": [
        "df.isna().sum()"
      ],
      "execution_count": 8,
      "outputs": [
        {
          "output_type": "execute_result",
          "data": {
            "text/plain": [
              "DATE    0\n",
              "PRCP    3\n",
              "TMAX    0\n",
              "TMIN    0\n",
              "RAIN    3\n",
              "dtype: int64"
            ]
          },
          "metadata": {
            "tags": []
          },
          "execution_count": 8
        }
      ]
    },
    {
      "cell_type": "code",
      "metadata": {
        "id": "Xj6W7goNuYcy"
      },
      "source": [
        "def isNull(df, column):\n",
        "  return df[pd.isnull(df[column])]"
      ],
      "execution_count": 9,
      "outputs": []
    },
    {
      "cell_type": "code",
      "metadata": {
        "id": "bVexSEyeut3F",
        "colab": {
          "base_uri": "https://localhost:8080/",
          "height": 141
        },
        "outputId": "66d1a4e0-88e2-4961-c11c-c7375981e153"
      },
      "source": [
        "isNull(df, 'PRCP')"
      ],
      "execution_count": 10,
      "outputs": [
        {
          "output_type": "execute_result",
          "data": {
            "text/html": [
              "<div>\n",
              "<style scoped>\n",
              "    .dataframe tbody tr th:only-of-type {\n",
              "        vertical-align: middle;\n",
              "    }\n",
              "\n",
              "    .dataframe tbody tr th {\n",
              "        vertical-align: top;\n",
              "    }\n",
              "\n",
              "    .dataframe thead th {\n",
              "        text-align: right;\n",
              "    }\n",
              "</style>\n",
              "<table border=\"1\" class=\"dataframe\">\n",
              "  <thead>\n",
              "    <tr style=\"text-align: right;\">\n",
              "      <th></th>\n",
              "      <th>DATE</th>\n",
              "      <th>PRCP</th>\n",
              "      <th>TMAX</th>\n",
              "      <th>TMIN</th>\n",
              "      <th>RAIN</th>\n",
              "    </tr>\n",
              "  </thead>\n",
              "  <tbody>\n",
              "    <tr>\n",
              "      <th>18415</th>\n",
              "      <td>1998-06-02</td>\n",
              "      <td>NaN</td>\n",
              "      <td>72</td>\n",
              "      <td>52</td>\n",
              "      <td>NaN</td>\n",
              "    </tr>\n",
              "    <tr>\n",
              "      <th>18416</th>\n",
              "      <td>1998-06-03</td>\n",
              "      <td>NaN</td>\n",
              "      <td>66</td>\n",
              "      <td>51</td>\n",
              "      <td>NaN</td>\n",
              "    </tr>\n",
              "    <tr>\n",
              "      <th>21067</th>\n",
              "      <td>2005-09-05</td>\n",
              "      <td>NaN</td>\n",
              "      <td>70</td>\n",
              "      <td>52</td>\n",
              "      <td>NaN</td>\n",
              "    </tr>\n",
              "  </tbody>\n",
              "</table>\n",
              "</div>"
            ],
            "text/plain": [
              "             DATE  PRCP  TMAX  TMIN RAIN\n",
              "18415  1998-06-02   NaN    72    52  NaN\n",
              "18416  1998-06-03   NaN    66    51  NaN\n",
              "21067  2005-09-05   NaN    70    52  NaN"
            ]
          },
          "metadata": {
            "tags": []
          },
          "execution_count": 10
        }
      ]
    },
    {
      "cell_type": "code",
      "metadata": {
        "id": "DG-gAnCeu-PN"
      },
      "source": [
        "#df['PRCP'] = df['PRCP'].fillna(df['PRCP'].median)\n",
        "#isNull(df, 'PRCP')"
      ],
      "execution_count": 11,
      "outputs": []
    },
    {
      "cell_type": "code",
      "metadata": {
        "id": "mEx8j0LrvmPn"
      },
      "source": [
        "#df['RAIN'] = df['RAIN'].fillna(False)\n",
        "#isNull(df, 'RAIN')"
      ],
      "execution_count": 12,
      "outputs": []
    },
    {
      "cell_type": "code",
      "metadata": {
        "id": "mgdMiYWby235"
      },
      "source": [
        "df_no_missing = df.dropna()"
      ],
      "execution_count": 13,
      "outputs": []
    },
    {
      "cell_type": "code",
      "metadata": {
        "colab": {
          "base_uri": "https://localhost:8080/"
        },
        "id": "cabjqRynz_1S",
        "outputId": "d06519e7-3030-4e28-f19a-893558e27287"
      },
      "source": [
        "df_no_missing.isna().sum()"
      ],
      "execution_count": 14,
      "outputs": [
        {
          "output_type": "execute_result",
          "data": {
            "text/plain": [
              "DATE    0\n",
              "PRCP    0\n",
              "TMAX    0\n",
              "TMIN    0\n",
              "RAIN    0\n",
              "dtype: int64"
            ]
          },
          "metadata": {
            "tags": []
          },
          "execution_count": 14
        }
      ]
    },
    {
      "cell_type": "markdown",
      "metadata": {
        "id": "RUNes7-thXp2"
      },
      "source": [
        "# Modeling"
      ]
    },
    {
      "cell_type": "code",
      "metadata": {
        "id": "4snhMjUJ0P9a"
      },
      "source": [
        "X = df_no_missing.drop(columns=['RAIN','DATE'])\n",
        "y = df_no_missing['RAIN'].astype(int)"
      ],
      "execution_count": 15,
      "outputs": []
    },
    {
      "cell_type": "markdown",
      "metadata": {
        "id": "cT1Q8vIBauVu"
      },
      "source": [
        "# 1. PCA"
      ]
    },
    {
      "cell_type": "markdown",
      "metadata": {
        "id": "AsveY1PRamxc"
      },
      "source": [
        "---\n",
        "##  PCA(n_components = 1)\n"
      ]
    },
    {
      "cell_type": "code",
      "metadata": {
        "id": "8LNAK2V6a0Hd"
      },
      "source": [
        "pca = PCA(n_components=1)\n",
        "projected_1 = pca.fit_transform(X)"
      ],
      "execution_count": 16,
      "outputs": []
    },
    {
      "cell_type": "code",
      "metadata": {
        "colab": {
          "base_uri": "https://localhost:8080/"
        },
        "id": "4qzxSu7sa0Hd",
        "outputId": "a5124b26-fa9c-427e-a707-478deac0e53d"
      },
      "source": [
        "print(X.shape)\n",
        "print(projected_1.shape)"
      ],
      "execution_count": 17,
      "outputs": [
        {
          "output_type": "stream",
          "text": [
            "(25548, 3)\n",
            "(25548, 1)\n"
          ],
          "name": "stdout"
        }
      ]
    },
    {
      "cell_type": "code",
      "metadata": {
        "colab": {
          "base_uri": "https://localhost:8080/"
        },
        "id": "Jlhul8Vva0He",
        "outputId": "3a0d6d30-09c8-4e7f-c48c-e6dc901208e0"
      },
      "source": [
        "pca.explained_variance_ratio_"
      ],
      "execution_count": 30,
      "outputs": [
        {
          "output_type": "execute_result",
          "data": {
            "text/plain": [
              "array([0.93909978, 0.06069217])"
            ]
          },
          "metadata": {
            "tags": []
          },
          "execution_count": 30
        }
      ]
    },
    {
      "cell_type": "markdown",
      "metadata": {
        "id": "wCQqlDfVsMFP"
      },
      "source": [
        "---\n",
        "## PCA(n_components = 2)\n"
      ]
    },
    {
      "cell_type": "code",
      "metadata": {
        "id": "xz3EslNB0-x2"
      },
      "source": [
        "pca = PCA(n_components=2)\n",
        "projected_2 = pca.fit_transform(X)"
      ],
      "execution_count": 32,
      "outputs": []
    },
    {
      "cell_type": "code",
      "metadata": {
        "colab": {
          "base_uri": "https://localhost:8080/"
        },
        "id": "q3ySuRxMBaKD",
        "outputId": "ad3d0081-d3f1-463f-8969-91a2127c78d9"
      },
      "source": [
        "print(X.shape)\n",
        "print(projected_2.shape)"
      ],
      "execution_count": 33,
      "outputs": [
        {
          "output_type": "stream",
          "text": [
            "(25548, 3)\n",
            "(25548, 2)\n"
          ],
          "name": "stdout"
        }
      ]
    },
    {
      "cell_type": "code",
      "metadata": {
        "colab": {
          "base_uri": "https://localhost:8080/",
          "height": 269
        },
        "id": "OzmmXROrCJ3w",
        "outputId": "3e99fcdd-5df0-4c44-b9cc-24a22423549e"
      },
      "source": [
        "plt.scatter(projected_2[:, 0], projected_2[:, 1], \n",
        "            edgecolor='none', alpha=0.2)\n",
        "plt.colorbar();"
      ],
      "execution_count": 34,
      "outputs": [
        {
          "output_type": "display_data",
          "data": {
            "image/png": "[encoded data removed]",
            "text/plain": [
              "<Figure size 432x288 with 2 Axes>"
            ]
          },
          "metadata": {
            "tags": [],
            "needs_background": "light"
          }
        }
      ]
    },
    {
      "cell_type": "code",
      "metadata": {
        "colab": {
          "base_uri": "https://localhost:8080/",
          "height": 279
        },
        "id": "2OWTdyJcBRHl",
        "outputId": "01ac1948-4182-4559-e1ad-8ba9af4dd4fc"
      },
      "source": [
        "plt.plot(np.cumsum(pca.explained_variance_ratio_))\n",
        "plt.xlabel('number of components')\n",
        "plt.ylabel('cumulative explained variance')\n",
        "plt.show();"
      ],
      "execution_count": 35,
      "outputs": [
        {
          "output_type": "display_data",
          "data": {
            "image/png": "[encoded data removed]",
            "text/plain": [
              "<Figure size 432x288 with 1 Axes>"
            ]
          },
          "metadata": {
            "tags": [],
            "needs_background": "light"
          }
        }
      ]
    },
    {
      "cell_type": "code",
      "metadata": {
        "colab": {
          "base_uri": "https://localhost:8080/",
          "height": 265
        },
        "id": "opf4E9NwfCC2",
        "outputId": "fb4cc897-1895-4fe9-c390-fb99b2d61cce"
      },
      "source": [
        "Projected_new = pca.inverse_transform(projected_2)\n",
        "plt.scatter(projected_2[:, 0], projected_2[:, 1], alpha=0.2)\n",
        "plt.scatter(Projected_new[:, 0], Projected_new[:, 1], alpha=0.8)\n",
        "plt.axis('equal');"
      ],
      "execution_count": 38,
      "outputs": [
        {
          "output_type": "display_data",
          "data": {
            "image/png": "[encoded data removed]",
            "text/plain": [
              "<Figure size 432x288 with 1 Axes>"
            ]
          },
          "metadata": {
            "tags": [],
            "needs_background": "light"
          }
        }
      ]
    },
    {
      "cell_type": "markdown",
      "metadata": {
        "id": "2rZEBCI7YwGK"
      },
      "source": [
        "## PCA(n_components = 3)"
      ]
    },
    {
      "cell_type": "code",
      "metadata": {
        "id": "Ehj6yxaGY1fI"
      },
      "source": [
        "pca = PCA(n_components=3)\n",
        "projected_3 = pca.fit_transform(X)"
      ],
      "execution_count": 39,
      "outputs": []
    },
    {
      "cell_type": "code",
      "metadata": {
        "colab": {
          "base_uri": "https://localhost:8080/"
        },
        "id": "TzEOkFA_Y1fI",
        "outputId": "f75a3a34-de0b-44f7-f03c-bb1b94961f2e"
      },
      "source": [
        "print(X.shape)\n",
        "print(projected_3.shape)"
      ],
      "execution_count": 40,
      "outputs": [
        {
          "output_type": "stream",
          "text": [
            "(25548, 3)\n",
            "(25548, 3)\n"
          ],
          "name": "stdout"
        }
      ]
    },
    {
      "cell_type": "code",
      "metadata": {
        "colab": {
          "base_uri": "https://localhost:8080/",
          "height": 304
        },
        "id": "lt9ri6riY1fI",
        "outputId": "bd7c09a1-3463-43f5-b139-23aae0729b12"
      },
      "source": [
        "plt.scatter(projected_3[:, 0], projected_3[:, 1], projected_3[:, 2],\n",
        "            edgecolor='none', alpha=0.2)\n",
        "plt.colorbar();"
      ],
      "execution_count": 41,
      "outputs": [
        {
          "output_type": "stream",
          "text": [
            "/usr/local/lib/python3.6/dist-packages/matplotlib/collections.py:885: RuntimeWarning: invalid value encountered in sqrt\n",
            "  scale = np.sqrt(self._sizes) * dpi / 72.0 * self._factor\n"
          ],
          "name": "stderr"
        },
        {
          "output_type": "display_data",
          "data": {
            "image/png": "[encoded data removed]",
            "text/plain": [
              "<Figure size 432x288 with 2 Axes>"
            ]
          },
          "metadata": {
            "tags": [],
            "needs_background": "light"
          }
        }
      ]
    },
    {
      "cell_type": "code",
      "metadata": {
        "colab": {
          "base_uri": "https://localhost:8080/",
          "height": 279
        },
        "id": "g_JY-ghOY1fI",
        "outputId": "6f4294d4-f44a-481c-9a5a-6f4f6acb390e"
      },
      "source": [
        "plt.plot(np.cumsum(pca.explained_variance_ratio_))\n",
        "plt.xlabel('number of components')\n",
        "plt.ylabel('cumulative explained variance')\n",
        "plt.show();"
      ],
      "execution_count": 42,
      "outputs": [
        {
          "output_type": "display_data",
          "data": {
            "image/png": "[encoded data removed]",
            "text/plain": [
              "<Figure size 432x288 with 1 Axes>"
            ]
          },
          "metadata": {
            "tags": [],
            "needs_background": "light"
          }
        }
      ]
    },
    {
      "cell_type": "code",
      "metadata": {
        "colab": {
          "base_uri": "https://localhost:8080/"
        },
        "id": "TSjaGEPIfhOh",
        "outputId": "e96c36d4-0db2-4461-9da9-19eca9c9b1f8"
      },
      "source": [
        "projected_3"
      ],
      "execution_count": 43,
      "outputs": [
        {
          "output_type": "execute_result",
          "data": {
            "text/plain": [
              "array([[ 8.51823056, -2.60533151,  0.29197949],\n",
              "       [16.82952914, -0.89637602,  0.41920798],\n",
              "       [17.3790387 , -0.05822917,  0.2628459 ],\n",
              "       ...,\n",
              "       [18.19266477,  3.00444015, -0.10385461],\n",
              "       [15.4223468 ,  2.43406087, -0.10627089],\n",
              "       [12.65202884,  1.86368159, -0.10868717]])"
            ]
          },
          "metadata": {
            "tags": []
          },
          "execution_count": 43
        }
      ]
    },
    {
      "cell_type": "markdown",
      "metadata": {
        "id": "wc2arosAXCMl"
      },
      "source": [
        "## 2. Split Data"
      ]
    },
    {
      "cell_type": "code",
      "metadata": {
        "id": "PHy5P29sx4w6"
      },
      "source": [
        "X_train1, X_test1, y_train1, y_test1 = train_test_split(projected_1, y, test_size=0.2, random_state = 42)\n",
        "X_train2, X_test2, y_train2, y_test2 = train_test_split(projected_2, y, test_size=0.2, random_state = 42)\n",
        "X_train3, X_test3, y_train3, y_test3 = train_test_split(projected_3, y, test_size=0.2, random_state = 42)"
      ],
      "execution_count": 44,
      "outputs": []
    },
    {
      "cell_type": "markdown",
      "metadata": {
        "id": "XlM_PzZ6sYdJ"
      },
      "source": [
        "---\n",
        "## 3. Training & Evaluation"
      ]
    },
    {
      "cell_type": "code",
      "metadata": {
        "id": "vuOS5oc3zh0M"
      },
      "source": [
        "def evaluation(model, X_test, y_test):\n",
        "  print(\"Accuracy: {}%\".format(round(accuracy_score(y_test, model.predict(X_test))*100)))\n",
        "  print(\"Precision: {}%\".format(round(precision_score(y_test, model.predict(X_test))*100)))\n",
        "  print(\"Recall: {}%\".format(round(recall_score(y_test, model.predict(X_test))*100)))\n",
        "  print(\"MSE: {}\".format(mean_squared_error(y_test, model.predict(X_test))))"
      ],
      "execution_count": 45,
      "outputs": []
    },
    {
      "cell_type": "code",
      "metadata": {
        "colab": {
          "base_uri": "https://localhost:8080/"
        },
        "id": "rMYClTSdaE39",
        "outputId": "e24fbeaa-3b8e-48ed-c050-920706bbea3d"
      },
      "source": [
        "reg= LogisticRegression(random_state=42,solver = 'lbfgs')\n",
        "reg.fit(X_train1,y_train1)\n",
        "print(\"Training Accuracy n_component = 1: {}%\".format(round(accuracy_score(y_train1, reg.predict(X_train1))*100)))"
      ],
      "execution_count": 46,
      "outputs": [
        {
          "output_type": "stream",
          "text": [
            "Training Accuracy n_component = 1: 63.0%\n"
          ],
          "name": "stdout"
        }
      ]
    },
    {
      "cell_type": "code",
      "metadata": {
        "colab": {
          "base_uri": "https://localhost:8080/"
        },
        "id": "QT9ZWMfxbrxX",
        "outputId": "613771d0-7176-4ec5-bbec-ae12f4030b8a"
      },
      "source": [
        "print('*'*30)\n",
        "print(\"Testing Performance (n_component = 1)\")\n",
        "print('*'*30)\n",
        "evaluation(reg, X_test1, y_test1)"
      ],
      "execution_count": 47,
      "outputs": [
        {
          "output_type": "stream",
          "text": [
            "******************************\n",
            "Testing Performance (n_component = 1)\n",
            "******************************\n",
            "Accuracy: 62.0%\n",
            "Precision: 56.0%\n",
            "Recall: 48.0%\n",
            "MSE: 0.38140900195694716\n"
          ],
          "name": "stdout"
        }
      ]
    },
    {
      "cell_type": "code",
      "metadata": {
        "id": "4niHxg8xtjCs",
        "colab": {
          "base_uri": "https://localhost:8080/"
        },
        "outputId": "d363b6b5-4e4f-45f8-889e-c6285f466580"
      },
      "source": [
        "reg= LogisticRegression(random_state=42,solver = 'lbfgs')\n",
        "reg.fit(X_train2,y_train2)\n",
        "print(\"Training Accuracy n_component = 2: {}%\".format(round(accuracy_score(y_train2, reg.predict(X_train2))*100)))"
      ],
      "execution_count": 48,
      "outputs": [
        {
          "output_type": "stream",
          "text": [
            "Training Accuracy n_component = 2: 75.0%\n"
          ],
          "name": "stdout"
        }
      ]
    },
    {
      "cell_type": "code",
      "metadata": {
        "colab": {
          "base_uri": "https://localhost:8080/"
        },
        "id": "_f-i-CflcSon",
        "outputId": "398531ed-ea6c-4870-fe12-c6eeb98f83f4"
      },
      "source": [
        "print('*'*30)\n",
        "print(\"Testing Performance (n_component = 2)\")\n",
        "print('*'*30)\n",
        "evaluation(reg, X_test2, y_test2)"
      ],
      "execution_count": 49,
      "outputs": [
        {
          "output_type": "stream",
          "text": [
            "******************************\n",
            "Testing Performance (n_component = 2)\n",
            "******************************\n",
            "Accuracy: 74.0%\n",
            "Precision: 69.0%\n",
            "Recall: 71.0%\n",
            "MSE: 0.2604696673189824\n"
          ],
          "name": "stdout"
        }
      ]
    },
    {
      "cell_type": "code",
      "metadata": {
        "colab": {
          "base_uri": "https://localhost:8080/"
        },
        "id": "36fWils5Z3gG",
        "outputId": "00a595c2-1c1c-4c1e-82c6-9ff4d18db420"
      },
      "source": [
        "reg= LogisticRegression(random_state=42,solver = 'lbfgs')\n",
        "reg.fit(X_train3,y_train3)\n",
        "print(\"Training Accuracy n_component = 3: {}%\".format(round(accuracy_score(y_train3, reg.predict(X_train3))*100)))"
      ],
      "execution_count": 50,
      "outputs": [
        {
          "output_type": "stream",
          "text": [
            "Training Accuracy n_component = 3: 93.0%\n"
          ],
          "name": "stdout"
        }
      ]
    },
    {
      "cell_type": "code",
      "metadata": {
        "colab": {
          "base_uri": "https://localhost:8080/"
        },
        "id": "pkXwkAl_cZ1Z",
        "outputId": "10db69a2-4424-4d69-92b4-f5b83140e1d0"
      },
      "source": [
        "print('*'*30)\n",
        "print(\"Testing Performance (n_component = 3)\")\n",
        "print('*'*30)\n",
        "evaluation(reg, X_test3, y_test3)"
      ],
      "execution_count": 51,
      "outputs": [
        {
          "output_type": "stream",
          "text": [
            "******************************\n",
            "Testing Performance (n_component = 3)\n",
            "******************************\n",
            "Accuracy: 93.0%\n",
            "Precision: 100.0%\n",
            "Recall: 84.0%\n",
            "MSE: 0.07025440313111546\n"
          ],
          "name": "stdout"
        }
      ]
    },
    {
      "cell_type": "markdown",
      "metadata": {
        "id": "nf_6d40-0jqI"
      },
      "source": [
        "### Extra: Confusion Matrix"
      ]
    },
    {
      "cell_type": "code",
      "metadata": {
        "id": "emZCvMHQ0ocq",
        "colab": {
          "base_uri": "https://localhost:8080/",
          "height": 283
        },
        "outputId": "4638defa-13c3-4eb3-9123-bd8a2f810ee1"
      },
      "source": [
        "sns.heatmap(confusion_matrix(y_test3, reg.predict(X_test3)) / len(y), cmap='Blues', annot=True)"
      ],
      "execution_count": 52,
      "outputs": [
        {
          "output_type": "execute_result",
          "data": {
            "text/plain": [
              "<matplotlib.axes._subplots.AxesSubplot at 0x7f219ba4ad30>"
            ]
          },
          "metadata": {
            "tags": []
          },
          "execution_count": 52
        },
        {
          "output_type": "display_data",
          "data": {
            "image/png": "[encoded data removed]",
            "text/plain": [
              "<Figure size 432x288 with 2 Axes>"
            ]
          },
          "metadata": {
            "tags": [],
            "needs_background": "light"
          }
        }
      ]
    },
    {
      "cell_type": "markdown",
      "metadata": {
        "id": "vaGyf6nAgC1m"
      },
      "source": [
        "# **Extras**"
      ]
    },
    {
      "cell_type": "code",
      "metadata": {
        "colab": {
          "base_uri": "https://localhost:8080/",
          "height": 476
        },
        "id": "b1OwMu0JgCQP",
        "outputId": "aa103eaf-12b0-427d-8d7d-b2b18c5691d1"
      },
      "source": [
        "# Code source: Gaël Varoquaux\n",
        "# Modified for documentation by Jaques Grobler\n",
        "# License: BSD 3 clause\n",
        "\n",
        "from sklearn.pipeline import Pipeline\n",
        "from sklearn.model_selection import GridSearchCV\n",
        "\n",
        "\n",
        "# Define a pipeline to search for the best combination of PCA truncation\n",
        "# and classifier regularization.\n",
        "pca = PCA()\n",
        "# set the tolerance to a large value to make the example faster\n",
        "logistic = LogisticRegression(max_iter=10000, tol=0.1)\n",
        "pipe = Pipeline(steps=[('pca', pca), ('logistic', logistic)])\n",
        "\n",
        "X = df_no_missing.drop(columns=['RAIN','DATE'])\n",
        "y = df_no_missing['RAIN'].astype(int)\n",
        "\n",
        "# Parameters of pipelines can be set using ‘__’ separated parameter names:\n",
        "param_grid = {\n",
        "    'pca__n_components': [1, 2, 3],\n",
        "    'logistic__C': np.logspace(-4, 4, 4),\n",
        "}\n",
        "search = GridSearchCV(pipe, param_grid, n_jobs=-1)\n",
        "search.fit(X, y)\n",
        "print(\"Best parameter (CV score=%0.3f):\" % search.best_score_)\n",
        "print(search.best_params_)\n",
        "\n",
        "# Plot the PCA spectrum\n",
        "pca.fit(X)\n",
        "\n",
        "fig, (ax0, ax1) = plt.subplots(nrows=2, sharex=True, figsize=(6, 6))\n",
        "ax0.plot(np.arange(1, pca.n_components_ + 1),\n",
        "         pca.explained_variance_ratio_, '+', linewidth=2)\n",
        "ax0.set_ylabel('PCA explained variance ratio')\n",
        "\n",
        "ax0.axvline(search.best_estimator_.named_steps['pca'].n_components,\n",
        "            linestyle=':', label='n_components chosen')\n",
        "ax0.legend(prop=dict(size=12))\n",
        "\n",
        "# For each number of components, find the best classifier results\n",
        "results = pd.DataFrame(search.cv_results_)\n",
        "components_col = 'param_pca__n_components'\n",
        "best_clfs = results.groupby(components_col).apply(\n",
        "    lambda g: g.nlargest(1, 'mean_test_score'))\n",
        "\n",
        "best_clfs.plot(x=components_col, y='mean_test_score', yerr='std_test_score',\n",
        "               legend=False, ax=ax1)\n",
        "ax1.set_ylabel('Classification accuracy (val)')\n",
        "ax1.set_xlabel('n_components')\n",
        "\n",
        "plt.xlim(-1, 70)\n",
        "\n",
        "plt.tight_layout()\n",
        "plt.show()"
      ],
      "execution_count": 54,
      "outputs": [
        {
          "output_type": "stream",
          "text": [
            "Best parameter (CV score=1.000):\n",
            "{'logistic__C': 10000.0, 'pca__n_components': 3}\n"
          ],
          "name": "stdout"
        },
        {
          "output_type": "display_data",
          "data": {
            "image/png": "[encoded data removed]",
            "text/plain": [
              "<Figure size 432x432 with 2 Axes>"
            ]
          },
          "metadata": {
            "tags": [],
            "needs_background": "light"
          }
        }
      ]
    }
  ]
}
