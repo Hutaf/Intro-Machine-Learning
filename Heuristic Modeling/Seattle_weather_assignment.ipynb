{
  "nbformat": 4,
  "nbformat_minor": 0,
  "metadata": {
    "kernelspec": {
      "display_name": "Python 3",
      "language": "python",
      "name": "python3"
    },
    "language_info": {
      "codemirror_mode": {
        "name": "ipython",
        "version": 3
      },
      "file_extension": ".py",
      "mimetype": "text/x-python",
      "name": "python",
      "nbconvert_exporter": "python",
      "pygments_lexer": "ipython3",
      "version": "3.5.6"
    },
    "colab": {
      "name": "Seattle_weather_assignment.ipynb",
      "provenance": []
    },
    "accelerator": "GPU"
  },
  "cells": [
    {
      "cell_type": "markdown",
      "metadata": {
        "id": "rBpyIlUBGA7i"
      },
      "source": [
        "### Heuristic Models\n",
        "Look at the Seattle weather in the **data** folder. Come up with a heuristic model to predict if it will rain today. Keep in mind this is a time series, which means that you only know what happened historically (before a given date). One example of a heuristic model is: It will rain tomorrow if it rained more than 1 inch (>1.0 PRCP) today. Describe your heuristic model in the next cell."
      ]
    },
    {
      "cell_type": "markdown",
      "metadata": {
        "id": "j5U8K6afGA7j"
      },
      "source": [
        "### My heuristic model\n",
        "**if it rained yesterday but not today, it will rain tomorrow.** \n",
        "\n",
        "\n",
        "**if it rained today but not yesterday , it will rain tomorrow.**   \n",
        "\n",
        "\n"
      ]
    },
    {
      "cell_type": "code",
      "metadata": {
        "id": "QAZdZ96uGA7k"
      },
      "source": [
        "import pandas as pd\n",
        "\n",
        "df = pd.read_csv('https://raw.githubusercontent.com/daniel-dc-cd/data_science/master/module_4_ML/data/seattle_weather_1948-2017.csv')\n",
        "\n",
        "numrows = 25549 # can be as large as 25549\n",
        "\n",
        "#create an empty dataframe to hold 100 values\n",
        "heuristic_df = pd.DataFrame({'yesterday':[0.0]*numrows,\n",
        "                             'today':[0.0]*numrows,\n",
        "                             'tomorrow':[0.0]*numrows,\n",
        "                             'guess':[False]*numrows, #logical guess\n",
        "                             'rain_tomorrow':[False]*numrows, #historical observation\n",
        "                             'correct':[False]*numrows}) #TRUE if your guess matches the historical observation\n",
        "\n",
        "#sort columns for convience\n",
        "seq = ['yesterday','today','tomorrow','guess','rain_tomorrow','correct']\n",
        "heuristic_df = heuristic_df.reindex(columns=seq)"
      ],
      "execution_count": 1,
      "outputs": []
    },
    {
      "cell_type": "code",
      "metadata": {
        "id": "NIvpsvxKGA7r",
        "outputId": "576d6b63-97fc-4381-e27a-3995a84333a1",
        "colab": {
          "base_uri": "https://localhost:8080/",
          "height": 202
        }
      },
      "source": [
        "df.head()"
      ],
      "execution_count": 2,
      "outputs": [
        {
          "output_type": "execute_result",
          "data": {
            "text/html": [
              "<div>\n",
              "<style scoped>\n",
              "    .dataframe tbody tr th:only-of-type {\n",
              "        vertical-align: middle;\n",
              "    }\n",
              "\n",
              "    .dataframe tbody tr th {\n",
              "        vertical-align: top;\n",
              "    }\n",
              "\n",
              "    .dataframe thead th {\n",
              "        text-align: right;\n",
              "    }\n",
              "</style>\n",
              "<table border=\"1\" class=\"dataframe\">\n",
              "  <thead>\n",
              "    <tr style=\"text-align: right;\">\n",
              "      <th></th>\n",
              "      <th>DATE</th>\n",
              "      <th>PRCP</th>\n",
              "      <th>TMAX</th>\n",
              "      <th>TMIN</th>\n",
              "      <th>RAIN</th>\n",
              "    </tr>\n",
              "  </thead>\n",
              "  <tbody>\n",
              "    <tr>\n",
              "      <th>0</th>\n",
              "      <td>1948-01-01</td>\n",
              "      <td>0.47</td>\n",
              "      <td>51</td>\n",
              "      <td>42</td>\n",
              "      <td>True</td>\n",
              "    </tr>\n",
              "    <tr>\n",
              "      <th>1</th>\n",
              "      <td>1948-01-02</td>\n",
              "      <td>0.59</td>\n",
              "      <td>45</td>\n",
              "      <td>36</td>\n",
              "      <td>True</td>\n",
              "    </tr>\n",
              "    <tr>\n",
              "      <th>2</th>\n",
              "      <td>1948-01-03</td>\n",
              "      <td>0.42</td>\n",
              "      <td>45</td>\n",
              "      <td>35</td>\n",
              "      <td>True</td>\n",
              "    </tr>\n",
              "    <tr>\n",
              "      <th>3</th>\n",
              "      <td>1948-01-04</td>\n",
              "      <td>0.31</td>\n",
              "      <td>45</td>\n",
              "      <td>34</td>\n",
              "      <td>True</td>\n",
              "    </tr>\n",
              "    <tr>\n",
              "      <th>4</th>\n",
              "      <td>1948-01-05</td>\n",
              "      <td>0.17</td>\n",
              "      <td>45</td>\n",
              "      <td>32</td>\n",
              "      <td>True</td>\n",
              "    </tr>\n",
              "  </tbody>\n",
              "</table>\n",
              "</div>"
            ],
            "text/plain": [
              "         DATE  PRCP  TMAX  TMIN  RAIN\n",
              "0  1948-01-01  0.47    51    42  True\n",
              "1  1948-01-02  0.59    45    36  True\n",
              "2  1948-01-03  0.42    45    35  True\n",
              "3  1948-01-04  0.31    45    34  True\n",
              "4  1948-01-05  0.17    45    32  True"
            ]
          },
          "metadata": {
            "tags": []
          },
          "execution_count": 2
        }
      ]
    },
    {
      "cell_type": "code",
      "metadata": {
        "id": "TX2Xe1qtGA7x",
        "outputId": "efc4d822-8465-419c-c93d-54ee218dacf4",
        "colab": {
          "base_uri": "https://localhost:8080/",
          "height": 202
        }
      },
      "source": [
        "heuristic_df.head()"
      ],
      "execution_count": 3,
      "outputs": [
        {
          "output_type": "execute_result",
          "data": {
            "text/html": [
              "<div>\n",
              "<style scoped>\n",
              "    .dataframe tbody tr th:only-of-type {\n",
              "        vertical-align: middle;\n",
              "    }\n",
              "\n",
              "    .dataframe tbody tr th {\n",
              "        vertical-align: top;\n",
              "    }\n",
              "\n",
              "    .dataframe thead th {\n",
              "        text-align: right;\n",
              "    }\n",
              "</style>\n",
              "<table border=\"1\" class=\"dataframe\">\n",
              "  <thead>\n",
              "    <tr style=\"text-align: right;\">\n",
              "      <th></th>\n",
              "      <th>yesterday</th>\n",
              "      <th>today</th>\n",
              "      <th>tomorrow</th>\n",
              "      <th>guess</th>\n",
              "      <th>rain_tomorrow</th>\n",
              "      <th>correct</th>\n",
              "    </tr>\n",
              "  </thead>\n",
              "  <tbody>\n",
              "    <tr>\n",
              "      <th>0</th>\n",
              "      <td>0.0</td>\n",
              "      <td>0.0</td>\n",
              "      <td>0.0</td>\n",
              "      <td>False</td>\n",
              "      <td>False</td>\n",
              "      <td>False</td>\n",
              "    </tr>\n",
              "    <tr>\n",
              "      <th>1</th>\n",
              "      <td>0.0</td>\n",
              "      <td>0.0</td>\n",
              "      <td>0.0</td>\n",
              "      <td>False</td>\n",
              "      <td>False</td>\n",
              "      <td>False</td>\n",
              "    </tr>\n",
              "    <tr>\n",
              "      <th>2</th>\n",
              "      <td>0.0</td>\n",
              "      <td>0.0</td>\n",
              "      <td>0.0</td>\n",
              "      <td>False</td>\n",
              "      <td>False</td>\n",
              "      <td>False</td>\n",
              "    </tr>\n",
              "    <tr>\n",
              "      <th>3</th>\n",
              "      <td>0.0</td>\n",
              "      <td>0.0</td>\n",
              "      <td>0.0</td>\n",
              "      <td>False</td>\n",
              "      <td>False</td>\n",
              "      <td>False</td>\n",
              "    </tr>\n",
              "    <tr>\n",
              "      <th>4</th>\n",
              "      <td>0.0</td>\n",
              "      <td>0.0</td>\n",
              "      <td>0.0</td>\n",
              "      <td>False</td>\n",
              "      <td>False</td>\n",
              "      <td>False</td>\n",
              "    </tr>\n",
              "  </tbody>\n",
              "</table>\n",
              "</div>"
            ],
            "text/plain": [
              "   yesterday  today  tomorrow  guess  rain_tomorrow  correct\n",
              "0        0.0    0.0       0.0  False          False    False\n",
              "1        0.0    0.0       0.0  False          False    False\n",
              "2        0.0    0.0       0.0  False          False    False\n",
              "3        0.0    0.0       0.0  False          False    False\n",
              "4        0.0    0.0       0.0  False          False    False"
            ]
          },
          "metadata": {
            "tags": []
          },
          "execution_count": 3
        }
      ]
    },
    {
      "cell_type": "markdown",
      "metadata": {
        "id": "ReauOh1mGA71"
      },
      "source": [
        "Build a loop to add your heuristic model guesses as a column to this dataframe"
      ]
    },
    {
      "cell_type": "markdown",
      "metadata": {
        "id": "7LdUZoElRjHH"
      },
      "source": [
        "### **if it rained yesterday but not today, it will rain tomorrow.**"
      ]
    },
    {
      "cell_type": "code",
      "metadata": {
        "id": "KGOaJ99oGA72"
      },
      "source": [
        "# here is an example loop that populates the dataframe created earlier\n",
        "# with the total percip from yesterday and today\n",
        "# then the guess is set to true if it rained yesterday but not today \n",
        "\n",
        "for z in range(numrows):\n",
        "    #start at time 2 in the data frame\n",
        "    i = z + 2\n",
        "    #pull values from the dataframe\n",
        "    yesterday = df.iloc[(i-2),1]\n",
        "    today = df.iloc[(i-1),1]\n",
        "    tomorrow = df.iloc[i,1]\n",
        "    rain_tomorrow = df.iloc[(i),1]\n",
        "    \n",
        "    heuristic_df.iat[z,0] = yesterday\n",
        "    heuristic_df.iat[z,1] = today\n",
        "    heuristic_df.iat[z,2] = tomorrow\n",
        "    heuristic_df.iat[z,3] = False # set guess default to False\n",
        "    heuristic_df.iat[z,4] = rain_tomorrow\n",
        "    \n",
        "# if it rained yesterday but not  today, then it will rain tomorrow\n",
        "    if (today == 0.0) and (yesterday > 0.0 ):\n",
        "        heuristic_df.iat[z,2] = True\n",
        "\n",
        "    if heuristic_df.iat[z,3] == heuristic_df.iat[z,4]:\n",
        "        heuristic_df.iat[z,5] = True\n",
        "    else:\n",
        "        heuristic_df.iat[z,5] = False"
      ],
      "execution_count": 4,
      "outputs": []
    },
    {
      "cell_type": "markdown",
      "metadata": {
        "id": "ryfvPG8AGA79"
      },
      "source": [
        "### Evaluate the performance of the Heuristic model"
      ]
    },
    {
      "cell_type": "markdown",
      "metadata": {
        "id": "nKCXGT-dGA7-"
      },
      "source": [
        "***the accuracy of your predicitions***"
      ]
    },
    {
      "cell_type": "code",
      "metadata": {
        "id": "qrPnF-wVgHk8",
        "outputId": "0ea07155-df86-4629-bea4-688c8f033b62",
        "colab": {
          "base_uri": "https://localhost:8080/"
        }
      },
      "source": [
        "from sklearn.metrics import accuracy_score\n",
        "print(accuracy_score(heuristic_df['correct'], heuristic_df['guess']))"
      ],
      "execution_count": 5,
      "outputs": [
        {
          "output_type": "stream",
          "text": [
            "0.4266703197776821\n"
          ],
          "name": "stdout"
        }
      ]
    },
    {
      "cell_type": "code",
      "metadata": {
        "id": "Vv4SczZtPPqO",
        "outputId": "6dbf0fb8-82d0-4abd-b6ed-3812120b8828",
        "colab": {
          "base_uri": "https://localhost:8080/"
        }
      },
      "source": [
        "## Accuracy 57%\n",
        "heuristic_df['correct'].value_counts()/numrows"
      ],
      "execution_count": 6,
      "outputs": [
        {
          "output_type": "execute_result",
          "data": {
            "text/plain": [
              "True     0.57333\n",
              "False    0.42667\n",
              "Name: correct, dtype: float64"
            ]
          },
          "metadata": {
            "tags": []
          },
          "execution_count": 6
        }
      ]
    },
    {
      "cell_type": "markdown",
      "metadata": {
        "id": "66IfTWtsQd1o"
      },
      "source": [
        "### **if it rained today but not yesterday , it will rain tomorrow.**"
      ]
    },
    {
      "cell_type": "code",
      "metadata": {
        "id": "QxcpXZAdQdXD"
      },
      "source": [
        "# here is an example loop that populates the dataframe created earlier\n",
        "# with the total percip from yesterday and today\n",
        "# then the guess is set to true if it rained today but not yesterday  \n",
        "\n",
        "for z in range(numrows):\n",
        "    #start at time 2 in the data frame\n",
        "    i = z + 2\n",
        "    #pull values from the dataframe\n",
        "    yesterday = df.iloc[(i-2),1]\n",
        "    today = df.iloc[(i-1),1]\n",
        "    tomorrow = df.iloc[i,1]\n",
        "    rain_tomorrow = df.iloc[(i),1]\n",
        "    \n",
        "    heuristic_df.iat[z,0] = yesterday\n",
        "    heuristic_df.iat[z,1] = today\n",
        "    heuristic_df.iat[z,2] = tomorrow\n",
        "    heuristic_df.iat[z,3] = False # set guess default to False\n",
        "    heuristic_df.iat[z,4] = rain_tomorrow\n",
        "    \n",
        "# if it rained today but not yesterday, then it will rain tomorrow \n",
        "    if (today > 0.0) and (yesterday == 0.0 ):\n",
        "        heuristic_df.iat[z,2] = True\n",
        "\n",
        "    if heuristic_df.iat[z,3] == heuristic_df.iat[z,4]:\n",
        "        heuristic_df.iat[z,5] = True\n",
        "    else:\n",
        "        heuristic_df.iat[z,5] = False"
      ],
      "execution_count": 7,
      "outputs": []
    },
    {
      "cell_type": "markdown",
      "metadata": {
        "id": "On7RMveHgOfF"
      },
      "source": [
        "### Evaluate the performance of the Heuristic model"
      ]
    },
    {
      "cell_type": "markdown",
      "metadata": {
        "id": "_nyIHx30gOfH"
      },
      "source": [
        "***the accuracy of your predicitions***"
      ]
    },
    {
      "cell_type": "code",
      "metadata": {
        "id": "8mCCTH8GgEVY",
        "outputId": "04b2fe4a-300f-4de9-87ce-b94a77bb1f4c",
        "colab": {
          "base_uri": "https://localhost:8080/"
        }
      },
      "source": [
        "from sklearn.metrics import accuracy_score\n",
        "print(accuracy_score(heuristic_df['correct'], heuristic_df['guess']))"
      ],
      "execution_count": 8,
      "outputs": [
        {
          "output_type": "stream",
          "text": [
            "0.4266703197776821\n"
          ],
          "name": "stdout"
        }
      ]
    },
    {
      "cell_type": "code",
      "metadata": {
        "id": "7NIdg_zDGA8A",
        "outputId": "bb2ff96b-28ae-46be-aa6d-a1cabbb5cd02",
        "colab": {
          "base_uri": "https://localhost:8080/"
        }
      },
      "source": [
        "## Accuracy \n",
        "heuristic_df['correct'].value_counts()/numrows"
      ],
      "execution_count": 9,
      "outputs": [
        {
          "output_type": "execute_result",
          "data": {
            "text/plain": [
              "True     0.57333\n",
              "False    0.42667\n",
              "Name: correct, dtype: float64"
            ]
          },
          "metadata": {
            "tags": []
          },
          "execution_count": 9
        }
      ]
    }
  ]
}