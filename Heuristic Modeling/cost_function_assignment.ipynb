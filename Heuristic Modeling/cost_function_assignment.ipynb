{
  "nbformat": 4,
  "nbformat_minor": 0,
  "metadata": {
    "kernelspec": {
      "display_name": "Python 3",
      "language": "python",
      "name": "python3"
    },
    "language_info": {
      "codemirror_mode": {
        "name": "ipython",
        "version": 3
      },
      "file_extension": ".py",
      "mimetype": "text/x-python",
      "name": "python",
      "nbconvert_exporter": "python",
      "pygments_lexer": "ipython3",
      "version": "3.7.4"
    },
    "colab": {
      "name": "cost_function_assignment.ipynb",
      "provenance": [],
      "collapsed_sections": []
    }
  },
  "cells": [
    {
      "cell_type": "markdown",
      "metadata": {
        "id": "v2gUEItjesY5"
      },
      "source": [
        "### Heuristic Models (Cost Function Extension)\n",
        "Look at the Seattle weather in the **data** folder. Come up with a heuristic model to predict if it will rain today. Keep in mind this is a time series, which means that you only know what happened historically (before a given date). One example of a heuristic model is: It will rain tomorrow if it rained more than 1 inch (>1.0 PRCP) today. Describe your heuristic model in the next cell."
      ]
    },
    {
      "cell_type": "markdown",
      "metadata": {
        "id": "XCQEMkRuesY7"
      },
      "source": [
        "**your model here**\n",
        "\n",
        "Examples:\n",
        "\n",
        "If rained yesterday it will rain today.\n",
        "\n",
        "If it rained yesterday or the day before it will rain today.\n"
      ]
    },
    {
      "cell_type": "code",
      "metadata": {
        "id": "ZkGYNBX8esY-"
      },
      "source": [
        "import pandas as pd\n",
        "\n",
        "df = pd.read_csv('https://raw.githubusercontent.com/daniel-dc-cd/data_science/master/module_4_ML/data/seattle_weather_1948-2017.csv')\n",
        "\n",
        "numrows = 25549 # can be as large as 25549\n",
        "\n",
        "#create an empty dataframe to hold 100 values\n",
        "heuristic_df = pd.DataFrame({'yesterday':[0.0]*numrows,\n",
        "                             'today':[0.0]*numrows,\n",
        "                             'tomorrow':[0.0]*numrows,\n",
        "                             'guess':[False]*numrows, #logical guess\n",
        "                             'rain_tomorrow':[False]*numrows, #historical observation\n",
        "                             'correct':[False]*numrows, #TRUE if your guess matches the historical observation\n",
        "                             'true_positive':[False]*numrows, #TRUE If you said it would rain and it did\n",
        "                             'false_positive':[False]*numrows,#TRUE If you sait id would rain and it didn't\n",
        "                             'true_negative':[False]*numrows, #TRUE if you said it wouldn't rain and it didn't\n",
        "                             'false_negative':[False]*numrows}) #TRUE if you said it wouldn't raing and it did\n",
        "\n",
        "#sort columns for convience\n",
        "seq = ['yesterday',\n",
        "       'today',\n",
        "       'tomorrow',\n",
        "       'guess',\n",
        "       'rain_tomorrow',\n",
        "       'correct',\n",
        "       'true_positive',\n",
        "       'false_positive',\n",
        "       'true_negative',\n",
        "       'false_negative']\n",
        "heuristic_df = heuristic_df.reindex(columns=seq)"
      ],
      "execution_count": null,
      "outputs": []
    },
    {
      "cell_type": "code",
      "metadata": {
        "id": "wczkExD9esZJ",
        "outputId": "1ecca231-5e9e-4a16-9ff5-9f0f39e63028",
        "colab": {
          "base_uri": "https://localhost:8080/",
          "height": 202
        }
      },
      "source": [
        "df.head()"
      ],
      "execution_count": null,
      "outputs": [
        {
          "output_type": "execute_result",
          "data": {
            "text/html": [
              "<div>\n",
              "<style scoped>\n",
              "    .dataframe tbody tr th:only-of-type {\n",
              "        vertical-align: middle;\n",
              "    }\n",
              "\n",
              "    .dataframe tbody tr th {\n",
              "        vertical-align: top;\n",
              "    }\n",
              "\n",
              "    .dataframe thead th {\n",
              "        text-align: right;\n",
              "    }\n",
              "</style>\n",
              "<table border=\"1\" class=\"dataframe\">\n",
              "  <thead>\n",
              "    <tr style=\"text-align: right;\">\n",
              "      <th></th>\n",
              "      <th>DATE</th>\n",
              "      <th>PRCP</th>\n",
              "      <th>TMAX</th>\n",
              "      <th>TMIN</th>\n",
              "      <th>RAIN</th>\n",
              "    </tr>\n",
              "  </thead>\n",
              "  <tbody>\n",
              "    <tr>\n",
              "      <th>0</th>\n",
              "      <td>1948-01-01</td>\n",
              "      <td>0.47</td>\n",
              "      <td>51</td>\n",
              "      <td>42</td>\n",
              "      <td>True</td>\n",
              "    </tr>\n",
              "    <tr>\n",
              "      <th>1</th>\n",
              "      <td>1948-01-02</td>\n",
              "      <td>0.59</td>\n",
              "      <td>45</td>\n",
              "      <td>36</td>\n",
              "      <td>True</td>\n",
              "    </tr>\n",
              "    <tr>\n",
              "      <th>2</th>\n",
              "      <td>1948-01-03</td>\n",
              "      <td>0.42</td>\n",
              "      <td>45</td>\n",
              "      <td>35</td>\n",
              "      <td>True</td>\n",
              "    </tr>\n",
              "    <tr>\n",
              "      <th>3</th>\n",
              "      <td>1948-01-04</td>\n",
              "      <td>0.31</td>\n",
              "      <td>45</td>\n",
              "      <td>34</td>\n",
              "      <td>True</td>\n",
              "    </tr>\n",
              "    <tr>\n",
              "      <th>4</th>\n",
              "      <td>1948-01-05</td>\n",
              "      <td>0.17</td>\n",
              "      <td>45</td>\n",
              "      <td>32</td>\n",
              "      <td>True</td>\n",
              "    </tr>\n",
              "  </tbody>\n",
              "</table>\n",
              "</div>"
            ],
            "text/plain": [
              "         DATE  PRCP  TMAX  TMIN  RAIN\n",
              "0  1948-01-01  0.47    51    42  True\n",
              "1  1948-01-02  0.59    45    36  True\n",
              "2  1948-01-03  0.42    45    35  True\n",
              "3  1948-01-04  0.31    45    34  True\n",
              "4  1948-01-05  0.17    45    32  True"
            ]
          },
          "metadata": {
            "tags": []
          },
          "execution_count": 2
        }
      ]
    },
    {
      "cell_type": "code",
      "metadata": {
        "id": "g1GCveSLesZT",
        "outputId": "23aa22bf-8185-4016-dfdd-69aa3abdd908",
        "colab": {
          "base_uri": "https://localhost:8080/",
          "height": 202
        }
      },
      "source": [
        "\n",
        "heuristic_df.head()"
      ],
      "execution_count": null,
      "outputs": [
        {
          "output_type": "execute_result",
          "data": {
            "text/html": [
              "<div>\n",
              "<style scoped>\n",
              "    .dataframe tbody tr th:only-of-type {\n",
              "        vertical-align: middle;\n",
              "    }\n",
              "\n",
              "    .dataframe tbody tr th {\n",
              "        vertical-align: top;\n",
              "    }\n",
              "\n",
              "    .dataframe thead th {\n",
              "        text-align: right;\n",
              "    }\n",
              "</style>\n",
              "<table border=\"1\" class=\"dataframe\">\n",
              "  <thead>\n",
              "    <tr style=\"text-align: right;\">\n",
              "      <th></th>\n",
              "      <th>yesterday</th>\n",
              "      <th>today</th>\n",
              "      <th>tomorrow</th>\n",
              "      <th>guess</th>\n",
              "      <th>rain_tomorrow</th>\n",
              "      <th>correct</th>\n",
              "      <th>true_positive</th>\n",
              "      <th>false_positive</th>\n",
              "      <th>true_negative</th>\n",
              "      <th>false_negative</th>\n",
              "    </tr>\n",
              "  </thead>\n",
              "  <tbody>\n",
              "    <tr>\n",
              "      <th>0</th>\n",
              "      <td>0.0</td>\n",
              "      <td>0.0</td>\n",
              "      <td>0.0</td>\n",
              "      <td>False</td>\n",
              "      <td>False</td>\n",
              "      <td>False</td>\n",
              "      <td>False</td>\n",
              "      <td>False</td>\n",
              "      <td>False</td>\n",
              "      <td>False</td>\n",
              "    </tr>\n",
              "    <tr>\n",
              "      <th>1</th>\n",
              "      <td>0.0</td>\n",
              "      <td>0.0</td>\n",
              "      <td>0.0</td>\n",
              "      <td>False</td>\n",
              "      <td>False</td>\n",
              "      <td>False</td>\n",
              "      <td>False</td>\n",
              "      <td>False</td>\n",
              "      <td>False</td>\n",
              "      <td>False</td>\n",
              "    </tr>\n",
              "    <tr>\n",
              "      <th>2</th>\n",
              "      <td>0.0</td>\n",
              "      <td>0.0</td>\n",
              "      <td>0.0</td>\n",
              "      <td>False</td>\n",
              "      <td>False</td>\n",
              "      <td>False</td>\n",
              "      <td>False</td>\n",
              "      <td>False</td>\n",
              "      <td>False</td>\n",
              "      <td>False</td>\n",
              "    </tr>\n",
              "    <tr>\n",
              "      <th>3</th>\n",
              "      <td>0.0</td>\n",
              "      <td>0.0</td>\n",
              "      <td>0.0</td>\n",
              "      <td>False</td>\n",
              "      <td>False</td>\n",
              "      <td>False</td>\n",
              "      <td>False</td>\n",
              "      <td>False</td>\n",
              "      <td>False</td>\n",
              "      <td>False</td>\n",
              "    </tr>\n",
              "    <tr>\n",
              "      <th>4</th>\n",
              "      <td>0.0</td>\n",
              "      <td>0.0</td>\n",
              "      <td>0.0</td>\n",
              "      <td>False</td>\n",
              "      <td>False</td>\n",
              "      <td>False</td>\n",
              "      <td>False</td>\n",
              "      <td>False</td>\n",
              "      <td>False</td>\n",
              "      <td>False</td>\n",
              "    </tr>\n",
              "  </tbody>\n",
              "</table>\n",
              "</div>"
            ],
            "text/plain": [
              "   yesterday  today  tomorrow  ...  false_positive  true_negative  false_negative\n",
              "0        0.0    0.0       0.0  ...           False          False           False\n",
              "1        0.0    0.0       0.0  ...           False          False           False\n",
              "2        0.0    0.0       0.0  ...           False          False           False\n",
              "3        0.0    0.0       0.0  ...           False          False           False\n",
              "4        0.0    0.0       0.0  ...           False          False           False\n",
              "\n",
              "[5 rows x 10 columns]"
            ]
          },
          "metadata": {
            "tags": []
          },
          "execution_count": 3
        }
      ]
    },
    {
      "cell_type": "markdown",
      "metadata": {
        "id": "bDkKQ_YyesZZ"
      },
      "source": [
        "Build a loop to add your heuristic model guesses as a column to this dataframe"
      ]
    },
    {
      "cell_type": "code",
      "metadata": {
        "id": "-1Mq8hPjesZb"
      },
      "source": [
        "# here is an example loop that populates the dataframe created earlier\n",
        "# with the total percip from yesterday and today\n",
        "# then the guess is set to true if rained both yesterday and today \n",
        "for z in range(numrows):\n",
        "    #start at time 2 in the data frame\n",
        "    i = z + 2\n",
        "    #pull values from the dataframe\n",
        "    yesterday = df.iloc[(i-2),1]\n",
        "    today = df.iloc[(i-1),1]\n",
        "    tomorrow = df.iloc[i,1]\n",
        "    rain_tomorrow = df.iloc[(i),1]\n",
        "    \n",
        "    heuristic_df.iat[z,0] = yesterday\n",
        "    heuristic_df.iat[z,1] = today\n",
        "    heuristic_df.iat[z,2] = tomorrow\n",
        "    heuristic_df.iat[z,3] = False # set guess default to False\n",
        "    heuristic_df.iat[z,4] = rain_tomorrow\n",
        "    \n",
        "    #example hueristic\n",
        "    if today > 0.0 and yesterday > 0.0:\n",
        "        heuristic_df.iat[z,3] = True\n",
        "        \n",
        "    if heuristic_df.iat[z,3] == heuristic_df.iat[z,4]:\n",
        "        heuristic_df.iat[z,5] = True\n",
        "        if heuristic_df.iat[z,3] == True:\n",
        "            heuristic_df.iat[z,6] = True #true positive\n",
        "        else:\n",
        "            heuristic_df.iat[z,8] = True #true negative\n",
        "    else:\n",
        "        heuristic_df.iat[z,5] = False\n",
        "        if heuristic_df.iat[z,3] == True:\n",
        "            heuristic_df.iat[z,7] = True #false positive\n",
        "        else:\n",
        "            heuristic_df.iat[z,9] = True #false negative"
      ],
      "execution_count": null,
      "outputs": []
    },
    {
      "cell_type": "markdown",
      "metadata": {
        "id": "lRHq835jesZk"
      },
      "source": [
        "### Evaluate the performance of the Heuristic model"
      ]
    },
    {
      "cell_type": "markdown",
      "metadata": {
        "id": "3D8oPAgDesZo"
      },
      "source": [
        "***split data into training and testing***"
      ]
    },
    {
      "cell_type": "code",
      "metadata": {
        "id": "H7EdditResZq"
      },
      "source": [
        "from sklearn.model_selection import train_test_split \n",
        "import warnings\n",
        "warnings.filterwarnings(\"ignore\", category=FutureWarning)\n",
        "\n",
        "# enter split function here to make h_train and h_test subsets of the data\n",
        "h_train, h_test = train_test_split(heuristic_df)"
      ],
      "execution_count": null,
      "outputs": []
    },
    {
      "cell_type": "code",
      "metadata": {
        "id": "xGCHef5lfqEa",
        "outputId": "aff1d05d-4387-4336-869b-104099f57a9e",
        "colab": {
          "base_uri": "https://localhost:8080/"
        }
      },
      "source": [
        "h_train.info()"
      ],
      "execution_count": null,
      "outputs": [
        {
          "output_type": "stream",
          "text": [
            "<class 'pandas.core.frame.DataFrame'>\n",
            "Int64Index: 19161 entries, 21085 to 13651\n",
            "Data columns (total 10 columns):\n",
            " #   Column          Non-Null Count  Dtype  \n",
            "---  ------          --------------  -----  \n",
            " 0   yesterday       19158 non-null  float64\n",
            " 1   today           19159 non-null  float64\n",
            " 2   tomorrow        19159 non-null  float64\n",
            " 3   guess           19161 non-null  bool   \n",
            " 4   rain_tomorrow   19161 non-null  bool   \n",
            " 5   correct         19161 non-null  bool   \n",
            " 6   true_positive   19161 non-null  bool   \n",
            " 7   false_positive  19161 non-null  bool   \n",
            " 8   true_negative   19161 non-null  bool   \n",
            " 9   false_negative  19161 non-null  bool   \n",
            "dtypes: bool(7), float64(3)\n",
            "memory usage: 729.8 KB\n"
          ],
          "name": "stdout"
        }
      ]
    },
    {
      "cell_type": "code",
      "metadata": {
        "id": "fWvzCqg5fvia",
        "outputId": "0def7abf-77e3-4156-98ab-ca83d7b58859",
        "colab": {
          "base_uri": "https://localhost:8080/"
        }
      },
      "source": [
        "h_test.info()"
      ],
      "execution_count": null,
      "outputs": [
        {
          "output_type": "stream",
          "text": [
            "<class 'pandas.core.frame.DataFrame'>\n",
            "Int64Index: 6388 entries, 4384 to 13479\n",
            "Data columns (total 10 columns):\n",
            " #   Column          Non-Null Count  Dtype  \n",
            "---  ------          --------------  -----  \n",
            " 0   yesterday       6388 non-null   float64\n",
            " 1   today           6387 non-null   float64\n",
            " 2   tomorrow        6387 non-null   float64\n",
            " 3   guess           6388 non-null   bool   \n",
            " 4   rain_tomorrow   6388 non-null   bool   \n",
            " 5   correct         6388 non-null   bool   \n",
            " 6   true_positive   6388 non-null   bool   \n",
            " 7   false_positive  6388 non-null   bool   \n",
            " 8   true_negative   6388 non-null   bool   \n",
            " 9   false_negative  6388 non-null   bool   \n",
            "dtypes: bool(7), float64(3)\n",
            "memory usage: 243.3 KB\n"
          ],
          "name": "stdout"
        }
      ]
    },
    {
      "cell_type": "markdown",
      "metadata": {
        "id": "DsNG73gwesZx"
      },
      "source": [
        "***the accuracy of your predicitions***"
      ]
    },
    {
      "cell_type": "code",
      "metadata": {
        "id": "b1D1bpREfQ81",
        "outputId": "cc0d7924-7b25-4db8-84e7-c6349e21f441",
        "colab": {
          "base_uri": "https://localhost:8080/"
        }
      },
      "source": [
        "from sklearn.metrics import accuracy_score\n",
        "print(accuracy_score(heuristic_df['correct'], heuristic_df['guess']))"
      ],
      "execution_count": 26,
      "outputs": [
        {
          "output_type": "stream",
          "text": [
            "0.4266703197776821\n"
          ],
          "name": "stdout"
        }
      ]
    },
    {
      "cell_type": "code",
      "metadata": {
        "id": "LBgYgDPwesZy",
        "outputId": "6e63ec01-20db-46e1-bf69-e8b7c8622294",
        "colab": {
          "base_uri": "https://localhost:8080/"
        }
      },
      "source": [
        "# we used this simple approach in the first part to see what percent of the time we where correct \n",
        "# calculated as (true positive + true negative)/ number of guesses\n",
        "### Training Accuracy ###\n",
        "Guesses = h_train['guess'].count()\n",
        "True_Pos = sum(h_train['true_positive']==True)\n",
        "True_Neg = sum(h_train['true_negative']==True)\n",
        "Accuracy = (True_Pos+True_Neg)/Guesses\n",
        "print('Training Accuracy: ',round(Accuracy * 100),'%')"
      ],
      "execution_count": 21,
      "outputs": [
        {
          "output_type": "stream",
          "text": [
            "Training Accuracy:  67.0 %\n"
          ],
          "name": "stdout"
        }
      ]
    },
    {
      "cell_type": "code",
      "metadata": {
        "id": "X8wq3qqgiNEO",
        "outputId": "8a1cddef-6a96-4a66-dc83-0ac67302e412",
        "colab": {
          "base_uri": "https://localhost:8080/"
        }
      },
      "source": [
        "### Testing Accuracy ###\n",
        "Guesses = h_test['guess'].count()\n",
        "True_Pos = sum(h_test['true_positive']==True)\n",
        "True_Neg = sum(h_test['true_negative']==True)\n",
        "Accuracy = (True_Pos+True_Neg)/Guesses\n",
        "print('Testing Accuracy: ',round(Accuracy * 100),'%')"
      ],
      "execution_count": null,
      "outputs": [
        {
          "output_type": "stream",
          "text": [
            "Testing Accuracy:  68.0 %\n"
          ],
          "name": "stdout"
        }
      ]
    },
    {
      "cell_type": "markdown",
      "metadata": {
        "id": "3I0AcciSesZ6"
      },
      "source": [
        "***the precision of your predicitions***"
      ]
    },
    {
      "cell_type": "code",
      "metadata": {
        "id": "QLr8aMv_fmWs",
        "outputId": "f78e6657-e4d7-49f4-dd47-bcf1f9bcc610",
        "colab": {
          "base_uri": "https://localhost:8080/"
        }
      },
      "source": [
        "from sklearn.metrics import precision_score\n",
        "print(precision_score(heuristic_df['correct'], heuristic_df['guess']))"
      ],
      "execution_count": 25,
      "outputs": [
        {
          "output_type": "stream",
          "text": [
            "0.674109000138677\n"
          ],
          "name": "stdout"
        }
      ]
    },
    {
      "cell_type": "code",
      "metadata": {
        "id": "QF-xZu67esZ8",
        "outputId": "88c320da-f244-4611-9cba-19e315e69450",
        "colab": {
          "base_uri": "https://localhost:8080/"
        }
      },
      "source": [
        "# precision is the percent of your postive prediction which are correct\n",
        "# more specifically it is calculated (num true positive)/(num tru positive + num false positive)\n",
        "True_Pos = sum(h_train['true_positive']==True)\n",
        "False_Pos = sum(h_train['false_positive']==True)\n",
        "Precision = (True_Pos)/(False_Pos+True_Pos)\n",
        "print('Training Precision: ',round(Precision * 100),'%')"
      ],
      "execution_count": null,
      "outputs": [
        {
          "output_type": "stream",
          "text": [
            "Training Precision:  67 %\n"
          ],
          "name": "stdout"
        }
      ]
    },
    {
      "cell_type": "code",
      "metadata": {
        "id": "Ev8-cRYkBqIj",
        "outputId": "790b3e80-6d9a-4465-9828-ca778b8e1e90",
        "colab": {
          "base_uri": "https://localhost:8080/"
        }
      },
      "source": [
        "### Testing Precision ###\n",
        "True_Pos = sum(h_test['true_positive']==True)\n",
        "False_Pos = sum(h_test['false_positive']==True)\n",
        "Precision = (True_Pos)/(False_Pos+True_Pos)\n",
        "print('Testing Precision: ',round(Precision * 100),'%')"
      ],
      "execution_count": null,
      "outputs": [
        {
          "output_type": "stream",
          "text": [
            "Testing Precision:  69 %\n"
          ],
          "name": "stdout"
        }
      ]
    },
    {
      "cell_type": "markdown",
      "metadata": {
        "id": "cmGf1EVDesaE"
      },
      "source": [
        "***the recall of your predicitions***"
      ]
    },
    {
      "cell_type": "code",
      "metadata": {
        "id": "1zRvuZu_fsqM",
        "outputId": "7a217e95-5e63-4590-f087-91d0249a30ef",
        "colab": {
          "base_uri": "https://localhost:8080/"
        }
      },
      "source": [
        "from sklearn.metrics import recall_score\n",
        "print(recall_score(heuristic_df['correct'], heuristic_df['guess']))"
      ],
      "execution_count": 24,
      "outputs": [
        {
          "output_type": "stream",
          "text": [
            "0.2832915671076403\n"
          ],
          "name": "stdout"
        }
      ]
    },
    {
      "cell_type": "code",
      "metadata": {
        "id": "FaG8ge04esaF",
        "outputId": "4c66df65-9436-470f-d2e4-81f984dc0a3c",
        "colab": {
          "base_uri": "https://localhost:8080/"
        }
      },
      "source": [
        "# recall the percent of the time you are correct when you predict positive\n",
        "# more specifically it is calculated (num true positive)/(num tru positive + num false negative)\n",
        "\n",
        "### Training Recall ###\n",
        "True_Pos = sum(h_train['true_positive']==True)\n",
        "False_Neg = sum(h_train['false_negative']==True)\n",
        "Recall = (True_Pos)/(False_Neg+True_Pos)\n",
        "print('Training Recall: ',round(Recall * 100),'%')"
      ],
      "execution_count": null,
      "outputs": [
        {
          "output_type": "stream",
          "text": [
            "Training Recall:  44 %\n"
          ],
          "name": "stdout"
        }
      ]
    },
    {
      "cell_type": "code",
      "metadata": {
        "id": "cyoHIcKuCJe8",
        "outputId": "55fcaa01-a395-49dd-96f8-b3e34a893c10",
        "colab": {
          "base_uri": "https://localhost:8080/"
        }
      },
      "source": [
        "### Testing Recall ###\n",
        "True_Pos = sum(h_test['true_positive']==True)\n",
        "False_Neg = sum(h_test['false_negative']==True)\n",
        "Recall = (True_Pos)/(False_Neg+True_Pos)\n",
        "print('Testing Recall: ',round(Recall * 100),'%')"
      ],
      "execution_count": null,
      "outputs": [
        {
          "output_type": "stream",
          "text": [
            "Testing Recall:  45 %\n"
          ],
          "name": "stdout"
        }
      ]
    },
    {
      "cell_type": "code",
      "metadata": {
        "id": "eRB4kN1wE5C0",
        "outputId": "4dc2157c-a078-400b-85e1-4bfd0e2f48b1",
        "colab": {
          "base_uri": "https://localhost:8080/"
        }
      },
      "source": [
        "## Accuracy\n",
        "heuristic_df['correct'].value_counts()/numrows"
      ],
      "execution_count": 22,
      "outputs": [
        {
          "output_type": "execute_result",
          "data": {
            "text/plain": [
              "True     0.671611\n",
              "False    0.328389\n",
              "Name: correct, dtype: float64"
            ]
          },
          "metadata": {
            "tags": []
          },
          "execution_count": 22
        }
      ]
    },
    {
      "cell_type": "markdown",
      "metadata": {
        "id": "OkhDAzCiesaL"
      },
      "source": [
        "***The sum of squared error (SSE) of your predictions***\n",
        "\n",
        "![image.png](data:image/png;base64,iVBORw0KGgoAAAANSUhEUgAAAMAAAAAqCAYAAADlA1TjAAAGtklEQVR4Ae1Z23HcMAy8AuIGXEP+3H9RrsCZlbM3eziABClS0tnkzA1IPBcgIMnJ7WutIRX4/Px88pPlwfD9/f0L+qD8PTl8IYaXewZ+r13Gt6dz85iLd3wFvKYHb622CrQO0CED0AqqLeWv7cnZalPSn43Xi+01u/LOwOTh/Gm8oQMw65Jm+c1eJhrx7+3P9mny8XHbKM+QkYc9fx6PMlCbU8TLYjxaz+I/Ov6oeEMHYBSoq/nRxq3to8a3fJsj/OpCg1meyl9hv2dIWmxbdG3d1gDYijhnNKJtYPLe3t6e3wi377fEphPsbRiv2T2etdPznkZQP79pf9gAzLycGb7VJxpRfx/S1Mpv2WuTIRZs7fJ4Vqd01hxKer9Z1jwAo4ta81eTH3F5aET95t/bmB5mzyd5pRqUZF6cEbxXjsk3NmvbPAAjCviKPlAw+xuZBy+EPtFklkdZDz2jaYHzqLiZOLaeOA8dgBqImrznYo+0QcH4twDfCEfGZ6xXryPziOhR+VUHIAMkoxMl6vEz/jI6nu+9PMRF0ezvLDx784H9K2Pfm384ALxg+7QDP7Ogxyek3Uf20GM8a6O+IOMPvmZeYOSb8ZVGedX4UQxrl9Wzdt6Zvojf04l4tI3kI/nAx39w0N7Y+P//P0Zz4D6DEbpYD59Am+PEv3BESRJAjXr2NRtP7vnp4WUKpn6BhUPJi1H5K+xZz6OwttYYuIhRKQeCPJ6ZB/k8RxR6WE8DQAENFThkvHjKldaCe/b0T5n6i/a0ieR7+FnfzFWpxi35KcnUx6w9Mc/yP8ovcWao1hT6eDApTzFBznUfgFJjUxlUwSgf/7zkBbUgInvy1WfP3sbr8ZG1IWbWDjUYsWbnQNwW6+y4Nt6sc5Qf4kGm6z4AJSM1oBPr6Eh7i6d0nn2pzJufQrYuxNaLo9eOcS0FPnw22MU8IvzQp4613XP28gOPsfBwiRZ1rFztVUZ9pfdKkKkGLfsR9qOeoIobuLQ5+c3IN9Ym//93j9pl91ps1gD0ikuxeviI35OxbpDBz56Vtd+Dp2Sr2O8DACaMmGgWpDpTe+Vn9pvtxwOcjFlVh4XI0J6cCQD++SnEPWVXoqxDhMnDThvQoxdja1zySnioU7vTh46jkaW8WAXh7a0dzrTFvrQ8Ww6jPq3pr+RLZbUCqO7ePXPQN85enyPsWQPiK/mkDigWbMkr2c2SMTbxIA55tZgZvYcBoEMaKuWlogFrS+24r9lDj81NmxLlpdawHCn38Pbi7LUr5Ut8VsfGUj3urY71MfNMDIih+1JM4GXPlfTcAfAMGJg0WxDq0Y7Uxoj4Vu+qZ+IH5SBfDSsxAhfvJcKob91Ip8aPYihf95E/6LCZkUN2ab6RTXoA4ABA4JRg1Gk2EdrbP3hrYDP+FQ/38MuGLO0ha4mhusTOuuDcs9Rnj33NBrjwWZlZzKmUSw0vffBTlueST2Dz/MKG95jBDx3GK+lv1cgoqhPVB1g9q160t/rwweaBjVeAyFeNz1gZWvPlyemXl4PzFVfrPTGvPfmoD7tvrZHaZ21pU9LfPQBwngmkIDx9j6c2V9wDMweX+EcO7+icibHmF3oYaKwtx+Rbo+a3V07c+qDM1DmD/f4+ZJAayOhJcpR9Dd+RcuZMemTsnlgeTttIOtCIQRtQXewD5c3Y6+cT/Ed4bGzis7it3tMAwCD6TiwFV1mvPZ86FuQVz8y359PHNp09z8q3dLeIGTUNc52Fq+TXi01erW7UK/m/DwCUaFCjkcOaHeWePWUlqs0GvbMWMdqn5Vl4WuISu2fTKpt9B614mFM0yJQrfRgAChjYo9QpUc+OvMiO8hYa+ZrJBz47iLUn0Uw8rb5ZX2tHPqi3PHmk69m38rx46iMrVxtv7w6Ap7h4/hvy1erCxhmBe+YA7MWXzXMNQEOlWVTSBtNLqY7CDz9XXC35rQFI3iCLiu9+fgIlTUM1fquGCglBjw/mknBfVFkDUCzPzxGyYZReJTtiasXTa6dx4ONqqzWv9QZI3CCKyqc+CzyCJkIXVYABi7So7AiZgyNKsXrjppx3KPXkswYgUWgWVj9/wNt7RujeJlI73SfSWSpSgTUAUoxoiwab8UM827ylOCV8kWzxyxVYA1CuzyYtNeUeGZzbAUjAeVIZ4ePJ6S9hrAE4+aJHNO8IHyeX4bTwawBOK/134BHNO8LHyWU4LfwagNNK7w8Amjn6RVDXAESVqfPXANRrNFVjRPOO8DE1yQs7XwNw8uWMaN4RPk4uw2nh1wCcVvrvwCOad4SPk8twWvh/FfBkw0bmk/EAAAAASUVORK5CYII=)"
      ]
    },
    {
      "cell_type": "code",
      "metadata": {
        "id": "SAWeAhIGesaN"
      },
      "source": [
        ""
      ],
      "execution_count": null,
      "outputs": []
    }
  ]
}