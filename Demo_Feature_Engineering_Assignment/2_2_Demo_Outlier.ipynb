{
  "nbformat": 4,
  "nbformat_minor": 0,
  "metadata": {
    "kernelspec": {
      "display_name": "Python 3",
      "language": "python",
      "name": "python3"
    },
    "language_info": {
      "codemirror_mode": {
        "name": "ipython",
        "version": 3
      },
      "file_extension": ".py",
      "mimetype": "text/x-python",
      "name": "python",
      "nbconvert_exporter": "python",
      "pygments_lexer": "ipython3",
      "version": "3.6.1"
    },
    "colab": {
      "name": "2.2_Demo_Outlier.ipynb",
      "provenance": []
    }
  },
  "cells": [
    {
      "cell_type": "code",
      "metadata": {
        "id": "KLDOyB3agudx",
        "outputId": "ce7cbae8-c761-4218-ebcf-6e4cb8ae13aa",
        "colab": {
          "base_uri": "https://localhost:8080/"
        }
      },
      "source": [
        "%%writefile outlier.py\n",
        "\n",
        "import pandas as pd\n",
        "import numpy as np\n",
        "# from warnings import warn\n",
        "\n",
        "# 2018.11.07 Created by Eamon.Zhang\n",
        "\n",
        "def outlier_detect_arbitrary(data,col,upper_fence,lower_fence):\n",
        "    '''\n",
        "    identify outliers based on arbitrary boundaries passed to the function.\n",
        "    '''\n",
        "\n",
        "    para = (upper_fence, lower_fence)\n",
        "    tmp = pd.concat([data[col]>upper_fence,data[col]<lower_fence],axis=1)\n",
        "    outlier_index = tmp.any(axis=1)\n",
        "    print('Num of outlier detected:',outlier_index.value_counts()[1])\n",
        "    print('Proportion of outlier detected',outlier_index.value_counts()[1]/len(outlier_index))    \n",
        "    return outlier_index, para\n",
        "\n",
        "\n",
        "\n",
        "def outlier_detect_IQR(data,col,threshold=3):\n",
        "    '''\n",
        "    outlier detection by Interquartile Ranges Rule, also known as Tukey's test. \n",
        "    calculate the IQR ( 75th quantile - 25th quantile) \n",
        "    and the 25th 75th quantile. \n",
        "    Any value beyond:\n",
        "        upper bound = 75th quantile + （IQR * threshold）\n",
        "        lower bound = 25th quantile - （IQR * threshold）   \n",
        "    are regarded as outliers. Default threshold is 3.\n",
        "    '''\n",
        "     \n",
        "    IQR = data[col].quantile(0.75) - data[col].quantile(0.25)\n",
        "    Lower_fence = data[col].quantile(0.25) - (IQR * threshold)\n",
        "    Upper_fence = data[col].quantile(0.75) + (IQR * threshold)\n",
        "    para = (Upper_fence, Lower_fence)\n",
        "    tmp = pd.concat([data[col]>Upper_fence,data[col]<Lower_fence],axis=1)\n",
        "    outlier_index = tmp.any(axis=1)\n",
        "    print('Num of outlier detected:',outlier_index.value_counts()[1])\n",
        "    print('Proportion of outlier detected',outlier_index.value_counts()[1]/len(outlier_index))\n",
        "    return outlier_index, para\n",
        "\n",
        "\n",
        "def outlier_detect_mean_std(data,col,threshold=3):\n",
        "    '''\n",
        "    outlier detection by Mean and Standard Deviation Method.\n",
        "    If a value is a certain number(called threshold) of standard deviations away \n",
        "    from the mean, that data point is identified as an outlier. \n",
        "    Default threshold is 3.\n",
        "\n",
        "    This method can fail to detect outliers because the outliers increase the standard deviation. \n",
        "    The more extreme the outlier, the more the standard deviation is affected.\n",
        "    '''\n",
        "   \n",
        "    Upper_fence = data[col].mean() + threshold * data[col].std()\n",
        "    Lower_fence = data[col].mean() - threshold * data[col].std()   \n",
        "    para = (Upper_fence, Lower_fence)   \n",
        "    tmp = pd.concat([data[col]>Upper_fence,data[col]<Lower_fence],axis=1)\n",
        "    outlier_index = tmp.any(axis=1)\n",
        "    print('Num of outlier detected:',outlier_index.value_counts()[1])\n",
        "    print('Proportion of outlier detected',outlier_index.value_counts()[1]/len(outlier_index))\n",
        "    return outlier_index, para\n",
        "\n",
        "\n",
        "def outlier_detect_MAD(data,col,threshold=3.5):\n",
        "    \"\"\"\n",
        "    outlier detection by Median and Median Absolute Deviation Method (MAD)\n",
        "    The median of the residuals is calculated. Then, the difference is calculated between each historical value and this median. \n",
        "    These differences are expressed as their absolute values, and a new median is calculated and multiplied by \n",
        "    an empirically derived constant to yield the median absolute deviation (MAD). \n",
        "    If a value is a certain number of MAD away from the median of the residuals, \n",
        "    that value is classified as an outlier. The default threshold is 3 MAD.\n",
        "    \n",
        "    This method is generally more effective than the mean and standard deviation method for detecting outliers, \n",
        "    but it can be too aggressive in classifying values that are not really extremely different. \n",
        "    Also, if more than 50% of the data points have the same value, MAD is computed to be 0, \n",
        "    so any value different from the residual median is classified as an outlier.\n",
        "    \"\"\"\n",
        "    \n",
        "    median = data[col].median()\n",
        "    median_absolute_deviation = np.median([np.abs(y - median) for y in data[col]])\n",
        "    modified_z_scores = pd.Series([0.6745 * (y - median) / median_absolute_deviation for y in data[col]])\n",
        "    outlier_index = np.abs(modified_z_scores) > threshold\n",
        "    print('Num of outlier detected:',outlier_index.value_counts()[1])\n",
        "    print('Proportion of outlier detected',outlier_index.value_counts()[1]/len(outlier_index))\n",
        "    return outlier_index\n",
        "\n",
        "\n",
        "# 2018.11.10 outlier treatment\n",
        "def impute_outlier_with_arbitrary(data,outlier_index,value,col=[]):\n",
        "    \"\"\"\n",
        "    impute outliers with arbitrary value\n",
        "    \"\"\"\n",
        "    \n",
        "    data_copy = data.copy(deep=True)\n",
        "    for i in col:\n",
        "        data_copy.loc[outlier_index,i] = value\n",
        "    return data_copy\n",
        "    \n",
        "    \n",
        "def windsorization(data,col,para,strategy='both'):\n",
        "    \"\"\"\n",
        "    top-coding & bottom coding (capping the maximum of a distribution at an arbitrarily set value,vice versa)\n",
        "    \"\"\"\n",
        "    \n",
        "    data_copy = data.copy(deep=True)  \n",
        "    if strategy == 'both':\n",
        "        data_copy.loc[data_copy[col]>para[0],col] = para[0]\n",
        "        data_copy.loc[data_copy[col]<para[1],col] = para[1]\n",
        "    elif strategy == 'top':\n",
        "        data_copy.loc[data_copy[col]>para[0],col] = para[0]\n",
        "    elif strategy == 'bottom':\n",
        "        data_copy.loc[data_copy[col]<para[1],col] = para[1]  \n",
        "    return data_copy\n",
        "\n",
        "\n",
        "def drop_outlier(data,outlier_index):\n",
        "    \"\"\"\n",
        "    drop the cases that are outliers\n",
        "    \"\"\"\n",
        "    \n",
        "    data_copy = data[~outlier_index]\n",
        "    return data_copy\n",
        "\n",
        "\n",
        "def impute_outlier_with_avg(data,col,outlier_index,strategy='mean'):\n",
        "    \"\"\"\n",
        "    impute outlier with mean/median/most frequent values of that variable.\n",
        "    \"\"\"\n",
        "    \n",
        "    data_copy = data.copy(deep=True)\n",
        "    if strategy=='mean':\n",
        "        data_copy.loc[outlier_index,col] = data_copy[col].mean()\n",
        "    elif strategy=='median':\n",
        "        data_copy.loc[outlier_index,col] = data_copy[col].median()\n",
        "    elif strategy=='mode':\n",
        "        data_copy.loc[outlier_index,col] = data_copy[col].mode()[0]   \n",
        "        \n",
        "    return data_copy"
      ],
      "execution_count": 1,
      "outputs": [
        {
          "output_type": "stream",
          "text": [
            "Writing outlier.py\n"
          ],
          "name": "stdout"
        }
      ]
    },
    {
      "cell_type": "markdown",
      "metadata": {
        "id": "4ryXRoHagyIe"
      },
      "source": [
        "## Imports"
      ]
    },
    {
      "cell_type": "code",
      "metadata": {
        "id": "_r2pT97EgigM"
      },
      "source": [
        "import pandas as pd\n",
        "import numpy as np\n",
        "# import seaborn as sns\n",
        "# import matplotlib.pyplot as plt\n",
        "import os\n",
        "# plt.style.use('seaborn-colorblind')\n",
        "# %matplotlib inline\n",
        "import outlier as ot"
      ],
      "execution_count": 2,
      "outputs": []
    },
    {
      "cell_type": "markdown",
      "metadata": {
        "id": "00qf8E54gigX"
      },
      "source": [
        "## Load dataset"
      ]
    },
    {
      "cell_type": "code",
      "metadata": {
        "id": "cNgoAisAgigY",
        "outputId": "f2f383c9-6f02-47ee-c251-60798c9f5da2",
        "colab": {
          "base_uri": "https://localhost:8080/"
        }
      },
      "source": [
        "use_cols = [\n",
        "    'Pclass', 'Sex', 'Age', 'Fare', 'SibSp',\n",
        "    'Survived'\n",
        "]\n",
        "\n",
        "\n",
        "data = pd.read_csv('https://raw.githubusercontent.com/daniel-dc-cd/feature-engineering-and-feature-selection/master/data/titanic.csv', usecols=use_cols)\n",
        "data.head(3)\n",
        "print(data.shape)"
      ],
      "execution_count": 3,
      "outputs": [
        {
          "output_type": "stream",
          "text": [
            "(891, 6)\n"
          ],
          "name": "stdout"
        }
      ]
    },
    {
      "cell_type": "code",
      "metadata": {
        "id": "vQj03-jGgigd",
        "outputId": "ebf73363-5b19-4a0f-d7a6-466a1d83f2dd",
        "colab": {
          "base_uri": "https://localhost:8080/"
        }
      },
      "source": [
        "pd.Series(data.Fare.unique()).sort_values()"
      ],
      "execution_count": 4,
      "outputs": [
        {
          "output_type": "execute_result",
          "data": {
            "text/plain": [
              "104      0.0000\n",
              "163      4.0125\n",
              "245      5.0000\n",
              "152      6.2375\n",
              "240      6.4375\n",
              "         ...   \n",
              "164    227.5250\n",
              "75     247.5208\n",
              "148    262.3750\n",
              "23     263.0000\n",
              "127    512.3292\n",
              "Length: 248, dtype: float64"
            ]
          },
          "metadata": {
            "tags": []
          },
          "execution_count": 4
        }
      ]
    },
    {
      "cell_type": "markdown",
      "metadata": {
        "id": "OUgjjFfAgigi"
      },
      "source": [
        "## Detect by arbitrary boundary\n",
        "identify outliers based on arbitrary boundaries"
      ]
    },
    {
      "cell_type": "code",
      "metadata": {
        "id": "6b70W60Ogigj",
        "outputId": "da0bc9cc-3235-4e0e-9bf4-79e71044045c",
        "colab": {
          "base_uri": "https://localhost:8080/"
        }
      },
      "source": [
        "index,para = ot.outlier_detect_arbitrary(data=data,col='Fare',upper_fence=300,lower_fence=5)\n",
        "print('Upper bound:',para[0],'\\nLower bound:',para[1])"
      ],
      "execution_count": 5,
      "outputs": [
        {
          "output_type": "stream",
          "text": [
            "Num of outlier detected: 19\n",
            "Proportion of outlier detected 0.02132435465768799\n",
            "Upper bound: 300 \n",
            "Lower bound: 5\n"
          ],
          "name": "stdout"
        }
      ]
    },
    {
      "cell_type": "code",
      "metadata": {
        "id": "GLrqRkXbgigl",
        "outputId": "3f34ee30-4bde-4bc8-a10b-9d93ea8a3c22",
        "colab": {
          "base_uri": "https://localhost:8080/"
        }
      },
      "source": [
        "# check the 19 found outliers\n",
        "data.loc[index,'Fare'].sort_values()"
      ],
      "execution_count": 6,
      "outputs": [
        {
          "output_type": "execute_result",
          "data": {
            "text/plain": [
              "179      0.0000\n",
              "806      0.0000\n",
              "732      0.0000\n",
              "674      0.0000\n",
              "633      0.0000\n",
              "597      0.0000\n",
              "815      0.0000\n",
              "466      0.0000\n",
              "481      0.0000\n",
              "302      0.0000\n",
              "277      0.0000\n",
              "271      0.0000\n",
              "263      0.0000\n",
              "413      0.0000\n",
              "822      0.0000\n",
              "378      4.0125\n",
              "679    512.3292\n",
              "737    512.3292\n",
              "258    512.3292\n",
              "Name: Fare, dtype: float64"
            ]
          },
          "metadata": {
            "tags": []
          },
          "execution_count": 6
        }
      ]
    },
    {
      "cell_type": "markdown",
      "metadata": {
        "id": "ARcIgqi5gigo"
      },
      "source": [
        "## IQR method\n",
        "outlier detection by Interquartile Ranges Rule"
      ]
    },
    {
      "cell_type": "code",
      "metadata": {
        "id": "P38jvIuIgigp",
        "outputId": "75636304-d5ee-4fc8-dd2a-28d37c086e93",
        "colab": {
          "base_uri": "https://localhost:8080/"
        }
      },
      "source": [
        "index,para = ot.outlier_detect_IQR(data=data,col='Fare',threshold=5)\n",
        "print('Upper bound:',para[0],'\\nLower bound:',para[1])"
      ],
      "execution_count": 7,
      "outputs": [
        {
          "output_type": "stream",
          "text": [
            "Num of outlier detected: 31\n",
            "Proportion of outlier detected 0.03479236812570146\n",
            "Upper bound: 146.448 \n",
            "Lower bound: -107.53760000000001\n"
          ],
          "name": "stdout"
        }
      ]
    },
    {
      "cell_type": "code",
      "metadata": {
        "id": "7ZWQwLttgigr",
        "outputId": "354eb469-abae-46c0-aa35-f424fe4443c4",
        "colab": {
          "base_uri": "https://localhost:8080/"
        }
      },
      "source": [
        "# check the 31 found outliers\n",
        "data.loc[index,'Fare'].sort_values()"
      ],
      "execution_count": 8,
      "outputs": [
        {
          "output_type": "execute_result",
          "data": {
            "text/plain": [
              "31     146.5208\n",
              "195    146.5208\n",
              "305    151.5500\n",
              "708    151.5500\n",
              "297    151.5500\n",
              "498    151.5500\n",
              "609    153.4625\n",
              "332    153.4625\n",
              "268    153.4625\n",
              "318    164.8667\n",
              "856    164.8667\n",
              "730    211.3375\n",
              "779    211.3375\n",
              "689    211.3375\n",
              "377    211.5000\n",
              "527    221.7792\n",
              "700    227.5250\n",
              "716    227.5250\n",
              "557    227.5250\n",
              "380    227.5250\n",
              "299    247.5208\n",
              "118    247.5208\n",
              "311    262.3750\n",
              "742    262.3750\n",
              "341    263.0000\n",
              "88     263.0000\n",
              "438    263.0000\n",
              "27     263.0000\n",
              "679    512.3292\n",
              "258    512.3292\n",
              "737    512.3292\n",
              "Name: Fare, dtype: float64"
            ]
          },
          "metadata": {
            "tags": []
          },
          "execution_count": 8
        }
      ]
    },
    {
      "cell_type": "markdown",
      "metadata": {
        "id": "NAwNb8vGgigy"
      },
      "source": [
        "## Mean and Standard Deviation Method\n",
        "outlier detection by Mean and Standard Deviation Method."
      ]
    },
    {
      "cell_type": "code",
      "metadata": {
        "id": "ys_R8KJjgigy",
        "outputId": "dd32f815-a141-4295-f995-6d3822a489d0",
        "colab": {
          "base_uri": "https://localhost:8080/"
        }
      },
      "source": [
        "index,para = ot.outlier_detect_mean_std(data=data,col='Fare',threshold=3)\n",
        "print('Upper bound:',para[0],'\\nLower bound:',para[1])"
      ],
      "execution_count": 9,
      "outputs": [
        {
          "output_type": "stream",
          "text": [
            "Num of outlier detected: 20\n",
            "Proportion of outlier detected 0.02244668911335578\n",
            "Upper bound: 181.2844937601173 \n",
            "Lower bound: -116.87607782296811\n"
          ],
          "name": "stdout"
        }
      ]
    },
    {
      "cell_type": "code",
      "metadata": {
        "id": "QvFwyGtPgig1",
        "outputId": "d9a7f1c6-3c77-4bfe-9424-a465f215762d",
        "colab": {
          "base_uri": "https://localhost:8080/"
        }
      },
      "source": [
        "# check the 20 found outliers\n",
        "data.loc[index,'Fare'].sort_values()"
      ],
      "execution_count": 10,
      "outputs": [
        {
          "output_type": "execute_result",
          "data": {
            "text/plain": [
              "779    211.3375\n",
              "730    211.3375\n",
              "689    211.3375\n",
              "377    211.5000\n",
              "527    221.7792\n",
              "716    227.5250\n",
              "700    227.5250\n",
              "380    227.5250\n",
              "557    227.5250\n",
              "118    247.5208\n",
              "299    247.5208\n",
              "311    262.3750\n",
              "742    262.3750\n",
              "27     263.0000\n",
              "341    263.0000\n",
              "88     263.0000\n",
              "438    263.0000\n",
              "258    512.3292\n",
              "737    512.3292\n",
              "679    512.3292\n",
              "Name: Fare, dtype: float64"
            ]
          },
          "metadata": {
            "tags": []
          },
          "execution_count": 10
        }
      ]
    },
    {
      "cell_type": "markdown",
      "metadata": {
        "id": "H752cXzggig3"
      },
      "source": [
        "## MAD method\n",
        "outlier detection by Median and Median Absolute Deviation Method (MAD)"
      ]
    },
    {
      "cell_type": "code",
      "metadata": {
        "id": "QHMmupfygig4",
        "outputId": "58388526-da4e-4f58-87fe-4e38a38c1c66",
        "colab": {
          "base_uri": "https://localhost:8080/"
        }
      },
      "source": [
        "# too aggressive for our dataset, about 18% of cases are detected as outliers.\n",
        "index = ot.outlier_detect_MAD(data=data,col='Fare',threshold=3.5)"
      ],
      "execution_count": 11,
      "outputs": [
        {
          "output_type": "stream",
          "text": [
            "Num of outlier detected: 160\n",
            "Proportion of outlier detected 0.17957351290684623\n"
          ],
          "name": "stdout"
        }
      ]
    },
    {
      "cell_type": "markdown",
      "metadata": {
        "id": "hC1yBGJTgihD"
      },
      "source": [
        "##  Imputation with arbitrary value\n",
        "impute outliers with arbitrary value"
      ]
    },
    {
      "cell_type": "code",
      "metadata": {
        "id": "NvuanpP3gihD",
        "outputId": "a54cba23-2b78-4b09-aa25-f7a67e987b2b",
        "colab": {
          "base_uri": "https://localhost:8080/"
        }
      },
      "source": [
        "# use any of the detection method above\n",
        "index,para = ot.outlier_detect_arbitrary(data=data,col='Fare',upper_fence=300,lower_fence=5)\n",
        "print('Upper bound:',para[0],'\\nLower bound:',para[1])"
      ],
      "execution_count": 12,
      "outputs": [
        {
          "output_type": "stream",
          "text": [
            "Num of outlier detected: 19\n",
            "Proportion of outlier detected 0.02132435465768799\n",
            "Upper bound: 300 \n",
            "Lower bound: 5\n"
          ],
          "name": "stdout"
        }
      ]
    },
    {
      "cell_type": "code",
      "metadata": {
        "id": "91j17H6fgihG",
        "outputId": "7aebb1e1-28e7-4d77-a6d7-7c443a7b8ece",
        "colab": {
          "base_uri": "https://localhost:8080/",
          "height": 662
        }
      },
      "source": [
        "data[255:275]"
      ],
      "execution_count": 13,
      "outputs": [
        {
          "output_type": "execute_result",
          "data": {
            "text/html": [
              "<div>\n",
              "<style scoped>\n",
              "    .dataframe tbody tr th:only-of-type {\n",
              "        vertical-align: middle;\n",
              "    }\n",
              "\n",
              "    .dataframe tbody tr th {\n",
              "        vertical-align: top;\n",
              "    }\n",
              "\n",
              "    .dataframe thead th {\n",
              "        text-align: right;\n",
              "    }\n",
              "</style>\n",
              "<table border=\"1\" class=\"dataframe\">\n",
              "  <thead>\n",
              "    <tr style=\"text-align: right;\">\n",
              "      <th></th>\n",
              "      <th>Survived</th>\n",
              "      <th>Pclass</th>\n",
              "      <th>Sex</th>\n",
              "      <th>Age</th>\n",
              "      <th>SibSp</th>\n",
              "      <th>Fare</th>\n",
              "    </tr>\n",
              "  </thead>\n",
              "  <tbody>\n",
              "    <tr>\n",
              "      <th>255</th>\n",
              "      <td>1</td>\n",
              "      <td>3</td>\n",
              "      <td>female</td>\n",
              "      <td>29.0</td>\n",
              "      <td>0</td>\n",
              "      <td>15.2458</td>\n",
              "    </tr>\n",
              "    <tr>\n",
              "      <th>256</th>\n",
              "      <td>1</td>\n",
              "      <td>1</td>\n",
              "      <td>female</td>\n",
              "      <td>NaN</td>\n",
              "      <td>0</td>\n",
              "      <td>79.2000</td>\n",
              "    </tr>\n",
              "    <tr>\n",
              "      <th>257</th>\n",
              "      <td>1</td>\n",
              "      <td>1</td>\n",
              "      <td>female</td>\n",
              "      <td>30.0</td>\n",
              "      <td>0</td>\n",
              "      <td>86.5000</td>\n",
              "    </tr>\n",
              "    <tr>\n",
              "      <th>258</th>\n",
              "      <td>1</td>\n",
              "      <td>1</td>\n",
              "      <td>female</td>\n",
              "      <td>35.0</td>\n",
              "      <td>0</td>\n",
              "      <td>512.3292</td>\n",
              "    </tr>\n",
              "    <tr>\n",
              "      <th>259</th>\n",
              "      <td>1</td>\n",
              "      <td>2</td>\n",
              "      <td>female</td>\n",
              "      <td>50.0</td>\n",
              "      <td>0</td>\n",
              "      <td>26.0000</td>\n",
              "    </tr>\n",
              "    <tr>\n",
              "      <th>260</th>\n",
              "      <td>0</td>\n",
              "      <td>3</td>\n",
              "      <td>male</td>\n",
              "      <td>NaN</td>\n",
              "      <td>0</td>\n",
              "      <td>7.7500</td>\n",
              "    </tr>\n",
              "    <tr>\n",
              "      <th>261</th>\n",
              "      <td>1</td>\n",
              "      <td>3</td>\n",
              "      <td>male</td>\n",
              "      <td>3.0</td>\n",
              "      <td>4</td>\n",
              "      <td>31.3875</td>\n",
              "    </tr>\n",
              "    <tr>\n",
              "      <th>262</th>\n",
              "      <td>0</td>\n",
              "      <td>1</td>\n",
              "      <td>male</td>\n",
              "      <td>52.0</td>\n",
              "      <td>1</td>\n",
              "      <td>79.6500</td>\n",
              "    </tr>\n",
              "    <tr>\n",
              "      <th>263</th>\n",
              "      <td>0</td>\n",
              "      <td>1</td>\n",
              "      <td>male</td>\n",
              "      <td>40.0</td>\n",
              "      <td>0</td>\n",
              "      <td>0.0000</td>\n",
              "    </tr>\n",
              "    <tr>\n",
              "      <th>264</th>\n",
              "      <td>0</td>\n",
              "      <td>3</td>\n",
              "      <td>female</td>\n",
              "      <td>NaN</td>\n",
              "      <td>0</td>\n",
              "      <td>7.7500</td>\n",
              "    </tr>\n",
              "    <tr>\n",
              "      <th>265</th>\n",
              "      <td>0</td>\n",
              "      <td>2</td>\n",
              "      <td>male</td>\n",
              "      <td>36.0</td>\n",
              "      <td>0</td>\n",
              "      <td>10.5000</td>\n",
              "    </tr>\n",
              "    <tr>\n",
              "      <th>266</th>\n",
              "      <td>0</td>\n",
              "      <td>3</td>\n",
              "      <td>male</td>\n",
              "      <td>16.0</td>\n",
              "      <td>4</td>\n",
              "      <td>39.6875</td>\n",
              "    </tr>\n",
              "    <tr>\n",
              "      <th>267</th>\n",
              "      <td>1</td>\n",
              "      <td>3</td>\n",
              "      <td>male</td>\n",
              "      <td>25.0</td>\n",
              "      <td>1</td>\n",
              "      <td>7.7750</td>\n",
              "    </tr>\n",
              "    <tr>\n",
              "      <th>268</th>\n",
              "      <td>1</td>\n",
              "      <td>1</td>\n",
              "      <td>female</td>\n",
              "      <td>58.0</td>\n",
              "      <td>0</td>\n",
              "      <td>153.4625</td>\n",
              "    </tr>\n",
              "    <tr>\n",
              "      <th>269</th>\n",
              "      <td>1</td>\n",
              "      <td>1</td>\n",
              "      <td>female</td>\n",
              "      <td>35.0</td>\n",
              "      <td>0</td>\n",
              "      <td>135.6333</td>\n",
              "    </tr>\n",
              "    <tr>\n",
              "      <th>270</th>\n",
              "      <td>0</td>\n",
              "      <td>1</td>\n",
              "      <td>male</td>\n",
              "      <td>NaN</td>\n",
              "      <td>0</td>\n",
              "      <td>31.0000</td>\n",
              "    </tr>\n",
              "    <tr>\n",
              "      <th>271</th>\n",
              "      <td>1</td>\n",
              "      <td>3</td>\n",
              "      <td>male</td>\n",
              "      <td>25.0</td>\n",
              "      <td>0</td>\n",
              "      <td>0.0000</td>\n",
              "    </tr>\n",
              "    <tr>\n",
              "      <th>272</th>\n",
              "      <td>1</td>\n",
              "      <td>2</td>\n",
              "      <td>female</td>\n",
              "      <td>41.0</td>\n",
              "      <td>0</td>\n",
              "      <td>19.5000</td>\n",
              "    </tr>\n",
              "    <tr>\n",
              "      <th>273</th>\n",
              "      <td>0</td>\n",
              "      <td>1</td>\n",
              "      <td>male</td>\n",
              "      <td>37.0</td>\n",
              "      <td>0</td>\n",
              "      <td>29.7000</td>\n",
              "    </tr>\n",
              "    <tr>\n",
              "      <th>274</th>\n",
              "      <td>1</td>\n",
              "      <td>3</td>\n",
              "      <td>female</td>\n",
              "      <td>NaN</td>\n",
              "      <td>0</td>\n",
              "      <td>7.7500</td>\n",
              "    </tr>\n",
              "  </tbody>\n",
              "</table>\n",
              "</div>"
            ],
            "text/plain": [
              "     Survived  Pclass     Sex   Age  SibSp      Fare\n",
              "255         1       3  female  29.0      0   15.2458\n",
              "256         1       1  female   NaN      0   79.2000\n",
              "257         1       1  female  30.0      0   86.5000\n",
              "258         1       1  female  35.0      0  512.3292\n",
              "259         1       2  female  50.0      0   26.0000\n",
              "260         0       3    male   NaN      0    7.7500\n",
              "261         1       3    male   3.0      4   31.3875\n",
              "262         0       1    male  52.0      1   79.6500\n",
              "263         0       1    male  40.0      0    0.0000\n",
              "264         0       3  female   NaN      0    7.7500\n",
              "265         0       2    male  36.0      0   10.5000\n",
              "266         0       3    male  16.0      4   39.6875\n",
              "267         1       3    male  25.0      1    7.7750\n",
              "268         1       1  female  58.0      0  153.4625\n",
              "269         1       1  female  35.0      0  135.6333\n",
              "270         0       1    male   NaN      0   31.0000\n",
              "271         1       3    male  25.0      0    0.0000\n",
              "272         1       2  female  41.0      0   19.5000\n",
              "273         0       1    male  37.0      0   29.7000\n",
              "274         1       3  female   NaN      0    7.7500"
            ]
          },
          "metadata": {
            "tags": []
          },
          "execution_count": 13
        }
      ]
    },
    {
      "cell_type": "code",
      "metadata": {
        "id": "gvzG4dH5gihJ",
        "outputId": "4f226839-a3cb-42a6-88bb-ea6315af69f8",
        "colab": {
          "base_uri": "https://localhost:8080/",
          "height": 662
        }
      },
      "source": [
        "# see index 258,263,271 have been replaced\n",
        "data2 = ot.impute_outlier_with_arbitrary(data=data,outlier_index=index,\n",
        "                                         value=-999,col=['Fare'])\n",
        "data2[255:275]"
      ],
      "execution_count": 14,
      "outputs": [
        {
          "output_type": "execute_result",
          "data": {
            "text/html": [
              "<div>\n",
              "<style scoped>\n",
              "    .dataframe tbody tr th:only-of-type {\n",
              "        vertical-align: middle;\n",
              "    }\n",
              "\n",
              "    .dataframe tbody tr th {\n",
              "        vertical-align: top;\n",
              "    }\n",
              "\n",
              "    .dataframe thead th {\n",
              "        text-align: right;\n",
              "    }\n",
              "</style>\n",
              "<table border=\"1\" class=\"dataframe\">\n",
              "  <thead>\n",
              "    <tr style=\"text-align: right;\">\n",
              "      <th></th>\n",
              "      <th>Survived</th>\n",
              "      <th>Pclass</th>\n",
              "      <th>Sex</th>\n",
              "      <th>Age</th>\n",
              "      <th>SibSp</th>\n",
              "      <th>Fare</th>\n",
              "    </tr>\n",
              "  </thead>\n",
              "  <tbody>\n",
              "    <tr>\n",
              "      <th>255</th>\n",
              "      <td>1</td>\n",
              "      <td>3</td>\n",
              "      <td>female</td>\n",
              "      <td>29.0</td>\n",
              "      <td>0</td>\n",
              "      <td>15.2458</td>\n",
              "    </tr>\n",
              "    <tr>\n",
              "      <th>256</th>\n",
              "      <td>1</td>\n",
              "      <td>1</td>\n",
              "      <td>female</td>\n",
              "      <td>NaN</td>\n",
              "      <td>0</td>\n",
              "      <td>79.2000</td>\n",
              "    </tr>\n",
              "    <tr>\n",
              "      <th>257</th>\n",
              "      <td>1</td>\n",
              "      <td>1</td>\n",
              "      <td>female</td>\n",
              "      <td>30.0</td>\n",
              "      <td>0</td>\n",
              "      <td>86.5000</td>\n",
              "    </tr>\n",
              "    <tr>\n",
              "      <th>258</th>\n",
              "      <td>1</td>\n",
              "      <td>1</td>\n",
              "      <td>female</td>\n",
              "      <td>35.0</td>\n",
              "      <td>0</td>\n",
              "      <td>-999.0000</td>\n",
              "    </tr>\n",
              "    <tr>\n",
              "      <th>259</th>\n",
              "      <td>1</td>\n",
              "      <td>2</td>\n",
              "      <td>female</td>\n",
              "      <td>50.0</td>\n",
              "      <td>0</td>\n",
              "      <td>26.0000</td>\n",
              "    </tr>\n",
              "    <tr>\n",
              "      <th>260</th>\n",
              "      <td>0</td>\n",
              "      <td>3</td>\n",
              "      <td>male</td>\n",
              "      <td>NaN</td>\n",
              "      <td>0</td>\n",
              "      <td>7.7500</td>\n",
              "    </tr>\n",
              "    <tr>\n",
              "      <th>261</th>\n",
              "      <td>1</td>\n",
              "      <td>3</td>\n",
              "      <td>male</td>\n",
              "      <td>3.0</td>\n",
              "      <td>4</td>\n",
              "      <td>31.3875</td>\n",
              "    </tr>\n",
              "    <tr>\n",
              "      <th>262</th>\n",
              "      <td>0</td>\n",
              "      <td>1</td>\n",
              "      <td>male</td>\n",
              "      <td>52.0</td>\n",
              "      <td>1</td>\n",
              "      <td>79.6500</td>\n",
              "    </tr>\n",
              "    <tr>\n",
              "      <th>263</th>\n",
              "      <td>0</td>\n",
              "      <td>1</td>\n",
              "      <td>male</td>\n",
              "      <td>40.0</td>\n",
              "      <td>0</td>\n",
              "      <td>-999.0000</td>\n",
              "    </tr>\n",
              "    <tr>\n",
              "      <th>264</th>\n",
              "      <td>0</td>\n",
              "      <td>3</td>\n",
              "      <td>female</td>\n",
              "      <td>NaN</td>\n",
              "      <td>0</td>\n",
              "      <td>7.7500</td>\n",
              "    </tr>\n",
              "    <tr>\n",
              "      <th>265</th>\n",
              "      <td>0</td>\n",
              "      <td>2</td>\n",
              "      <td>male</td>\n",
              "      <td>36.0</td>\n",
              "      <td>0</td>\n",
              "      <td>10.5000</td>\n",
              "    </tr>\n",
              "    <tr>\n",
              "      <th>266</th>\n",
              "      <td>0</td>\n",
              "      <td>3</td>\n",
              "      <td>male</td>\n",
              "      <td>16.0</td>\n",
              "      <td>4</td>\n",
              "      <td>39.6875</td>\n",
              "    </tr>\n",
              "    <tr>\n",
              "      <th>267</th>\n",
              "      <td>1</td>\n",
              "      <td>3</td>\n",
              "      <td>male</td>\n",
              "      <td>25.0</td>\n",
              "      <td>1</td>\n",
              "      <td>7.7750</td>\n",
              "    </tr>\n",
              "    <tr>\n",
              "      <th>268</th>\n",
              "      <td>1</td>\n",
              "      <td>1</td>\n",
              "      <td>female</td>\n",
              "      <td>58.0</td>\n",
              "      <td>0</td>\n",
              "      <td>153.4625</td>\n",
              "    </tr>\n",
              "    <tr>\n",
              "      <th>269</th>\n",
              "      <td>1</td>\n",
              "      <td>1</td>\n",
              "      <td>female</td>\n",
              "      <td>35.0</td>\n",
              "      <td>0</td>\n",
              "      <td>135.6333</td>\n",
              "    </tr>\n",
              "    <tr>\n",
              "      <th>270</th>\n",
              "      <td>0</td>\n",
              "      <td>1</td>\n",
              "      <td>male</td>\n",
              "      <td>NaN</td>\n",
              "      <td>0</td>\n",
              "      <td>31.0000</td>\n",
              "    </tr>\n",
              "    <tr>\n",
              "      <th>271</th>\n",
              "      <td>1</td>\n",
              "      <td>3</td>\n",
              "      <td>male</td>\n",
              "      <td>25.0</td>\n",
              "      <td>0</td>\n",
              "      <td>-999.0000</td>\n",
              "    </tr>\n",
              "    <tr>\n",
              "      <th>272</th>\n",
              "      <td>1</td>\n",
              "      <td>2</td>\n",
              "      <td>female</td>\n",
              "      <td>41.0</td>\n",
              "      <td>0</td>\n",
              "      <td>19.5000</td>\n",
              "    </tr>\n",
              "    <tr>\n",
              "      <th>273</th>\n",
              "      <td>0</td>\n",
              "      <td>1</td>\n",
              "      <td>male</td>\n",
              "      <td>37.0</td>\n",
              "      <td>0</td>\n",
              "      <td>29.7000</td>\n",
              "    </tr>\n",
              "    <tr>\n",
              "      <th>274</th>\n",
              "      <td>1</td>\n",
              "      <td>3</td>\n",
              "      <td>female</td>\n",
              "      <td>NaN</td>\n",
              "      <td>0</td>\n",
              "      <td>7.7500</td>\n",
              "    </tr>\n",
              "  </tbody>\n",
              "</table>\n",
              "</div>"
            ],
            "text/plain": [
              "     Survived  Pclass     Sex   Age  SibSp      Fare\n",
              "255         1       3  female  29.0      0   15.2458\n",
              "256         1       1  female   NaN      0   79.2000\n",
              "257         1       1  female  30.0      0   86.5000\n",
              "258         1       1  female  35.0      0 -999.0000\n",
              "259         1       2  female  50.0      0   26.0000\n",
              "260         0       3    male   NaN      0    7.7500\n",
              "261         1       3    male   3.0      4   31.3875\n",
              "262         0       1    male  52.0      1   79.6500\n",
              "263         0       1    male  40.0      0 -999.0000\n",
              "264         0       3  female   NaN      0    7.7500\n",
              "265         0       2    male  36.0      0   10.5000\n",
              "266         0       3    male  16.0      4   39.6875\n",
              "267         1       3    male  25.0      1    7.7750\n",
              "268         1       1  female  58.0      0  153.4625\n",
              "269         1       1  female  35.0      0  135.6333\n",
              "270         0       1    male   NaN      0   31.0000\n",
              "271         1       3    male  25.0      0 -999.0000\n",
              "272         1       2  female  41.0      0   19.5000\n",
              "273         0       1    male  37.0      0   29.7000\n",
              "274         1       3  female   NaN      0    7.7500"
            ]
          },
          "metadata": {
            "tags": []
          },
          "execution_count": 14
        }
      ]
    },
    {
      "cell_type": "markdown",
      "metadata": {
        "id": "FQTWQerMgihL"
      },
      "source": [
        "## Windsorization\n",
        "top-coding & bottom coding (capping the maximum of a distribution at an arbitrarily set value,vice versa)\n"
      ]
    },
    {
      "cell_type": "code",
      "metadata": {
        "id": "Ljc9VUZdgihL",
        "outputId": "bd487ef2-a681-42b6-f48a-4c3627c19a90",
        "colab": {
          "base_uri": "https://localhost:8080/"
        }
      },
      "source": [
        "# use any of the detection method above\n",
        "index,para = ot.outlier_detect_arbitrary(data,'Fare',300,5)\n",
        "print('Upper bound:',para[0],'\\nLower bound:',para[1])"
      ],
      "execution_count": 15,
      "outputs": [
        {
          "output_type": "stream",
          "text": [
            "Num of outlier detected: 19\n",
            "Proportion of outlier detected 0.02132435465768799\n",
            "Upper bound: 300 \n",
            "Lower bound: 5\n"
          ],
          "name": "stdout"
        }
      ]
    },
    {
      "cell_type": "code",
      "metadata": {
        "id": "ov9xBzBPgihU",
        "outputId": "1669b35a-7952-47fb-d3f6-cf1a424e6bdb",
        "colab": {
          "base_uri": "https://localhost:8080/",
          "height": 662
        }
      },
      "source": [
        "# see index 258,263,271 have been replaced with top/bottom coding\n",
        "\n",
        "data3 = ot.windsorization(data=data,col='Fare',para=para,strategy='both')\n",
        "data3[255:275]"
      ],
      "execution_count": 16,
      "outputs": [
        {
          "output_type": "execute_result",
          "data": {
            "text/html": [
              "<div>\n",
              "<style scoped>\n",
              "    .dataframe tbody tr th:only-of-type {\n",
              "        vertical-align: middle;\n",
              "    }\n",
              "\n",
              "    .dataframe tbody tr th {\n",
              "        vertical-align: top;\n",
              "    }\n",
              "\n",
              "    .dataframe thead th {\n",
              "        text-align: right;\n",
              "    }\n",
              "</style>\n",
              "<table border=\"1\" class=\"dataframe\">\n",
              "  <thead>\n",
              "    <tr style=\"text-align: right;\">\n",
              "      <th></th>\n",
              "      <th>Survived</th>\n",
              "      <th>Pclass</th>\n",
              "      <th>Sex</th>\n",
              "      <th>Age</th>\n",
              "      <th>SibSp</th>\n",
              "      <th>Fare</th>\n",
              "    </tr>\n",
              "  </thead>\n",
              "  <tbody>\n",
              "    <tr>\n",
              "      <th>255</th>\n",
              "      <td>1</td>\n",
              "      <td>3</td>\n",
              "      <td>female</td>\n",
              "      <td>29.0</td>\n",
              "      <td>0</td>\n",
              "      <td>15.2458</td>\n",
              "    </tr>\n",
              "    <tr>\n",
              "      <th>256</th>\n",
              "      <td>1</td>\n",
              "      <td>1</td>\n",
              "      <td>female</td>\n",
              "      <td>NaN</td>\n",
              "      <td>0</td>\n",
              "      <td>79.2000</td>\n",
              "    </tr>\n",
              "    <tr>\n",
              "      <th>257</th>\n",
              "      <td>1</td>\n",
              "      <td>1</td>\n",
              "      <td>female</td>\n",
              "      <td>30.0</td>\n",
              "      <td>0</td>\n",
              "      <td>86.5000</td>\n",
              "    </tr>\n",
              "    <tr>\n",
              "      <th>258</th>\n",
              "      <td>1</td>\n",
              "      <td>1</td>\n",
              "      <td>female</td>\n",
              "      <td>35.0</td>\n",
              "      <td>0</td>\n",
              "      <td>300.0000</td>\n",
              "    </tr>\n",
              "    <tr>\n",
              "      <th>259</th>\n",
              "      <td>1</td>\n",
              "      <td>2</td>\n",
              "      <td>female</td>\n",
              "      <td>50.0</td>\n",
              "      <td>0</td>\n",
              "      <td>26.0000</td>\n",
              "    </tr>\n",
              "    <tr>\n",
              "      <th>260</th>\n",
              "      <td>0</td>\n",
              "      <td>3</td>\n",
              "      <td>male</td>\n",
              "      <td>NaN</td>\n",
              "      <td>0</td>\n",
              "      <td>7.7500</td>\n",
              "    </tr>\n",
              "    <tr>\n",
              "      <th>261</th>\n",
              "      <td>1</td>\n",
              "      <td>3</td>\n",
              "      <td>male</td>\n",
              "      <td>3.0</td>\n",
              "      <td>4</td>\n",
              "      <td>31.3875</td>\n",
              "    </tr>\n",
              "    <tr>\n",
              "      <th>262</th>\n",
              "      <td>0</td>\n",
              "      <td>1</td>\n",
              "      <td>male</td>\n",
              "      <td>52.0</td>\n",
              "      <td>1</td>\n",
              "      <td>79.6500</td>\n",
              "    </tr>\n",
              "    <tr>\n",
              "      <th>263</th>\n",
              "      <td>0</td>\n",
              "      <td>1</td>\n",
              "      <td>male</td>\n",
              "      <td>40.0</td>\n",
              "      <td>0</td>\n",
              "      <td>5.0000</td>\n",
              "    </tr>\n",
              "    <tr>\n",
              "      <th>264</th>\n",
              "      <td>0</td>\n",
              "      <td>3</td>\n",
              "      <td>female</td>\n",
              "      <td>NaN</td>\n",
              "      <td>0</td>\n",
              "      <td>7.7500</td>\n",
              "    </tr>\n",
              "    <tr>\n",
              "      <th>265</th>\n",
              "      <td>0</td>\n",
              "      <td>2</td>\n",
              "      <td>male</td>\n",
              "      <td>36.0</td>\n",
              "      <td>0</td>\n",
              "      <td>10.5000</td>\n",
              "    </tr>\n",
              "    <tr>\n",
              "      <th>266</th>\n",
              "      <td>0</td>\n",
              "      <td>3</td>\n",
              "      <td>male</td>\n",
              "      <td>16.0</td>\n",
              "      <td>4</td>\n",
              "      <td>39.6875</td>\n",
              "    </tr>\n",
              "    <tr>\n",
              "      <th>267</th>\n",
              "      <td>1</td>\n",
              "      <td>3</td>\n",
              "      <td>male</td>\n",
              "      <td>25.0</td>\n",
              "      <td>1</td>\n",
              "      <td>7.7750</td>\n",
              "    </tr>\n",
              "    <tr>\n",
              "      <th>268</th>\n",
              "      <td>1</td>\n",
              "      <td>1</td>\n",
              "      <td>female</td>\n",
              "      <td>58.0</td>\n",
              "      <td>0</td>\n",
              "      <td>153.4625</td>\n",
              "    </tr>\n",
              "    <tr>\n",
              "      <th>269</th>\n",
              "      <td>1</td>\n",
              "      <td>1</td>\n",
              "      <td>female</td>\n",
              "      <td>35.0</td>\n",
              "      <td>0</td>\n",
              "      <td>135.6333</td>\n",
              "    </tr>\n",
              "    <tr>\n",
              "      <th>270</th>\n",
              "      <td>0</td>\n",
              "      <td>1</td>\n",
              "      <td>male</td>\n",
              "      <td>NaN</td>\n",
              "      <td>0</td>\n",
              "      <td>31.0000</td>\n",
              "    </tr>\n",
              "    <tr>\n",
              "      <th>271</th>\n",
              "      <td>1</td>\n",
              "      <td>3</td>\n",
              "      <td>male</td>\n",
              "      <td>25.0</td>\n",
              "      <td>0</td>\n",
              "      <td>5.0000</td>\n",
              "    </tr>\n",
              "    <tr>\n",
              "      <th>272</th>\n",
              "      <td>1</td>\n",
              "      <td>2</td>\n",
              "      <td>female</td>\n",
              "      <td>41.0</td>\n",
              "      <td>0</td>\n",
              "      <td>19.5000</td>\n",
              "    </tr>\n",
              "    <tr>\n",
              "      <th>273</th>\n",
              "      <td>0</td>\n",
              "      <td>1</td>\n",
              "      <td>male</td>\n",
              "      <td>37.0</td>\n",
              "      <td>0</td>\n",
              "      <td>29.7000</td>\n",
              "    </tr>\n",
              "    <tr>\n",
              "      <th>274</th>\n",
              "      <td>1</td>\n",
              "      <td>3</td>\n",
              "      <td>female</td>\n",
              "      <td>NaN</td>\n",
              "      <td>0</td>\n",
              "      <td>7.7500</td>\n",
              "    </tr>\n",
              "  </tbody>\n",
              "</table>\n",
              "</div>"
            ],
            "text/plain": [
              "     Survived  Pclass     Sex   Age  SibSp      Fare\n",
              "255         1       3  female  29.0      0   15.2458\n",
              "256         1       1  female   NaN      0   79.2000\n",
              "257         1       1  female  30.0      0   86.5000\n",
              "258         1       1  female  35.0      0  300.0000\n",
              "259         1       2  female  50.0      0   26.0000\n",
              "260         0       3    male   NaN      0    7.7500\n",
              "261         1       3    male   3.0      4   31.3875\n",
              "262         0       1    male  52.0      1   79.6500\n",
              "263         0       1    male  40.0      0    5.0000\n",
              "264         0       3  female   NaN      0    7.7500\n",
              "265         0       2    male  36.0      0   10.5000\n",
              "266         0       3    male  16.0      4   39.6875\n",
              "267         1       3    male  25.0      1    7.7750\n",
              "268         1       1  female  58.0      0  153.4625\n",
              "269         1       1  female  35.0      0  135.6333\n",
              "270         0       1    male   NaN      0   31.0000\n",
              "271         1       3    male  25.0      0    5.0000\n",
              "272         1       2  female  41.0      0   19.5000\n",
              "273         0       1    male  37.0      0   29.7000\n",
              "274         1       3  female   NaN      0    7.7500"
            ]
          },
          "metadata": {
            "tags": []
          },
          "execution_count": 16
        }
      ]
    },
    {
      "cell_type": "markdown",
      "metadata": {
        "id": "y6geXNYVgihW"
      },
      "source": [
        "## Discard outliers\n",
        "Drop the cases that are outliers"
      ]
    },
    {
      "cell_type": "code",
      "metadata": {
        "id": "rjGcnBZXgihX",
        "outputId": "a85fed28-9c55-4857-c693-44802881ab10",
        "colab": {
          "base_uri": "https://localhost:8080/"
        }
      },
      "source": [
        "# use any of the detection method above\n",
        "index,para = ot.outlier_detect_arbitrary(data,'Fare',300,5)\n",
        "print('Upper bound:',para[0],'\\nLower bound:',para[1])"
      ],
      "execution_count": 17,
      "outputs": [
        {
          "output_type": "stream",
          "text": [
            "Num of outlier detected: 19\n",
            "Proportion of outlier detected 0.02132435465768799\n",
            "Upper bound: 300 \n",
            "Lower bound: 5\n"
          ],
          "name": "stdout"
        }
      ]
    },
    {
      "cell_type": "code",
      "metadata": {
        "id": "drdQ-Md7gihZ",
        "outputId": "6b6b911e-5fc2-43bf-9360-556d63104dec",
        "colab": {
          "base_uri": "https://localhost:8080/"
        }
      },
      "source": [
        "# drop the outlier.\n",
        "# we can see no more observations have value >300 or <5. They've been removed.\n",
        "data4 = ot.drop_outlier(data=data,outlier_index=index)\n",
        "print(data4.Fare.max())\n",
        "print(data4.Fare.min())"
      ],
      "execution_count": 18,
      "outputs": [
        {
          "output_type": "stream",
          "text": [
            "263.0\n",
            "5.0\n"
          ],
          "name": "stdout"
        }
      ]
    },
    {
      "cell_type": "markdown",
      "metadata": {
        "id": "yP9br7V8gihb"
      },
      "source": [
        "## Mean/Median/Mode Imputation\n",
        "replacing the outlier by mean/median/most frequent values of that variable"
      ]
    },
    {
      "cell_type": "code",
      "metadata": {
        "id": "-S0jKPolgihb",
        "outputId": "c3064414-002a-4fab-db22-6b821aaa2bff",
        "colab": {
          "base_uri": "https://localhost:8080/"
        }
      },
      "source": [
        "# use any of the detection method above\n",
        "index,para = ot.outlier_detect_arbitrary(data,'Fare',300,5)\n",
        "print('Upper bound:',para[0],'\\nLower bound:',para[1])\n",
        "    "
      ],
      "execution_count": 19,
      "outputs": [
        {
          "output_type": "stream",
          "text": [
            "Num of outlier detected: 19\n",
            "Proportion of outlier detected 0.02132435465768799\n",
            "Upper bound: 300 \n",
            "Lower bound: 5\n"
          ],
          "name": "stdout"
        }
      ]
    },
    {
      "cell_type": "code",
      "metadata": {
        "id": "GtBiRih0gihe",
        "outputId": "019d61f5-f410-4001-a703-f8b02c395519",
        "colab": {
          "base_uri": "https://localhost:8080/",
          "height": 662
        }
      },
      "source": [
        "# see index 258,263,271 have been replaced with mean\n",
        "\n",
        "data5 = ot.impute_outlier_with_avg(data=data,col='Fare',\n",
        "                                   outlier_index=index,strategy='mean')\n",
        "data5[255:275]"
      ],
      "execution_count": 20,
      "outputs": [
        {
          "output_type": "execute_result",
          "data": {
            "text/html": [
              "<div>\n",
              "<style scoped>\n",
              "    .dataframe tbody tr th:only-of-type {\n",
              "        vertical-align: middle;\n",
              "    }\n",
              "\n",
              "    .dataframe tbody tr th {\n",
              "        vertical-align: top;\n",
              "    }\n",
              "\n",
              "    .dataframe thead th {\n",
              "        text-align: right;\n",
              "    }\n",
              "</style>\n",
              "<table border=\"1\" class=\"dataframe\">\n",
              "  <thead>\n",
              "    <tr style=\"text-align: right;\">\n",
              "      <th></th>\n",
              "      <th>Survived</th>\n",
              "      <th>Pclass</th>\n",
              "      <th>Sex</th>\n",
              "      <th>Age</th>\n",
              "      <th>SibSp</th>\n",
              "      <th>Fare</th>\n",
              "    </tr>\n",
              "  </thead>\n",
              "  <tbody>\n",
              "    <tr>\n",
              "      <th>255</th>\n",
              "      <td>1</td>\n",
              "      <td>3</td>\n",
              "      <td>female</td>\n",
              "      <td>29.0</td>\n",
              "      <td>0</td>\n",
              "      <td>15.245800</td>\n",
              "    </tr>\n",
              "    <tr>\n",
              "      <th>256</th>\n",
              "      <td>1</td>\n",
              "      <td>1</td>\n",
              "      <td>female</td>\n",
              "      <td>NaN</td>\n",
              "      <td>0</td>\n",
              "      <td>79.200000</td>\n",
              "    </tr>\n",
              "    <tr>\n",
              "      <th>257</th>\n",
              "      <td>1</td>\n",
              "      <td>1</td>\n",
              "      <td>female</td>\n",
              "      <td>30.0</td>\n",
              "      <td>0</td>\n",
              "      <td>86.500000</td>\n",
              "    </tr>\n",
              "    <tr>\n",
              "      <th>258</th>\n",
              "      <td>1</td>\n",
              "      <td>1</td>\n",
              "      <td>female</td>\n",
              "      <td>35.0</td>\n",
              "      <td>0</td>\n",
              "      <td>32.204208</td>\n",
              "    </tr>\n",
              "    <tr>\n",
              "      <th>259</th>\n",
              "      <td>1</td>\n",
              "      <td>2</td>\n",
              "      <td>female</td>\n",
              "      <td>50.0</td>\n",
              "      <td>0</td>\n",
              "      <td>26.000000</td>\n",
              "    </tr>\n",
              "    <tr>\n",
              "      <th>260</th>\n",
              "      <td>0</td>\n",
              "      <td>3</td>\n",
              "      <td>male</td>\n",
              "      <td>NaN</td>\n",
              "      <td>0</td>\n",
              "      <td>7.750000</td>\n",
              "    </tr>\n",
              "    <tr>\n",
              "      <th>261</th>\n",
              "      <td>1</td>\n",
              "      <td>3</td>\n",
              "      <td>male</td>\n",
              "      <td>3.0</td>\n",
              "      <td>4</td>\n",
              "      <td>31.387500</td>\n",
              "    </tr>\n",
              "    <tr>\n",
              "      <th>262</th>\n",
              "      <td>0</td>\n",
              "      <td>1</td>\n",
              "      <td>male</td>\n",
              "      <td>52.0</td>\n",
              "      <td>1</td>\n",
              "      <td>79.650000</td>\n",
              "    </tr>\n",
              "    <tr>\n",
              "      <th>263</th>\n",
              "      <td>0</td>\n",
              "      <td>1</td>\n",
              "      <td>male</td>\n",
              "      <td>40.0</td>\n",
              "      <td>0</td>\n",
              "      <td>32.204208</td>\n",
              "    </tr>\n",
              "    <tr>\n",
              "      <th>264</th>\n",
              "      <td>0</td>\n",
              "      <td>3</td>\n",
              "      <td>female</td>\n",
              "      <td>NaN</td>\n",
              "      <td>0</td>\n",
              "      <td>7.750000</td>\n",
              "    </tr>\n",
              "    <tr>\n",
              "      <th>265</th>\n",
              "      <td>0</td>\n",
              "      <td>2</td>\n",
              "      <td>male</td>\n",
              "      <td>36.0</td>\n",
              "      <td>0</td>\n",
              "      <td>10.500000</td>\n",
              "    </tr>\n",
              "    <tr>\n",
              "      <th>266</th>\n",
              "      <td>0</td>\n",
              "      <td>3</td>\n",
              "      <td>male</td>\n",
              "      <td>16.0</td>\n",
              "      <td>4</td>\n",
              "      <td>39.687500</td>\n",
              "    </tr>\n",
              "    <tr>\n",
              "      <th>267</th>\n",
              "      <td>1</td>\n",
              "      <td>3</td>\n",
              "      <td>male</td>\n",
              "      <td>25.0</td>\n",
              "      <td>1</td>\n",
              "      <td>7.775000</td>\n",
              "    </tr>\n",
              "    <tr>\n",
              "      <th>268</th>\n",
              "      <td>1</td>\n",
              "      <td>1</td>\n",
              "      <td>female</td>\n",
              "      <td>58.0</td>\n",
              "      <td>0</td>\n",
              "      <td>153.462500</td>\n",
              "    </tr>\n",
              "    <tr>\n",
              "      <th>269</th>\n",
              "      <td>1</td>\n",
              "      <td>1</td>\n",
              "      <td>female</td>\n",
              "      <td>35.0</td>\n",
              "      <td>0</td>\n",
              "      <td>135.633300</td>\n",
              "    </tr>\n",
              "    <tr>\n",
              "      <th>270</th>\n",
              "      <td>0</td>\n",
              "      <td>1</td>\n",
              "      <td>male</td>\n",
              "      <td>NaN</td>\n",
              "      <td>0</td>\n",
              "      <td>31.000000</td>\n",
              "    </tr>\n",
              "    <tr>\n",
              "      <th>271</th>\n",
              "      <td>1</td>\n",
              "      <td>3</td>\n",
              "      <td>male</td>\n",
              "      <td>25.0</td>\n",
              "      <td>0</td>\n",
              "      <td>32.204208</td>\n",
              "    </tr>\n",
              "    <tr>\n",
              "      <th>272</th>\n",
              "      <td>1</td>\n",
              "      <td>2</td>\n",
              "      <td>female</td>\n",
              "      <td>41.0</td>\n",
              "      <td>0</td>\n",
              "      <td>19.500000</td>\n",
              "    </tr>\n",
              "    <tr>\n",
              "      <th>273</th>\n",
              "      <td>0</td>\n",
              "      <td>1</td>\n",
              "      <td>male</td>\n",
              "      <td>37.0</td>\n",
              "      <td>0</td>\n",
              "      <td>29.700000</td>\n",
              "    </tr>\n",
              "    <tr>\n",
              "      <th>274</th>\n",
              "      <td>1</td>\n",
              "      <td>3</td>\n",
              "      <td>female</td>\n",
              "      <td>NaN</td>\n",
              "      <td>0</td>\n",
              "      <td>7.750000</td>\n",
              "    </tr>\n",
              "  </tbody>\n",
              "</table>\n",
              "</div>"
            ],
            "text/plain": [
              "     Survived  Pclass     Sex   Age  SibSp        Fare\n",
              "255         1       3  female  29.0      0   15.245800\n",
              "256         1       1  female   NaN      0   79.200000\n",
              "257         1       1  female  30.0      0   86.500000\n",
              "258         1       1  female  35.0      0   32.204208\n",
              "259         1       2  female  50.0      0   26.000000\n",
              "260         0       3    male   NaN      0    7.750000\n",
              "261         1       3    male   3.0      4   31.387500\n",
              "262         0       1    male  52.0      1   79.650000\n",
              "263         0       1    male  40.0      0   32.204208\n",
              "264         0       3  female   NaN      0    7.750000\n",
              "265         0       2    male  36.0      0   10.500000\n",
              "266         0       3    male  16.0      4   39.687500\n",
              "267         1       3    male  25.0      1    7.775000\n",
              "268         1       1  female  58.0      0  153.462500\n",
              "269         1       1  female  35.0      0  135.633300\n",
              "270         0       1    male   NaN      0   31.000000\n",
              "271         1       3    male  25.0      0   32.204208\n",
              "272         1       2  female  41.0      0   19.500000\n",
              "273         0       1    male  37.0      0   29.700000\n",
              "274         1       3  female   NaN      0    7.750000"
            ]
          },
          "metadata": {
            "tags": []
          },
          "execution_count": 20
        }
      ]
    }
  ]
}