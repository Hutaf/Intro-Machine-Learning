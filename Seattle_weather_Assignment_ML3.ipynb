{
  "nbformat": 4,
  "nbformat_minor": 0,
  "metadata": {
    "kernelspec": {
      "display_name": "Python 3",
      "language": "python",
      "name": "python3"
    },
    "language_info": {
      "codemirror_mode": {
        "name": "ipython",
        "version": 3
      },
      "file_extension": ".py",
      "mimetype": "text/x-python",
      "name": "python",
      "nbconvert_exporter": "python",
      "pygments_lexer": "ipython3",
      "version": "3.5.6"
    },
    "colab": {
      "name": "Seattle_weather_Assignment_ML3.ipynb",
      "provenance": [],
      "collapsed_sections": [],
      "include_colab_link": true
    }
  },
  "cells": [
    {
      "cell_type": "markdown",
      "metadata": {
        "id": "view-in-github",
        "colab_type": "text"
      },
      "source": [
        "<a href=\"https://colab.research.google.com/github/Hutaf/SDA-Machine-Learning/blob/main/Seattle_weather_Assignment_ML3.ipynb\" target=\"_parent\"><img src=\"https://colab.research.google.com/assets/colab-badge.svg\" alt=\"Open In Colab\"/></a>"
      ]
    },
    {
      "cell_type": "markdown",
      "metadata": {
        "id": "N8bJQ9wjpylY"
      },
      "source": [
        "## Assignment ML3\n",
        "Use the same project from the previous assignment (the heuristic modeling) and build a function that takes a vector of predictions using your heuristic and a vector of realizations (the correct values) from the data set and calculate:\n",
        "\n",
        "- Precision\n",
        "- Recall  \n",
        "- SSE Cost of your prediction\n",
        "\n",
        "SSE is the sum of squared error (adding up the difference in your prediction and the actual value after you have squared each individual difference), you can find more about how to calculate it here.\n",
        "\n",
        "1. Break the dataset into two parts, training and testing.\n",
        "2. Use the first 80% of the dataset for training and the last 20% for testing.\n",
        "3. Evaluate both sets of data using your function.\n",
        "4. What difference do you see in the calculated values (Precision and Recall)?\n",
        "5. Submit your notebook."
      ]
    },
    {
      "cell_type": "markdown",
      "metadata": {
        "id": "rBpyIlUBGA7i"
      },
      "source": [
        "### Heuristic Models\n",
        "Look at the Seattle weather in the **data** folder. Come up with a heuristic model to predict if it will rain today. Keep in mind this is a time series, which means that you only know what happened historically (before a given date). One example of a heuristic model is: It will rain tomorrow if it rained more than 1 inch (>1.0 PRCP) today. Describe your heuristic model in the next cell."
      ]
    },
    {
      "cell_type": "markdown",
      "metadata": {
        "id": "j5U8K6afGA7j"
      },
      "source": [
        "### My heuristic model\n",
        "**if it rained yesterday but not today, it will rain tomorrow.** \n",
        "\n",
        "\n"
      ]
    },
    {
      "cell_type": "code",
      "metadata": {
        "id": "7zPVWwdIqWDR"
      },
      "source": [
        "import seaborn as sns\n",
        "import matplotlib.pyplot as plt\n",
        "import pandas as pd\n",
        "from sklearn.linear_model import LogisticRegression\n",
        "from sklearn.ensemble import RandomForestClassifier\n",
        "from sklearn.model_selection import train_test_split\n",
        "from sklearn.metrics import accuracy_score, precision_score, recall_score, mean_squared_error, confusion_matrix\n",
        "from sklearn.preprocessing import StandardScaler"
      ],
      "execution_count": 1,
      "outputs": []
    },
    {
      "cell_type": "code",
      "metadata": {
        "id": "QAZdZ96uGA7k"
      },
      "source": [
        "df = pd.read_csv('https://raw.githubusercontent.com/daniel-dc-cd/data_science/master/module_4_ML/data/seattle_weather_1948-2017.csv')\n",
        "\n",
        "numrows = 25549 # can be as large as 25549\n",
        "\n",
        "#create an empty dataframe to hold 100 values\n",
        "heuristic_df = pd.DataFrame({'yesterday':[0.0]*numrows,\n",
        "                             'today':[0.0]*numrows,\n",
        "                             'tomorrow':[0.0]*numrows,\n",
        "                             'guess':[False]*numrows, #logical guess\n",
        "                             'rain_tomorrow':[False]*numrows, #historical observation\n",
        "                             'correct':[False]*numrows}) #TRUE if your guess matches the historical observation\n",
        "\n",
        "#sort columns for convience\n",
        "seq = ['yesterday','today','tomorrow','guess','rain_tomorrow','correct']\n",
        "heuristic_df = heuristic_df.reindex(columns=seq)"
      ],
      "execution_count": 2,
      "outputs": []
    },
    {
      "cell_type": "code",
      "metadata": {
        "id": "NIvpsvxKGA7r",
        "outputId": "5384e0b5-f0d2-4a4e-bd0e-f9b79eb4dfda",
        "colab": {
          "base_uri": "https://localhost:8080/",
          "height": 202
        }
      },
      "source": [
        "df.head()"
      ],
      "execution_count": 3,
      "outputs": [
        {
          "output_type": "execute_result",
          "data": {
            "text/html": [
              "<div>\n",
              "<style scoped>\n",
              "    .dataframe tbody tr th:only-of-type {\n",
              "        vertical-align: middle;\n",
              "    }\n",
              "\n",
              "    .dataframe tbody tr th {\n",
              "        vertical-align: top;\n",
              "    }\n",
              "\n",
              "    .dataframe thead th {\n",
              "        text-align: right;\n",
              "    }\n",
              "</style>\n",
              "<table border=\"1\" class=\"dataframe\">\n",
              "  <thead>\n",
              "    <tr style=\"text-align: right;\">\n",
              "      <th></th>\n",
              "      <th>DATE</th>\n",
              "      <th>PRCP</th>\n",
              "      <th>TMAX</th>\n",
              "      <th>TMIN</th>\n",
              "      <th>RAIN</th>\n",
              "    </tr>\n",
              "  </thead>\n",
              "  <tbody>\n",
              "    <tr>\n",
              "      <th>0</th>\n",
              "      <td>1948-01-01</td>\n",
              "      <td>0.47</td>\n",
              "      <td>51</td>\n",
              "      <td>42</td>\n",
              "      <td>True</td>\n",
              "    </tr>\n",
              "    <tr>\n",
              "      <th>1</th>\n",
              "      <td>1948-01-02</td>\n",
              "      <td>0.59</td>\n",
              "      <td>45</td>\n",
              "      <td>36</td>\n",
              "      <td>True</td>\n",
              "    </tr>\n",
              "    <tr>\n",
              "      <th>2</th>\n",
              "      <td>1948-01-03</td>\n",
              "      <td>0.42</td>\n",
              "      <td>45</td>\n",
              "      <td>35</td>\n",
              "      <td>True</td>\n",
              "    </tr>\n",
              "    <tr>\n",
              "      <th>3</th>\n",
              "      <td>1948-01-04</td>\n",
              "      <td>0.31</td>\n",
              "      <td>45</td>\n",
              "      <td>34</td>\n",
              "      <td>True</td>\n",
              "    </tr>\n",
              "    <tr>\n",
              "      <th>4</th>\n",
              "      <td>1948-01-05</td>\n",
              "      <td>0.17</td>\n",
              "      <td>45</td>\n",
              "      <td>32</td>\n",
              "      <td>True</td>\n",
              "    </tr>\n",
              "  </tbody>\n",
              "</table>\n",
              "</div>"
            ],
            "text/plain": [
              "         DATE  PRCP  TMAX  TMIN  RAIN\n",
              "0  1948-01-01  0.47    51    42  True\n",
              "1  1948-01-02  0.59    45    36  True\n",
              "2  1948-01-03  0.42    45    35  True\n",
              "3  1948-01-04  0.31    45    34  True\n",
              "4  1948-01-05  0.17    45    32  True"
            ]
          },
          "metadata": {
            "tags": []
          },
          "execution_count": 3
        }
      ]
    },
    {
      "cell_type": "code",
      "metadata": {
        "id": "TX2Xe1qtGA7x",
        "outputId": "6a95b939-b8b0-4da3-9436-fe6a7b422667",
        "colab": {
          "base_uri": "https://localhost:8080/",
          "height": 202
        }
      },
      "source": [
        "heuristic_df.head()"
      ],
      "execution_count": 4,
      "outputs": [
        {
          "output_type": "execute_result",
          "data": {
            "text/html": [
              "<div>\n",
              "<style scoped>\n",
              "    .dataframe tbody tr th:only-of-type {\n",
              "        vertical-align: middle;\n",
              "    }\n",
              "\n",
              "    .dataframe tbody tr th {\n",
              "        vertical-align: top;\n",
              "    }\n",
              "\n",
              "    .dataframe thead th {\n",
              "        text-align: right;\n",
              "    }\n",
              "</style>\n",
              "<table border=\"1\" class=\"dataframe\">\n",
              "  <thead>\n",
              "    <tr style=\"text-align: right;\">\n",
              "      <th></th>\n",
              "      <th>yesterday</th>\n",
              "      <th>today</th>\n",
              "      <th>tomorrow</th>\n",
              "      <th>guess</th>\n",
              "      <th>rain_tomorrow</th>\n",
              "      <th>correct</th>\n",
              "    </tr>\n",
              "  </thead>\n",
              "  <tbody>\n",
              "    <tr>\n",
              "      <th>0</th>\n",
              "      <td>0.0</td>\n",
              "      <td>0.0</td>\n",
              "      <td>0.0</td>\n",
              "      <td>False</td>\n",
              "      <td>False</td>\n",
              "      <td>False</td>\n",
              "    </tr>\n",
              "    <tr>\n",
              "      <th>1</th>\n",
              "      <td>0.0</td>\n",
              "      <td>0.0</td>\n",
              "      <td>0.0</td>\n",
              "      <td>False</td>\n",
              "      <td>False</td>\n",
              "      <td>False</td>\n",
              "    </tr>\n",
              "    <tr>\n",
              "      <th>2</th>\n",
              "      <td>0.0</td>\n",
              "      <td>0.0</td>\n",
              "      <td>0.0</td>\n",
              "      <td>False</td>\n",
              "      <td>False</td>\n",
              "      <td>False</td>\n",
              "    </tr>\n",
              "    <tr>\n",
              "      <th>3</th>\n",
              "      <td>0.0</td>\n",
              "      <td>0.0</td>\n",
              "      <td>0.0</td>\n",
              "      <td>False</td>\n",
              "      <td>False</td>\n",
              "      <td>False</td>\n",
              "    </tr>\n",
              "    <tr>\n",
              "      <th>4</th>\n",
              "      <td>0.0</td>\n",
              "      <td>0.0</td>\n",
              "      <td>0.0</td>\n",
              "      <td>False</td>\n",
              "      <td>False</td>\n",
              "      <td>False</td>\n",
              "    </tr>\n",
              "  </tbody>\n",
              "</table>\n",
              "</div>"
            ],
            "text/plain": [
              "   yesterday  today  tomorrow  guess  rain_tomorrow  correct\n",
              "0        0.0    0.0       0.0  False          False    False\n",
              "1        0.0    0.0       0.0  False          False    False\n",
              "2        0.0    0.0       0.0  False          False    False\n",
              "3        0.0    0.0       0.0  False          False    False\n",
              "4        0.0    0.0       0.0  False          False    False"
            ]
          },
          "metadata": {
            "tags": []
          },
          "execution_count": 4
        }
      ]
    },
    {
      "cell_type": "code",
      "metadata": {
        "id": "oBfa1dJxiVjp",
        "outputId": "61d8a412-a686-493b-b2f9-573e6f9be92c",
        "colab": {
          "base_uri": "https://localhost:8080/",
          "height": 609
        }
      },
      "source": [
        "plt.figure(figsize=(10,10))\n",
        "sns.boxplot(data=df)"
      ],
      "execution_count": 5,
      "outputs": [
        {
          "output_type": "execute_result",
          "data": {
            "text/plain": [
              "<matplotlib.axes._subplots.AxesSubplot at 0x7f843874d978>"
            ]
          },
          "metadata": {
            "tags": []
          },
          "execution_count": 5
        },
        {
          "output_type": "display_data",
          "data": {
            "image/png": "[encoded data removed]",
            "text/plain": [
              "<Figure size 720x720 with 1 Axes>"
            ]
          },
          "metadata": {
            "tags": [],
            "needs_background": "light"
          }
        }
      ]
    },
    {
      "cell_type": "code",
      "metadata": {
        "id": "8x3QE_JerfpJ",
        "outputId": "d2749f6d-f8ca-4884-c9ba-64fda9411318",
        "colab": {
          "base_uri": "https://localhost:8080/",
          "height": 609
        }
      },
      "source": [
        "plt.figure(figsize=(10,10))\n",
        "sns.barplot(data=df)"
      ],
      "execution_count": 6,
      "outputs": [
        {
          "output_type": "execute_result",
          "data": {
            "text/plain": [
              "<matplotlib.axes._subplots.AxesSubplot at 0x7f8438746630>"
            ]
          },
          "metadata": {
            "tags": []
          },
          "execution_count": 6
        },
        {
          "output_type": "display_data",
          "data": {
            "image/png": "[encoded data removed]",
            "text/plain": [
              "<Figure size 720x720 with 1 Axes>"
            ]
          },
          "metadata": {
            "tags": [],
            "needs_background": "light"
          }
        }
      ]
    },
    {
      "cell_type": "code",
      "metadata": {
        "id": "txNmnV8-yNGZ",
        "outputId": "621edfe2-ecea-4666-e692-b1c1fb53783b",
        "colab": {
          "base_uri": "https://localhost:8080/",
          "height": 351
        }
      },
      "source": [
        "sns.countplot(df['RAIN'])"
      ],
      "execution_count": 7,
      "outputs": [
        {
          "output_type": "stream",
          "text": [
            "/usr/local/lib/python3.6/dist-packages/seaborn/_decorators.py:43: FutureWarning: Pass the following variable as a keyword arg: x. From version 0.12, the only valid positional argument will be `data`, and passing other arguments without an explicit keyword will result in an error or misinterpretation.\n",
            "  FutureWarning\n"
          ],
          "name": "stderr"
        },
        {
          "output_type": "execute_result",
          "data": {
            "text/plain": [
              "<matplotlib.axes._subplots.AxesSubplot at 0x7f843614ba90>"
            ]
          },
          "metadata": {
            "tags": []
          },
          "execution_count": 7
        },
        {
          "output_type": "display_data",
          "data": {
            "image/png": "[encoded data removed]",
            "text/plain": [
              "<Figure size 432x288 with 1 Axes>"
            ]
          },
          "metadata": {
            "tags": [],
            "needs_background": "light"
          }
        }
      ]
    },
    {
      "cell_type": "code",
      "metadata": {
        "id": "i8bBv6rIyVgS",
        "outputId": "76f6c27a-ed0f-4b70-dbb3-2b1b624339b9",
        "colab": {
          "base_uri": "https://localhost:8080/",
          "height": 351
        }
      },
      "source": [
        "sns.scatterplot(df['PRCP'], df['RAIN'])"
      ],
      "execution_count": 9,
      "outputs": [
        {
          "output_type": "stream",
          "text": [
            "/usr/local/lib/python3.6/dist-packages/seaborn/_decorators.py:43: FutureWarning: Pass the following variables as keyword args: x, y. From version 0.12, the only valid positional argument will be `data`, and passing other arguments without an explicit keyword will result in an error or misinterpretation.\n",
            "  FutureWarning\n"
          ],
          "name": "stderr"
        },
        {
          "output_type": "execute_result",
          "data": {
            "text/plain": [
              "<matplotlib.axes._subplots.AxesSubplot at 0x7f842e322ef0>"
            ]
          },
          "metadata": {
            "tags": []
          },
          "execution_count": 9
        },
        {
          "output_type": "display_data",
          "data": {
            "image/png": "[encoded data removed]",
            "text/plain": [
              "<Figure size 432x288 with 1 Axes>"
            ]
          },
          "metadata": {
            "tags": [],
            "needs_background": "light"
          }
        }
      ]
    },
    {
      "cell_type": "code",
      "metadata": {
        "id": "1-enexSYyf0q",
        "outputId": "25cfc05b-ebc6-465f-a278-e881b73aac74",
        "colab": {
          "base_uri": "https://localhost:8080/",
          "height": 351
        }
      },
      "source": [
        "sns.scatterplot(df['TMAX'], df['RAIN'])"
      ],
      "execution_count": 10,
      "outputs": [
        {
          "output_type": "stream",
          "text": [
            "/usr/local/lib/python3.6/dist-packages/seaborn/_decorators.py:43: FutureWarning: Pass the following variables as keyword args: x, y. From version 0.12, the only valid positional argument will be `data`, and passing other arguments without an explicit keyword will result in an error or misinterpretation.\n",
            "  FutureWarning\n"
          ],
          "name": "stderr"
        },
        {
          "output_type": "execute_result",
          "data": {
            "text/plain": [
              "<matplotlib.axes._subplots.AxesSubplot at 0x7f842cf67a58>"
            ]
          },
          "metadata": {
            "tags": []
          },
          "execution_count": 10
        },
        {
          "output_type": "display_data",
          "data": {
            "image/png": "[encoded data removed]",
            "text/plain": [
              "<Figure size 432x288 with 1 Axes>"
            ]
          },
          "metadata": {
            "tags": [],
            "needs_background": "light"
          }
        }
      ]
    },
    {
      "cell_type": "code",
      "metadata": {
        "id": "7wQoIB9UyjM0",
        "outputId": "f8f34503-4671-4b87-f32f-027814012733",
        "colab": {
          "base_uri": "https://localhost:8080/",
          "height": 351
        }
      },
      "source": [
        "sns.scatterplot(df['TMIN'], df['RAIN'])"
      ],
      "execution_count": 11,
      "outputs": [
        {
          "output_type": "stream",
          "text": [
            "/usr/local/lib/python3.6/dist-packages/seaborn/_decorators.py:43: FutureWarning: Pass the following variables as keyword args: x, y. From version 0.12, the only valid positional argument will be `data`, and passing other arguments without an explicit keyword will result in an error or misinterpretation.\n",
            "  FutureWarning\n"
          ],
          "name": "stderr"
        },
        {
          "output_type": "execute_result",
          "data": {
            "text/plain": [
              "<matplotlib.axes._subplots.AxesSubplot at 0x7f842cff6a90>"
            ]
          },
          "metadata": {
            "tags": []
          },
          "execution_count": 11
        },
        {
          "output_type": "display_data",
          "data": {
            "image/png": "[encoded data removed]",
            "text/plain": [
              "<Figure size 432x288 with 1 Axes>"
            ]
          },
          "metadata": {
            "tags": [],
            "needs_background": "light"
          }
        }
      ]
    },
    {
      "cell_type": "markdown",
      "metadata": {
        "id": "ReauOh1mGA71"
      },
      "source": [
        "Build a loop to add your heuristic model guesses as a column to this dataframe"
      ]
    },
    {
      "cell_type": "markdown",
      "metadata": {
        "id": "7LdUZoElRjHH"
      },
      "source": [
        "### **if it rained yesterday but not today, it will rain tomorrow.**"
      ]
    },
    {
      "cell_type": "code",
      "metadata": {
        "id": "KGOaJ99oGA72"
      },
      "source": [
        "# here is an example loop that populates the dataframe created earlier\n",
        "# with the total percip from yesterday and today\n",
        "# then the guess is set to true if it rained yesterday but not today \n",
        "\n",
        "for z in range(numrows):\n",
        "    #start at time 2 in the data frame\n",
        "    i = z + 2\n",
        "    #pull values from the dataframe\n",
        "    yesterday = df.iloc[(i-2),1]\n",
        "    today = df.iloc[(i-1),1]\n",
        "    tomorrow = df.iloc[i,1]\n",
        "    rain_tomorrow = df.iloc[(i),1]\n",
        "    \n",
        "    heuristic_df.iat[z,0] = yesterday\n",
        "    heuristic_df.iat[z,1] = today\n",
        "    heuristic_df.iat[z,2] = tomorrow\n",
        "    heuristic_df.iat[z,3] = False # set guess default to False\n",
        "    heuristic_df.iat[z,4] = rain_tomorrow\n",
        "    \n",
        "# if it rained yesterday but not  today, then it will rain tomorrow\n",
        "    if (today == 0.0) and (yesterday > 0.0 ):\n",
        "        heuristic_df.iat[z,2] = True\n",
        "\n",
        "    if heuristic_df.iat[z,3] == heuristic_df.iat[z,4]:\n",
        "        heuristic_df.iat[z,5] = True\n",
        "    else:\n",
        "        heuristic_df.iat[z,5] = False"
      ],
      "execution_count": 12,
      "outputs": []
    },
    {
      "cell_type": "markdown",
      "metadata": {
        "id": "y0Trs6zRuLBA"
      },
      "source": [
        "### Preparing the Seattle weather data"
      ]
    },
    {
      "cell_type": "code",
      "metadata": {
        "id": "Q-9j3I5toPws",
        "outputId": "2853d0a7-a14b-4447-d71f-2b1dd8775616",
        "colab": {
          "base_uri": "https://localhost:8080/"
        }
      },
      "source": [
        "df.isna().sum()"
      ],
      "execution_count": 13,
      "outputs": [
        {
          "output_type": "execute_result",
          "data": {
            "text/plain": [
              "DATE    0\n",
              "PRCP    3\n",
              "TMAX    0\n",
              "TMIN    0\n",
              "RAIN    3\n",
              "dtype: int64"
            ]
          },
          "metadata": {
            "tags": []
          },
          "execution_count": 13
        }
      ]
    },
    {
      "cell_type": "code",
      "metadata": {
        "id": "Xj6W7goNuYcy"
      },
      "source": [
        "def isNull(df, column):\n",
        "  return df[pd.isnull(df[column])]"
      ],
      "execution_count": 14,
      "outputs": []
    },
    {
      "cell_type": "code",
      "metadata": {
        "id": "bVexSEyeut3F",
        "outputId": "d7b5204b-0d21-475e-b1cf-b8e783e4b214",
        "colab": {
          "base_uri": "https://localhost:8080/",
          "height": 141
        }
      },
      "source": [
        "isNull(df, 'PRCP')"
      ],
      "execution_count": 15,
      "outputs": [
        {
          "output_type": "execute_result",
          "data": {
            "text/html": [
              "<div>\n",
              "<style scoped>\n",
              "    .dataframe tbody tr th:only-of-type {\n",
              "        vertical-align: middle;\n",
              "    }\n",
              "\n",
              "    .dataframe tbody tr th {\n",
              "        vertical-align: top;\n",
              "    }\n",
              "\n",
              "    .dataframe thead th {\n",
              "        text-align: right;\n",
              "    }\n",
              "</style>\n",
              "<table border=\"1\" class=\"dataframe\">\n",
              "  <thead>\n",
              "    <tr style=\"text-align: right;\">\n",
              "      <th></th>\n",
              "      <th>DATE</th>\n",
              "      <th>PRCP</th>\n",
              "      <th>TMAX</th>\n",
              "      <th>TMIN</th>\n",
              "      <th>RAIN</th>\n",
              "    </tr>\n",
              "  </thead>\n",
              "  <tbody>\n",
              "    <tr>\n",
              "      <th>18415</th>\n",
              "      <td>1998-06-02</td>\n",
              "      <td>NaN</td>\n",
              "      <td>72</td>\n",
              "      <td>52</td>\n",
              "      <td>NaN</td>\n",
              "    </tr>\n",
              "    <tr>\n",
              "      <th>18416</th>\n",
              "      <td>1998-06-03</td>\n",
              "      <td>NaN</td>\n",
              "      <td>66</td>\n",
              "      <td>51</td>\n",
              "      <td>NaN</td>\n",
              "    </tr>\n",
              "    <tr>\n",
              "      <th>21067</th>\n",
              "      <td>2005-09-05</td>\n",
              "      <td>NaN</td>\n",
              "      <td>70</td>\n",
              "      <td>52</td>\n",
              "      <td>NaN</td>\n",
              "    </tr>\n",
              "  </tbody>\n",
              "</table>\n",
              "</div>"
            ],
            "text/plain": [
              "             DATE  PRCP  TMAX  TMIN RAIN\n",
              "18415  1998-06-02   NaN    72    52  NaN\n",
              "18416  1998-06-03   NaN    66    51  NaN\n",
              "21067  2005-09-05   NaN    70    52  NaN"
            ]
          },
          "metadata": {
            "tags": []
          },
          "execution_count": 15
        }
      ]
    },
    {
      "cell_type": "code",
      "metadata": {
        "id": "RtMhRklIuRpW",
        "outputId": "b79267ae-6ed2-4fdc-9e2f-fb959c69c583",
        "colab": {
          "base_uri": "https://localhost:8080/",
          "height": 141
        }
      },
      "source": [
        "isNull(df, 'RAIN')"
      ],
      "execution_count": 16,
      "outputs": [
        {
          "output_type": "execute_result",
          "data": {
            "text/html": [
              "<div>\n",
              "<style scoped>\n",
              "    .dataframe tbody tr th:only-of-type {\n",
              "        vertical-align: middle;\n",
              "    }\n",
              "\n",
              "    .dataframe tbody tr th {\n",
              "        vertical-align: top;\n",
              "    }\n",
              "\n",
              "    .dataframe thead th {\n",
              "        text-align: right;\n",
              "    }\n",
              "</style>\n",
              "<table border=\"1\" class=\"dataframe\">\n",
              "  <thead>\n",
              "    <tr style=\"text-align: right;\">\n",
              "      <th></th>\n",
              "      <th>DATE</th>\n",
              "      <th>PRCP</th>\n",
              "      <th>TMAX</th>\n",
              "      <th>TMIN</th>\n",
              "      <th>RAIN</th>\n",
              "    </tr>\n",
              "  </thead>\n",
              "  <tbody>\n",
              "    <tr>\n",
              "      <th>18415</th>\n",
              "      <td>1998-06-02</td>\n",
              "      <td>NaN</td>\n",
              "      <td>72</td>\n",
              "      <td>52</td>\n",
              "      <td>NaN</td>\n",
              "    </tr>\n",
              "    <tr>\n",
              "      <th>18416</th>\n",
              "      <td>1998-06-03</td>\n",
              "      <td>NaN</td>\n",
              "      <td>66</td>\n",
              "      <td>51</td>\n",
              "      <td>NaN</td>\n",
              "    </tr>\n",
              "    <tr>\n",
              "      <th>21067</th>\n",
              "      <td>2005-09-05</td>\n",
              "      <td>NaN</td>\n",
              "      <td>70</td>\n",
              "      <td>52</td>\n",
              "      <td>NaN</td>\n",
              "    </tr>\n",
              "  </tbody>\n",
              "</table>\n",
              "</div>"
            ],
            "text/plain": [
              "             DATE  PRCP  TMAX  TMIN RAIN\n",
              "18415  1998-06-02   NaN    72    52  NaN\n",
              "18416  1998-06-03   NaN    66    51  NaN\n",
              "21067  2005-09-05   NaN    70    52  NaN"
            ]
          },
          "metadata": {
            "tags": []
          },
          "execution_count": 16
        }
      ]
    },
    {
      "cell_type": "code",
      "metadata": {
        "id": "DG-gAnCeu-PN"
      },
      "source": [
        "#df['PRCP'] = df['PRCP'].fillna(df['PRCP'].median)\n",
        "#isNull(df, 'PRCP')"
      ],
      "execution_count": 17,
      "outputs": []
    },
    {
      "cell_type": "code",
      "metadata": {
        "id": "mEx8j0LrvmPn"
      },
      "source": [
        "#df['RAIN'] = df['RAIN'].fillna(False)\n",
        "#isNull(df, 'RAIN')"
      ],
      "execution_count": 18,
      "outputs": []
    },
    {
      "cell_type": "code",
      "metadata": {
        "id": "mgdMiYWby235"
      },
      "source": [
        "df = df.dropna()"
      ],
      "execution_count": 19,
      "outputs": []
    },
    {
      "cell_type": "markdown",
      "metadata": {
        "id": "RUNes7-thXp2"
      },
      "source": [
        "# Regression"
      ]
    },
    {
      "cell_type": "markdown",
      "metadata": {
        "id": "wCQqlDfVsMFP"
      },
      "source": [
        "---\n",
        "### 1. Break the dataset into two parts, training and testing.\n"
      ]
    },
    {
      "cell_type": "code",
      "metadata": {
        "id": "PHy5P29sx4w6"
      },
      "source": [
        "X = df.loc[:, ['PRCP', 'TMAX', 'TMIN']].values\n",
        "y = df['RAIN'].astype('int')\n",
        "X_train, X_test, y_train, y_test = train_test_split(X, y, test_size=0.2, random_state = 42)"
      ],
      "execution_count": 29,
      "outputs": []
    },
    {
      "cell_type": "markdown",
      "metadata": {
        "id": "oXsD5uHCqnaQ"
      },
      "source": [
        "### Scaling"
      ]
    },
    {
      "cell_type": "code",
      "metadata": {
        "id": "eVWmeMSjo07S"
      },
      "source": [
        "scaler=StandardScaler()\n",
        "X_train_scaled = scaler.fit_transform(X_train)\n",
        "X_test_scaled = scaler.transform(X_test)"
      ],
      "execution_count": 30,
      "outputs": []
    },
    {
      "cell_type": "markdown",
      "metadata": {
        "id": "XlM_PzZ6sYdJ"
      },
      "source": [
        "---\n",
        "### 2. Use the first 80% of the dataset for training and the last 20% for testing."
      ]
    },
    {
      "cell_type": "code",
      "metadata": {
        "id": "4niHxg8xtjCs",
        "outputId": "a6e1ca2e-bec6-4fef-bdda-1f58832c7a90",
        "colab": {
          "base_uri": "https://localhost:8080/"
        }
      },
      "source": [
        "reg= LogisticRegression(random_state=42,max_iter=200)\n",
        "reg.fit(X_train,y_train)\n",
        "print(\"Training Accuracy: {}%\".format(round(accuracy_score(y_train, reg.predict(X_train))*100)))"
      ],
      "execution_count": 31,
      "outputs": [
        {
          "output_type": "stream",
          "text": [
            "Training Accuracy: 93.0%\n"
          ],
          "name": "stdout"
        }
      ]
    },
    {
      "cell_type": "code",
      "metadata": {
        "id": "5Is4SZzmy03b",
        "outputId": "faebfe30-8789-41b5-a6f7-0e2087f6910f",
        "colab": {
          "base_uri": "https://localhost:8080/"
        }
      },
      "source": [
        "reg= LogisticRegression(random_state=42,max_iter=200)\n",
        "reg.fit(X_train_scaled,y_train)\n",
        "print(\"Training Accuracy with Scaled data: {}%\".format(round(accuracy_score(y_train, reg.predict(X_train_scaled))*100)))"
      ],
      "execution_count": 32,
      "outputs": [
        {
          "output_type": "stream",
          "text": [
            "Training Accuracy with Scaled data: 97.0%\n"
          ],
          "name": "stdout"
        }
      ]
    },
    {
      "cell_type": "markdown",
      "metadata": {
        "id": "cFmGb2oqseIZ"
      },
      "source": [
        "---\n",
        "### 3. Evaluate both sets of data using your function."
      ]
    },
    {
      "cell_type": "code",
      "metadata": {
        "id": "t-AfU2EdtNCD"
      },
      "source": [
        "import numpy as np\n",
        "def SSE(y_test, y_pred):\n",
        "  difference = y_test - y_pred\n",
        "  squared_errors = difference ** 2\n",
        "  return np.sum(squared_errors)"
      ],
      "execution_count": 33,
      "outputs": []
    },
    {
      "cell_type": "code",
      "metadata": {
        "id": "vuOS5oc3zh0M"
      },
      "source": [
        "def evaluation(model, X_test, y_test):\n",
        "  print(\"Accuracy: {}%\".format(round(accuracy_score(y_test, model.predict(X_test))*100)))\n",
        "  print(\"Precision: {}%\".format(round(precision_score(y_test, model.predict(X_test))*100)))\n",
        "  print(\"Recall: {}%\".format(round(recall_score(y_test, model.predict(X_test))*100)))\n",
        "  print(\"MSE: {}\".format(mean_squared_error(y_test, model.predict(X_test))))\n",
        "  sse = SSE(y_pred=model.predict(X_test), y_test=y_test.astype('int'))\n",
        "  print(\"SSE: {}\".format(sse))"
      ],
      "execution_count": 34,
      "outputs": []
    },
    {
      "cell_type": "code",
      "metadata": {
        "id": "GtAM7Qt624Px",
        "outputId": "aec859df-7550-40f3-dc23-af4be62849e9",
        "colab": {
          "base_uri": "https://localhost:8080/"
        }
      },
      "source": [
        "# data\n",
        "print('*'*30)\n",
        "print(\"Training Performance\")\n",
        "print('*'*30)\n",
        "evaluation(reg, X_train, y_train)\n",
        "print('*'*15)\n",
        "print('Scaled Data')\n",
        "evaluation(reg, X_train_scaled, y_train)\n",
        "print('*'*30)\n",
        "print('\\n')\n",
        "print('*'*30)\n",
        "print(\"Testing Performance\")\n",
        "print('*'*30)\n",
        "evaluation(reg, X_test, y_test)\n",
        "print('*'*15)\n",
        "print('Scaled Data')\n",
        "evaluation(reg, X_test_scaled, y_test)\n",
        "print('*'*30)"
      ],
      "execution_count": 47,
      "outputs": [
        {
          "output_type": "stream",
          "text": [
            "******************************\n",
            "Training Performance\n",
            "******************************\n",
            "Accuracy: 64.0%\n",
            "Precision: 100.0%\n",
            "Recall: 16.0%\n",
            "MSE: 0.36128779724043447\n",
            "SSE: 7384\n",
            "***************\n",
            "Scaled Data\n",
            "Accuracy: 97.0%\n",
            "Precision: 100.0%\n",
            "Recall: 92.0%\n",
            "MSE: 0.03395635580780898\n",
            "SSE: 694\n",
            "******************************\n",
            "\n",
            "\n",
            "******************************\n",
            "Testing Performance\n",
            "******************************\n",
            "Accuracy: 65.0%\n",
            "Precision: 100.0%\n",
            "Recall: 16.0%\n",
            "MSE: 0.35401174168297456\n",
            "SSE: 1809\n",
            "***************\n",
            "Scaled Data\n",
            "Accuracy: 97.0%\n",
            "Precision: 100.0%\n",
            "Recall: 92.0%\n",
            "MSE: 0.03444227005870842\n",
            "SSE: 176\n",
            "******************************\n"
          ],
          "name": "stdout"
        }
      ]
    },
    {
      "cell_type": "markdown",
      "metadata": {
        "id": "nf_6d40-0jqI"
      },
      "source": [
        "### Extra: Confusion Matrix"
      ]
    },
    {
      "cell_type": "code",
      "metadata": {
        "id": "emZCvMHQ0ocq",
        "outputId": "aadf8890-5c28-4825-f79c-6c0b9e451538",
        "colab": {
          "base_uri": "https://localhost:8080/",
          "height": 283
        }
      },
      "source": [
        "sns.heatmap(confusion_matrix(y_test, reg.predict(X_test_scaled)) / len(y), cmap='Blues', annot=True)"
      ],
      "execution_count": 37,
      "outputs": [
        {
          "output_type": "execute_result",
          "data": {
            "text/plain": [
              "<matplotlib.axes._subplots.AxesSubplot at 0x7f842e3c1860>"
            ]
          },
          "metadata": {
            "tags": []
          },
          "execution_count": 37
        },
        {
          "output_type": "display_data",
          "data": {
            "image/png": "[encoded data removed]",
            "text/plain": [
              "<Figure size 432x288 with 2 Axes>"
            ]
          },
          "metadata": {
            "tags": [],
            "needs_background": "light"
          }
        }
      ]
    },
    {
      "cell_type": "markdown",
      "metadata": {
        "id": "tvG9XwHYshRp"
      },
      "source": [
        "---\n",
        "### 4. What difference do you see in the calculated values (Precision and Recall)?\n",
        "**Answer**\n",
        "\n",
        "According to sikit learn doc., high precision relates to a low false positive rate, and low recall relates to a high false negative rate. Here, our Precision rate is higher than Recall which means the ability of the model to identify all relevant instances lower than his ability to return only relevant instances. However, after scaling the data the recall is perform better now compared to before.\n",
        "\n"
      ]
    },
    {
      "cell_type": "markdown",
      "metadata": {
        "id": "gHrw1DMxheTr"
      },
      "source": [
        "# Classification"
      ]
    },
    {
      "cell_type": "markdown",
      "metadata": {
        "id": "s989dXOSheTs"
      },
      "source": [
        "---\n",
        "### 1. Break the dataset into two parts, training and testing.\n"
      ]
    },
    {
      "cell_type": "code",
      "metadata": {
        "id": "axulOcYqhjIN"
      },
      "source": [
        "X = df.loc[:, ['PRCP', 'TMAX', 'TMIN']].values\n",
        "y = df['RAIN'].astype('int')\n",
        "X_train, X_test, y_train, y_test = train_test_split(X, y, test_size=0.2, random_state = 42)"
      ],
      "execution_count": 38,
      "outputs": []
    },
    {
      "cell_type": "markdown",
      "metadata": {
        "id": "wGGkasikheTt"
      },
      "source": [
        "---\n",
        "### 2. Use the first 80% of the dataset for training and the last 20% for testing."
      ]
    },
    {
      "cell_type": "code",
      "metadata": {
        "id": "BecYjr9zjBOo",
        "outputId": "0e8c2064-9b50-4668-f6b8-0b06c8b53d3c",
        "colab": {
          "base_uri": "https://localhost:8080/"
        }
      },
      "source": [
        "rf=RandomForestClassifier()\n",
        "rf.fit(X_train,y_train)\n",
        "print(\"Training Accuracy: {}%\".format(round(accuracy_score(y_train, rf.predict(X_train))*100)))"
      ],
      "execution_count": 39,
      "outputs": [
        {
          "output_type": "stream",
          "text": [
            "Training Accuracy: 100.0%\n"
          ],
          "name": "stdout"
        }
      ]
    },
    {
      "cell_type": "code",
      "metadata": {
        "id": "bV16c9DDzwJr",
        "outputId": "d8127880-acec-4e9c-ea1a-795bee876b6a",
        "colab": {
          "base_uri": "https://localhost:8080/"
        }
      },
      "source": [
        "# Scaled data\n",
        "rf=RandomForestClassifier()\n",
        "rf.fit(X_train_scaled,y_train)\n",
        "print(\"Training Accuracy with scaled data: {}%\".format(round(accuracy_score(y_train, rf.predict(X_train_scaled))*100)))"
      ],
      "execution_count": 40,
      "outputs": [
        {
          "output_type": "stream",
          "text": [
            "Training Accuracy with scaled data: 100.0%\n"
          ],
          "name": "stdout"
        }
      ]
    },
    {
      "cell_type": "markdown",
      "metadata": {
        "id": "RIipStx7heTt"
      },
      "source": [
        "---\n",
        "### 3. Evaluate both sets of data using your function."
      ]
    },
    {
      "cell_type": "code",
      "metadata": {
        "id": "vTjRU3ux3sNN",
        "outputId": "51aa3c86-b90a-4f3a-f4de-5363c8991263",
        "colab": {
          "base_uri": "https://localhost:8080/"
        }
      },
      "source": [
        "# data\n",
        "print('*'*30)\n",
        "print(\"Training Performance\")\n",
        "print('*'*30)\n",
        "evaluation(rf, X_train, y_train)\n",
        "print('*'*15)\n",
        "print('Scaled Data')\n",
        "evaluation(rf, X_train_scaled, y_train)\n",
        "print('*'*30)\n",
        "print('\\n')\n",
        "print('*'*30)\n",
        "print(\"Testing Performance\")\n",
        "print('*'*30)\n",
        "evaluation(rf, X_test, y_test)\n",
        "print('*'*15)\n",
        "print('Scaled Data')\n",
        "evaluation(rf, X_test_scaled, y_test)\n",
        "print('*'*30)"
      ],
      "execution_count": 48,
      "outputs": [
        {
          "output_type": "stream",
          "text": [
            "******************************\n",
            "Training Performance\n",
            "******************************\n",
            "Accuracy: 43.0%\n",
            "Precision: 43.0%\n",
            "Recall: 100.0%\n",
            "MSE: 0.5722184166748214\n",
            "SSE: 11695\n",
            "***************\n",
            "Scaled Data\n",
            "Accuracy: 100.0%\n",
            "Precision: 100.0%\n",
            "Recall: 100.0%\n",
            "MSE: 0.0\n",
            "SSE: 0\n",
            "******************************\n",
            "\n",
            "\n",
            "******************************\n",
            "Testing Performance\n",
            "******************************\n",
            "Accuracy: 42.0%\n",
            "Precision: 42.0%\n",
            "Recall: 100.0%\n",
            "MSE: 0.5778864970645793\n",
            "SSE: 2953\n",
            "***************\n",
            "Scaled Data\n",
            "Accuracy: 100.0%\n",
            "Precision: 100.0%\n",
            "Recall: 100.0%\n",
            "MSE: 0.0\n",
            "SSE: 0\n",
            "******************************\n"
          ],
          "name": "stdout"
        }
      ]
    },
    {
      "cell_type": "markdown",
      "metadata": {
        "id": "Acz8SyzU0Gmt"
      },
      "source": [
        "The classification model does not seem stable model or maybe the test data points are duplicate. I'm not sure about the reason but it was worth trying it"
      ]
    },
    {
      "cell_type": "markdown",
      "metadata": {
        "id": "-ZLNoDjMheTu"
      },
      "source": [
        "### Extra: Confusion Matrix"
      ]
    },
    {
      "cell_type": "code",
      "metadata": {
        "id": "CSBmMog0m8zY",
        "outputId": "66fa2f70-e1f2-4c09-921e-fd6f0b60a9f8",
        "colab": {
          "base_uri": "https://localhost:8080/",
          "height": 283
        }
      },
      "source": [
        "sns.heatmap(confusion_matrix(y_test, rf.predict(X_test_scaled)) / len(y), cmap='Blues', annot=True)"
      ],
      "execution_count": 44,
      "outputs": [
        {
          "output_type": "execute_result",
          "data": {
            "text/plain": [
              "<matplotlib.axes._subplots.AxesSubplot at 0x7f842a4f4cc0>"
            ]
          },
          "metadata": {
            "tags": []
          },
          "execution_count": 44
        },
        {
          "output_type": "display_data",
          "data": {
            "image/png": "[encoded data removed]",
            "text/plain": [
              "<Figure size 432x288 with 2 Axes>"
            ]
          },
          "metadata": {
            "tags": [],
            "needs_background": "light"
          }
        }
      ]
    }
  ]
}