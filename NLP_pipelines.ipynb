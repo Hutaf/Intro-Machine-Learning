{
  "nbformat": 4,
  "nbformat_minor": 0,
  "metadata": {
    "kernelspec": {
      "display_name": "Python 3",
      "language": "python",
      "name": "python3"
    },
    "language_info": {
      "codemirror_mode": {
        "name": "ipython",
        "version": 3
      },
      "file_extension": ".py",
      "mimetype": "text/x-python",
      "name": "python",
      "nbconvert_exporter": "python",
      "pygments_lexer": "ipython3",
      "version": "3.8.5"
    },
    "colab": {
      "name": "NLP_pipelines.ipynb",
      "provenance": [],
      "collapsed_sections": [],
      "include_colab_link": true
    }
  },
  "cells": [
    {
      "cell_type": "markdown",
      "metadata": {
        "id": "view-in-github",
        "colab_type": "text"
      },
      "source": [
        "<a href=\"https://colab.research.google.com/github/Hutaf/SDA-Machine-Learning/blob/daily.activities/NLP_pipelines.ipynb\" target=\"_parent\"><img src=\"https://colab.research.google.com/assets/colab-badge.svg\" alt=\"Open In Colab\"/></a>"
      ]
    },
    {
      "cell_type": "markdown",
      "metadata": {
        "id": "xFTfKn7-HK1B"
      },
      "source": [
        "### Creating a Natural Language Processing Pipeline\n",
        "\n",
        "Today we will build on what Hutaf did last week and combine NLP with what we have been doing with Random Forest Classifiers yesterday. We'll be using a text classificaton model on a dataset which contains real info on what corporations actually talk about on social media. \n",
        "\n",
        "##### The statements were labelled as into following categories\n",
        "\n",
        "- `information` (objective statements about the company or it's activities), \n",
        "- `dialog` (replies to users, etc.), or \n",
        "- `action` (messages that ask for votes or ask users to click on links, etc.). \n",
        "\n",
        "Our aim is to build a model to automatically categorize the text into their respective categories. \n",
        "\n",
        "##### Get the data\n",
        "\n",
        "You can download the dataset from [here](https://data.world/crowdflower/corporate-messaging)"
      ]
    },
    {
      "cell_type": "markdown",
      "metadata": {
        "id": "vhGEv_0vHK1C"
      },
      "source": [
        "### Task 1: Understanding and loading the dataset"
      ]
    },
    {
      "cell_type": "code",
      "metadata": {
        "id": "AD5DWi9XHK1D",
        "outputId": "9a8fbd36-2163-4d5e-dfc8-596c106678e2",
        "colab": {
          "base_uri": "https://localhost:8080/"
        }
      },
      "source": [
        "# load required libraries\n",
        "import numpy as np\n",
        "import pandas as pd\n",
        "import seaborn as sns\n",
        "import sys\n",
        "import matplotlib.pyplot as plt\n",
        "import re\n",
        "import nltk\n",
        "from nltk.corpus import stopwords\n",
        "from nltk.tokenize import word_tokenize\n",
        "from nltk.stem import WordNetLemmatizer\n",
        "from sklearn.base import BaseEstimator, TransformerMixin\n",
        "from sklearn.ensemble import RandomForestClassifier, GradientBoostingClassifier\n",
        "from sklearn.tree import DecisionTreeClassifier\n",
        "from sklearn.pipeline import Pipeline, FeatureUnion\n",
        "from sklearn.feature_extraction.text import CountVectorizer, TfidfTransformer\n",
        "from sklearn.metrics import confusion_matrix, classification_report\n",
        "from sklearn.model_selection import train_test_split\n",
        "\n",
        "\n",
        "nltk.download('wordnet')\n",
        "nltk.download('stopwords')\n",
        "nltk.download('punkt')\n",
        "stoplist = set(stopwords.words('english'))"
      ],
      "execution_count": 25,
      "outputs": [
        {
          "output_type": "stream",
          "text": [
            "[nltk_data] Downloading package wordnet to /root/nltk_data...\n",
            "[nltk_data]   Package wordnet is already up-to-date!\n",
            "[nltk_data] Downloading package stopwords to /root/nltk_data...\n",
            "[nltk_data]   Package stopwords is already up-to-date!\n",
            "[nltk_data] Downloading package punkt to /root/nltk_data...\n",
            "[nltk_data]   Package punkt is already up-to-date!\n"
          ],
          "name": "stdout"
        }
      ]
    },
    {
      "cell_type": "code",
      "metadata": {
        "id": "mO07lwWVHK1H"
      },
      "source": [
        "# load the dataset\n",
        "filepath = 'https://raw.githubusercontent.com/daniel-dc-cd/data_science/master/daily_materials/NLP_pipeline_activity/corporate_messaging_dfe.csv'\n",
        "data = pd.read_csv(filepath)\n"
      ],
      "execution_count": 3,
      "outputs": []
    },
    {
      "cell_type": "code",
      "metadata": {
        "id": "1uGQNuECHK1M",
        "outputId": "e26d96d3-fa21-4c33-e01a-f111486093d7",
        "colab": {
          "base_uri": "https://localhost:8080/",
          "height": 638
        }
      },
      "source": [
        "# see head of the dataset\n",
        "data.head()\n"
      ],
      "execution_count": 4,
      "outputs": [
        {
          "output_type": "execute_result",
          "data": {
            "text/html": [
              "<div>\n",
              "<style scoped>\n",
              "    .dataframe tbody tr th:only-of-type {\n",
              "        vertical-align: middle;\n",
              "    }\n",
              "\n",
              "    .dataframe tbody tr th {\n",
              "        vertical-align: top;\n",
              "    }\n",
              "\n",
              "    .dataframe thead th {\n",
              "        text-align: right;\n",
              "    }\n",
              "</style>\n",
              "<table border=\"1\" class=\"dataframe\">\n",
              "  <thead>\n",
              "    <tr style=\"text-align: right;\">\n",
              "      <th></th>\n",
              "      <th>unit_id</th>\n",
              "      <th>golden</th>\n",
              "      <th>unit_state</th>\n",
              "      <th>trusted_judgments</th>\n",
              "      <th>last_judgment_at</th>\n",
              "      <th>category</th>\n",
              "      <th>category_confidence</th>\n",
              "      <th>category_gold</th>\n",
              "      <th>id</th>\n",
              "      <th>screenname</th>\n",
              "      <th>text</th>\n",
              "    </tr>\n",
              "  </thead>\n",
              "  <tbody>\n",
              "    <tr>\n",
              "      <th>0</th>\n",
              "      <td>662822308</td>\n",
              "      <td>False</td>\n",
              "      <td>finalized</td>\n",
              "      <td>3</td>\n",
              "      <td>2015-02-18T04:31:00</td>\n",
              "      <td>Information</td>\n",
              "      <td>1.0</td>\n",
              "      <td>NaN</td>\n",
              "      <td>436528000000000000</td>\n",
              "      <td>Barclays</td>\n",
              "      <td>Barclays CEO stresses the importance of regula...</td>\n",
              "    </tr>\n",
              "    <tr>\n",
              "      <th>1</th>\n",
              "      <td>662822309</td>\n",
              "      <td>False</td>\n",
              "      <td>finalized</td>\n",
              "      <td>3</td>\n",
              "      <td>2015-02-18T13:55:00</td>\n",
              "      <td>Information</td>\n",
              "      <td>1.0</td>\n",
              "      <td>NaN</td>\n",
              "      <td>386013000000000000</td>\n",
              "      <td>Barclays</td>\n",
              "      <td>Barclays announces result of Rights Issue http...</td>\n",
              "    </tr>\n",
              "    <tr>\n",
              "      <th>2</th>\n",
              "      <td>662822310</td>\n",
              "      <td>False</td>\n",
              "      <td>finalized</td>\n",
              "      <td>3</td>\n",
              "      <td>2015-02-18T08:43:00</td>\n",
              "      <td>Information</td>\n",
              "      <td>1.0</td>\n",
              "      <td>NaN</td>\n",
              "      <td>379580000000000000</td>\n",
              "      <td>Barclays</td>\n",
              "      <td>Barclays publishes its prospectus for its �5.8...</td>\n",
              "    </tr>\n",
              "    <tr>\n",
              "      <th>3</th>\n",
              "      <td>662822311</td>\n",
              "      <td>False</td>\n",
              "      <td>finalized</td>\n",
              "      <td>3</td>\n",
              "      <td>2015-02-18T09:13:00</td>\n",
              "      <td>Information</td>\n",
              "      <td>1.0</td>\n",
              "      <td>NaN</td>\n",
              "      <td>367530000000000000</td>\n",
              "      <td>Barclays</td>\n",
              "      <td>Barclays Group Finance Director Chris Lucas is...</td>\n",
              "    </tr>\n",
              "    <tr>\n",
              "      <th>4</th>\n",
              "      <td>662822312</td>\n",
              "      <td>False</td>\n",
              "      <td>finalized</td>\n",
              "      <td>3</td>\n",
              "      <td>2015-02-18T06:48:00</td>\n",
              "      <td>Information</td>\n",
              "      <td>1.0</td>\n",
              "      <td>NaN</td>\n",
              "      <td>360385000000000000</td>\n",
              "      <td>Barclays</td>\n",
              "      <td>Barclays announces that Irene McDermott Brown ...</td>\n",
              "    </tr>\n",
              "  </tbody>\n",
              "</table>\n",
              "</div>"
            ],
            "text/plain": [
              "     unit_id  ...                                               text\n",
              "0  662822308  ...  Barclays CEO stresses the importance of regula...\n",
              "1  662822309  ...  Barclays announces result of Rights Issue http...\n",
              "2  662822310  ...  Barclays publishes its prospectus for its �5.8...\n",
              "3  662822311  ...  Barclays Group Finance Director Chris Lucas is...\n",
              "4  662822312  ...  Barclays announces that Irene McDermott Brown ...\n",
              "\n",
              "[5 rows x 11 columns]"
            ]
          },
          "metadata": {
            "tags": []
          },
          "execution_count": 4
        }
      ]
    },
    {
      "cell_type": "code",
      "metadata": {
        "id": "vE5GVxvbHK1R",
        "outputId": "daa94145-d0a2-4bb9-f401-bf181093ffc9",
        "colab": {
          "base_uri": "https://localhost:8080/"
        }
      },
      "source": [
        "# observe shape of the dataset\n",
        "data.shape"
      ],
      "execution_count": 5,
      "outputs": [
        {
          "output_type": "execute_result",
          "data": {
            "text/plain": [
              "(3118, 11)"
            ]
          },
          "metadata": {
            "tags": []
          },
          "execution_count": 5
        }
      ]
    },
    {
      "cell_type": "code",
      "metadata": {
        "id": "qKwnep3DHK1U",
        "outputId": "d23cce30-441b-4347-83ee-34644312e692",
        "colab": {
          "base_uri": "https://localhost:8080/"
        }
      },
      "source": [
        "# check distribution of target column i.e. category\n",
        "data['category'].value_counts()"
      ],
      "execution_count": 6,
      "outputs": [
        {
          "output_type": "execute_result",
          "data": {
            "text/plain": [
              "Information    2129\n",
              "Action          724\n",
              "Dialogue        226\n",
              "Exclude          39\n",
              "Name: category, dtype: int64"
            ]
          },
          "metadata": {
            "tags": []
          },
          "execution_count": 6
        }
      ]
    },
    {
      "cell_type": "code",
      "metadata": {
        "id": "EhoXdgU8HK1X",
        "outputId": "9b0c8a6c-fda1-49ff-c1f9-baf1972df987",
        "colab": {
          "base_uri": "https://localhost:8080/"
        }
      },
      "source": [
        "# check distribution of the column - category_confidence\n",
        "data['category_confidence'].value_counts()"
      ],
      "execution_count": 7,
      "outputs": [
        {
          "output_type": "execute_result",
          "data": {
            "text/plain": [
              "1.0000    2430\n",
              "0.6614      35\n",
              "0.6643      33\n",
              "0.6747      32\n",
              "0.6775      29\n",
              "          ... \n",
              "0.8547       1\n",
              "0.6641       1\n",
              "0.8578       1\n",
              "0.9089       1\n",
              "0.8245       1\n",
              "Name: category_confidence, Length: 194, dtype: int64"
            ]
          },
          "metadata": {
            "tags": []
          },
          "execution_count": 7
        }
      ]
    },
    {
      "cell_type": "code",
      "metadata": {
        "id": "oF5x8oiNHK1b"
      },
      "source": [
        "# remove those observations where category_confidence < 1 and category = Exclude\n",
        "data = data[(data['category_confidence']==1) & (data['category'] != 'Exclude')]"
      ],
      "execution_count": 8,
      "outputs": []
    },
    {
      "cell_type": "code",
      "metadata": {
        "id": "2v1dVxG9HK1k"
      },
      "source": [
        "# extract features i.e the column - text and target i.e the column - category\n",
        "features = data['text']\n",
        "target = data['category']"
      ],
      "execution_count": 9,
      "outputs": []
    },
    {
      "cell_type": "markdown",
      "metadata": {
        "id": "5_gOgS-WHK1m"
      },
      "source": [
        "### Task 2: Text preprocessing"
      ]
    },
    {
      "cell_type": "markdown",
      "metadata": {
        "id": "pJ9xZVUjHK1v"
      },
      "source": [
        "We will do the below pre-processing tasks on the text \n",
        "- tokenizing the sentences\n",
        "- replace the urls with a placeholder\n",
        "- removing non ascii characters\n",
        "- text normalizing using lemmatization"
      ]
    },
    {
      "cell_type": "code",
      "metadata": {
        "id": "k7-yVb7KHK1n",
        "outputId": "b3a8ff86-424b-4389-a0e5-0f12214b6442",
        "colab": {
          "base_uri": "https://localhost:8080/",
          "height": 35
        }
      },
      "source": [
        "# let's observe a text in the dataset, extract the first text\n",
        "features[0]"
      ],
      "execution_count": 10,
      "outputs": [
        {
          "output_type": "execute_result",
          "data": {
            "application/vnd.google.colaboratory.intrinsic+json": {
              "type": "string"
            },
            "text/plain": [
              "'Barclays CEO stresses the importance of regulatory and cultural reform in financial services at Brussels conference  http://t.co/Ge9Lp7hpyG'"
            ]
          },
          "metadata": {
            "tags": []
          },
          "execution_count": 10
        }
      ]
    },
    {
      "cell_type": "code",
      "metadata": {
        "id": "P7Fm4jZXHK1r",
        "outputId": "5d56a3f3-fcf5-47a9-96aa-ed417f9a8aba",
        "colab": {
          "base_uri": "https://localhost:8080/",
          "height": 35
        }
      },
      "source": [
        "# now extract the third text from this dataset\n",
        "features[2]"
      ],
      "execution_count": 11,
      "outputs": [
        {
          "output_type": "execute_result",
          "data": {
            "application/vnd.google.colaboratory.intrinsic+json": {
              "type": "string"
            },
            "text/plain": [
              "'Barclays publishes its prospectus for its �5.8bn Rights Issue: http://t.co/YZk24iE8G6'"
            ]
          },
          "metadata": {
            "tags": []
          },
          "execution_count": 11
        }
      ]
    },
    {
      "cell_type": "code",
      "metadata": {
        "id": "ZJdy1G6cHK1v"
      },
      "source": [
        "# write a regular expression to identify urls in text\n",
        "url_regex = r'http[s]?://(?:[a-zA-Z]|[0-9]|[$-_@.&+]|[!*\\(\\),]|(?:%[0-9a-fA-F][0-9a-fA-F]))+'\n",
        "# write a regular expression to identify non-ascii characters in text\n",
        "non_ascii_regex = r'[^\\x00-\\x7F]+'\n",
        "\n",
        "# write a function to tokenize text after performing preprocessing \n",
        "def tokenize(text):\n",
        "    # use library re to replace non ascii characters by a space\n",
        "    text = re.sub(non_ascii_regex, ' ', text) \n",
        "    # use library re to replace urls by token - urlplaceholder\n",
        "    text = re.sub(url_regex,'urlplaceholder', text)\n",
        "    # use word_tokenize to tokenize the sentences\n",
        "    tokens = word_tokenize(text)\n",
        "    # instantiate an object of class WordNetLemmatizer\n",
        "    lemmatizer = WordNetLemmatizer()\n",
        "    \n",
        "   # use a list comprehension to lemmatize the tokens and remove the the stopwords\n",
        "    clean_tokens = []\n",
        "    for word in tokens:\n",
        "        if word not in stoplist:\n",
        "            clean_tokens.append(lemmatizer.lemmatize(word))\n",
        "        # return the tokens\n",
        "    return clean_tokens\n"
      ],
      "execution_count": 12,
      "outputs": []
    },
    {
      "cell_type": "markdown",
      "metadata": {
        "id": "aER16-CdHK1y"
      },
      "source": [
        "### Task 3: EDA"
      ]
    },
    {
      "cell_type": "markdown",
      "metadata": {
        "id": "q6AKDBslHK1z"
      },
      "source": [
        "In this task, we will do exploratory data analysis to check if there is any new feature that we can generate based on the existing text that we have in the dataset"
      ]
    },
    {
      "cell_type": "markdown",
      "metadata": {
        "id": "uttYULIxHK1z"
      },
      "source": [
        "**Hypothesis 1:** The length of the text in each category might be different from each other\n",
        "<br>**Hypothesis 2:** The total number of URLs that are present in the text might be different in each category"
      ]
    },
    {
      "cell_type": "code",
      "metadata": {
        "id": "URuTb18JHK10",
        "outputId": "e6dbef81-b5fe-41fa-9935-06b9756945da",
        "colab": {
          "base_uri": "https://localhost:8080/",
          "height": 515
        }
      },
      "source": [
        "# create a new column in the original dataset - 'length' to capture length of each text\n",
        "data['length'] = data['text'].apply(lambda x: len(word_tokenize(x)))\n",
        "\n",
        "# use seaborn boxplot to visualize the pattern in length for each category\n",
        "fig = plt.figure(figsize=(16,8))\n",
        "sns.boxplot(x='category', y='length', data=data)"
      ],
      "execution_count": 13,
      "outputs": [
        {
          "output_type": "execute_result",
          "data": {
            "text/plain": [
              "<matplotlib.axes._subplots.AxesSubplot at 0x7f37b17f3e48>"
            ]
          },
          "metadata": {
            "tags": []
          },
          "execution_count": 13
        },
        {
          "output_type": "display_data",
          "data": {
            "image/png": "[encoded data removed]",
            "text/plain": [
              "<Figure size 1152x576 with 1 Axes>"
            ]
          },
          "metadata": {
            "tags": [],
            "needs_background": "light"
          }
        }
      ]
    },
    {
      "cell_type": "code",
      "metadata": {
        "id": "wzZOkeKdHK12",
        "outputId": "03fb7a32-aafb-4735-9fa4-d0f048d5e5c2",
        "colab": {
          "base_uri": "https://localhost:8080/",
          "height": 171
        }
      },
      "source": [
        "# create a new column in the original dataset - 'url_count' to capture total count of urls present in each text\n",
        "data['url_count'] = data['text'].apply(lambda x: len(re.findall(url_regex, x)))\n",
        "\n",
        "# use pandas crosstab to see the distibution of different url counts in each category\n",
        "pd.crosstab(data['category'], data['url_count'], normalize=True)"
      ],
      "execution_count": 14,
      "outputs": [
        {
          "output_type": "execute_result",
          "data": {
            "text/html": [
              "<div>\n",
              "<style scoped>\n",
              "    .dataframe tbody tr th:only-of-type {\n",
              "        vertical-align: middle;\n",
              "    }\n",
              "\n",
              "    .dataframe tbody tr th {\n",
              "        vertical-align: top;\n",
              "    }\n",
              "\n",
              "    .dataframe thead th {\n",
              "        text-align: right;\n",
              "    }\n",
              "</style>\n",
              "<table border=\"1\" class=\"dataframe\">\n",
              "  <thead>\n",
              "    <tr style=\"text-align: right;\">\n",
              "      <th>url_count</th>\n",
              "      <th>0</th>\n",
              "      <th>1</th>\n",
              "      <th>2</th>\n",
              "    </tr>\n",
              "    <tr>\n",
              "      <th>category</th>\n",
              "      <th></th>\n",
              "      <th></th>\n",
              "      <th></th>\n",
              "    </tr>\n",
              "  </thead>\n",
              "  <tbody>\n",
              "    <tr>\n",
              "      <th>Action</th>\n",
              "      <td>0.014565</td>\n",
              "      <td>0.166042</td>\n",
              "      <td>0.009155</td>\n",
              "    </tr>\n",
              "    <tr>\n",
              "      <th>Dialogue</th>\n",
              "      <td>0.032876</td>\n",
              "      <td>0.018727</td>\n",
              "      <td>0.000000</td>\n",
              "    </tr>\n",
              "    <tr>\n",
              "      <th>Information</th>\n",
              "      <td>0.205576</td>\n",
              "      <td>0.533916</td>\n",
              "      <td>0.019143</td>\n",
              "    </tr>\n",
              "  </tbody>\n",
              "</table>\n",
              "</div>"
            ],
            "text/plain": [
              "url_count           0         1         2\n",
              "category                                 \n",
              "Action       0.014565  0.166042  0.009155\n",
              "Dialogue     0.032876  0.018727  0.000000\n",
              "Information  0.205576  0.533916  0.019143"
            ]
          },
          "metadata": {
            "tags": []
          },
          "execution_count": 14
        }
      ]
    },
    {
      "cell_type": "markdown",
      "metadata": {
        "id": "ly7sK-SRHK16"
      },
      "source": [
        "### Task 4: Creating custom transformers"
      ]
    },
    {
      "cell_type": "markdown",
      "metadata": {
        "id": "-UMwPKUrHK17"
      },
      "source": [
        "An estimator is any object that learns from data, whether it's a classification, regression, or clustering algorithm, or a transformer that extracts or filters useful features from raw data. Since estimators learn from data, they each must have a `fit` method that takes a dataset."
      ]
    },
    {
      "cell_type": "markdown",
      "metadata": {
        "id": "rr9ixoHNHK18"
      },
      "source": [
        "There are two kinds of estimators - `Transformer Estimators` i.e. transformers in short and `Predictor Estimators` i.e. predictor in short. In transformers we also need to have another method `transform` and predictors need to have another method `predict`."
      ]
    },
    {
      "cell_type": "markdown",
      "metadata": {
        "id": "Ri23crJdHK19"
      },
      "source": [
        "Some examples of `transformers` are - CountVectorizer, TfidfVectorizer, MinMaxScaler, StandardScaler etc"
      ]
    },
    {
      "cell_type": "markdown",
      "metadata": {
        "id": "LqyFCO09HK1-"
      },
      "source": [
        "Some examples of `predictors` are - LinearRegression, LogisticRegression, RandomForestClassifier etc"
      ]
    },
    {
      "cell_type": "code",
      "metadata": {
        "id": "LOsod1uXHK1_"
      },
      "source": [
        "# create a custom transformer LengthExtractor to extract length of each sentences\n",
        "class LengthExtractor(BaseEstimator, TransformerMixin):\n",
        "    \n",
        "    def compute_length(self, text):\n",
        "        sentence_list = word_tokenize(text)\n",
        "        return len(sentence_list)\n",
        "    \n",
        "    def fit(self, x, y=None):\n",
        "        return self\n",
        "    \n",
        "    def transform(self, X):\n",
        "        X_length = pd.Series(X).apply(self.compute_length)\n",
        "        return pd.DataFrame(X_length)\n"
      ],
      "execution_count": 15,
      "outputs": []
    },
    {
      "cell_type": "code",
      "metadata": {
        "id": "74rrngYwHK2C"
      },
      "source": [
        "# create a custom transformer UrlCounter to count number of urls in each sentences\n",
        "class UrlCounter(BaseEstimator, TransformerMixin):\n",
        "    \n",
        "    def count_url(self, text):\n",
        "        urls = re.findall(url_regex, text)\n",
        "        return len(urls)\n",
        "    \n",
        "    def fit(self, x, y=None):\n",
        "        return self\n",
        "    \n",
        "    def transform(self, X):\n",
        "        url_count = pd.Series(X).apply(self.count_url)\n",
        "        return pd.DataFrame(url_count)"
      ],
      "execution_count": 16,
      "outputs": []
    },
    {
      "cell_type": "markdown",
      "metadata": {
        "id": "0SQDk5HvHK2F"
      },
      "source": [
        "### Task 5: Model Building using FeatureUnion"
      ]
    },
    {
      "cell_type": "markdown",
      "metadata": {
        "id": "ukebzWT7HK2F"
      },
      "source": [
        "Feature union applies a list of transformer objects in parallel to the input data, then concatenates the results. This is useful to combine several feature extraction mechanisms into a single transformer."
      ]
    },
    {
      "cell_type": "markdown",
      "metadata": {
        "id": "xdL5XmrEHK2F"
      },
      "source": [
        "![alt text](pipeline.png \"nlp pipeline\")"
      ]
    },
    {
      "cell_type": "code",
      "metadata": {
        "id": "7JVT2ZmaHK2K"
      },
      "source": [
        "# create an instance of Pipeline class\n",
        "pipeline = Pipeline([\n",
        "          # create a FeatureUnion pipeline\n",
        "        ('features', FeatureUnion([\n",
        "            # add a pipeline element to extract features using CountVectorizer and TfidfTransformer\n",
        "            ('text_pipeline', Pipeline([\n",
        "                ('vect', CountVectorizer(tokenizer=tokenize)),\n",
        "                ('tfidf', TfidfTransformer())\n",
        "            ])),\n",
        "              # add the pipeline element - LengthExtractor to extract lenght of each sentence as feature\n",
        "            ('text_len', LengthExtractor()),\n",
        "             # add another pipeline element - UrlCounter to extract url counts in each sentence as feature\n",
        "            ('url_count', UrlCounter()),\n",
        "        ])),\n",
        "        # use the predictor/estimator RandomForestClassifier, GradientBoostingClassifier, DecisionTreeClassifier to train the model\n",
        "        ('clf', RandomForestClassifier())\n",
        "    ])\n"
      ],
      "execution_count": 53,
      "outputs": []
    },
    {
      "cell_type": "code",
      "metadata": {
        "id": "32mz5o13HK2O"
      },
      "source": [
        "# split the data into train and test sets\n",
        "X_train, X_test, y_train, y_test = train_test_split(features, target, test_size=0.2, random_state=42)"
      ],
      "execution_count": 54,
      "outputs": []
    },
    {
      "cell_type": "code",
      "metadata": {
        "id": "lZRg0o48OvMO",
        "outputId": "3c9108ac-6766-4e59-9f70-a0ce17fc4b7d",
        "colab": {
          "base_uri": "https://localhost:8080/"
        }
      },
      "source": [
        "from sklearn.model_selection import GridSearchCV\n",
        "from sklearn.model_selection import StratifiedKFold, cross_val_score\n",
        "\n",
        "# Creating a dictionary with the hyperparameters.\n",
        "search_space = [\n",
        "                 {\"clf\": [DecisionTreeClassifier()],\n",
        "                 \"clf__criterion\": [\"gini\",\"entropy\"],\n",
        "                 \"clf__splitter\": [\"best\",\"random\"],\n",
        "                 \"clf__random_state\": [42]},\n",
        "                {\"clf\": [RandomForestClassifier()],\n",
        "                  \"clf__n_estimators\": [600, 800],\n",
        "                  \"clf__criterion\": [\"gini\", \"entropy\"],\n",
        "                  \"clf__max_leaf_nodes\": [300, 350, 400],\n",
        "                  \"clf__random_state\": [42]}]\n",
        "\n",
        "# Defining StratifiedKFold object -> 10-StratifiedFolds\n",
        "kfold = StratifiedKFold(n_splits=10,\n",
        "                        random_state=42, shuffle=True)\n",
        "# Creating the GridSearchCV object.\n",
        "grid = GridSearchCV(estimator=pipeline, \n",
        "                    param_grid=search_space,\n",
        "                    cv=kfold,\n",
        "                    scoring='accuracy',  \n",
        "                    return_train_score=True,\n",
        "                    n_jobs=-1,\n",
        "                    verbose=10)  # progress bar\n",
        "# Fitting the GridSearchCV object.\n",
        "best_model = grid.fit(X_train,y_train)"
      ],
      "execution_count": 57,
      "outputs": [
        {
          "output_type": "stream",
          "text": [
            "Fitting 10 folds for each of 16 candidates, totalling 160 fits\n"
          ],
          "name": "stdout"
        },
        {
          "output_type": "stream",
          "text": [
            "[Parallel(n_jobs=-1)]: Using backend LokyBackend with 2 concurrent workers.\n",
            "[Parallel(n_jobs=-1)]: Done   1 tasks      | elapsed:    8.2s\n",
            "[Parallel(n_jobs=-1)]: Done   4 tasks      | elapsed:   12.2s\n",
            "[Parallel(n_jobs=-1)]: Done   9 tasks      | elapsed:   23.6s\n",
            "[Parallel(n_jobs=-1)]: Done  14 tasks      | elapsed:   31.2s\n",
            "[Parallel(n_jobs=-1)]: Done  21 tasks      | elapsed:   46.3s\n",
            "[Parallel(n_jobs=-1)]: Done  28 tasks      | elapsed:   57.8s\n",
            "[Parallel(n_jobs=-1)]: Done  37 tasks      | elapsed:  1.3min\n",
            "[Parallel(n_jobs=-1)]: Done  46 tasks      | elapsed:  1.9min\n",
            "[Parallel(n_jobs=-1)]: Done  57 tasks      | elapsed:  3.1min\n",
            "[Parallel(n_jobs=-1)]: Done  68 tasks      | elapsed:  4.0min\n",
            "[Parallel(n_jobs=-1)]: Done  81 tasks      | elapsed:  5.5min\n",
            "[Parallel(n_jobs=-1)]: Done  94 tasks      | elapsed:  6.6min\n",
            "[Parallel(n_jobs=-1)]: Done 109 tasks      | elapsed:  8.2min\n",
            "[Parallel(n_jobs=-1)]: Done 124 tasks      | elapsed:  9.7min\n",
            "[Parallel(n_jobs=-1)]: Done 141 tasks      | elapsed: 11.6min\n",
            "[Parallel(n_jobs=-1)]: Done 160 out of 160 | elapsed: 13.5min finished\n"
          ],
          "name": "stderr"
        }
      ]
    },
    {
      "cell_type": "code",
      "metadata": {
        "id": "KyGDDdfLQn8v",
        "outputId": "f7aa46c9-136d-4c49-804a-834726e655db",
        "colab": {
          "base_uri": "https://localhost:8080/"
        }
      },
      "source": [
        "print(\"Best: %f using %s\" % (best_model.best_score_,best_model.best_params_))"
      ],
      "execution_count": 58,
      "outputs": [
        {
          "output_type": "stream",
          "text": [
            "Best: 0.933919 using {'clf': RandomForestClassifier(bootstrap=True, ccp_alpha=0.0, class_weight=None,\n",
            "                       criterion='gini', max_depth=None, max_features='auto',\n",
            "                       max_leaf_nodes=300, max_samples=None,\n",
            "                       min_impurity_decrease=0.0, min_impurity_split=None,\n",
            "                       min_samples_leaf=1, min_samples_split=2,\n",
            "                       min_weight_fraction_leaf=0.0, n_estimators=600,\n",
            "                       n_jobs=None, oob_score=False, random_state=42, verbose=0,\n",
            "                       warm_start=False), 'clf__criterion': 'gini', 'clf__max_leaf_nodes': 300, 'clf__n_estimators': 600, 'clf__random_state': 42}\n"
          ],
          "name": "stdout"
        }
      ]
    },
    {
      "cell_type": "code",
      "metadata": {
        "id": "jx4-qDywHK2R",
        "outputId": "1f764b89-96a8-4483-85e9-350c8f0ae7a1",
        "colab": {
          "base_uri": "https://localhost:8080/"
        }
      },
      "source": [
        "# use pipeline.fit method to train the model\n",
        "pipeline.fit(X_train, y_train)"
      ],
      "execution_count": 40,
      "outputs": [
        {
          "output_type": "execute_result",
          "data": {
            "text/plain": [
              "Pipeline(memory=None,\n",
              "         steps=[('features',\n",
              "                 FeatureUnion(n_jobs=None,\n",
              "                              transformer_list=[('text_pipeline',\n",
              "                                                 Pipeline(memory=None,\n",
              "                                                          steps=[('vect',\n",
              "                                                                  CountVectorizer(analyzer='word',\n",
              "                                                                                  binary=False,\n",
              "                                                                                  decode_error='strict',\n",
              "                                                                                  dtype=<class 'numpy.int64'>,\n",
              "                                                                                  encoding='utf-8',\n",
              "                                                                                  input='content',\n",
              "                                                                                  lowercase=True,\n",
              "                                                                                  max_df=1.0,\n",
              "                                                                                  max_features=None,\n",
              "                                                                                  min_df=1,\n",
              "                                                                                  ngram_range=(1,\n",
              "                                                                                               1),\n",
              "                                                                                  preprocessor=Non...\n",
              "                 RandomForestClassifier(bootstrap=True, ccp_alpha=0.0,\n",
              "                                        class_weight=None, criterion='gini',\n",
              "                                        max_depth=None, max_features='auto',\n",
              "                                        max_leaf_nodes=None, max_samples=None,\n",
              "                                        min_impurity_decrease=0.0,\n",
              "                                        min_impurity_split=None,\n",
              "                                        min_samples_leaf=1, min_samples_split=2,\n",
              "                                        min_weight_fraction_leaf=0.0,\n",
              "                                        n_estimators=100, n_jobs=None,\n",
              "                                        oob_score=False, random_state=None,\n",
              "                                        verbose=0, warm_start=False))],\n",
              "         verbose=False)"
            ]
          },
          "metadata": {
            "tags": []
          },
          "execution_count": 40
        }
      ]
    },
    {
      "cell_type": "markdown",
      "metadata": {
        "id": "NVdnl2cfHK2T"
      },
      "source": [
        "### Task 6: Model Evaluation"
      ]
    },
    {
      "cell_type": "markdown",
      "metadata": {
        "id": "puBvZc9kHK2T"
      },
      "source": [
        "Now, once the model is trained, in this task we will evaluate how the model behaves in the test data"
      ]
    },
    {
      "cell_type": "code",
      "metadata": {
        "id": "vTWnL0VzHK2U"
      },
      "source": [
        "# use the method pipeline.predict on X_test data to predict the labels\n",
        "y_pred = pipeline.predict(X_test)"
      ],
      "execution_count": 41,
      "outputs": []
    },
    {
      "cell_type": "code",
      "metadata": {
        "id": "Kpkiq5e9HK2X",
        "outputId": "d5b1682b-e497-42b4-fa98-eb7891f992b1",
        "colab": {
          "base_uri": "https://localhost:8080/",
          "height": 283
        }
      },
      "source": [
        "# count the number of labels\n",
        "labels = np.unique(y_pred)\n",
        "# use sns.heatmap on top of confusion_matrix to show the confusuin matrix\n",
        "sns.heatmap(confusion_matrix(y_test, y_pred, labels=labels), annot=True, fmt='.0f')\n"
      ],
      "execution_count": 42,
      "outputs": [
        {
          "output_type": "execute_result",
          "data": {
            "text/plain": [
              "<matplotlib.axes._subplots.AxesSubplot at 0x7f37a9270198>"
            ]
          },
          "metadata": {
            "tags": []
          },
          "execution_count": 42
        },
        {
          "output_type": "display_data",
          "data": {
            "image/png": "[encoded data removed]",
            "text/plain": [
              "<Figure size 432x288 with 2 Axes>"
            ]
          },
          "metadata": {
            "tags": [],
            "needs_background": "light"
          }
        }
      ]
    },
    {
      "cell_type": "code",
      "metadata": {
        "id": "IK4nj7G7HK2a",
        "outputId": "a525a4ab-269e-43eb-b256-5588c96b3ef3",
        "colab": {
          "base_uri": "https://localhost:8080/"
        }
      },
      "source": [
        "# apply the function classification_report on y_test, y_pred and print it\n",
        "print(classification_report(y_test, y_pred))"
      ],
      "execution_count": 43,
      "outputs": [
        {
          "output_type": "stream",
          "text": [
            "              precision    recall  f1-score   support\n",
            "\n",
            "      Action       0.88      0.86      0.87        79\n",
            "    Dialogue       1.00      0.86      0.93        36\n",
            " Information       0.96      0.98      0.97       366\n",
            "\n",
            "    accuracy                           0.95       481\n",
            "   macro avg       0.95      0.90      0.92       481\n",
            "weighted avg       0.95      0.95      0.95       481\n",
            "\n"
          ],
          "name": "stdout"
        }
      ]
    },
    {
      "cell_type": "markdown",
      "metadata": {
        "id": "gBE_nMuXHK2d"
      },
      "source": [
        "### Task 7: Conclusion and next steps"
      ]
    },
    {
      "cell_type": "markdown",
      "metadata": {
        "id": "jgVHpmWDHK2d"
      },
      "source": [
        "How to improve this model - \n",
        "\n",
        "- more feature engineering\n",
        "- feature selection\n",
        "- trying different predictors\n",
        "    * **Random forest: with 95% Accuracy, 95% Precision, and 90% Recall**\n",
        "    * **Decision tree: with 90% Accuracy, 87% Precision, and 87% Recall**\n",
        "    * **Gardient boosting: with 94% Accuracy, 92% Precision, and 89% Recall**\n",
        "- tuning parameters using GridSearchCV\n",
        "    * tunning parameters using GridSearch lower the accuracy to **93%** for Random Forest. Maybe because the model performed well at default. However, it is not improving the model."
      ]
    }
  ]
}