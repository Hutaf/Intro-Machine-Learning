{
  "nbformat": 4,
  "nbformat_minor": 0,
  "metadata": {
    "kernelspec": {
      "display_name": "Python 3",
      "language": "python",
      "name": "python3"
    },
    "language_info": {
      "codemirror_mode": {
        "name": "ipython",
        "version": 3
      },
      "file_extension": ".py",
      "mimetype": "text/x-python",
      "name": "python",
      "nbconvert_exporter": "python",
      "pygments_lexer": "ipython3",
      "version": "3.5.6"
    },
    "colab": {
      "name": "Assignment_LinearRegression_ML8.ipynb",
      "provenance": [],
      "collapsed_sections": [],
      "include_colab_link": true
    }
  },
  "cells": [
    {
      "cell_type": "markdown",
      "metadata": {
        "id": "view-in-github",
        "colab_type": "text"
      },
      "source": [
        "<a href=\"https://colab.research.google.com/github/Hutaf/SDA-Machine-Learning/blob/main/Assignment_LinearRegression_ML8.ipynb\" target=\"_parent\"><img src=\"https://colab.research.google.com/assets/colab-badge.svg\" alt=\"Open In Colab\"/></a>"
      ]
    },
    {
      "cell_type": "markdown",
      "metadata": {
        "id": "tG_h2-GBiTTg"
      },
      "source": [
        "### Linear Regression\n",
        "Using the same seattle weather data as last chapter develop a linear regression model"
      ]
    },
    {
      "cell_type": "code",
      "metadata": {
        "id": "00brhWAyrowX"
      },
      "source": [
        "#import the pakcages that we will need\n",
        "import pandas as pd\n",
        "import matplotlib.pyplot as plt\n",
        "import seaborn as sns\n",
        "import numpy as np"
      ],
      "execution_count": 40,
      "outputs": []
    },
    {
      "cell_type": "code",
      "metadata": {
        "id": "sZFDLg2xiTTm"
      },
      "source": [
        "filepath = 'https://raw.githubusercontent.com/daniel-dc-cd/data_science/master/module_4_ML/data/seattle_weather_1948-2017.csv'\n",
        "df = pd.read_csv(filepath)\n",
        "\n",
        "numrows = 25549 # can be as large as 25549\n",
        "\n",
        "#create an empty dataframe to hold values\n",
        "regression_df = pd.DataFrame({'intercept':[1] * numrows,\n",
        "                             'today':[0.0] * numrows,\n",
        "                             'tomorrow':[0.0] * numrows})\n",
        "\n",
        "#sort columns for convience\n",
        "seq = ['intercept',\n",
        "       'today',\n",
        "       'tomorrow']\n",
        "regression_df = regression_df.reindex(columns=seq)"
      ],
      "execution_count": 41,
      "outputs": []
    },
    {
      "cell_type": "code",
      "metadata": {
        "id": "jH7pEmejrIHH",
        "outputId": "03f20ebb-0487-484b-8197-d596dad8054b",
        "colab": {
          "base_uri": "https://localhost:8080/"
        }
      },
      "source": [
        "df.info()"
      ],
      "execution_count": 42,
      "outputs": [
        {
          "output_type": "stream",
          "text": [
            "<class 'pandas.core.frame.DataFrame'>\n",
            "RangeIndex: 25551 entries, 0 to 25550\n",
            "Data columns (total 5 columns):\n",
            " #   Column  Non-Null Count  Dtype  \n",
            "---  ------  --------------  -----  \n",
            " 0   DATE    25551 non-null  object \n",
            " 1   PRCP    25548 non-null  float64\n",
            " 2   TMAX    25551 non-null  int64  \n",
            " 3   TMIN    25551 non-null  int64  \n",
            " 4   RAIN    25548 non-null  object \n",
            "dtypes: float64(1), int64(2), object(2)\n",
            "memory usage: 998.2+ KB\n"
          ],
          "name": "stdout"
        }
      ]
    },
    {
      "cell_type": "code",
      "metadata": {
        "id": "0kwPXPDUrOuL",
        "outputId": "5fc92514-d107-4c92-b816-eb2ed46e08fd",
        "colab": {
          "base_uri": "https://localhost:8080/",
          "height": 355
        }
      },
      "source": [
        "df.head(10)"
      ],
      "execution_count": 43,
      "outputs": [
        {
          "output_type": "execute_result",
          "data": {
            "text/html": [
              "<div>\n",
              "<style scoped>\n",
              "    .dataframe tbody tr th:only-of-type {\n",
              "        vertical-align: middle;\n",
              "    }\n",
              "\n",
              "    .dataframe tbody tr th {\n",
              "        vertical-align: top;\n",
              "    }\n",
              "\n",
              "    .dataframe thead th {\n",
              "        text-align: right;\n",
              "    }\n",
              "</style>\n",
              "<table border=\"1\" class=\"dataframe\">\n",
              "  <thead>\n",
              "    <tr style=\"text-align: right;\">\n",
              "      <th></th>\n",
              "      <th>DATE</th>\n",
              "      <th>PRCP</th>\n",
              "      <th>TMAX</th>\n",
              "      <th>TMIN</th>\n",
              "      <th>RAIN</th>\n",
              "    </tr>\n",
              "  </thead>\n",
              "  <tbody>\n",
              "    <tr>\n",
              "      <th>0</th>\n",
              "      <td>1948-01-01</td>\n",
              "      <td>0.47</td>\n",
              "      <td>51</td>\n",
              "      <td>42</td>\n",
              "      <td>True</td>\n",
              "    </tr>\n",
              "    <tr>\n",
              "      <th>1</th>\n",
              "      <td>1948-01-02</td>\n",
              "      <td>0.59</td>\n",
              "      <td>45</td>\n",
              "      <td>36</td>\n",
              "      <td>True</td>\n",
              "    </tr>\n",
              "    <tr>\n",
              "      <th>2</th>\n",
              "      <td>1948-01-03</td>\n",
              "      <td>0.42</td>\n",
              "      <td>45</td>\n",
              "      <td>35</td>\n",
              "      <td>True</td>\n",
              "    </tr>\n",
              "    <tr>\n",
              "      <th>3</th>\n",
              "      <td>1948-01-04</td>\n",
              "      <td>0.31</td>\n",
              "      <td>45</td>\n",
              "      <td>34</td>\n",
              "      <td>True</td>\n",
              "    </tr>\n",
              "    <tr>\n",
              "      <th>4</th>\n",
              "      <td>1948-01-05</td>\n",
              "      <td>0.17</td>\n",
              "      <td>45</td>\n",
              "      <td>32</td>\n",
              "      <td>True</td>\n",
              "    </tr>\n",
              "    <tr>\n",
              "      <th>5</th>\n",
              "      <td>1948-01-06</td>\n",
              "      <td>0.44</td>\n",
              "      <td>48</td>\n",
              "      <td>39</td>\n",
              "      <td>True</td>\n",
              "    </tr>\n",
              "    <tr>\n",
              "      <th>6</th>\n",
              "      <td>1948-01-07</td>\n",
              "      <td>0.41</td>\n",
              "      <td>50</td>\n",
              "      <td>40</td>\n",
              "      <td>True</td>\n",
              "    </tr>\n",
              "    <tr>\n",
              "      <th>7</th>\n",
              "      <td>1948-01-08</td>\n",
              "      <td>0.04</td>\n",
              "      <td>48</td>\n",
              "      <td>35</td>\n",
              "      <td>True</td>\n",
              "    </tr>\n",
              "    <tr>\n",
              "      <th>8</th>\n",
              "      <td>1948-01-09</td>\n",
              "      <td>0.12</td>\n",
              "      <td>50</td>\n",
              "      <td>31</td>\n",
              "      <td>True</td>\n",
              "    </tr>\n",
              "    <tr>\n",
              "      <th>9</th>\n",
              "      <td>1948-01-10</td>\n",
              "      <td>0.74</td>\n",
              "      <td>43</td>\n",
              "      <td>34</td>\n",
              "      <td>True</td>\n",
              "    </tr>\n",
              "  </tbody>\n",
              "</table>\n",
              "</div>"
            ],
            "text/plain": [
              "         DATE  PRCP  TMAX  TMIN  RAIN\n",
              "0  1948-01-01  0.47    51    42  True\n",
              "1  1948-01-02  0.59    45    36  True\n",
              "2  1948-01-03  0.42    45    35  True\n",
              "3  1948-01-04  0.31    45    34  True\n",
              "4  1948-01-05  0.17    45    32  True\n",
              "5  1948-01-06  0.44    48    39  True\n",
              "6  1948-01-07  0.41    50    40  True\n",
              "7  1948-01-08  0.04    48    35  True\n",
              "8  1948-01-09  0.12    50    31  True\n",
              "9  1948-01-10  0.74    43    34  True"
            ]
          },
          "metadata": {
            "tags": []
          },
          "execution_count": 43
        }
      ]
    },
    {
      "cell_type": "code",
      "metadata": {
        "id": "g5HNzkuziTTr"
      },
      "source": [
        "for i in range(0 , numrows):\n",
        "    tomorrow = df.iloc[i,1]\n",
        "    today = df.iloc[(i-1),1]\n",
        "    regression_df.iat[i,2] = tomorrow\n",
        "    regression_df.iat[i,1] = today\n",
        "\n",
        "regression_df = regression_df.dropna() #exclude any rows with missing data"
      ],
      "execution_count": 44,
      "outputs": []
    },
    {
      "cell_type": "code",
      "metadata": {
        "id": "b5N4piJ-iTTv",
        "outputId": "4009943d-5398-4acc-ff6a-7598c7598ae0",
        "colab": {
          "base_uri": "https://localhost:8080/",
          "height": 294
        }
      },
      "source": [
        "#this makes a simple dataframe with a relationship that we can now plot\n",
        "regression_df.describe()"
      ],
      "execution_count": 45,
      "outputs": [
        {
          "output_type": "execute_result",
          "data": {
            "text/html": [
              "<div>\n",
              "<style scoped>\n",
              "    .dataframe tbody tr th:only-of-type {\n",
              "        vertical-align: middle;\n",
              "    }\n",
              "\n",
              "    .dataframe tbody tr th {\n",
              "        vertical-align: top;\n",
              "    }\n",
              "\n",
              "    .dataframe thead th {\n",
              "        text-align: right;\n",
              "    }\n",
              "</style>\n",
              "<table border=\"1\" class=\"dataframe\">\n",
              "  <thead>\n",
              "    <tr style=\"text-align: right;\">\n",
              "      <th></th>\n",
              "      <th>intercept</th>\n",
              "      <th>today</th>\n",
              "      <th>tomorrow</th>\n",
              "    </tr>\n",
              "  </thead>\n",
              "  <tbody>\n",
              "    <tr>\n",
              "      <th>count</th>\n",
              "      <td>25544.0</td>\n",
              "      <td>25544.000000</td>\n",
              "      <td>25544.000000</td>\n",
              "    </tr>\n",
              "    <tr>\n",
              "      <th>mean</th>\n",
              "      <td>1.0</td>\n",
              "      <td>0.106238</td>\n",
              "      <td>0.106238</td>\n",
              "    </tr>\n",
              "    <tr>\n",
              "      <th>std</th>\n",
              "      <td>0.0</td>\n",
              "      <td>0.239046</td>\n",
              "      <td>0.239046</td>\n",
              "    </tr>\n",
              "    <tr>\n",
              "      <th>min</th>\n",
              "      <td>1.0</td>\n",
              "      <td>0.000000</td>\n",
              "      <td>0.000000</td>\n",
              "    </tr>\n",
              "    <tr>\n",
              "      <th>25%</th>\n",
              "      <td>1.0</td>\n",
              "      <td>0.000000</td>\n",
              "      <td>0.000000</td>\n",
              "    </tr>\n",
              "    <tr>\n",
              "      <th>50%</th>\n",
              "      <td>1.0</td>\n",
              "      <td>0.000000</td>\n",
              "      <td>0.000000</td>\n",
              "    </tr>\n",
              "    <tr>\n",
              "      <th>75%</th>\n",
              "      <td>1.0</td>\n",
              "      <td>0.100000</td>\n",
              "      <td>0.100000</td>\n",
              "    </tr>\n",
              "    <tr>\n",
              "      <th>max</th>\n",
              "      <td>1.0</td>\n",
              "      <td>5.020000</td>\n",
              "      <td>5.020000</td>\n",
              "    </tr>\n",
              "  </tbody>\n",
              "</table>\n",
              "</div>"
            ],
            "text/plain": [
              "       intercept         today      tomorrow\n",
              "count    25544.0  25544.000000  25544.000000\n",
              "mean         1.0      0.106238      0.106238\n",
              "std          0.0      0.239046      0.239046\n",
              "min          1.0      0.000000      0.000000\n",
              "25%          1.0      0.000000      0.000000\n",
              "50%          1.0      0.000000      0.000000\n",
              "75%          1.0      0.100000      0.100000\n",
              "max          1.0      5.020000      5.020000"
            ]
          },
          "metadata": {
            "tags": []
          },
          "execution_count": 45
        }
      ]
    },
    {
      "cell_type": "code",
      "metadata": {
        "id": "gSMaTvzAiTT0",
        "outputId": "cf5aa32a-a101-4d67-f345-ae3bbef0f446",
        "colab": {
          "base_uri": "https://localhost:8080/",
          "height": 297
        }
      },
      "source": [
        "sns.scatterplot(x='today',y='tomorrow',data=regression_df)"
      ],
      "execution_count": 46,
      "outputs": [
        {
          "output_type": "execute_result",
          "data": {
            "text/plain": [
              "<matplotlib.axes._subplots.AxesSubplot at 0x7f0ddcd66940>"
            ]
          },
          "metadata": {
            "tags": []
          },
          "execution_count": 46
        },
        {
          "output_type": "display_data",
          "data": {
            "image/png": "[encoded data removed]",
            "text/plain": [
              "<Figure size 432x288 with 1 Axes>"
            ]
          },
          "metadata": {
            "tags": [],
            "needs_background": "light"
          }
        }
      ]
    },
    {
      "cell_type": "markdown",
      "metadata": {
        "id": "IG8ZhZEZiTT4"
      },
      "source": [
        "Creating a basic linear model to best predict these values. Start with a slope and intercept values of 1 and then iterate through gradient descent."
      ]
    },
    {
      "cell_type": "code",
      "metadata": {
        "id": "_H4A8aACiTT5"
      },
      "source": [
        "def gradientDescent(X, y, param, alpha, num_iters):\n",
        "    \"\"\"\n",
        "       Performs gradient descent to learn param\n",
        "    \"\"\"\n",
        "    for i in range(num_iters):\n",
        "        y_hat = np.dot(X, param) # notice we use numpy here to efficently calculate the values\n",
        "        param = param - alpha * np.dot(X.T, y_hat-y)\n",
        "    return param"
      ],
      "execution_count": 47,
      "outputs": []
    },
    {
      "cell_type": "markdown",
      "metadata": {
        "id": "RffspmTLiTUA"
      },
      "source": [
        "In this fucntion *param* is the initial guess of the values of the linear function and \n",
        "*X* is the vector of data values and y is the realization"
      ]
    },
    {
      "cell_type": "code",
      "metadata": {
        "id": "mKBmzIhIiTUA",
        "outputId": "0c3558ce-843d-41cd-8e07-7654f6dd61f5",
        "colab": {
          "base_uri": "https://localhost:8080/"
        }
      },
      "source": [
        "X = regression_df.iloc[0:200:,0:2]\n",
        "y = regression_df.iloc[0:200:,2]\n",
        "param = np.array([1,1])\n",
        "alpha = 0.0001\n",
        "num_iters = 1000\n",
        "\n",
        "solution = gradientDescent(X, y, param, alpha, num_iters)\n",
        "solution"
      ],
      "execution_count": 48,
      "outputs": [
        {
          "output_type": "execute_result",
          "data": {
            "text/plain": [
              "array([0.08116008, 0.33987798])"
            ]
          },
          "metadata": {
            "tags": []
          },
          "execution_count": 48
        }
      ]
    },
    {
      "cell_type": "code",
      "metadata": {
        "id": "OZabuVEYiTUD",
        "outputId": "745d3e5d-a257-466e-b087-f3485aff99e6",
        "colab": {
          "base_uri": "https://localhost:8080/",
          "height": 459
        }
      },
      "source": [
        "grid = sns.JointGrid(x=regression_df.today,y=regression_df.tomorrow)\n",
        "grid.plot_joint(plt.scatter, color=\"g\")\n",
        "plt.plot([0, 5], [0.0811, 1.77], linewidth=2)"
      ],
      "execution_count": 49,
      "outputs": [
        {
          "output_type": "execute_result",
          "data": {
            "text/plain": [
              "[<matplotlib.lines.Line2D at 0x7f0de4e6efd0>]"
            ]
          },
          "metadata": {
            "tags": []
          },
          "execution_count": 49
        },
        {
          "output_type": "display_data",
          "data": {
            "image/png": "[encoded data removed]",
            "text/plain": [
              "<Figure size 432x432 with 3 Axes>"
            ]
          },
          "metadata": {
            "tags": [],
            "needs_background": "light"
          }
        }
      ]
    },
    {
      "cell_type": "markdown",
      "metadata": {
        "id": "XWR_1jGQiTUH"
      },
      "source": [
        "However, building models from scratch is hard! Lucky for us there is a very popular library that trains models for us!"
      ]
    },
    {
      "cell_type": "code",
      "metadata": {
        "id": "9CANkWFRiTUI"
      },
      "source": [
        "from sklearn import linear_model\n",
        "#modify the data to work with this library\n",
        "x = regression_df.today.values\n",
        "y = regression_df.tomorrow.values\n",
        "x = x.reshape(regression_df.shape[0], 1)\n",
        "y = y.reshape(regression_df.shape[0], 1)"
      ],
      "execution_count": 50,
      "outputs": []
    },
    {
      "cell_type": "code",
      "metadata": {
        "id": "Oo0H66rPiTUN"
      },
      "source": [
        "mymodel = linear_model.LinearRegression().fit(x,y)"
      ],
      "execution_count": 51,
      "outputs": []
    },
    {
      "cell_type": "code",
      "metadata": {
        "id": "6sniKzEOiTUR",
        "outputId": "9a42562c-b5a7-49df-debb-ba30d3d6d15b",
        "colab": {
          "base_uri": "https://localhost:8080/",
          "height": 265
        }
      },
      "source": [
        "plt.scatter(x, y,  color='black')\n",
        "plt.plot(x, mymodel.predict(x), color='blue', linewidth=3)\n",
        "plt.xlim(-0.1,2.1)\n",
        "plt.ylim(-0.1,2.1)\n",
        "plt.show()"
      ],
      "execution_count": 52,
      "outputs": [
        {
          "output_type": "display_data",
          "data": {
            "image/png": "[encoded data removed]",
            "text/plain": [
              "<Figure size 432x288 with 1 Axes>"
            ]
          },
          "metadata": {
            "tags": [],
            "needs_background": "light"
          }
        }
      ]
    },
    {
      "cell_type": "code",
      "metadata": {
        "id": "osecmVouiTUU",
        "outputId": "6648c7e7-a00f-4718-e8f4-cbe483faf1cf",
        "colab": {
          "base_uri": "https://localhost:8080/"
        }
      },
      "source": [
        "# using the r2 (pronounced r squared) value we can get a basic measure of model quality\n",
        "from sklearn.metrics import r2_score\n",
        "r2_score(y,mymodel.predict(x))"
      ],
      "execution_count": 53,
      "outputs": [
        {
          "output_type": "execute_result",
          "data": {
            "text/plain": [
              "0.0936792792728317"
            ]
          },
          "metadata": {
            "tags": []
          },
          "execution_count": 53
        }
      ]
    },
    {
      "cell_type": "markdown",
      "metadata": {
        "id": "rcWx3WckiTUX"
      },
      "source": [
        "We can plot the difference between the predictions and the actual values for a visual estimate of performance. A perfect model would result in this being a straight line with a slope of 1. Notice how the model predicts only lower values, meaning that it tends to under predict the actual amount of rain."
      ]
    },
    {
      "cell_type": "code",
      "metadata": {
        "id": "3Zph9glliTUX",
        "outputId": "4bbd0b2c-6729-453e-e000-0bd79e0510a1",
        "colab": {
          "base_uri": "https://localhost:8080/",
          "height": 265
        }
      },
      "source": [
        "plt.scatter(mymodel.predict(x), y,  color='black')\n",
        "plt.xlim(-0.1,2.1) #to keep the same scale as the previous plot\n",
        "plt.ylim(-0.1,2.1) # same reason as xlim\n",
        "plt.show()"
      ],
      "execution_count": 54,
      "outputs": [
        {
          "output_type": "display_data",
          "data": {
            "image/png": "[encoded data removed]",
            "text/plain": [
              "<Figure size 432x288 with 1 Axes>"
            ]
          },
          "metadata": {
            "tags": [],
            "needs_background": "light"
          }
        }
      ]
    },
    {
      "cell_type": "markdown",
      "metadata": {
        "id": "wUw2gjBNiTUa"
      },
      "source": [
        "### From this point modify the scikit-learn linear regression method to use two variables.\n",
        "Hint. Your x values should have the same number of rows but two columns. You will not be able to plot the line (as it will be 3 dimensional) but you can plot the model predictions agains the actual values."
      ]
    },
    {
      "cell_type": "code",
      "metadata": {
        "id": "b5G5torNiTUx"
      },
      "source": [
        "numrows = 25547 \n",
        "\n",
        "regression_df = pd.DataFrame({'yesterday':[0.0]*numrows,\n",
        "                              'today':[0.0]*numrows,\n",
        "                              'tomorrow':[0.0]*numrows})\n",
        "\n",
        "#sort columns for convience\n",
        "seq = ['yesterday',\n",
        "       'today',\n",
        "       'tomorrow']\n",
        "\n",
        "regression_df = regression_df.reindex(columns=seq)\n",
        "\n",
        "for z in range(0 , numrows):\n",
        "    i = z + 2  \n",
        "    tomorrow = df.iloc[i,1]\n",
        "    today = df.iloc[(i-1),1]\n",
        "    yesterday = df.iloc[(i-2),1]\n",
        "\n",
        "    regression_df.iat[z,0] = today\n",
        "    regression_df.iat[z,1] = yesterday\n",
        "    regression_df.iat[z,2] = tomorrow\n",
        "\n",
        "\n",
        "regression_df = regression_df.dropna() #exclude any rows with missing data"
      ],
      "execution_count": 55,
      "outputs": []
    },
    {
      "cell_type": "code",
      "metadata": {
        "id": "A2WygNYgiTU2",
        "outputId": "84816fc9-fea7-4868-9f7d-18d3c72d162c",
        "colab": {
          "base_uri": "https://localhost:8080/",
          "height": 294
        }
      },
      "source": [
        "#this makes a simple dataframe with a relationship that we can now plot\n",
        "regression_df.describe()"
      ],
      "execution_count": 56,
      "outputs": [
        {
          "output_type": "execute_result",
          "data": {
            "text/html": [
              "<div>\n",
              "<style scoped>\n",
              "    .dataframe tbody tr th:only-of-type {\n",
              "        vertical-align: middle;\n",
              "    }\n",
              "\n",
              "    .dataframe tbody tr th {\n",
              "        vertical-align: top;\n",
              "    }\n",
              "\n",
              "    .dataframe thead th {\n",
              "        text-align: right;\n",
              "    }\n",
              "</style>\n",
              "<table border=\"1\" class=\"dataframe\">\n",
              "  <thead>\n",
              "    <tr style=\"text-align: right;\">\n",
              "      <th></th>\n",
              "      <th>yesterday</th>\n",
              "      <th>today</th>\n",
              "      <th>tomorrow</th>\n",
              "    </tr>\n",
              "  </thead>\n",
              "  <tbody>\n",
              "    <tr>\n",
              "      <th>count</th>\n",
              "      <td>25540.000000</td>\n",
              "      <td>25540.000000</td>\n",
              "      <td>25540.000000</td>\n",
              "    </tr>\n",
              "    <tr>\n",
              "      <th>mean</th>\n",
              "      <td>0.106236</td>\n",
              "      <td>0.106255</td>\n",
              "      <td>0.106213</td>\n",
              "    </tr>\n",
              "    <tr>\n",
              "      <th>std</th>\n",
              "      <td>0.239052</td>\n",
              "      <td>0.239061</td>\n",
              "      <td>0.239033</td>\n",
              "    </tr>\n",
              "    <tr>\n",
              "      <th>min</th>\n",
              "      <td>0.000000</td>\n",
              "      <td>0.000000</td>\n",
              "      <td>0.000000</td>\n",
              "    </tr>\n",
              "    <tr>\n",
              "      <th>25%</th>\n",
              "      <td>0.000000</td>\n",
              "      <td>0.000000</td>\n",
              "      <td>0.000000</td>\n",
              "    </tr>\n",
              "    <tr>\n",
              "      <th>50%</th>\n",
              "      <td>0.000000</td>\n",
              "      <td>0.000000</td>\n",
              "      <td>0.000000</td>\n",
              "    </tr>\n",
              "    <tr>\n",
              "      <th>75%</th>\n",
              "      <td>0.100000</td>\n",
              "      <td>0.100000</td>\n",
              "      <td>0.100000</td>\n",
              "    </tr>\n",
              "    <tr>\n",
              "      <th>max</th>\n",
              "      <td>5.020000</td>\n",
              "      <td>5.020000</td>\n",
              "      <td>5.020000</td>\n",
              "    </tr>\n",
              "  </tbody>\n",
              "</table>\n",
              "</div>"
            ],
            "text/plain": [
              "          yesterday         today      tomorrow\n",
              "count  25540.000000  25540.000000  25540.000000\n",
              "mean       0.106236      0.106255      0.106213\n",
              "std        0.239052      0.239061      0.239033\n",
              "min        0.000000      0.000000      0.000000\n",
              "25%        0.000000      0.000000      0.000000\n",
              "50%        0.000000      0.000000      0.000000\n",
              "75%        0.100000      0.100000      0.100000\n",
              "max        5.020000      5.020000      5.020000"
            ]
          },
          "metadata": {
            "tags": []
          },
          "execution_count": 56
        }
      ]
    },
    {
      "cell_type": "code",
      "metadata": {
        "id": "bJXU6HbAusNo",
        "outputId": "412bcf85-2859-40a3-e2ce-d32254544b48",
        "colab": {
          "base_uri": "https://localhost:8080/",
          "height": 355
        }
      },
      "source": [
        "regression_df.head(10)"
      ],
      "execution_count": 59,
      "outputs": [
        {
          "output_type": "execute_result",
          "data": {
            "text/html": [
              "<div>\n",
              "<style scoped>\n",
              "    .dataframe tbody tr th:only-of-type {\n",
              "        vertical-align: middle;\n",
              "    }\n",
              "\n",
              "    .dataframe tbody tr th {\n",
              "        vertical-align: top;\n",
              "    }\n",
              "\n",
              "    .dataframe thead th {\n",
              "        text-align: right;\n",
              "    }\n",
              "</style>\n",
              "<table border=\"1\" class=\"dataframe\">\n",
              "  <thead>\n",
              "    <tr style=\"text-align: right;\">\n",
              "      <th></th>\n",
              "      <th>yesterday</th>\n",
              "      <th>today</th>\n",
              "      <th>tomorrow</th>\n",
              "    </tr>\n",
              "  </thead>\n",
              "  <tbody>\n",
              "    <tr>\n",
              "      <th>0</th>\n",
              "      <td>0.59</td>\n",
              "      <td>0.47</td>\n",
              "      <td>0.42</td>\n",
              "    </tr>\n",
              "    <tr>\n",
              "      <th>1</th>\n",
              "      <td>0.42</td>\n",
              "      <td>0.59</td>\n",
              "      <td>0.31</td>\n",
              "    </tr>\n",
              "    <tr>\n",
              "      <th>2</th>\n",
              "      <td>0.31</td>\n",
              "      <td>0.42</td>\n",
              "      <td>0.17</td>\n",
              "    </tr>\n",
              "    <tr>\n",
              "      <th>3</th>\n",
              "      <td>0.17</td>\n",
              "      <td>0.31</td>\n",
              "      <td>0.44</td>\n",
              "    </tr>\n",
              "    <tr>\n",
              "      <th>4</th>\n",
              "      <td>0.44</td>\n",
              "      <td>0.17</td>\n",
              "      <td>0.41</td>\n",
              "    </tr>\n",
              "    <tr>\n",
              "      <th>5</th>\n",
              "      <td>0.41</td>\n",
              "      <td>0.44</td>\n",
              "      <td>0.04</td>\n",
              "    </tr>\n",
              "    <tr>\n",
              "      <th>6</th>\n",
              "      <td>0.04</td>\n",
              "      <td>0.41</td>\n",
              "      <td>0.12</td>\n",
              "    </tr>\n",
              "    <tr>\n",
              "      <th>7</th>\n",
              "      <td>0.12</td>\n",
              "      <td>0.04</td>\n",
              "      <td>0.74</td>\n",
              "    </tr>\n",
              "    <tr>\n",
              "      <th>8</th>\n",
              "      <td>0.74</td>\n",
              "      <td>0.12</td>\n",
              "      <td>0.01</td>\n",
              "    </tr>\n",
              "    <tr>\n",
              "      <th>9</th>\n",
              "      <td>0.01</td>\n",
              "      <td>0.74</td>\n",
              "      <td>0.00</td>\n",
              "    </tr>\n",
              "  </tbody>\n",
              "</table>\n",
              "</div>"
            ],
            "text/plain": [
              "   yesterday  today  tomorrow\n",
              "0       0.59   0.47      0.42\n",
              "1       0.42   0.59      0.31\n",
              "2       0.31   0.42      0.17\n",
              "3       0.17   0.31      0.44\n",
              "4       0.44   0.17      0.41\n",
              "5       0.41   0.44      0.04\n",
              "6       0.04   0.41      0.12\n",
              "7       0.12   0.04      0.74\n",
              "8       0.74   0.12      0.01\n",
              "9       0.01   0.74      0.00"
            ]
          },
          "metadata": {
            "tags": []
          },
          "execution_count": 59
        }
      ]
    },
    {
      "cell_type": "code",
      "metadata": {
        "id": "j8zAMT1GtK3k",
        "outputId": "5e6f3768-df2f-4ebd-cf4c-e57b715c30e9",
        "colab": {
          "base_uri": "https://localhost:8080/",
          "height": 297
        }
      },
      "source": [
        "sns.scatterplot(x='today',y='yesterday',data=regression_df)"
      ],
      "execution_count": 57,
      "outputs": [
        {
          "output_type": "execute_result",
          "data": {
            "text/plain": [
              "<matplotlib.axes._subplots.AxesSubplot at 0x7f0ddc9bcba8>"
            ]
          },
          "metadata": {
            "tags": []
          },
          "execution_count": 57
        },
        {
          "output_type": "display_data",
          "data": {
            "image/png": "[encoded data removed]",
            "text/plain": [
              "<Figure size 432x288 with 1 Axes>"
            ]
          },
          "metadata": {
            "tags": [],
            "needs_background": "light"
          }
        }
      ]
    },
    {
      "cell_type": "code",
      "metadata": {
        "id": "8ERvbIYOs-62",
        "outputId": "9fb350ff-bcc8-417e-c6d1-4609ee071fa5",
        "colab": {
          "base_uri": "https://localhost:8080/",
          "height": 297
        }
      },
      "source": [
        "sns.scatterplot(x='today',y='tomorrow',data=regression_df)"
      ],
      "execution_count": 58,
      "outputs": [
        {
          "output_type": "execute_result",
          "data": {
            "text/plain": [
              "<matplotlib.axes._subplots.AxesSubplot at 0x7f0ddc970860>"
            ]
          },
          "metadata": {
            "tags": []
          },
          "execution_count": 58
        },
        {
          "output_type": "display_data",
          "data": {
            "image/png": "[encoded data removed]",
            "text/plain": [
              "<Figure size 432x288 with 1 Axes>"
            ]
          },
          "metadata": {
            "tags": [],
            "needs_background": "light"
          }
        }
      ]
    },
    {
      "cell_type": "code",
      "metadata": {
        "id": "387_7URktJZt"
      },
      "source": [
        "from sklearn import linear_model\n",
        "#modify the data to work with this library\n",
        "y = regression_df['tomorrow']\n",
        "X = regression_df.drop(columns=['tomorrow'], axis=1)"
      ],
      "execution_count": 61,
      "outputs": []
    },
    {
      "cell_type": "code",
      "metadata": {
        "id": "-WO7mD3ZvaeE",
        "outputId": "2c2570f9-3b58-49c5-db0d-31be0aec71b8",
        "colab": {
          "base_uri": "https://localhost:8080/"
        }
      },
      "source": [
        "reg = linear_model.LinearRegression()\n",
        "reg.fit(X,y)"
      ],
      "execution_count": 62,
      "outputs": [
        {
          "output_type": "execute_result",
          "data": {
            "text/plain": [
              "LinearRegression(copy_X=True, fit_intercept=True, n_jobs=None, normalize=False)"
            ]
          },
          "metadata": {
            "tags": []
          },
          "execution_count": 62
        }
      ]
    },
    {
      "cell_type": "code",
      "metadata": {
        "id": "YmTVBl9mvytT",
        "outputId": "e0282927-56cc-417c-a65a-14551df11ea4",
        "colab": {
          "base_uri": "https://localhost:8080/",
          "height": 265
        }
      },
      "source": [
        "plt.scatter(y, reg.predict(X), color='blue')\n",
        "plt.xlim(-0.1,2.1)\n",
        "plt.ylim(-0.1,2.1)\n",
        "plt.show()"
      ],
      "execution_count": 66,
      "outputs": [
        {
          "output_type": "display_data",
          "data": {
            "image/png": "[encoded data removed]",
            "text/plain": [
              "<Figure size 432x288 with 1 Axes>"
            ]
          },
          "metadata": {
            "tags": [],
            "needs_background": "light"
          }
        }
      ]
    },
    {
      "cell_type": "code",
      "metadata": {
        "id": "TAsAv4c-x1lb",
        "outputId": "67661a98-6f4e-4204-ecdf-9ffdf4d20b0a",
        "colab": {
          "base_uri": "https://localhost:8080/",
          "height": 283
        }
      },
      "source": [
        "plt.plot(y, reg.predict(X), color='blue', linewidth=0.1)"
      ],
      "execution_count": 68,
      "outputs": [
        {
          "output_type": "execute_result",
          "data": {
            "text/plain": [
              "[<matplotlib.lines.Line2D at 0x7f0ddc64fc50>]"
            ]
          },
          "metadata": {
            "tags": []
          },
          "execution_count": 68
        },
        {
          "output_type": "display_data",
          "data": {
            "image/png": "[encoded data removed]",
            "text/plain": [
              "<Figure size 432x288 with 1 Axes>"
            ]
          },
          "metadata": {
            "tags": [],
            "needs_background": "light"
          }
        }
      ]
    }
  ]
}