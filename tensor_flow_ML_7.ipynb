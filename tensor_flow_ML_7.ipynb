{
  "nbformat": 4,
  "nbformat_minor": 0,
  "metadata": {
    "kernelspec": {
      "display_name": "Python [conda env:root] *",
      "language": "python",
      "name": "conda-root-py"
    },
    "language_info": {
      "codemirror_mode": {
        "name": "ipython",
        "version": 3
      },
      "file_extension": ".py",
      "mimetype": "text/x-python",
      "name": "python",
      "nbconvert_exporter": "python",
      "pygments_lexer": "ipython3",
      "version": "3.8.5"
    },
    "colab": {
      "name": "tensor_flow_ML_7.ipynb",
      "provenance": [],
      "include_colab_link": true
    }
  },
  "cells": [
    {
      "cell_type": "markdown",
      "metadata": {
        "id": "view-in-github",
        "colab_type": "text"
      },
      "source": [
        "<a href=\"https://colab.research.google.com/github/Hutaf/SDA-Machine-Learning/blob/daily.activities/tensor_flow_ML_7.ipynb\" target=\"_parent\"><img src=\"https://colab.research.google.com/assets/colab-badge.svg\" alt=\"Open In Colab\"/></a>"
      ]
    },
    {
      "cell_type": "markdown",
      "metadata": {
        "id": "80CmV45dXcTP"
      },
      "source": [
        "# Task 1: Introduction\n",
        "\n",
        "---\n",
        "\n",
        "The platform has taken a turn for more regression so let's dig deep and play with some real world technologies that everyone needs to know about. TensorFlow and Keras are now linked. We can also run a CPU version of TF on our local machines. \n",
        "\n",
        "For this project, we are going to work on evaluating price of houses given the following features:\n",
        "\n",
        "1. Year of sale of the house\n",
        "2. The age of the house at the time of sale\n",
        "3. Distance from city center\n",
        "4. Number of stores in the locality\n",
        "5. The latitude\n",
        "6. The longitude\n",
        "\n",
        "Note: This notebook uses `python 3` and these packages: `tensorflow`, `pandas`, `matplotlib`, `scikit-learn`."
      ]
    },
    {
      "cell_type": "markdown",
      "metadata": {
        "id": "tkTEZGlrXcTS"
      },
      "source": [
        "## 1.1: Importing Libraries & Helper Functions\n",
        "\n",
        "First of all, we will need to import some libraries and helper functions. This includes TensorFlow and some utility functions that I've written to save time."
      ]
    },
    {
      "cell_type": "code",
      "metadata": {
        "scrolled": true,
        "id": "CnEexIudXcTT",
        "outputId": "f799ef6b-6751-4696-ced2-f7cdcc122217",
        "colab": {
          "base_uri": "https://localhost:8080/"
        }
      },
      "source": [
        "import pandas as pd\n",
        "import matplotlib.pyplot as plt\n",
        "import tensorflow as tf\n",
        "\n",
        "#from utils import *\n",
        "from sklearn.model_selection import train_test_split\n",
        "from tensorflow.keras.models import Sequential\n",
        "from tensorflow.keras.layers import Dense, Dropout\n",
        "from tensorflow.keras.callbacks import EarlyStopping, LambdaCallback\n",
        "\n",
        "%matplotlib inline\n",
        "#tf.logging.set_verbosity(tf.logging.ERROR)\n",
        "\n",
        "print('Libraries imported.')"
      ],
      "execution_count": 2,
      "outputs": [
        {
          "output_type": "stream",
          "text": [
            "Libraries imported.\n"
          ],
          "name": "stdout"
        }
      ]
    },
    {
      "cell_type": "markdown",
      "metadata": {
        "id": "j_bFJw0IXcTY"
      },
      "source": [
        "# Task 2: Importing the Data"
      ]
    },
    {
      "cell_type": "markdown",
      "metadata": {
        "id": "sRwQxWZ-XcTZ"
      },
      "source": [
        "## 2.1: Importing the Data\n",
        "\n",
        "The dataset is saved in a `data.csv` file. We will use `pandas` to take a look at some of the rows."
      ]
    },
    {
      "cell_type": "code",
      "metadata": {
        "id": "bCl2yU-cXcTa"
      },
      "source": [
        "column_names = ['serial', 'date', 'age', 'distance', 'stores', 'latitude', 'longitude', 'price']"
      ],
      "execution_count": 3,
      "outputs": []
    },
    {
      "cell_type": "code",
      "metadata": {
        "id": "n7kGx1TQXcTd",
        "outputId": "1bb7e683-4d40-4cfe-9889-62f7eded6fc1",
        "colab": {
          "base_uri": "https://localhost:8080/",
          "height": 202
        }
      },
      "source": [
        "filepath = 'https://raw.githubusercontent.com/daniel-dc-cd/data_science/master/daily_materials/tensorflow_keras_regression/data.csv'\n",
        "df = pd.read_csv(filepath, names = column_names)\n",
        "df.head()"
      ],
      "execution_count": 4,
      "outputs": [
        {
          "output_type": "execute_result",
          "data": {
            "text/html": [
              "<div>\n",
              "<style scoped>\n",
              "    .dataframe tbody tr th:only-of-type {\n",
              "        vertical-align: middle;\n",
              "    }\n",
              "\n",
              "    .dataframe tbody tr th {\n",
              "        vertical-align: top;\n",
              "    }\n",
              "\n",
              "    .dataframe thead th {\n",
              "        text-align: right;\n",
              "    }\n",
              "</style>\n",
              "<table border=\"1\" class=\"dataframe\">\n",
              "  <thead>\n",
              "    <tr style=\"text-align: right;\">\n",
              "      <th></th>\n",
              "      <th>serial</th>\n",
              "      <th>date</th>\n",
              "      <th>age</th>\n",
              "      <th>distance</th>\n",
              "      <th>stores</th>\n",
              "      <th>latitude</th>\n",
              "      <th>longitude</th>\n",
              "      <th>price</th>\n",
              "    </tr>\n",
              "  </thead>\n",
              "  <tbody>\n",
              "    <tr>\n",
              "      <th>0</th>\n",
              "      <td>0</td>\n",
              "      <td>2009</td>\n",
              "      <td>21</td>\n",
              "      <td>9</td>\n",
              "      <td>6</td>\n",
              "      <td>84</td>\n",
              "      <td>121</td>\n",
              "      <td>14264</td>\n",
              "    </tr>\n",
              "    <tr>\n",
              "      <th>1</th>\n",
              "      <td>1</td>\n",
              "      <td>2007</td>\n",
              "      <td>4</td>\n",
              "      <td>2</td>\n",
              "      <td>3</td>\n",
              "      <td>86</td>\n",
              "      <td>121</td>\n",
              "      <td>12032</td>\n",
              "    </tr>\n",
              "    <tr>\n",
              "      <th>2</th>\n",
              "      <td>2</td>\n",
              "      <td>2016</td>\n",
              "      <td>18</td>\n",
              "      <td>3</td>\n",
              "      <td>7</td>\n",
              "      <td>90</td>\n",
              "      <td>120</td>\n",
              "      <td>13560</td>\n",
              "    </tr>\n",
              "    <tr>\n",
              "      <th>3</th>\n",
              "      <td>3</td>\n",
              "      <td>2002</td>\n",
              "      <td>13</td>\n",
              "      <td>2</td>\n",
              "      <td>2</td>\n",
              "      <td>80</td>\n",
              "      <td>128</td>\n",
              "      <td>12029</td>\n",
              "    </tr>\n",
              "    <tr>\n",
              "      <th>4</th>\n",
              "      <td>4</td>\n",
              "      <td>2014</td>\n",
              "      <td>25</td>\n",
              "      <td>5</td>\n",
              "      <td>8</td>\n",
              "      <td>81</td>\n",
              "      <td>122</td>\n",
              "      <td>14157</td>\n",
              "    </tr>\n",
              "  </tbody>\n",
              "</table>\n",
              "</div>"
            ],
            "text/plain": [
              "   serial  date  age  distance  stores  latitude  longitude  price\n",
              "0       0  2009   21         9       6        84        121  14264\n",
              "1       1  2007    4         2       3        86        121  12032\n",
              "2       2  2016   18         3       7        90        120  13560\n",
              "3       3  2002   13         2       2        80        128  12029\n",
              "4       4  2014   25         5       8        81        122  14157"
            ]
          },
          "metadata": {
            "tags": []
          },
          "execution_count": 4
        }
      ]
    },
    {
      "cell_type": "code",
      "metadata": {
        "id": "9QkjaPKRePqS",
        "outputId": "9d52d0da-15a3-4485-a724-c15e16443f6d",
        "colab": {
          "base_uri": "https://localhost:8080/"
        }
      },
      "source": [
        "print(\"_\"*30)\n",
        "print(\"Shape:\", df.shape)\n",
        "print(\"_\"*30)\n",
        "print(df.info())\n",
        "print(\"_\"*30)\n",
        "print(df.describe())"
      ],
      "execution_count": 6,
      "outputs": [
        {
          "output_type": "stream",
          "text": [
            "______________________________\n",
            "Shape: (5000, 8)\n",
            "______________________________\n",
            "<class 'pandas.core.frame.DataFrame'>\n",
            "RangeIndex: 5000 entries, 0 to 4999\n",
            "Data columns (total 8 columns):\n",
            " #   Column     Non-Null Count  Dtype\n",
            "---  ------     --------------  -----\n",
            " 0   serial     5000 non-null   int64\n",
            " 1   date       5000 non-null   int64\n",
            " 2   age        5000 non-null   int64\n",
            " 3   distance   5000 non-null   int64\n",
            " 4   stores     5000 non-null   int64\n",
            " 5   latitude   5000 non-null   int64\n",
            " 6   longitude  5000 non-null   int64\n",
            " 7   price      5000 non-null   int64\n",
            "dtypes: int64(8)\n",
            "memory usage: 312.6 KB\n",
            "None\n",
            "______________________________\n",
            "            serial         date  ...    longitude         price\n",
            "count  5000.000000  5000.000000  ...  5000.000000   5000.000000\n",
            "mean   2499.500000  2008.912800  ...   124.994200  13906.638600\n",
            "std    1443.520003     5.457578  ...     3.167992   1020.774876\n",
            "min       0.000000  2000.000000  ...   120.000000  11263.000000\n",
            "25%    1249.750000  2004.000000  ...   122.000000  13197.750000\n",
            "50%    2499.500000  2009.000000  ...   125.000000  13893.500000\n",
            "75%    3749.250000  2014.000000  ...   128.000000  14614.000000\n",
            "max    4999.000000  2018.000000  ...   130.000000  16964.000000\n",
            "\n",
            "[8 rows x 8 columns]\n"
          ],
          "name": "stdout"
        }
      ]
    },
    {
      "cell_type": "markdown",
      "metadata": {
        "id": "jzn-qEIsXcTj"
      },
      "source": [
        "## 2.2: Check Missing Data\n",
        "\n",
        "It's a good practice to check if the data has any missing values. In real world data, this is quite common and must be taken care of before any data pre-processing or model training."
      ]
    },
    {
      "cell_type": "code",
      "metadata": {
        "id": "44JOYh19eud5",
        "outputId": "884f8642-e38c-4d09-8cbd-afa0ff81db3d",
        "colab": {
          "base_uri": "https://localhost:8080/"
        }
      },
      "source": [
        "df.isna().sum()"
      ],
      "execution_count": 8,
      "outputs": [
        {
          "output_type": "execute_result",
          "data": {
            "text/plain": [
              "serial       0\n",
              "date         0\n",
              "age          0\n",
              "distance     0\n",
              "stores       0\n",
              "latitude     0\n",
              "longitude    0\n",
              "price        0\n",
              "dtype: int64"
            ]
          },
          "metadata": {
            "tags": []
          },
          "execution_count": 8
        }
      ]
    },
    {
      "cell_type": "code",
      "metadata": {
        "id": "Ns7REi1JXcTj",
        "outputId": "037596b5-2fc2-453f-b5a0-3cb4f85eee28",
        "colab": {
          "base_uri": "https://localhost:8080/"
        }
      },
      "source": [
        "df.isna().value_counts()"
      ],
      "execution_count": 9,
      "outputs": [
        {
          "output_type": "execute_result",
          "data": {
            "text/plain": [
              "serial  date   age    distance  stores  latitude  longitude  price\n",
              "False   False  False  False     False   False     False      False    5000\n",
              "dtype: int64"
            ]
          },
          "metadata": {
            "tags": []
          },
          "execution_count": 9
        }
      ]
    },
    {
      "cell_type": "markdown",
      "metadata": {
        "id": "GEwO444aXcTm"
      },
      "source": [
        "# Task 3: Data Normalization"
      ]
    },
    {
      "cell_type": "markdown",
      "metadata": {
        "id": "kI3ME6oBXcTn"
      },
      "source": [
        "## 3.1: Data Normalization\n",
        "\n",
        "We can make it easier for optimization algorithms to find minimas by normalizing the data before training a model."
      ]
    },
    {
      "cell_type": "code",
      "metadata": {
        "id": "8smPEP5fXcTn",
        "outputId": "af9e4b16-e1f6-4d52-f257-8b71fc892a71",
        "colab": {
          "base_uri": "https://localhost:8080/",
          "height": 202
        }
      },
      "source": [
        "df = df.iloc[:, 1:]\n",
        "df.head()"
      ],
      "execution_count": 10,
      "outputs": [
        {
          "output_type": "execute_result",
          "data": {
            "text/html": [
              "<div>\n",
              "<style scoped>\n",
              "    .dataframe tbody tr th:only-of-type {\n",
              "        vertical-align: middle;\n",
              "    }\n",
              "\n",
              "    .dataframe tbody tr th {\n",
              "        vertical-align: top;\n",
              "    }\n",
              "\n",
              "    .dataframe thead th {\n",
              "        text-align: right;\n",
              "    }\n",
              "</style>\n",
              "<table border=\"1\" class=\"dataframe\">\n",
              "  <thead>\n",
              "    <tr style=\"text-align: right;\">\n",
              "      <th></th>\n",
              "      <th>date</th>\n",
              "      <th>age</th>\n",
              "      <th>distance</th>\n",
              "      <th>stores</th>\n",
              "      <th>latitude</th>\n",
              "      <th>longitude</th>\n",
              "      <th>price</th>\n",
              "    </tr>\n",
              "  </thead>\n",
              "  <tbody>\n",
              "    <tr>\n",
              "      <th>0</th>\n",
              "      <td>2009</td>\n",
              "      <td>21</td>\n",
              "      <td>9</td>\n",
              "      <td>6</td>\n",
              "      <td>84</td>\n",
              "      <td>121</td>\n",
              "      <td>14264</td>\n",
              "    </tr>\n",
              "    <tr>\n",
              "      <th>1</th>\n",
              "      <td>2007</td>\n",
              "      <td>4</td>\n",
              "      <td>2</td>\n",
              "      <td>3</td>\n",
              "      <td>86</td>\n",
              "      <td>121</td>\n",
              "      <td>12032</td>\n",
              "    </tr>\n",
              "    <tr>\n",
              "      <th>2</th>\n",
              "      <td>2016</td>\n",
              "      <td>18</td>\n",
              "      <td>3</td>\n",
              "      <td>7</td>\n",
              "      <td>90</td>\n",
              "      <td>120</td>\n",
              "      <td>13560</td>\n",
              "    </tr>\n",
              "    <tr>\n",
              "      <th>3</th>\n",
              "      <td>2002</td>\n",
              "      <td>13</td>\n",
              "      <td>2</td>\n",
              "      <td>2</td>\n",
              "      <td>80</td>\n",
              "      <td>128</td>\n",
              "      <td>12029</td>\n",
              "    </tr>\n",
              "    <tr>\n",
              "      <th>4</th>\n",
              "      <td>2014</td>\n",
              "      <td>25</td>\n",
              "      <td>5</td>\n",
              "      <td>8</td>\n",
              "      <td>81</td>\n",
              "      <td>122</td>\n",
              "      <td>14157</td>\n",
              "    </tr>\n",
              "  </tbody>\n",
              "</table>\n",
              "</div>"
            ],
            "text/plain": [
              "   date  age  distance  stores  latitude  longitude  price\n",
              "0  2009   21         9       6        84        121  14264\n",
              "1  2007    4         2       3        86        121  12032\n",
              "2  2016   18         3       7        90        120  13560\n",
              "3  2002   13         2       2        80        128  12029\n",
              "4  2014   25         5       8        81        122  14157"
            ]
          },
          "metadata": {
            "tags": []
          },
          "execution_count": 10
        }
      ]
    },
    {
      "cell_type": "code",
      "metadata": {
        "id": "yNVF9zCPXcTq"
      },
      "source": [
        "df_n = (df - df.mean())/df.std()"
      ],
      "execution_count": 11,
      "outputs": []
    },
    {
      "cell_type": "code",
      "metadata": {
        "id": "qSb_qmnVXcTt",
        "outputId": "78c62d42-f31f-4668-9809-2a78a5c4fd18",
        "colab": {
          "base_uri": "https://localhost:8080/",
          "height": 202
        }
      },
      "source": [
        "df_n.head()"
      ],
      "execution_count": 12,
      "outputs": [
        {
          "output_type": "execute_result",
          "data": {
            "text/html": [
              "<div>\n",
              "<style scoped>\n",
              "    .dataframe tbody tr th:only-of-type {\n",
              "        vertical-align: middle;\n",
              "    }\n",
              "\n",
              "    .dataframe tbody tr th {\n",
              "        vertical-align: top;\n",
              "    }\n",
              "\n",
              "    .dataframe thead th {\n",
              "        text-align: right;\n",
              "    }\n",
              "</style>\n",
              "<table border=\"1\" class=\"dataframe\">\n",
              "  <thead>\n",
              "    <tr style=\"text-align: right;\">\n",
              "      <th></th>\n",
              "      <th>date</th>\n",
              "      <th>age</th>\n",
              "      <th>distance</th>\n",
              "      <th>stores</th>\n",
              "      <th>latitude</th>\n",
              "      <th>longitude</th>\n",
              "      <th>price</th>\n",
              "    </tr>\n",
              "  </thead>\n",
              "  <tbody>\n",
              "    <tr>\n",
              "      <th>0</th>\n",
              "      <td>0.015978</td>\n",
              "      <td>0.181384</td>\n",
              "      <td>1.257002</td>\n",
              "      <td>0.345224</td>\n",
              "      <td>-0.307212</td>\n",
              "      <td>-1.260799</td>\n",
              "      <td>0.350088</td>\n",
              "    </tr>\n",
              "    <tr>\n",
              "      <th>1</th>\n",
              "      <td>-0.350485</td>\n",
              "      <td>-1.319118</td>\n",
              "      <td>-0.930610</td>\n",
              "      <td>-0.609312</td>\n",
              "      <td>0.325301</td>\n",
              "      <td>-1.260799</td>\n",
              "      <td>-1.836486</td>\n",
              "    </tr>\n",
              "    <tr>\n",
              "      <th>2</th>\n",
              "      <td>1.298598</td>\n",
              "      <td>-0.083410</td>\n",
              "      <td>-0.618094</td>\n",
              "      <td>0.663402</td>\n",
              "      <td>1.590328</td>\n",
              "      <td>-1.576456</td>\n",
              "      <td>-0.339584</td>\n",
              "    </tr>\n",
              "    <tr>\n",
              "      <th>3</th>\n",
              "      <td>-1.266643</td>\n",
              "      <td>-0.524735</td>\n",
              "      <td>-0.930610</td>\n",
              "      <td>-0.927491</td>\n",
              "      <td>-1.572238</td>\n",
              "      <td>0.948803</td>\n",
              "      <td>-1.839425</td>\n",
              "    </tr>\n",
              "    <tr>\n",
              "      <th>4</th>\n",
              "      <td>0.932135</td>\n",
              "      <td>0.534444</td>\n",
              "      <td>0.006938</td>\n",
              "      <td>0.981581</td>\n",
              "      <td>-1.255981</td>\n",
              "      <td>-0.945141</td>\n",
              "      <td>0.245266</td>\n",
              "    </tr>\n",
              "  </tbody>\n",
              "</table>\n",
              "</div>"
            ],
            "text/plain": [
              "       date       age  distance    stores  latitude  longitude     price\n",
              "0  0.015978  0.181384  1.257002  0.345224 -0.307212  -1.260799  0.350088\n",
              "1 -0.350485 -1.319118 -0.930610 -0.609312  0.325301  -1.260799 -1.836486\n",
              "2  1.298598 -0.083410 -0.618094  0.663402  1.590328  -1.576456 -0.339584\n",
              "3 -1.266643 -0.524735 -0.930610 -0.927491 -1.572238   0.948803 -1.839425\n",
              "4  0.932135  0.534444  0.006938  0.981581 -1.255981  -0.945141  0.245266"
            ]
          },
          "metadata": {
            "tags": []
          },
          "execution_count": 12
        }
      ]
    },
    {
      "cell_type": "markdown",
      "metadata": {
        "id": "herBvKVoXcT1"
      },
      "source": [
        "## 3.2: Convert Label Value\n",
        "\n",
        "Because we are using normalized values for the labels, we will get the predictions back from a trained model in the same distribution. So, we need to convert the predicted values back to the original distribution if we want predicted prices."
      ]
    },
    {
      "cell_type": "code",
      "metadata": {
        "id": "kjfb4dMwXcT1",
        "outputId": "baa42383-a536-4cc8-d8ad-ab544d41bfc1",
        "colab": {
          "base_uri": "https://localhost:8080/"
        }
      },
      "source": [
        "y_mean = df['price'].mean()\n",
        "y_std = df['price'].std()\n",
        "\n",
        "def convert_label_value(pred):\n",
        "    return int(pred * y_std + y_mean)\n",
        "\n",
        "print(convert_label_value(0.350088))"
      ],
      "execution_count": 13,
      "outputs": [
        {
          "output_type": "stream",
          "text": [
            "14263\n"
          ],
          "name": "stdout"
        }
      ]
    },
    {
      "cell_type": "markdown",
      "metadata": {
        "id": "k-itTC4XXcT4"
      },
      "source": [
        "# Task 4: Create Training and Test Sets"
      ]
    },
    {
      "cell_type": "markdown",
      "metadata": {
        "id": "3SgxGjyAXcT5"
      },
      "source": [
        "## 4.1: Select Features\n",
        "\n",
        "Make sure to remove the column __price__ from the list of features as it is the label and should not be used as a feature."
      ]
    },
    {
      "cell_type": "code",
      "metadata": {
        "id": "zRcn-7PxXcT5",
        "outputId": "215e84b9-5cc2-41fd-e450-792753271e43",
        "colab": {
          "base_uri": "https://localhost:8080/",
          "height": 202
        }
      },
      "source": [
        "x = df_n.iloc[:, :6]\n",
        "x.head()"
      ],
      "execution_count": 14,
      "outputs": [
        {
          "output_type": "execute_result",
          "data": {
            "text/html": [
              "<div>\n",
              "<style scoped>\n",
              "    .dataframe tbody tr th:only-of-type {\n",
              "        vertical-align: middle;\n",
              "    }\n",
              "\n",
              "    .dataframe tbody tr th {\n",
              "        vertical-align: top;\n",
              "    }\n",
              "\n",
              "    .dataframe thead th {\n",
              "        text-align: right;\n",
              "    }\n",
              "</style>\n",
              "<table border=\"1\" class=\"dataframe\">\n",
              "  <thead>\n",
              "    <tr style=\"text-align: right;\">\n",
              "      <th></th>\n",
              "      <th>date</th>\n",
              "      <th>age</th>\n",
              "      <th>distance</th>\n",
              "      <th>stores</th>\n",
              "      <th>latitude</th>\n",
              "      <th>longitude</th>\n",
              "    </tr>\n",
              "  </thead>\n",
              "  <tbody>\n",
              "    <tr>\n",
              "      <th>0</th>\n",
              "      <td>0.015978</td>\n",
              "      <td>0.181384</td>\n",
              "      <td>1.257002</td>\n",
              "      <td>0.345224</td>\n",
              "      <td>-0.307212</td>\n",
              "      <td>-1.260799</td>\n",
              "    </tr>\n",
              "    <tr>\n",
              "      <th>1</th>\n",
              "      <td>-0.350485</td>\n",
              "      <td>-1.319118</td>\n",
              "      <td>-0.930610</td>\n",
              "      <td>-0.609312</td>\n",
              "      <td>0.325301</td>\n",
              "      <td>-1.260799</td>\n",
              "    </tr>\n",
              "    <tr>\n",
              "      <th>2</th>\n",
              "      <td>1.298598</td>\n",
              "      <td>-0.083410</td>\n",
              "      <td>-0.618094</td>\n",
              "      <td>0.663402</td>\n",
              "      <td>1.590328</td>\n",
              "      <td>-1.576456</td>\n",
              "    </tr>\n",
              "    <tr>\n",
              "      <th>3</th>\n",
              "      <td>-1.266643</td>\n",
              "      <td>-0.524735</td>\n",
              "      <td>-0.930610</td>\n",
              "      <td>-0.927491</td>\n",
              "      <td>-1.572238</td>\n",
              "      <td>0.948803</td>\n",
              "    </tr>\n",
              "    <tr>\n",
              "      <th>4</th>\n",
              "      <td>0.932135</td>\n",
              "      <td>0.534444</td>\n",
              "      <td>0.006938</td>\n",
              "      <td>0.981581</td>\n",
              "      <td>-1.255981</td>\n",
              "      <td>-0.945141</td>\n",
              "    </tr>\n",
              "  </tbody>\n",
              "</table>\n",
              "</div>"
            ],
            "text/plain": [
              "       date       age  distance    stores  latitude  longitude\n",
              "0  0.015978  0.181384  1.257002  0.345224 -0.307212  -1.260799\n",
              "1 -0.350485 -1.319118 -0.930610 -0.609312  0.325301  -1.260799\n",
              "2  1.298598 -0.083410 -0.618094  0.663402  1.590328  -1.576456\n",
              "3 -1.266643 -0.524735 -0.930610 -0.927491 -1.572238   0.948803\n",
              "4  0.932135  0.534444  0.006938  0.981581 -1.255981  -0.945141"
            ]
          },
          "metadata": {
            "tags": []
          },
          "execution_count": 14
        }
      ]
    },
    {
      "cell_type": "markdown",
      "metadata": {
        "id": "f3zMeRqZXcT8"
      },
      "source": [
        "## 4.2: Select Labels"
      ]
    },
    {
      "cell_type": "code",
      "metadata": {
        "id": "QsN1gomqXcT8",
        "outputId": "2ff33e62-9860-4bab-d1d4-9334e37d8839",
        "colab": {
          "base_uri": "https://localhost:8080/",
          "height": 202
        }
      },
      "source": [
        "y = df_n.iloc[:, -1:]\n",
        "y.head()"
      ],
      "execution_count": 15,
      "outputs": [
        {
          "output_type": "execute_result",
          "data": {
            "text/html": [
              "<div>\n",
              "<style scoped>\n",
              "    .dataframe tbody tr th:only-of-type {\n",
              "        vertical-align: middle;\n",
              "    }\n",
              "\n",
              "    .dataframe tbody tr th {\n",
              "        vertical-align: top;\n",
              "    }\n",
              "\n",
              "    .dataframe thead th {\n",
              "        text-align: right;\n",
              "    }\n",
              "</style>\n",
              "<table border=\"1\" class=\"dataframe\">\n",
              "  <thead>\n",
              "    <tr style=\"text-align: right;\">\n",
              "      <th></th>\n",
              "      <th>price</th>\n",
              "    </tr>\n",
              "  </thead>\n",
              "  <tbody>\n",
              "    <tr>\n",
              "      <th>0</th>\n",
              "      <td>0.350088</td>\n",
              "    </tr>\n",
              "    <tr>\n",
              "      <th>1</th>\n",
              "      <td>-1.836486</td>\n",
              "    </tr>\n",
              "    <tr>\n",
              "      <th>2</th>\n",
              "      <td>-0.339584</td>\n",
              "    </tr>\n",
              "    <tr>\n",
              "      <th>3</th>\n",
              "      <td>-1.839425</td>\n",
              "    </tr>\n",
              "    <tr>\n",
              "      <th>4</th>\n",
              "      <td>0.245266</td>\n",
              "    </tr>\n",
              "  </tbody>\n",
              "</table>\n",
              "</div>"
            ],
            "text/plain": [
              "      price\n",
              "0  0.350088\n",
              "1 -1.836486\n",
              "2 -0.339584\n",
              "3 -1.839425\n",
              "4  0.245266"
            ]
          },
          "metadata": {
            "tags": []
          },
          "execution_count": 15
        }
      ]
    },
    {
      "cell_type": "markdown",
      "metadata": {
        "id": "W_c1UD_XXcUA"
      },
      "source": [
        "## 4.3: Feature and Label Values\n",
        "\n",
        "We will need to extract just the numeric values for the features and labels as the TensorFlow model will expect just numeric values as input."
      ]
    },
    {
      "cell_type": "code",
      "metadata": {
        "id": "G4SGRjxuXcUB",
        "outputId": "05adcc25-e382-4c46-9221-f56be5014881",
        "colab": {
          "base_uri": "https://localhost:8080/"
        }
      },
      "source": [
        "x_arr = x.values\n",
        "y_arr = y.values\n",
        "\n",
        "print('features array shape:', x_arr.shape)\n",
        "print('labels array shape:',y_arr.shape)"
      ],
      "execution_count": 16,
      "outputs": [
        {
          "output_type": "stream",
          "text": [
            "features array shape: (5000, 6)\n",
            "labels array shape: (5000, 1)\n"
          ],
          "name": "stdout"
        }
      ]
    },
    {
      "cell_type": "markdown",
      "metadata": {
        "id": "2rc9zIwyXcUD"
      },
      "source": [
        "## 4.4: Train and Test Split\n",
        "\n",
        "We will keep some part of the data aside as a __test__ set. The model will not use this set during training and it will be used only for checking the performance of the model in trained and un-trained states. This way, we can make sure that we are going in the right direction with our model training."
      ]
    },
    {
      "cell_type": "code",
      "metadata": {
        "id": "Rj3IkPjiXcUE",
        "outputId": "a79183ae-bf29-4414-8148-da2eb4dde0e2",
        "colab": {
          "base_uri": "https://localhost:8080/"
        }
      },
      "source": [
        "X_train, X_test, y_train, y_test = train_test_split(x_arr, y_arr, test_size=0.05, random_state=0)\n",
        "print(\"X_t:\",X_train.shape)\n",
        "print(\"x_te:\",X_test.shape)\n",
        "print(\"y_t:\",y_train.shape)\n",
        "print(\"y_te:\",y_test.shape)"
      ],
      "execution_count": 17,
      "outputs": [
        {
          "output_type": "stream",
          "text": [
            "X_t: (4750, 6)\n",
            "x_te: (250, 6)\n",
            "y_t: (4750, 1)\n",
            "y_te: (250, 1)\n"
          ],
          "name": "stdout"
        }
      ]
    },
    {
      "cell_type": "markdown",
      "metadata": {
        "id": "o0B4abAtXcUG"
      },
      "source": [
        "# Task 5: Create the Model"
      ]
    },
    {
      "cell_type": "markdown",
      "metadata": {
        "id": "gYHta07XXcUH"
      },
      "source": [
        "## 5.1: Create the Model\n",
        "\n",
        "Let's write a function that returns an untrained model of a certain architecture."
      ]
    },
    {
      "cell_type": "code",
      "metadata": {
        "id": "zr2H75zJXcUI",
        "outputId": "cfc086fd-e4d3-40e2-9780-8070d5e8dacb",
        "colab": {
          "base_uri": "https://localhost:8080/"
        }
      },
      "source": [
        "def get_model():\n",
        "    model = Sequential()\n",
        "    model.add(Dense(10, input_shape =(6,), activation='relu'))\n",
        "    model.add(Dense(20, activation='relu'))\n",
        "    model.add(Dense(5, activation='relu'))\n",
        "    model.add(Dense(1))\n",
        "    \n",
        "    model.compile(loss='mse', optimizer='adam')\n",
        "    return model\n",
        "\n",
        "get_model().summary()"
      ],
      "execution_count": 25,
      "outputs": [
        {
          "output_type": "stream",
          "text": [
            "Model: \"sequential_2\"\n",
            "_________________________________________________________________\n",
            "Layer (type)                 Output Shape              Param #   \n",
            "=================================================================\n",
            "dense_8 (Dense)              (None, 10)                70        \n",
            "_________________________________________________________________\n",
            "dense_9 (Dense)              (None, 20)                220       \n",
            "_________________________________________________________________\n",
            "dense_10 (Dense)             (None, 5)                 105       \n",
            "_________________________________________________________________\n",
            "dense_11 (Dense)             (None, 1)                 6         \n",
            "=================================================================\n",
            "Total params: 401\n",
            "Trainable params: 401\n",
            "Non-trainable params: 0\n",
            "_________________________________________________________________\n"
          ],
          "name": "stdout"
        }
      ]
    },
    {
      "cell_type": "markdown",
      "metadata": {
        "id": "JQzLyLk6XcUK"
      },
      "source": [
        "# Task 6: Model Training"
      ]
    },
    {
      "cell_type": "markdown",
      "metadata": {
        "id": "r6Q-e7KWXcUL"
      },
      "source": [
        "## 6.1: Model Training\n",
        "\n",
        "We can use an `EarlyStopping` callback from Keras to stop the model training if the validation loss stops decreasing for a few epochs."
      ]
    },
    {
      "cell_type": "code",
      "metadata": {
        "id": "e-Ugj57EXcUL",
        "outputId": "dfe2c4ec-a2b7-4010-c2a7-7a6f32eddda3",
        "colab": {
          "base_uri": "https://localhost:8080/"
        }
      },
      "source": [
        "es_cb = EarlyStopping(monitor='val_loss', patience=5)\n",
        "\n",
        "model = get_model()\n",
        "preds_on_untrained = model.predict(X_test)\n",
        "\n",
        "history = model.fit(\n",
        "    X_train, y_train,\n",
        "    validation_data = (X_test, y_test),\n",
        "    epochs = 100,\n",
        "    callbacks = [es_cb]\n",
        ")"
      ],
      "execution_count": 26,
      "outputs": [
        {
          "output_type": "stream",
          "text": [
            "Epoch 1/100\n",
            "149/149 [==============================] - 0s 2ms/step - loss: 0.6850 - val_loss: 0.2822\n",
            "Epoch 2/100\n",
            "149/149 [==============================] - 0s 1ms/step - loss: 0.2485 - val_loss: 0.1703\n",
            "Epoch 3/100\n",
            "149/149 [==============================] - 0s 1ms/step - loss: 0.1938 - val_loss: 0.1613\n",
            "Epoch 4/100\n",
            "149/149 [==============================] - 0s 1ms/step - loss: 0.1792 - val_loss: 0.1556\n",
            "Epoch 5/100\n",
            "149/149 [==============================] - 0s 1ms/step - loss: 0.1713 - val_loss: 0.1590\n",
            "Epoch 6/100\n",
            "149/149 [==============================] - 0s 1ms/step - loss: 0.1659 - val_loss: 0.1574\n",
            "Epoch 7/100\n",
            "149/149 [==============================] - 0s 1ms/step - loss: 0.1633 - val_loss: 0.1560\n",
            "Epoch 8/100\n",
            "149/149 [==============================] - 0s 1ms/step - loss: 0.1613 - val_loss: 0.1560\n",
            "Epoch 9/100\n",
            "149/149 [==============================] - 0s 1ms/step - loss: 0.1599 - val_loss: 0.1588\n"
          ],
          "name": "stdout"
        }
      ]
    },
    {
      "cell_type": "markdown",
      "metadata": {
        "id": "qCIbLqyDXcUS"
      },
      "source": [
        "## 6.2: Plot Training and Validation Loss\n",
        "\n",
        "Let's use the `plot_loss` helper function to take a look training and validation loss."
      ]
    },
    {
      "cell_type": "code",
      "metadata": {
        "id": "y3VkpQjtXcUT",
        "outputId": "eb0987c0-8cdf-497f-8150-f16f34b3e954",
        "colab": {
          "base_uri": "https://localhost:8080/",
          "height": 497
        }
      },
      "source": [
        "def plot_loss(history):\n",
        "    h = history.history\n",
        "    x_lim = len(h['loss'])\n",
        "    plt.figure(figsize=(8, 8))\n",
        "    plt.plot(range(x_lim), h['val_loss'], label = 'Validation Loss')\n",
        "    plt.plot(range(x_lim), h['loss'], label = 'Training Loss')\n",
        "    plt.xlabel('Epochs')\n",
        "    plt.ylabel('Loss')\n",
        "    plt.legend()\n",
        "    plt.show()\n",
        "    return\n",
        "\n",
        "plot_loss(history)"
      ],
      "execution_count": 27,
      "outputs": [
        {
          "output_type": "display_data",
          "data": {
            "image/png": "[encoded data removed]",
            "text/plain": [
              "<Figure size 576x576 with 1 Axes>"
            ]
          },
          "metadata": {
            "tags": [],
            "needs_background": "light"
          }
        }
      ]
    },
    {
      "cell_type": "markdown",
      "metadata": {
        "id": "_dBFHiKTXcUX"
      },
      "source": [
        "# Task 7: Predictions"
      ]
    },
    {
      "cell_type": "markdown",
      "metadata": {
        "id": "SKrPHQ19XcUX"
      },
      "source": [
        "## 7.1: Plot Raw Predictions\n",
        "\n",
        "Let's use the `compare_predictions` helper function to compare predictions from the model when it was untrained and when it was trained."
      ]
    },
    {
      "cell_type": "code",
      "metadata": {
        "id": "XOLzjdVLXcUY"
      },
      "source": [
        "def compare_predictions(preds1, preds2, y_test):\n",
        "    plt.figure(figsize=(8, 8))\n",
        "    plt.plot(preds1, y_test, 'ro', label='Untrained Model')\n",
        "    plt.plot(preds2, y_test, 'go', label='Trained Model')\n",
        "    plt.xlabel('Preds')\n",
        "    plt.ylabel('Labels')\n",
        "\n",
        "    y_min = min(min(y_test), min(preds1), min(preds2))\n",
        "    y_max = max(max(y_test), max(preds1), max(preds2))\n",
        "\n",
        "    plt.xlim([y_min, y_max])\n",
        "    plt.ylim([y_min, y_max])\n",
        "    plt.plot([y_min, y_max], [y_min, y_max], 'b--')\n",
        "    plt.legend()\n",
        "    plt.show()\n",
        "    return"
      ],
      "execution_count": 28,
      "outputs": []
    },
    {
      "cell_type": "code",
      "metadata": {
        "id": "DR3vcjXgXcUb",
        "outputId": "082d8048-488c-4afb-ca59-5d235195ed42",
        "colab": {
          "base_uri": "https://localhost:8080/",
          "height": 497
        }
      },
      "source": [
        "preds_on_trained = model.predict(X_test)\n",
        "compare_predictions(preds_on_untrained, preds_on_trained, y_test)"
      ],
      "execution_count": 29,
      "outputs": [
        {
          "output_type": "display_data",
          "data": {
            "image/png": "[encoded data removed]",
            "text/plain": [
              "<Figure size 576x576 with 1 Axes>"
            ]
          },
          "metadata": {
            "tags": [],
            "needs_background": "light"
          }
        }
      ]
    },
    {
      "cell_type": "markdown",
      "metadata": {
        "id": "lPrUVcPaXcUe"
      },
      "source": [
        "## 7.2: Plot Price Predictions\n",
        "\n",
        "The plot for price predictions and raw predictions will look the same with just one difference: The x and y axis scale is changed."
      ]
    },
    {
      "cell_type": "code",
      "metadata": {
        "id": "FwO5vnKHXcUf"
      },
      "source": [
        "def plot_predictions(preds, y_test):\n",
        "    plt.figure(figsize=(8, 8))\n",
        "    plt.plot(preds, y_test, 'ro')\n",
        "    plt.xlabel('Preds')\n",
        "    plt.ylabel('Labels')\n",
        "    plt.xlim([-0.5, 0.5])\n",
        "    plt.ylim([-0.5, 0.5])\n",
        "    plt.plot([-0.5, 0.5], [-0.5, 0.5], 'b--')\n",
        "    plt.show()\n",
        "    return"
      ],
      "execution_count": 30,
      "outputs": []
    },
    {
      "cell_type": "code",
      "metadata": {
        "id": "I_W9ZLo9XcUi",
        "outputId": "5bf9d739-76db-4e0d-fe55-ca79c4b250cf",
        "colab": {
          "base_uri": "https://localhost:8080/",
          "height": 497
        }
      },
      "source": [
        "price_untrained = [convert_label_value(y) for y in preds_on_untrained]\n",
        "price_trained = [convert_label_value(y) for y in preds_on_trained]\n",
        "price_test = [convert_label_value(y) for y in y_test]\n",
        "\n",
        "compare_predictions(price_untrained, price_trained, price_test)"
      ],
      "execution_count": 31,
      "outputs": [
        {
          "output_type": "display_data",
          "data": {
            "image/png": "[encoded data removed]",
            "text/plain": [
              "<Figure size 576x576 with 1 Axes>"
            ]
          },
          "metadata": {
            "tags": [],
            "needs_background": "light"
          }
        }
      ]
    }
  ]
}