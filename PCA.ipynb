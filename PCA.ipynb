{
  "nbformat": 4,
  "nbformat_minor": 0,
  "metadata": {
    "kernelspec": {
      "name": "python3",
      "display_name": "Python 3",
      "language": "python"
    },
    "language_info": {
      "mimetype": "text/x-python",
      "nbconvert_exporter": "python",
      "name": "python",
      "file_extension": ".py",
      "version": "3.5.4",
      "pygments_lexer": "ipython3",
      "codemirror_mode": {
        "version": 3,
        "name": "ipython"
      }
    },
    "colab": {
      "name": "PCA.ipynb",
      "provenance": [],
      "include_colab_link": true
    }
  },
  "cells": [
    {
      "cell_type": "markdown",
      "metadata": {
        "id": "view-in-github",
        "colab_type": "text"
      },
      "source": [
        "<a href=\"https://colab.research.google.com/github/Hutaf/SDA-Machine-Learning/blob/daily.activities/PCA.ipynb\" target=\"_parent\"><img src=\"https://colab.research.google.com/assets/colab-badge.svg\" alt=\"Open In Colab\"/></a>"
      ]
    },
    {
      "cell_type": "markdown",
      "metadata": {
        "id": "FtMPpp8s9LYg"
      },
      "source": [
        "# Section 1.2: Dimension reduction and principal component analysis (PCA)\n",
        "\n",
        "One of the iron laws of data science is know as the \"[curse of dimensionality](https://en.wikipedia.org/wiki/Curse_of_dimensionality)\": as the number of considered features (dimensions) of a space increases, the number of data configurations grows exponentially. Thus the number of observations (data points) needed to account for these configurations must also increase. This fact of life has huge ramifications for the time, computational effort, and memory required. As a result, it is often desirable to reduce the number of dimensions we work with.\n",
        "\n",
        "The challenge is determining which features we can remove from our analysis.\n",
        "\n",
        "Not all features are created equal. Certain features may impede our analysis, or simply not be overly important. We need to identify the features to exclude, but obviously we can only take this so far. At a certain point reducing dimensions will also reduce the accuracy of a classifier and our analysis.\n",
        "\n",
        "## Our scenario\n",
        "\n",
        "We have a collection of foods and their nutrients. We'd like to group them together so we can see similar items. Our traditional categorization of dairy or vegetables aren't descriptive enouth, and can be a little misleading. For example, not all fruits are created equal - an avocado is rather different from a apple. We'd like to group our foods together based on their composition.\n",
        "\n",
        "As we begin our analysis, our initial challenge is trying to determine what makes a food item a food item? What components are most important? It's a real struggle to try to determine what components we should focus on."
      ]
    },
    {
      "cell_type": "markdown",
      "metadata": {
        "id": "luOohVL89LYh"
      },
      "source": [
        "## PCA in theory\n",
        "\n",
        "One way to reduce the number of dimensions we have to work with is by projecting (or converting) our feature space into a lower dimensional space. The reason why we can do this is that in most real-world problems, data points are not spread uniformly across all dimensions. Some features might be near constant, while others are highly correlated, which means that those data points lie close to a lower-dimensional subspace.\n",
        "\n",
        "\n",
        "### An analogy\n",
        "\n",
        "We can picture the process of PCA reducing the number of dimensions as we would, well, a picture. A picture is a two-dimensional representation of a three-dimensional world. But the reason a pixel sits where it does on a picture and looks how it looks is because of where it is on the X, Y and Z coordinates which make up the world we see. The picture isn't merely taking a two-dimensional slice, but rather consolidating three dimensions into two **new** dimensions.\n",
        "\n",
        "This is especially evident in a picture with a [bokeh](https://en.wikipedia.org/wiki/Bokeh) effect (those pictures where the subject is in focus and everything else is blurry). The photographer has exerted a fair bit of control over how the conversion from 3-D to 2-D is going to take place. The pixels making up our subject will show as sharp, while all other pixels will be fuzzy. Basically, the photographer is drawing our eyes to what's important.\n",
        "\n",
        "We can do the same with the dimensions (or columns) in our data, reducing the number and allowing us to focus (pun intended) on the important information.\n",
        "\n",
        "## PCA in action\n",
        "\n",
        "PCA behaves much in the same way, by allowing us to focus on what's important, specifically variance. Where are we seeing a spread of data? Where are we seeing change? What's truly impacting the data?\n",
        "\n",
        "Let's take a look at an example of a three dimensional data space as represented in the image below. The data points are not spread across the entire plane, but are nicely clumped, roughly in an oval. Because the cluster (or, indeed, any cluster) is roughly elliptical, it can be mathematically described by two values: its major (long) axis and its minor (short) axis. These axes form the *principal components* of the cluster. Basically, this is where the magic is happening for our data.\n",
        "\n",
        "<img align=\"center\" style=\"padding-right:10px;\" src=\"https://github.com/daniel-dc-cd/data_science/blob/master/daily_materials/ml_kmeans_nb_regression/Images/PCA.png?raw=1\">\n",
        "\n",
        "We can **construct a whole new feature space** around this cluster, defined by two *eigenvectors* (the vectors that define the linear transformation to this new feature space), $c_{1}$ and $c_{2}$. Better still, we don't have to consider all of the dimensions of this new space. Intuitively, we can see that most of the points lie on or close to the line that runs through $c_{1}$. So, if we project the cluster down from two dimensions to that single dimension, we capture most of the information about this data sense while simplifying our analysis. This ability to extract most of the information from a dataset by considering only a fraction of its definitive eigenvectors forms the heart of principal component analysis (PCA).\n",
        "\n",
        "## Import modules and dataset\n",
        "\n",
        "You will need to clean and prepare the data in order to conduct PCA on it, so pandas will be essential. You will also need NumPy, a bit of Scikit Learn, and pyplot."
      ]
    },
    {
      "cell_type": "code",
      "metadata": {
        "trusted": true,
        "id": "pZEA-_0z9LYi"
      },
      "source": [
        "import pandas as pd\n",
        "import numpy as np\n",
        "from sklearn.decomposition import PCA\n",
        "from sklearn.preprocessing import StandardScaler\n",
        "import matplotlib.pyplot as plt\n",
        "%matplotlib inline"
      ],
      "execution_count": 1,
      "outputs": []
    },
    {
      "cell_type": "markdown",
      "metadata": {
        "id": "7r0vwcGa9LYn"
      },
      "source": [
        "The dataset we’ll use here is the same one drawn from the [U.S. Department of Agriculture National Nutrient Database for Standard Reference](https://www.ars.usda.gov/northeast-area/beltsville-md-bhnrc/beltsville-human-nutrition-research-center/nutrient-data-laboratory/docs/usda-national-nutrient-database-for-standard-reference/) that you prepared in Section 1.1. Remember to set the encoding to `latin_1` (for those darn µg)."
      ]
    },
    {
      "cell_type": "code",
      "metadata": {
        "trusted": true,
        "id": "KRPfsa-b9LYn"
      },
      "source": [
        "df = pd.read_csv('https://raw.githubusercontent.com/daniel-dc-cd/data_science/master/daily_materials/ml_kmeans_nb_regression/Data/USDA-nndb-combined.csv', encoding='latin_1')"
      ],
      "execution_count": 2,
      "outputs": []
    },
    {
      "cell_type": "markdown",
      "metadata": {
        "id": "Wee2dch_9LYs"
      },
      "source": [
        "We can check the number of columns and rows using the `info()` method for the `DataFrame`."
      ]
    },
    {
      "cell_type": "code",
      "metadata": {
        "trusted": true,
        "id": "9GOJ00-P9LYt",
        "outputId": "5cb6ce09-8f9d-4675-8d86-b30ef2cb7a55",
        "colab": {
          "base_uri": "https://localhost:8080/"
        }
      },
      "source": [
        "df.info()"
      ],
      "execution_count": 3,
      "outputs": [
        {
          "output_type": "stream",
          "text": [
            "<class 'pandas.core.frame.DataFrame'>\n",
            "RangeIndex: 8989 entries, 0 to 8988\n",
            "Data columns (total 54 columns):\n",
            " #   Column             Non-Null Count  Dtype  \n",
            "---  ------             --------------  -----  \n",
            " 0   NDB_No             8989 non-null   int64  \n",
            " 1   FoodGroup          8618 non-null   object \n",
            " 2   Shrt_Desc          8790 non-null   object \n",
            " 3   Water_(g)          8789 non-null   float64\n",
            " 4   Energ_Kcal         8790 non-null   float64\n",
            " 5   Protein_(g)        8790 non-null   float64\n",
            " 6   Lipid_Tot_(g)      8790 non-null   float64\n",
            " 7   Ash_(g)            8465 non-null   float64\n",
            " 8   Carbohydrt_(g)     8790 non-null   float64\n",
            " 9   Fiber_TD_(g)       8196 non-null   float64\n",
            " 10  Sugar_Tot_(g)      6958 non-null   float64\n",
            " 11  Calcium_(mg)       8442 non-null   float64\n",
            " 12  Iron_(mg)          8646 non-null   float64\n",
            " 13  Magnesium_(mg)     8051 non-null   float64\n",
            " 14  Phosphorus_(mg)    8211 non-null   float64\n",
            " 15  Potassium_(mg)     8364 non-null   float64\n",
            " 16  Sodium_(mg)        8707 non-null   float64\n",
            " 17  Zinc_(mg)          8084 non-null   float64\n",
            " 18  Copper_mg)         7533 non-null   float64\n",
            " 19  Manganese_(mg)     6630 non-null   float64\n",
            " 20  Selenium_(Âµg)     7090 non-null   float64\n",
            " 21  Vit_C_(mg)         7972 non-null   float64\n",
            " 22  Thiamin_(mg)       8156 non-null   float64\n",
            " 23  Riboflavin_(mg)    8174 non-null   float64\n",
            " 24  Niacin_(mg)        8153 non-null   float64\n",
            " 25  Panto_Acid_mg)     6548 non-null   float64\n",
            " 26  Vit_B6_(mg)        7885 non-null   float64\n",
            " 27  Folate_Tot_(Âµg)   7529 non-null   float64\n",
            " 28  Folic_Acid_(Âµg)   6751 non-null   float64\n",
            " 29  Food_Folate_(Âµg)  7022 non-null   float64\n",
            " 30  Folate_DFE_(Âµg)   6733 non-null   float64\n",
            " 31  Choline_Tot_ (mg)  4774 non-null   float64\n",
            " 32  Vit_B12_(Âµg)      7597 non-null   float64\n",
            " 33  Vit_A_IU           8079 non-null   float64\n",
            " 34  Vit_A_RAE          7255 non-null   float64\n",
            " 35  Retinol_(Âµg)      6984 non-null   float64\n",
            " 36  Alpha_Carot_(Âµg)  5532 non-null   float64\n",
            " 37  Beta_Carot_(Âµg)   5628 non-null   float64\n",
            " 38  Beta_Crypt_(Âµg)   5520 non-null   float64\n",
            " 39  Lycopene_(Âµg)     5498 non-null   float64\n",
            " 40  Lut+Zea_ (Âµg)     5475 non-null   float64\n",
            " 41  Vit_E_(mg)         5901 non-null   float64\n",
            " 42  Vit_D_Âµg          5528 non-null   float64\n",
            " 43  Vit_D_IU           5579 non-null   float64\n",
            " 44  Vit_K_(Âµg)        5227 non-null   float64\n",
            " 45  FA_Sat_(g)         8441 non-null   float64\n",
            " 46  FA_Mono_(g)        8124 non-null   float64\n",
            " 47  FA_Poly_(g)        8125 non-null   float64\n",
            " 48  Cholestrl_(mg)     8380 non-null   float64\n",
            " 49  GmWt_1             8490 non-null   float64\n",
            " 50  GmWt_Desc1         8491 non-null   object \n",
            " 51  GmWt_2             4825 non-null   float64\n",
            " 52  GmWt_Desc2         4825 non-null   object \n",
            " 53  Refuse_Pct         8740 non-null   float64\n",
            "dtypes: float64(49), int64(1), object(4)\n",
            "memory usage: 3.7+ MB\n"
          ],
          "name": "stdout"
        }
      ]
    },
    {
      "cell_type": "markdown",
      "metadata": {
        "id": "Jyuy2NPP9LYw"
      },
      "source": [
        "> **Exercise**\n",
        ">\n",
        "> Can you think of a more concise way to check the number of rows and columns in a `DataFrame`? (***Hint:*** Use one of the [attributes](https://pandas.pydata.org/pandas-docs/stable/reference/api/pandas.DataFrame.html) of the `DataFrame`.)"
      ]
    },
    {
      "cell_type": "code",
      "metadata": {
        "id": "pBH7IQZw-6wP",
        "outputId": "e519fb1a-9244-4d63-b7af-a68d973c8fbd",
        "colab": {
          "base_uri": "https://localhost:8080/"
        }
      },
      "source": [
        "df.shape"
      ],
      "execution_count": 18,
      "outputs": [
        {
          "output_type": "execute_result",
          "data": {
            "text/plain": [
              "(8989, 54)"
            ]
          },
          "metadata": {
            "tags": []
          },
          "execution_count": 18
        }
      ]
    },
    {
      "cell_type": "code",
      "metadata": {
        "trusted": true,
        "id": "v_iYoHe59LYw",
        "outputId": "cba5de39-b97f-4292-860a-45fe7f163682",
        "colab": {
          "base_uri": "https://localhost:8080/"
        }
      },
      "source": [
        "#number of rows\n",
        "len(df)"
      ],
      "execution_count": 19,
      "outputs": [
        {
          "output_type": "execute_result",
          "data": {
            "text/plain": [
              "8989"
            ]
          },
          "metadata": {
            "tags": []
          },
          "execution_count": 19
        }
      ]
    },
    {
      "cell_type": "code",
      "metadata": {
        "id": "8QW3pLrU-kkI",
        "outputId": "9c728460-622b-43e9-d73d-81747c58ab99",
        "colab": {
          "base_uri": "https://localhost:8080/"
        }
      },
      "source": [
        "#number of columns\n",
        "len(df.columns)"
      ],
      "execution_count": 20,
      "outputs": [
        {
          "output_type": "execute_result",
          "data": {
            "text/plain": [
              "54"
            ]
          },
          "metadata": {
            "tags": []
          },
          "execution_count": 20
        }
      ]
    },
    {
      "cell_type": "markdown",
      "metadata": {
        "id": "hgsjX6cR9LY0"
      },
      "source": [
        "## Handle `null` values\n",
        "\n",
        "Because this is a real-world dataset, it is a safe bet that it has `null` values in it. We could first check to see if this is true. However, later on in this section, we will have to transform our data using a function that cannot use `NaN` values, so we might as well drop rows containing those values."
      ]
    },
    {
      "cell_type": "markdown",
      "metadata": {
        "id": "KKnEGqgt9LY0"
      },
      "source": [
        "> **Exercise**\n",
        ">\n",
        "> Drop rows from the `DataFrame` that contain `NaN` values. (If you need help remembering which method to use, see [this page](https://pandas.pydata.org/pandas-docs/stable/reference/api/pandas.DataFrame.dropna.html).)"
      ]
    },
    {
      "cell_type": "code",
      "metadata": {
        "trusted": true,
        "id": "-dIMPXBP9LY1"
      },
      "source": [
        "# Run the code to drop all null and NaN values\n",
        "df = df.dropna()"
      ],
      "execution_count": 23,
      "outputs": []
    },
    {
      "cell_type": "markdown",
      "metadata": {
        "id": "3O4zZ9BE9LY6"
      },
      "source": [
        "Now let’s see how many rows we have left."
      ]
    },
    {
      "cell_type": "code",
      "metadata": {
        "trusted": true,
        "id": "ayPS2X4b9LY8",
        "outputId": "baf95154-dbfa-4e24-ffd7-9a12733eee15",
        "colab": {
          "base_uri": "https://localhost:8080/"
        }
      },
      "source": [
        "df.shape"
      ],
      "execution_count": 24,
      "outputs": [
        {
          "output_type": "execute_result",
          "data": {
            "text/plain": [
              "(2190, 54)"
            ]
          },
          "metadata": {
            "tags": []
          },
          "execution_count": 24
        }
      ]
    },
    {
      "cell_type": "markdown",
      "metadata": {
        "id": "IrmBwP0o9LZA"
      },
      "source": [
        "Dropping those rows eliminated 76 percent of our data (8989 entries to 2190). An imperfect state of affairs, but we still have enough for our purposes in this section.\n",
        "\n",
        "> **Key takeaway:** Another solution to removing `null` values is to impute values for them, but this can be tricky. Should we handle missing values as equal to 0? What about a fatty food with `NaN` for `Lipid_Tot_(g)`? We could try taking the averages of values surrounding a `NaN`, but what about foods that are right next to rows containing foods from radically different food groups? It is possible to make justifiable imputations for missing values, but it can be important to involve subject-matter experts (SMEs) in that process."
      ]
    },
    {
      "cell_type": "markdown",
      "metadata": {
        "id": "WDP7anrq9LZA"
      },
      "source": [
        "## Split off descriptive columns\n",
        "\n",
        "Our descriptive columns (such as `FoodGroup` and `Shrt_Desc`) pose challenges for us when it comes time to perform PCA because they are categorical rather than numerical features, so we will split our `DataFrame` in to one containing the descriptive information and one containing the nutritional information."
      ]
    },
    {
      "cell_type": "code",
      "metadata": {
        "trusted": true,
        "id": "yWQ53DII9LZB",
        "outputId": "8122510c-8f9f-44c1-d048-36d6c646ce67",
        "colab": {
          "base_uri": "https://localhost:8080/",
          "height": 233
        }
      },
      "source": [
        "desc_df = df.iloc[:, [0, 1, 2]+[i for i in range(50,54)]]\n",
        "desc_df.set_index('NDB_No', inplace=True)\n",
        "desc_df.head()"
      ],
      "execution_count": 25,
      "outputs": [
        {
          "output_type": "execute_result",
          "data": {
            "text/html": [
              "<div>\n",
              "<style scoped>\n",
              "    .dataframe tbody tr th:only-of-type {\n",
              "        vertical-align: middle;\n",
              "    }\n",
              "\n",
              "    .dataframe tbody tr th {\n",
              "        vertical-align: top;\n",
              "    }\n",
              "\n",
              "    .dataframe thead th {\n",
              "        text-align: right;\n",
              "    }\n",
              "</style>\n",
              "<table border=\"1\" class=\"dataframe\">\n",
              "  <thead>\n",
              "    <tr style=\"text-align: right;\">\n",
              "      <th></th>\n",
              "      <th>FoodGroup</th>\n",
              "      <th>Shrt_Desc</th>\n",
              "      <th>GmWt_Desc1</th>\n",
              "      <th>GmWt_2</th>\n",
              "      <th>GmWt_Desc2</th>\n",
              "      <th>Refuse_Pct</th>\n",
              "    </tr>\n",
              "    <tr>\n",
              "      <th>NDB_No</th>\n",
              "      <th></th>\n",
              "      <th></th>\n",
              "      <th></th>\n",
              "      <th></th>\n",
              "      <th></th>\n",
              "      <th></th>\n",
              "    </tr>\n",
              "  </thead>\n",
              "  <tbody>\n",
              "    <tr>\n",
              "      <th>1001</th>\n",
              "      <td>Dairy and Egg Products</td>\n",
              "      <td>BUTTER,WITH SALT</td>\n",
              "      <td>1 pat,  (1\" sq, 1/3\" high)</td>\n",
              "      <td>14.2</td>\n",
              "      <td>1 tbsp</td>\n",
              "      <td>0.0</td>\n",
              "    </tr>\n",
              "    <tr>\n",
              "      <th>1002</th>\n",
              "      <td>Dairy and Egg Products</td>\n",
              "      <td>BUTTER,WHIPPED,W/ SALT</td>\n",
              "      <td>1 pat,  (1\" sq, 1/3\" high)</td>\n",
              "      <td>9.4</td>\n",
              "      <td>1 tbsp</td>\n",
              "      <td>0.0</td>\n",
              "    </tr>\n",
              "    <tr>\n",
              "      <th>1003</th>\n",
              "      <td>Dairy and Egg Products</td>\n",
              "      <td>BUTTER OIL,ANHYDROUS</td>\n",
              "      <td>1 tbsp</td>\n",
              "      <td>205.0</td>\n",
              "      <td>1 cup</td>\n",
              "      <td>0.0</td>\n",
              "    </tr>\n",
              "    <tr>\n",
              "      <th>1004</th>\n",
              "      <td>Dairy and Egg Products</td>\n",
              "      <td>CHEESE,BLUE</td>\n",
              "      <td>1 oz</td>\n",
              "      <td>17.0</td>\n",
              "      <td>1 cubic inch</td>\n",
              "      <td>0.0</td>\n",
              "    </tr>\n",
              "    <tr>\n",
              "      <th>1005</th>\n",
              "      <td>Dairy and Egg Products</td>\n",
              "      <td>CHEESE,BRICK</td>\n",
              "      <td>1 cup, diced</td>\n",
              "      <td>113.0</td>\n",
              "      <td>1 cup, shredded</td>\n",
              "      <td>0.0</td>\n",
              "    </tr>\n",
              "  </tbody>\n",
              "</table>\n",
              "</div>"
            ],
            "text/plain": [
              "                     FoodGroup  ... Refuse_Pct\n",
              "NDB_No                          ...           \n",
              "1001    Dairy and Egg Products  ...        0.0\n",
              "1002    Dairy and Egg Products  ...        0.0\n",
              "1003    Dairy and Egg Products  ...        0.0\n",
              "1004    Dairy and Egg Products  ...        0.0\n",
              "1005    Dairy and Egg Products  ...        0.0\n",
              "\n",
              "[5 rows x 6 columns]"
            ]
          },
          "metadata": {
            "tags": []
          },
          "execution_count": 25
        }
      ]
    },
    {
      "cell_type": "markdown",
      "metadata": {
        "id": "2JNjzPiL9LZG"
      },
      "source": [
        "> **Question**\n",
        ">\n",
        "> Why was it necessary to structure the `iloc` method call the way we did in the code cell above? What did it accomplish? Why was it necessary set the `desc_df` index to `NDB_No`?"
      ]
    },
    {
      "cell_type": "code",
      "metadata": {
        "trusted": true,
        "id": "vHvOta6A9LZH",
        "outputId": "c80288ea-f3a7-4ec7-eeb6-44135a760b7a",
        "colab": {
          "base_uri": "https://localhost:8080/",
          "height": 413
        }
      },
      "source": [
        "nutr_df = df.iloc[:, :-5] # Remove the last five columns\n",
        "nutr_df.head()"
      ],
      "execution_count": 26,
      "outputs": [
        {
          "output_type": "execute_result",
          "data": {
            "text/html": [
              "<div>\n",
              "<style scoped>\n",
              "    .dataframe tbody tr th:only-of-type {\n",
              "        vertical-align: middle;\n",
              "    }\n",
              "\n",
              "    .dataframe tbody tr th {\n",
              "        vertical-align: top;\n",
              "    }\n",
              "\n",
              "    .dataframe thead th {\n",
              "        text-align: right;\n",
              "    }\n",
              "</style>\n",
              "<table border=\"1\" class=\"dataframe\">\n",
              "  <thead>\n",
              "    <tr style=\"text-align: right;\">\n",
              "      <th></th>\n",
              "      <th>NDB_No</th>\n",
              "      <th>FoodGroup</th>\n",
              "      <th>Shrt_Desc</th>\n",
              "      <th>Water_(g)</th>\n",
              "      <th>Energ_Kcal</th>\n",
              "      <th>Protein_(g)</th>\n",
              "      <th>Lipid_Tot_(g)</th>\n",
              "      <th>Ash_(g)</th>\n",
              "      <th>Carbohydrt_(g)</th>\n",
              "      <th>Fiber_TD_(g)</th>\n",
              "      <th>Sugar_Tot_(g)</th>\n",
              "      <th>Calcium_(mg)</th>\n",
              "      <th>Iron_(mg)</th>\n",
              "      <th>Magnesium_(mg)</th>\n",
              "      <th>Phosphorus_(mg)</th>\n",
              "      <th>Potassium_(mg)</th>\n",
              "      <th>Sodium_(mg)</th>\n",
              "      <th>Zinc_(mg)</th>\n",
              "      <th>Copper_mg)</th>\n",
              "      <th>Manganese_(mg)</th>\n",
              "      <th>Selenium_(Âµg)</th>\n",
              "      <th>Vit_C_(mg)</th>\n",
              "      <th>Thiamin_(mg)</th>\n",
              "      <th>Riboflavin_(mg)</th>\n",
              "      <th>Niacin_(mg)</th>\n",
              "      <th>Panto_Acid_mg)</th>\n",
              "      <th>Vit_B6_(mg)</th>\n",
              "      <th>Folate_Tot_(Âµg)</th>\n",
              "      <th>Folic_Acid_(Âµg)</th>\n",
              "      <th>Food_Folate_(Âµg)</th>\n",
              "      <th>Folate_DFE_(Âµg)</th>\n",
              "      <th>Choline_Tot_ (mg)</th>\n",
              "      <th>Vit_B12_(Âµg)</th>\n",
              "      <th>Vit_A_IU</th>\n",
              "      <th>Vit_A_RAE</th>\n",
              "      <th>Retinol_(Âµg)</th>\n",
              "      <th>Alpha_Carot_(Âµg)</th>\n",
              "      <th>Beta_Carot_(Âµg)</th>\n",
              "      <th>Beta_Crypt_(Âµg)</th>\n",
              "      <th>Lycopene_(Âµg)</th>\n",
              "      <th>Lut+Zea_ (Âµg)</th>\n",
              "      <th>Vit_E_(mg)</th>\n",
              "      <th>Vit_D_Âµg</th>\n",
              "      <th>Vit_D_IU</th>\n",
              "      <th>Vit_K_(Âµg)</th>\n",
              "      <th>FA_Sat_(g)</th>\n",
              "      <th>FA_Mono_(g)</th>\n",
              "      <th>FA_Poly_(g)</th>\n",
              "      <th>Cholestrl_(mg)</th>\n",
              "    </tr>\n",
              "  </thead>\n",
              "  <tbody>\n",
              "    <tr>\n",
              "      <th>0</th>\n",
              "      <td>1001</td>\n",
              "      <td>Dairy and Egg Products</td>\n",
              "      <td>BUTTER,WITH SALT</td>\n",
              "      <td>15.87</td>\n",
              "      <td>717.0</td>\n",
              "      <td>0.85</td>\n",
              "      <td>81.11</td>\n",
              "      <td>2.11</td>\n",
              "      <td>0.06</td>\n",
              "      <td>0.0</td>\n",
              "      <td>0.06</td>\n",
              "      <td>24.0</td>\n",
              "      <td>0.02</td>\n",
              "      <td>2.0</td>\n",
              "      <td>24.0</td>\n",
              "      <td>24.0</td>\n",
              "      <td>643.0</td>\n",
              "      <td>0.09</td>\n",
              "      <td>0.000</td>\n",
              "      <td>0.000</td>\n",
              "      <td>1.0</td>\n",
              "      <td>0.0</td>\n",
              "      <td>0.005</td>\n",
              "      <td>0.034</td>\n",
              "      <td>0.042</td>\n",
              "      <td>0.110</td>\n",
              "      <td>0.003</td>\n",
              "      <td>3.0</td>\n",
              "      <td>0.0</td>\n",
              "      <td>3.0</td>\n",
              "      <td>3.0</td>\n",
              "      <td>18.8</td>\n",
              "      <td>0.17</td>\n",
              "      <td>2499.0</td>\n",
              "      <td>684.0</td>\n",
              "      <td>671.0</td>\n",
              "      <td>0.0</td>\n",
              "      <td>158.0</td>\n",
              "      <td>0.0</td>\n",
              "      <td>0.0</td>\n",
              "      <td>0.0</td>\n",
              "      <td>2.32</td>\n",
              "      <td>0.0</td>\n",
              "      <td>0.0</td>\n",
              "      <td>7.0</td>\n",
              "      <td>51.368</td>\n",
              "      <td>21.021</td>\n",
              "      <td>3.043</td>\n",
              "      <td>215.0</td>\n",
              "    </tr>\n",
              "    <tr>\n",
              "      <th>1</th>\n",
              "      <td>1002</td>\n",
              "      <td>Dairy and Egg Products</td>\n",
              "      <td>BUTTER,WHIPPED,W/ SALT</td>\n",
              "      <td>16.72</td>\n",
              "      <td>718.0</td>\n",
              "      <td>0.49</td>\n",
              "      <td>78.30</td>\n",
              "      <td>1.62</td>\n",
              "      <td>2.87</td>\n",
              "      <td>0.0</td>\n",
              "      <td>0.06</td>\n",
              "      <td>23.0</td>\n",
              "      <td>0.05</td>\n",
              "      <td>1.0</td>\n",
              "      <td>24.0</td>\n",
              "      <td>41.0</td>\n",
              "      <td>583.0</td>\n",
              "      <td>0.05</td>\n",
              "      <td>0.010</td>\n",
              "      <td>0.001</td>\n",
              "      <td>0.0</td>\n",
              "      <td>0.0</td>\n",
              "      <td>0.007</td>\n",
              "      <td>0.064</td>\n",
              "      <td>0.022</td>\n",
              "      <td>0.097</td>\n",
              "      <td>0.008</td>\n",
              "      <td>4.0</td>\n",
              "      <td>0.0</td>\n",
              "      <td>4.0</td>\n",
              "      <td>4.0</td>\n",
              "      <td>18.8</td>\n",
              "      <td>0.07</td>\n",
              "      <td>2468.0</td>\n",
              "      <td>683.0</td>\n",
              "      <td>671.0</td>\n",
              "      <td>1.0</td>\n",
              "      <td>135.0</td>\n",
              "      <td>6.0</td>\n",
              "      <td>0.0</td>\n",
              "      <td>13.0</td>\n",
              "      <td>1.37</td>\n",
              "      <td>0.0</td>\n",
              "      <td>0.0</td>\n",
              "      <td>4.6</td>\n",
              "      <td>45.390</td>\n",
              "      <td>19.874</td>\n",
              "      <td>3.331</td>\n",
              "      <td>225.0</td>\n",
              "    </tr>\n",
              "    <tr>\n",
              "      <th>2</th>\n",
              "      <td>1003</td>\n",
              "      <td>Dairy and Egg Products</td>\n",
              "      <td>BUTTER OIL,ANHYDROUS</td>\n",
              "      <td>0.24</td>\n",
              "      <td>876.0</td>\n",
              "      <td>0.28</td>\n",
              "      <td>99.48</td>\n",
              "      <td>0.00</td>\n",
              "      <td>0.00</td>\n",
              "      <td>0.0</td>\n",
              "      <td>0.00</td>\n",
              "      <td>4.0</td>\n",
              "      <td>0.00</td>\n",
              "      <td>0.0</td>\n",
              "      <td>3.0</td>\n",
              "      <td>5.0</td>\n",
              "      <td>2.0</td>\n",
              "      <td>0.01</td>\n",
              "      <td>0.001</td>\n",
              "      <td>0.000</td>\n",
              "      <td>0.0</td>\n",
              "      <td>0.0</td>\n",
              "      <td>0.001</td>\n",
              "      <td>0.005</td>\n",
              "      <td>0.003</td>\n",
              "      <td>0.010</td>\n",
              "      <td>0.001</td>\n",
              "      <td>0.0</td>\n",
              "      <td>0.0</td>\n",
              "      <td>0.0</td>\n",
              "      <td>0.0</td>\n",
              "      <td>22.3</td>\n",
              "      <td>0.01</td>\n",
              "      <td>3069.0</td>\n",
              "      <td>840.0</td>\n",
              "      <td>824.0</td>\n",
              "      <td>0.0</td>\n",
              "      <td>193.0</td>\n",
              "      <td>0.0</td>\n",
              "      <td>0.0</td>\n",
              "      <td>0.0</td>\n",
              "      <td>2.80</td>\n",
              "      <td>0.0</td>\n",
              "      <td>0.0</td>\n",
              "      <td>8.6</td>\n",
              "      <td>61.924</td>\n",
              "      <td>28.732</td>\n",
              "      <td>3.694</td>\n",
              "      <td>256.0</td>\n",
              "    </tr>\n",
              "    <tr>\n",
              "      <th>3</th>\n",
              "      <td>1004</td>\n",
              "      <td>Dairy and Egg Products</td>\n",
              "      <td>CHEESE,BLUE</td>\n",
              "      <td>42.41</td>\n",
              "      <td>353.0</td>\n",
              "      <td>21.40</td>\n",
              "      <td>28.74</td>\n",
              "      <td>5.11</td>\n",
              "      <td>2.34</td>\n",
              "      <td>0.0</td>\n",
              "      <td>0.50</td>\n",
              "      <td>528.0</td>\n",
              "      <td>0.31</td>\n",
              "      <td>23.0</td>\n",
              "      <td>387.0</td>\n",
              "      <td>256.0</td>\n",
              "      <td>1146.0</td>\n",
              "      <td>2.66</td>\n",
              "      <td>0.040</td>\n",
              "      <td>0.009</td>\n",
              "      <td>14.5</td>\n",
              "      <td>0.0</td>\n",
              "      <td>0.029</td>\n",
              "      <td>0.382</td>\n",
              "      <td>1.016</td>\n",
              "      <td>1.729</td>\n",
              "      <td>0.166</td>\n",
              "      <td>36.0</td>\n",
              "      <td>0.0</td>\n",
              "      <td>36.0</td>\n",
              "      <td>36.0</td>\n",
              "      <td>15.4</td>\n",
              "      <td>1.22</td>\n",
              "      <td>721.0</td>\n",
              "      <td>198.0</td>\n",
              "      <td>192.0</td>\n",
              "      <td>0.0</td>\n",
              "      <td>74.0</td>\n",
              "      <td>0.0</td>\n",
              "      <td>0.0</td>\n",
              "      <td>0.0</td>\n",
              "      <td>0.25</td>\n",
              "      <td>0.5</td>\n",
              "      <td>21.0</td>\n",
              "      <td>2.4</td>\n",
              "      <td>18.669</td>\n",
              "      <td>7.778</td>\n",
              "      <td>0.800</td>\n",
              "      <td>75.0</td>\n",
              "    </tr>\n",
              "    <tr>\n",
              "      <th>4</th>\n",
              "      <td>1005</td>\n",
              "      <td>Dairy and Egg Products</td>\n",
              "      <td>CHEESE,BRICK</td>\n",
              "      <td>41.11</td>\n",
              "      <td>371.0</td>\n",
              "      <td>23.24</td>\n",
              "      <td>29.68</td>\n",
              "      <td>3.18</td>\n",
              "      <td>2.79</td>\n",
              "      <td>0.0</td>\n",
              "      <td>0.51</td>\n",
              "      <td>674.0</td>\n",
              "      <td>0.43</td>\n",
              "      <td>24.0</td>\n",
              "      <td>451.0</td>\n",
              "      <td>136.0</td>\n",
              "      <td>560.0</td>\n",
              "      <td>2.60</td>\n",
              "      <td>0.024</td>\n",
              "      <td>0.012</td>\n",
              "      <td>14.5</td>\n",
              "      <td>0.0</td>\n",
              "      <td>0.014</td>\n",
              "      <td>0.351</td>\n",
              "      <td>0.118</td>\n",
              "      <td>0.288</td>\n",
              "      <td>0.065</td>\n",
              "      <td>20.0</td>\n",
              "      <td>0.0</td>\n",
              "      <td>20.0</td>\n",
              "      <td>20.0</td>\n",
              "      <td>15.4</td>\n",
              "      <td>1.26</td>\n",
              "      <td>1080.0</td>\n",
              "      <td>292.0</td>\n",
              "      <td>286.0</td>\n",
              "      <td>0.0</td>\n",
              "      <td>76.0</td>\n",
              "      <td>0.0</td>\n",
              "      <td>0.0</td>\n",
              "      <td>0.0</td>\n",
              "      <td>0.26</td>\n",
              "      <td>0.5</td>\n",
              "      <td>22.0</td>\n",
              "      <td>2.5</td>\n",
              "      <td>18.764</td>\n",
              "      <td>8.598</td>\n",
              "      <td>0.784</td>\n",
              "      <td>94.0</td>\n",
              "    </tr>\n",
              "  </tbody>\n",
              "</table>\n",
              "</div>"
            ],
            "text/plain": [
              "   NDB_No               FoodGroup  ... FA_Poly_(g)  Cholestrl_(mg)\n",
              "0    1001  Dairy and Egg Products  ...       3.043           215.0\n",
              "1    1002  Dairy and Egg Products  ...       3.331           225.0\n",
              "2    1003  Dairy and Egg Products  ...       3.694           256.0\n",
              "3    1004  Dairy and Egg Products  ...       0.800            75.0\n",
              "4    1005  Dairy and Egg Products  ...       0.784            94.0\n",
              "\n",
              "[5 rows x 49 columns]"
            ]
          },
          "metadata": {
            "tags": []
          },
          "execution_count": 26
        }
      ]
    },
    {
      "cell_type": "markdown",
      "metadata": {
        "id": "9ywTPGxr9LZK"
      },
      "source": [
        "> **Question**\n",
        ">\n",
        "> What did the `iloc` syntax do in the code cell above?"
      ]
    },
    {
      "cell_type": "code",
      "metadata": {
        "trusted": true,
        "id": "crQc9kkc9LZK"
      },
      "source": [
        "nutr_df = nutr_df.drop(['FoodGroup', 'Shrt_Desc'], axis=1)"
      ],
      "execution_count": 27,
      "outputs": []
    },
    {
      "cell_type": "markdown",
      "metadata": {
        "id": "eVzOLA1A9LZM"
      },
      "source": [
        "> **Exercise**\n",
        ">\n",
        "> Now set the index of `nutr_df` to use `NDB_No`."
      ]
    },
    {
      "cell_type": "code",
      "metadata": {
        "trusted": true,
        "id": "CK8Xa5ha9LZN",
        "outputId": "8582d18e-e711-4c4e-aea0-043e1aefd903",
        "colab": {
          "base_uri": "https://localhost:8080/",
          "height": 483
        }
      },
      "source": [
        "nutr_df.set_index('NDB_No')"
      ],
      "execution_count": 28,
      "outputs": [
        {
          "output_type": "execute_result",
          "data": {
            "text/html": [
              "<div>\n",
              "<style scoped>\n",
              "    .dataframe tbody tr th:only-of-type {\n",
              "        vertical-align: middle;\n",
              "    }\n",
              "\n",
              "    .dataframe tbody tr th {\n",
              "        vertical-align: top;\n",
              "    }\n",
              "\n",
              "    .dataframe thead th {\n",
              "        text-align: right;\n",
              "    }\n",
              "</style>\n",
              "<table border=\"1\" class=\"dataframe\">\n",
              "  <thead>\n",
              "    <tr style=\"text-align: right;\">\n",
              "      <th></th>\n",
              "      <th>Water_(g)</th>\n",
              "      <th>Energ_Kcal</th>\n",
              "      <th>Protein_(g)</th>\n",
              "      <th>Lipid_Tot_(g)</th>\n",
              "      <th>Ash_(g)</th>\n",
              "      <th>Carbohydrt_(g)</th>\n",
              "      <th>Fiber_TD_(g)</th>\n",
              "      <th>Sugar_Tot_(g)</th>\n",
              "      <th>Calcium_(mg)</th>\n",
              "      <th>Iron_(mg)</th>\n",
              "      <th>Magnesium_(mg)</th>\n",
              "      <th>Phosphorus_(mg)</th>\n",
              "      <th>Potassium_(mg)</th>\n",
              "      <th>Sodium_(mg)</th>\n",
              "      <th>Zinc_(mg)</th>\n",
              "      <th>Copper_mg)</th>\n",
              "      <th>Manganese_(mg)</th>\n",
              "      <th>Selenium_(Âµg)</th>\n",
              "      <th>Vit_C_(mg)</th>\n",
              "      <th>Thiamin_(mg)</th>\n",
              "      <th>Riboflavin_(mg)</th>\n",
              "      <th>Niacin_(mg)</th>\n",
              "      <th>Panto_Acid_mg)</th>\n",
              "      <th>Vit_B6_(mg)</th>\n",
              "      <th>Folate_Tot_(Âµg)</th>\n",
              "      <th>Folic_Acid_(Âµg)</th>\n",
              "      <th>Food_Folate_(Âµg)</th>\n",
              "      <th>Folate_DFE_(Âµg)</th>\n",
              "      <th>Choline_Tot_ (mg)</th>\n",
              "      <th>Vit_B12_(Âµg)</th>\n",
              "      <th>Vit_A_IU</th>\n",
              "      <th>Vit_A_RAE</th>\n",
              "      <th>Retinol_(Âµg)</th>\n",
              "      <th>Alpha_Carot_(Âµg)</th>\n",
              "      <th>Beta_Carot_(Âµg)</th>\n",
              "      <th>Beta_Crypt_(Âµg)</th>\n",
              "      <th>Lycopene_(Âµg)</th>\n",
              "      <th>Lut+Zea_ (Âµg)</th>\n",
              "      <th>Vit_E_(mg)</th>\n",
              "      <th>Vit_D_Âµg</th>\n",
              "      <th>Vit_D_IU</th>\n",
              "      <th>Vit_K_(Âµg)</th>\n",
              "      <th>FA_Sat_(g)</th>\n",
              "      <th>FA_Mono_(g)</th>\n",
              "      <th>FA_Poly_(g)</th>\n",
              "      <th>Cholestrl_(mg)</th>\n",
              "    </tr>\n",
              "    <tr>\n",
              "      <th>NDB_No</th>\n",
              "      <th></th>\n",
              "      <th></th>\n",
              "      <th></th>\n",
              "      <th></th>\n",
              "      <th></th>\n",
              "      <th></th>\n",
              "      <th></th>\n",
              "      <th></th>\n",
              "      <th></th>\n",
              "      <th></th>\n",
              "      <th></th>\n",
              "      <th></th>\n",
              "      <th></th>\n",
              "      <th></th>\n",
              "      <th></th>\n",
              "      <th></th>\n",
              "      <th></th>\n",
              "      <th></th>\n",
              "      <th></th>\n",
              "      <th></th>\n",
              "      <th></th>\n",
              "      <th></th>\n",
              "      <th></th>\n",
              "      <th></th>\n",
              "      <th></th>\n",
              "      <th></th>\n",
              "      <th></th>\n",
              "      <th></th>\n",
              "      <th></th>\n",
              "      <th></th>\n",
              "      <th></th>\n",
              "      <th></th>\n",
              "      <th></th>\n",
              "      <th></th>\n",
              "      <th></th>\n",
              "      <th></th>\n",
              "      <th></th>\n",
              "      <th></th>\n",
              "      <th></th>\n",
              "      <th></th>\n",
              "      <th></th>\n",
              "      <th></th>\n",
              "      <th></th>\n",
              "      <th></th>\n",
              "      <th></th>\n",
              "      <th></th>\n",
              "    </tr>\n",
              "  </thead>\n",
              "  <tbody>\n",
              "    <tr>\n",
              "      <th>1001</th>\n",
              "      <td>15.87</td>\n",
              "      <td>717.0</td>\n",
              "      <td>0.85</td>\n",
              "      <td>81.11</td>\n",
              "      <td>2.11</td>\n",
              "      <td>0.06</td>\n",
              "      <td>0.0</td>\n",
              "      <td>0.06</td>\n",
              "      <td>24.0</td>\n",
              "      <td>0.02</td>\n",
              "      <td>2.0</td>\n",
              "      <td>24.0</td>\n",
              "      <td>24.0</td>\n",
              "      <td>643.0</td>\n",
              "      <td>0.09</td>\n",
              "      <td>0.000</td>\n",
              "      <td>0.000</td>\n",
              "      <td>1.0</td>\n",
              "      <td>0.0</td>\n",
              "      <td>0.005</td>\n",
              "      <td>0.034</td>\n",
              "      <td>0.042</td>\n",
              "      <td>0.110</td>\n",
              "      <td>0.003</td>\n",
              "      <td>3.0</td>\n",
              "      <td>0.0</td>\n",
              "      <td>3.0</td>\n",
              "      <td>3.0</td>\n",
              "      <td>18.8</td>\n",
              "      <td>0.17</td>\n",
              "      <td>2499.0</td>\n",
              "      <td>684.0</td>\n",
              "      <td>671.0</td>\n",
              "      <td>0.0</td>\n",
              "      <td>158.0</td>\n",
              "      <td>0.0</td>\n",
              "      <td>0.0</td>\n",
              "      <td>0.0</td>\n",
              "      <td>2.32</td>\n",
              "      <td>0.0</td>\n",
              "      <td>0.0</td>\n",
              "      <td>7.0</td>\n",
              "      <td>51.368</td>\n",
              "      <td>21.021</td>\n",
              "      <td>3.043</td>\n",
              "      <td>215.0</td>\n",
              "    </tr>\n",
              "    <tr>\n",
              "      <th>1002</th>\n",
              "      <td>16.72</td>\n",
              "      <td>718.0</td>\n",
              "      <td>0.49</td>\n",
              "      <td>78.30</td>\n",
              "      <td>1.62</td>\n",
              "      <td>2.87</td>\n",
              "      <td>0.0</td>\n",
              "      <td>0.06</td>\n",
              "      <td>23.0</td>\n",
              "      <td>0.05</td>\n",
              "      <td>1.0</td>\n",
              "      <td>24.0</td>\n",
              "      <td>41.0</td>\n",
              "      <td>583.0</td>\n",
              "      <td>0.05</td>\n",
              "      <td>0.010</td>\n",
              "      <td>0.001</td>\n",
              "      <td>0.0</td>\n",
              "      <td>0.0</td>\n",
              "      <td>0.007</td>\n",
              "      <td>0.064</td>\n",
              "      <td>0.022</td>\n",
              "      <td>0.097</td>\n",
              "      <td>0.008</td>\n",
              "      <td>4.0</td>\n",
              "      <td>0.0</td>\n",
              "      <td>4.0</td>\n",
              "      <td>4.0</td>\n",
              "      <td>18.8</td>\n",
              "      <td>0.07</td>\n",
              "      <td>2468.0</td>\n",
              "      <td>683.0</td>\n",
              "      <td>671.0</td>\n",
              "      <td>1.0</td>\n",
              "      <td>135.0</td>\n",
              "      <td>6.0</td>\n",
              "      <td>0.0</td>\n",
              "      <td>13.0</td>\n",
              "      <td>1.37</td>\n",
              "      <td>0.0</td>\n",
              "      <td>0.0</td>\n",
              "      <td>4.6</td>\n",
              "      <td>45.390</td>\n",
              "      <td>19.874</td>\n",
              "      <td>3.331</td>\n",
              "      <td>225.0</td>\n",
              "    </tr>\n",
              "    <tr>\n",
              "      <th>1003</th>\n",
              "      <td>0.24</td>\n",
              "      <td>876.0</td>\n",
              "      <td>0.28</td>\n",
              "      <td>99.48</td>\n",
              "      <td>0.00</td>\n",
              "      <td>0.00</td>\n",
              "      <td>0.0</td>\n",
              "      <td>0.00</td>\n",
              "      <td>4.0</td>\n",
              "      <td>0.00</td>\n",
              "      <td>0.0</td>\n",
              "      <td>3.0</td>\n",
              "      <td>5.0</td>\n",
              "      <td>2.0</td>\n",
              "      <td>0.01</td>\n",
              "      <td>0.001</td>\n",
              "      <td>0.000</td>\n",
              "      <td>0.0</td>\n",
              "      <td>0.0</td>\n",
              "      <td>0.001</td>\n",
              "      <td>0.005</td>\n",
              "      <td>0.003</td>\n",
              "      <td>0.010</td>\n",
              "      <td>0.001</td>\n",
              "      <td>0.0</td>\n",
              "      <td>0.0</td>\n",
              "      <td>0.0</td>\n",
              "      <td>0.0</td>\n",
              "      <td>22.3</td>\n",
              "      <td>0.01</td>\n",
              "      <td>3069.0</td>\n",
              "      <td>840.0</td>\n",
              "      <td>824.0</td>\n",
              "      <td>0.0</td>\n",
              "      <td>193.0</td>\n",
              "      <td>0.0</td>\n",
              "      <td>0.0</td>\n",
              "      <td>0.0</td>\n",
              "      <td>2.80</td>\n",
              "      <td>0.0</td>\n",
              "      <td>0.0</td>\n",
              "      <td>8.6</td>\n",
              "      <td>61.924</td>\n",
              "      <td>28.732</td>\n",
              "      <td>3.694</td>\n",
              "      <td>256.0</td>\n",
              "    </tr>\n",
              "    <tr>\n",
              "      <th>1004</th>\n",
              "      <td>42.41</td>\n",
              "      <td>353.0</td>\n",
              "      <td>21.40</td>\n",
              "      <td>28.74</td>\n",
              "      <td>5.11</td>\n",
              "      <td>2.34</td>\n",
              "      <td>0.0</td>\n",
              "      <td>0.50</td>\n",
              "      <td>528.0</td>\n",
              "      <td>0.31</td>\n",
              "      <td>23.0</td>\n",
              "      <td>387.0</td>\n",
              "      <td>256.0</td>\n",
              "      <td>1146.0</td>\n",
              "      <td>2.66</td>\n",
              "      <td>0.040</td>\n",
              "      <td>0.009</td>\n",
              "      <td>14.5</td>\n",
              "      <td>0.0</td>\n",
              "      <td>0.029</td>\n",
              "      <td>0.382</td>\n",
              "      <td>1.016</td>\n",
              "      <td>1.729</td>\n",
              "      <td>0.166</td>\n",
              "      <td>36.0</td>\n",
              "      <td>0.0</td>\n",
              "      <td>36.0</td>\n",
              "      <td>36.0</td>\n",
              "      <td>15.4</td>\n",
              "      <td>1.22</td>\n",
              "      <td>721.0</td>\n",
              "      <td>198.0</td>\n",
              "      <td>192.0</td>\n",
              "      <td>0.0</td>\n",
              "      <td>74.0</td>\n",
              "      <td>0.0</td>\n",
              "      <td>0.0</td>\n",
              "      <td>0.0</td>\n",
              "      <td>0.25</td>\n",
              "      <td>0.5</td>\n",
              "      <td>21.0</td>\n",
              "      <td>2.4</td>\n",
              "      <td>18.669</td>\n",
              "      <td>7.778</td>\n",
              "      <td>0.800</td>\n",
              "      <td>75.0</td>\n",
              "    </tr>\n",
              "    <tr>\n",
              "      <th>1005</th>\n",
              "      <td>41.11</td>\n",
              "      <td>371.0</td>\n",
              "      <td>23.24</td>\n",
              "      <td>29.68</td>\n",
              "      <td>3.18</td>\n",
              "      <td>2.79</td>\n",
              "      <td>0.0</td>\n",
              "      <td>0.51</td>\n",
              "      <td>674.0</td>\n",
              "      <td>0.43</td>\n",
              "      <td>24.0</td>\n",
              "      <td>451.0</td>\n",
              "      <td>136.0</td>\n",
              "      <td>560.0</td>\n",
              "      <td>2.60</td>\n",
              "      <td>0.024</td>\n",
              "      <td>0.012</td>\n",
              "      <td>14.5</td>\n",
              "      <td>0.0</td>\n",
              "      <td>0.014</td>\n",
              "      <td>0.351</td>\n",
              "      <td>0.118</td>\n",
              "      <td>0.288</td>\n",
              "      <td>0.065</td>\n",
              "      <td>20.0</td>\n",
              "      <td>0.0</td>\n",
              "      <td>20.0</td>\n",
              "      <td>20.0</td>\n",
              "      <td>15.4</td>\n",
              "      <td>1.26</td>\n",
              "      <td>1080.0</td>\n",
              "      <td>292.0</td>\n",
              "      <td>286.0</td>\n",
              "      <td>0.0</td>\n",
              "      <td>76.0</td>\n",
              "      <td>0.0</td>\n",
              "      <td>0.0</td>\n",
              "      <td>0.0</td>\n",
              "      <td>0.26</td>\n",
              "      <td>0.5</td>\n",
              "      <td>22.0</td>\n",
              "      <td>2.5</td>\n",
              "      <td>18.764</td>\n",
              "      <td>8.598</td>\n",
              "      <td>0.784</td>\n",
              "      <td>94.0</td>\n",
              "    </tr>\n",
              "    <tr>\n",
              "      <th>...</th>\n",
              "      <td>...</td>\n",
              "      <td>...</td>\n",
              "      <td>...</td>\n",
              "      <td>...</td>\n",
              "      <td>...</td>\n",
              "      <td>...</td>\n",
              "      <td>...</td>\n",
              "      <td>...</td>\n",
              "      <td>...</td>\n",
              "      <td>...</td>\n",
              "      <td>...</td>\n",
              "      <td>...</td>\n",
              "      <td>...</td>\n",
              "      <td>...</td>\n",
              "      <td>...</td>\n",
              "      <td>...</td>\n",
              "      <td>...</td>\n",
              "      <td>...</td>\n",
              "      <td>...</td>\n",
              "      <td>...</td>\n",
              "      <td>...</td>\n",
              "      <td>...</td>\n",
              "      <td>...</td>\n",
              "      <td>...</td>\n",
              "      <td>...</td>\n",
              "      <td>...</td>\n",
              "      <td>...</td>\n",
              "      <td>...</td>\n",
              "      <td>...</td>\n",
              "      <td>...</td>\n",
              "      <td>...</td>\n",
              "      <td>...</td>\n",
              "      <td>...</td>\n",
              "      <td>...</td>\n",
              "      <td>...</td>\n",
              "      <td>...</td>\n",
              "      <td>...</td>\n",
              "      <td>...</td>\n",
              "      <td>...</td>\n",
              "      <td>...</td>\n",
              "      <td>...</td>\n",
              "      <td>...</td>\n",
              "      <td>...</td>\n",
              "      <td>...</td>\n",
              "      <td>...</td>\n",
              "      <td>...</td>\n",
              "    </tr>\n",
              "    <tr>\n",
              "      <th>44061</th>\n",
              "      <td>4.20</td>\n",
              "      <td>356.0</td>\n",
              "      <td>5.30</td>\n",
              "      <td>2.40</td>\n",
              "      <td>9.90</td>\n",
              "      <td>78.20</td>\n",
              "      <td>6.1</td>\n",
              "      <td>0.70</td>\n",
              "      <td>126.0</td>\n",
              "      <td>3.11</td>\n",
              "      <td>89.0</td>\n",
              "      <td>1660.0</td>\n",
              "      <td>1279.0</td>\n",
              "      <td>2838.0</td>\n",
              "      <td>0.41</td>\n",
              "      <td>0.838</td>\n",
              "      <td>0.703</td>\n",
              "      <td>3.9</td>\n",
              "      <td>0.0</td>\n",
              "      <td>0.020</td>\n",
              "      <td>0.090</td>\n",
              "      <td>0.400</td>\n",
              "      <td>0.055</td>\n",
              "      <td>0.040</td>\n",
              "      <td>6.0</td>\n",
              "      <td>0.0</td>\n",
              "      <td>6.0</td>\n",
              "      <td>6.0</td>\n",
              "      <td>3.3</td>\n",
              "      <td>0.01</td>\n",
              "      <td>0.0</td>\n",
              "      <td>0.0</td>\n",
              "      <td>0.0</td>\n",
              "      <td>0.0</td>\n",
              "      <td>0.0</td>\n",
              "      <td>0.0</td>\n",
              "      <td>0.0</td>\n",
              "      <td>7.0</td>\n",
              "      <td>0.02</td>\n",
              "      <td>0.0</td>\n",
              "      <td>0.0</td>\n",
              "      <td>0.4</td>\n",
              "      <td>0.984</td>\n",
              "      <td>1.154</td>\n",
              "      <td>0.131</td>\n",
              "      <td>0.0</td>\n",
              "    </tr>\n",
              "    <tr>\n",
              "      <th>44158</th>\n",
              "      <td>54.66</td>\n",
              "      <td>181.0</td>\n",
              "      <td>0.41</td>\n",
              "      <td>0.20</td>\n",
              "      <td>0.35</td>\n",
              "      <td>44.38</td>\n",
              "      <td>2.6</td>\n",
              "      <td>37.75</td>\n",
              "      <td>27.0</td>\n",
              "      <td>0.80</td>\n",
              "      <td>10.0</td>\n",
              "      <td>12.0</td>\n",
              "      <td>115.0</td>\n",
              "      <td>12.0</td>\n",
              "      <td>0.10</td>\n",
              "      <td>0.112</td>\n",
              "      <td>0.215</td>\n",
              "      <td>0.4</td>\n",
              "      <td>0.7</td>\n",
              "      <td>0.023</td>\n",
              "      <td>0.034</td>\n",
              "      <td>0.091</td>\n",
              "      <td>0.092</td>\n",
              "      <td>0.029</td>\n",
              "      <td>1.0</td>\n",
              "      <td>0.0</td>\n",
              "      <td>1.0</td>\n",
              "      <td>1.0</td>\n",
              "      <td>3.8</td>\n",
              "      <td>0.00</td>\n",
              "      <td>22.0</td>\n",
              "      <td>1.0</td>\n",
              "      <td>0.0</td>\n",
              "      <td>0.0</td>\n",
              "      <td>13.0</td>\n",
              "      <td>0.0</td>\n",
              "      <td>0.0</td>\n",
              "      <td>33.0</td>\n",
              "      <td>0.23</td>\n",
              "      <td>0.0</td>\n",
              "      <td>0.0</td>\n",
              "      <td>3.9</td>\n",
              "      <td>0.000</td>\n",
              "      <td>0.000</td>\n",
              "      <td>0.000</td>\n",
              "      <td>0.0</td>\n",
              "    </tr>\n",
              "    <tr>\n",
              "      <th>44203</th>\n",
              "      <td>28.24</td>\n",
              "      <td>287.0</td>\n",
              "      <td>0.08</td>\n",
              "      <td>0.01</td>\n",
              "      <td>0.07</td>\n",
              "      <td>71.60</td>\n",
              "      <td>0.0</td>\n",
              "      <td>24.53</td>\n",
              "      <td>2.0</td>\n",
              "      <td>0.04</td>\n",
              "      <td>1.0</td>\n",
              "      <td>2.0</td>\n",
              "      <td>23.0</td>\n",
              "      <td>0.0</td>\n",
              "      <td>0.02</td>\n",
              "      <td>0.020</td>\n",
              "      <td>0.045</td>\n",
              "      <td>0.5</td>\n",
              "      <td>4.2</td>\n",
              "      <td>0.009</td>\n",
              "      <td>0.017</td>\n",
              "      <td>0.026</td>\n",
              "      <td>0.023</td>\n",
              "      <td>0.005</td>\n",
              "      <td>5.0</td>\n",
              "      <td>0.0</td>\n",
              "      <td>5.0</td>\n",
              "      <td>5.0</td>\n",
              "      <td>3.0</td>\n",
              "      <td>0.00</td>\n",
              "      <td>12.0</td>\n",
              "      <td>1.0</td>\n",
              "      <td>0.0</td>\n",
              "      <td>0.0</td>\n",
              "      <td>2.0</td>\n",
              "      <td>9.0</td>\n",
              "      <td>0.0</td>\n",
              "      <td>12.0</td>\n",
              "      <td>0.02</td>\n",
              "      <td>0.0</td>\n",
              "      <td>0.0</td>\n",
              "      <td>0.0</td>\n",
              "      <td>0.003</td>\n",
              "      <td>0.001</td>\n",
              "      <td>0.009</td>\n",
              "      <td>0.0</td>\n",
              "    </tr>\n",
              "    <tr>\n",
              "      <th>44258</th>\n",
              "      <td>6.80</td>\n",
              "      <td>365.0</td>\n",
              "      <td>10.08</td>\n",
              "      <td>3.00</td>\n",
              "      <td>5.70</td>\n",
              "      <td>74.42</td>\n",
              "      <td>10.1</td>\n",
              "      <td>0.70</td>\n",
              "      <td>50.0</td>\n",
              "      <td>3.87</td>\n",
              "      <td>110.0</td>\n",
              "      <td>174.0</td>\n",
              "      <td>570.0</td>\n",
              "      <td>3326.0</td>\n",
              "      <td>1.49</td>\n",
              "      <td>0.854</td>\n",
              "      <td>0.887</td>\n",
              "      <td>5.1</td>\n",
              "      <td>0.0</td>\n",
              "      <td>0.025</td>\n",
              "      <td>0.105</td>\n",
              "      <td>0.545</td>\n",
              "      <td>0.058</td>\n",
              "      <td>0.027</td>\n",
              "      <td>0.0</td>\n",
              "      <td>0.0</td>\n",
              "      <td>0.0</td>\n",
              "      <td>0.0</td>\n",
              "      <td>3.3</td>\n",
              "      <td>0.00</td>\n",
              "      <td>0.0</td>\n",
              "      <td>0.0</td>\n",
              "      <td>0.0</td>\n",
              "      <td>0.0</td>\n",
              "      <td>0.0</td>\n",
              "      <td>0.0</td>\n",
              "      <td>0.0</td>\n",
              "      <td>9.0</td>\n",
              "      <td>0.02</td>\n",
              "      <td>0.0</td>\n",
              "      <td>0.0</td>\n",
              "      <td>0.5</td>\n",
              "      <td>1.578</td>\n",
              "      <td>1.150</td>\n",
              "      <td>0.130</td>\n",
              "      <td>0.0</td>\n",
              "    </tr>\n",
              "    <tr>\n",
              "      <th>44260</th>\n",
              "      <td>6.84</td>\n",
              "      <td>350.0</td>\n",
              "      <td>0.81</td>\n",
              "      <td>0.90</td>\n",
              "      <td>6.80</td>\n",
              "      <td>84.66</td>\n",
              "      <td>0.8</td>\n",
              "      <td>0.90</td>\n",
              "      <td>143.0</td>\n",
              "      <td>0.38</td>\n",
              "      <td>5.0</td>\n",
              "      <td>2368.0</td>\n",
              "      <td>30.0</td>\n",
              "      <td>3750.0</td>\n",
              "      <td>0.10</td>\n",
              "      <td>0.038</td>\n",
              "      <td>0.041</td>\n",
              "      <td>0.8</td>\n",
              "      <td>0.0</td>\n",
              "      <td>0.005</td>\n",
              "      <td>0.021</td>\n",
              "      <td>0.014</td>\n",
              "      <td>0.047</td>\n",
              "      <td>0.005</td>\n",
              "      <td>1.0</td>\n",
              "      <td>0.0</td>\n",
              "      <td>1.0</td>\n",
              "      <td>1.0</td>\n",
              "      <td>1.1</td>\n",
              "      <td>0.05</td>\n",
              "      <td>0.0</td>\n",
              "      <td>0.0</td>\n",
              "      <td>0.0</td>\n",
              "      <td>0.0</td>\n",
              "      <td>0.0</td>\n",
              "      <td>0.0</td>\n",
              "      <td>0.0</td>\n",
              "      <td>0.0</td>\n",
              "      <td>0.08</td>\n",
              "      <td>0.0</td>\n",
              "      <td>0.0</td>\n",
              "      <td>1.7</td>\n",
              "      <td>0.099</td>\n",
              "      <td>0.116</td>\n",
              "      <td>0.433</td>\n",
              "      <td>0.0</td>\n",
              "    </tr>\n",
              "  </tbody>\n",
              "</table>\n",
              "<p>2190 rows × 46 columns</p>\n",
              "</div>"
            ],
            "text/plain": [
              "        Water_(g)  Energ_Kcal  ...  FA_Poly_(g)  Cholestrl_(mg)\n",
              "NDB_No                         ...                             \n",
              "1001        15.87       717.0  ...        3.043           215.0\n",
              "1002        16.72       718.0  ...        3.331           225.0\n",
              "1003         0.24       876.0  ...        3.694           256.0\n",
              "1004        42.41       353.0  ...        0.800            75.0\n",
              "1005        41.11       371.0  ...        0.784            94.0\n",
              "...           ...         ...  ...          ...             ...\n",
              "44061        4.20       356.0  ...        0.131             0.0\n",
              "44158       54.66       181.0  ...        0.000             0.0\n",
              "44203       28.24       287.0  ...        0.009             0.0\n",
              "44258        6.80       365.0  ...        0.130             0.0\n",
              "44260        6.84       350.0  ...        0.433             0.0\n",
              "\n",
              "[2190 rows x 46 columns]"
            ]
          },
          "metadata": {
            "tags": []
          },
          "execution_count": 28
        }
      ]
    },
    {
      "cell_type": "markdown",
      "metadata": {
        "id": "eQax1It49LZP"
      },
      "source": [
        "> **Exercise solution**\n",
        ">\n",
        "> The correct code for students to use here is `nutr_df.set_index('NDB_No', inplace=True)`."
      ]
    },
    {
      "cell_type": "markdown",
      "metadata": {
        "id": "VCFJXkk_9LZP"
      },
      "source": [
        "Now let’s take a look at `nutr_df`."
      ]
    },
    {
      "cell_type": "code",
      "metadata": {
        "trusted": true,
        "id": "wfFggisj9LZQ",
        "outputId": "0e45379a-73dc-4199-cab8-c3a7bdea52d3",
        "colab": {
          "base_uri": "https://localhost:8080/",
          "height": 239
        }
      },
      "source": [
        "nutr_df.head()"
      ],
      "execution_count": 29,
      "outputs": [
        {
          "output_type": "execute_result",
          "data": {
            "text/html": [
              "<div>\n",
              "<style scoped>\n",
              "    .dataframe tbody tr th:only-of-type {\n",
              "        vertical-align: middle;\n",
              "    }\n",
              "\n",
              "    .dataframe tbody tr th {\n",
              "        vertical-align: top;\n",
              "    }\n",
              "\n",
              "    .dataframe thead th {\n",
              "        text-align: right;\n",
              "    }\n",
              "</style>\n",
              "<table border=\"1\" class=\"dataframe\">\n",
              "  <thead>\n",
              "    <tr style=\"text-align: right;\">\n",
              "      <th></th>\n",
              "      <th>NDB_No</th>\n",
              "      <th>Water_(g)</th>\n",
              "      <th>Energ_Kcal</th>\n",
              "      <th>Protein_(g)</th>\n",
              "      <th>Lipid_Tot_(g)</th>\n",
              "      <th>Ash_(g)</th>\n",
              "      <th>Carbohydrt_(g)</th>\n",
              "      <th>Fiber_TD_(g)</th>\n",
              "      <th>Sugar_Tot_(g)</th>\n",
              "      <th>Calcium_(mg)</th>\n",
              "      <th>Iron_(mg)</th>\n",
              "      <th>Magnesium_(mg)</th>\n",
              "      <th>Phosphorus_(mg)</th>\n",
              "      <th>Potassium_(mg)</th>\n",
              "      <th>Sodium_(mg)</th>\n",
              "      <th>Zinc_(mg)</th>\n",
              "      <th>Copper_mg)</th>\n",
              "      <th>Manganese_(mg)</th>\n",
              "      <th>Selenium_(Âµg)</th>\n",
              "      <th>Vit_C_(mg)</th>\n",
              "      <th>Thiamin_(mg)</th>\n",
              "      <th>Riboflavin_(mg)</th>\n",
              "      <th>Niacin_(mg)</th>\n",
              "      <th>Panto_Acid_mg)</th>\n",
              "      <th>Vit_B6_(mg)</th>\n",
              "      <th>Folate_Tot_(Âµg)</th>\n",
              "      <th>Folic_Acid_(Âµg)</th>\n",
              "      <th>Food_Folate_(Âµg)</th>\n",
              "      <th>Folate_DFE_(Âµg)</th>\n",
              "      <th>Choline_Tot_ (mg)</th>\n",
              "      <th>Vit_B12_(Âµg)</th>\n",
              "      <th>Vit_A_IU</th>\n",
              "      <th>Vit_A_RAE</th>\n",
              "      <th>Retinol_(Âµg)</th>\n",
              "      <th>Alpha_Carot_(Âµg)</th>\n",
              "      <th>Beta_Carot_(Âµg)</th>\n",
              "      <th>Beta_Crypt_(Âµg)</th>\n",
              "      <th>Lycopene_(Âµg)</th>\n",
              "      <th>Lut+Zea_ (Âµg)</th>\n",
              "      <th>Vit_E_(mg)</th>\n",
              "      <th>Vit_D_Âµg</th>\n",
              "      <th>Vit_D_IU</th>\n",
              "      <th>Vit_K_(Âµg)</th>\n",
              "      <th>FA_Sat_(g)</th>\n",
              "      <th>FA_Mono_(g)</th>\n",
              "      <th>FA_Poly_(g)</th>\n",
              "      <th>Cholestrl_(mg)</th>\n",
              "    </tr>\n",
              "  </thead>\n",
              "  <tbody>\n",
              "    <tr>\n",
              "      <th>0</th>\n",
              "      <td>1001</td>\n",
              "      <td>15.87</td>\n",
              "      <td>717.0</td>\n",
              "      <td>0.85</td>\n",
              "      <td>81.11</td>\n",
              "      <td>2.11</td>\n",
              "      <td>0.06</td>\n",
              "      <td>0.0</td>\n",
              "      <td>0.06</td>\n",
              "      <td>24.0</td>\n",
              "      <td>0.02</td>\n",
              "      <td>2.0</td>\n",
              "      <td>24.0</td>\n",
              "      <td>24.0</td>\n",
              "      <td>643.0</td>\n",
              "      <td>0.09</td>\n",
              "      <td>0.000</td>\n",
              "      <td>0.000</td>\n",
              "      <td>1.0</td>\n",
              "      <td>0.0</td>\n",
              "      <td>0.005</td>\n",
              "      <td>0.034</td>\n",
              "      <td>0.042</td>\n",
              "      <td>0.110</td>\n",
              "      <td>0.003</td>\n",
              "      <td>3.0</td>\n",
              "      <td>0.0</td>\n",
              "      <td>3.0</td>\n",
              "      <td>3.0</td>\n",
              "      <td>18.8</td>\n",
              "      <td>0.17</td>\n",
              "      <td>2499.0</td>\n",
              "      <td>684.0</td>\n",
              "      <td>671.0</td>\n",
              "      <td>0.0</td>\n",
              "      <td>158.0</td>\n",
              "      <td>0.0</td>\n",
              "      <td>0.0</td>\n",
              "      <td>0.0</td>\n",
              "      <td>2.32</td>\n",
              "      <td>0.0</td>\n",
              "      <td>0.0</td>\n",
              "      <td>7.0</td>\n",
              "      <td>51.368</td>\n",
              "      <td>21.021</td>\n",
              "      <td>3.043</td>\n",
              "      <td>215.0</td>\n",
              "    </tr>\n",
              "    <tr>\n",
              "      <th>1</th>\n",
              "      <td>1002</td>\n",
              "      <td>16.72</td>\n",
              "      <td>718.0</td>\n",
              "      <td>0.49</td>\n",
              "      <td>78.30</td>\n",
              "      <td>1.62</td>\n",
              "      <td>2.87</td>\n",
              "      <td>0.0</td>\n",
              "      <td>0.06</td>\n",
              "      <td>23.0</td>\n",
              "      <td>0.05</td>\n",
              "      <td>1.0</td>\n",
              "      <td>24.0</td>\n",
              "      <td>41.0</td>\n",
              "      <td>583.0</td>\n",
              "      <td>0.05</td>\n",
              "      <td>0.010</td>\n",
              "      <td>0.001</td>\n",
              "      <td>0.0</td>\n",
              "      <td>0.0</td>\n",
              "      <td>0.007</td>\n",
              "      <td>0.064</td>\n",
              "      <td>0.022</td>\n",
              "      <td>0.097</td>\n",
              "      <td>0.008</td>\n",
              "      <td>4.0</td>\n",
              "      <td>0.0</td>\n",
              "      <td>4.0</td>\n",
              "      <td>4.0</td>\n",
              "      <td>18.8</td>\n",
              "      <td>0.07</td>\n",
              "      <td>2468.0</td>\n",
              "      <td>683.0</td>\n",
              "      <td>671.0</td>\n",
              "      <td>1.0</td>\n",
              "      <td>135.0</td>\n",
              "      <td>6.0</td>\n",
              "      <td>0.0</td>\n",
              "      <td>13.0</td>\n",
              "      <td>1.37</td>\n",
              "      <td>0.0</td>\n",
              "      <td>0.0</td>\n",
              "      <td>4.6</td>\n",
              "      <td>45.390</td>\n",
              "      <td>19.874</td>\n",
              "      <td>3.331</td>\n",
              "      <td>225.0</td>\n",
              "    </tr>\n",
              "    <tr>\n",
              "      <th>2</th>\n",
              "      <td>1003</td>\n",
              "      <td>0.24</td>\n",
              "      <td>876.0</td>\n",
              "      <td>0.28</td>\n",
              "      <td>99.48</td>\n",
              "      <td>0.00</td>\n",
              "      <td>0.00</td>\n",
              "      <td>0.0</td>\n",
              "      <td>0.00</td>\n",
              "      <td>4.0</td>\n",
              "      <td>0.00</td>\n",
              "      <td>0.0</td>\n",
              "      <td>3.0</td>\n",
              "      <td>5.0</td>\n",
              "      <td>2.0</td>\n",
              "      <td>0.01</td>\n",
              "      <td>0.001</td>\n",
              "      <td>0.000</td>\n",
              "      <td>0.0</td>\n",
              "      <td>0.0</td>\n",
              "      <td>0.001</td>\n",
              "      <td>0.005</td>\n",
              "      <td>0.003</td>\n",
              "      <td>0.010</td>\n",
              "      <td>0.001</td>\n",
              "      <td>0.0</td>\n",
              "      <td>0.0</td>\n",
              "      <td>0.0</td>\n",
              "      <td>0.0</td>\n",
              "      <td>22.3</td>\n",
              "      <td>0.01</td>\n",
              "      <td>3069.0</td>\n",
              "      <td>840.0</td>\n",
              "      <td>824.0</td>\n",
              "      <td>0.0</td>\n",
              "      <td>193.0</td>\n",
              "      <td>0.0</td>\n",
              "      <td>0.0</td>\n",
              "      <td>0.0</td>\n",
              "      <td>2.80</td>\n",
              "      <td>0.0</td>\n",
              "      <td>0.0</td>\n",
              "      <td>8.6</td>\n",
              "      <td>61.924</td>\n",
              "      <td>28.732</td>\n",
              "      <td>3.694</td>\n",
              "      <td>256.0</td>\n",
              "    </tr>\n",
              "    <tr>\n",
              "      <th>3</th>\n",
              "      <td>1004</td>\n",
              "      <td>42.41</td>\n",
              "      <td>353.0</td>\n",
              "      <td>21.40</td>\n",
              "      <td>28.74</td>\n",
              "      <td>5.11</td>\n",
              "      <td>2.34</td>\n",
              "      <td>0.0</td>\n",
              "      <td>0.50</td>\n",
              "      <td>528.0</td>\n",
              "      <td>0.31</td>\n",
              "      <td>23.0</td>\n",
              "      <td>387.0</td>\n",
              "      <td>256.0</td>\n",
              "      <td>1146.0</td>\n",
              "      <td>2.66</td>\n",
              "      <td>0.040</td>\n",
              "      <td>0.009</td>\n",
              "      <td>14.5</td>\n",
              "      <td>0.0</td>\n",
              "      <td>0.029</td>\n",
              "      <td>0.382</td>\n",
              "      <td>1.016</td>\n",
              "      <td>1.729</td>\n",
              "      <td>0.166</td>\n",
              "      <td>36.0</td>\n",
              "      <td>0.0</td>\n",
              "      <td>36.0</td>\n",
              "      <td>36.0</td>\n",
              "      <td>15.4</td>\n",
              "      <td>1.22</td>\n",
              "      <td>721.0</td>\n",
              "      <td>198.0</td>\n",
              "      <td>192.0</td>\n",
              "      <td>0.0</td>\n",
              "      <td>74.0</td>\n",
              "      <td>0.0</td>\n",
              "      <td>0.0</td>\n",
              "      <td>0.0</td>\n",
              "      <td>0.25</td>\n",
              "      <td>0.5</td>\n",
              "      <td>21.0</td>\n",
              "      <td>2.4</td>\n",
              "      <td>18.669</td>\n",
              "      <td>7.778</td>\n",
              "      <td>0.800</td>\n",
              "      <td>75.0</td>\n",
              "    </tr>\n",
              "    <tr>\n",
              "      <th>4</th>\n",
              "      <td>1005</td>\n",
              "      <td>41.11</td>\n",
              "      <td>371.0</td>\n",
              "      <td>23.24</td>\n",
              "      <td>29.68</td>\n",
              "      <td>3.18</td>\n",
              "      <td>2.79</td>\n",
              "      <td>0.0</td>\n",
              "      <td>0.51</td>\n",
              "      <td>674.0</td>\n",
              "      <td>0.43</td>\n",
              "      <td>24.0</td>\n",
              "      <td>451.0</td>\n",
              "      <td>136.0</td>\n",
              "      <td>560.0</td>\n",
              "      <td>2.60</td>\n",
              "      <td>0.024</td>\n",
              "      <td>0.012</td>\n",
              "      <td>14.5</td>\n",
              "      <td>0.0</td>\n",
              "      <td>0.014</td>\n",
              "      <td>0.351</td>\n",
              "      <td>0.118</td>\n",
              "      <td>0.288</td>\n",
              "      <td>0.065</td>\n",
              "      <td>20.0</td>\n",
              "      <td>0.0</td>\n",
              "      <td>20.0</td>\n",
              "      <td>20.0</td>\n",
              "      <td>15.4</td>\n",
              "      <td>1.26</td>\n",
              "      <td>1080.0</td>\n",
              "      <td>292.0</td>\n",
              "      <td>286.0</td>\n",
              "      <td>0.0</td>\n",
              "      <td>76.0</td>\n",
              "      <td>0.0</td>\n",
              "      <td>0.0</td>\n",
              "      <td>0.0</td>\n",
              "      <td>0.26</td>\n",
              "      <td>0.5</td>\n",
              "      <td>22.0</td>\n",
              "      <td>2.5</td>\n",
              "      <td>18.764</td>\n",
              "      <td>8.598</td>\n",
              "      <td>0.784</td>\n",
              "      <td>94.0</td>\n",
              "    </tr>\n",
              "  </tbody>\n",
              "</table>\n",
              "</div>"
            ],
            "text/plain": [
              "   NDB_No  Water_(g)  Energ_Kcal  ...  FA_Mono_(g)  FA_Poly_(g)  Cholestrl_(mg)\n",
              "0    1001      15.87       717.0  ...       21.021        3.043           215.0\n",
              "1    1002      16.72       718.0  ...       19.874        3.331           225.0\n",
              "2    1003       0.24       876.0  ...       28.732        3.694           256.0\n",
              "3    1004      42.41       353.0  ...        7.778        0.800            75.0\n",
              "4    1005      41.11       371.0  ...        8.598        0.784            94.0\n",
              "\n",
              "[5 rows x 47 columns]"
            ]
          },
          "metadata": {
            "tags": []
          },
          "execution_count": 29
        }
      ]
    },
    {
      "cell_type": "markdown",
      "metadata": {
        "id": "ZhySFxwI9LZT"
      },
      "source": [
        "## Normalize and center the data\n",
        "\n",
        "Our numeric data comes in a variety of mass units (grams, milligrams, and micrograms) and one energy unit (kilocalories). In order to make an apples-to-apples comparison (pun intended) of the nutritional data, we need to first *normalize* the data and make it more normally distributed (that is, make the distribution of the data look more like a familiar bell curve). PCA needs relatively normalized data to perform its magic.\n",
        "\n",
        "To help see why we need to normalize the data, let's look at a histogram of all of the columns."
      ]
    },
    {
      "cell_type": "code",
      "metadata": {
        "trusted": true,
        "id": "Cu1e_vl-9LZU",
        "outputId": "ba42fd3d-e75f-45cf-c7f9-34d2b6aba1c2",
        "colab": {
          "base_uri": "https://localhost:8080/",
          "height": 653
        }
      },
      "source": [
        "ax = nutr_df.hist(bins=50, xlabelsize=-1, ylabelsize=-1, figsize=(11,11))"
      ],
      "execution_count": 30,
      "outputs": [
        {
          "output_type": "display_data",
          "data": {
            "image/png": "[encoded data removed]",
            "text/plain": [
              "<Figure size 792x792 with 49 Axes>"
            ]
          },
          "metadata": {
            "tags": [],
            "needs_background": "light"
          }
        }
      ]
    },
    {
      "cell_type": "markdown",
      "metadata": {
        "id": "cGZxxoq89LZW"
      },
      "source": [
        "### Our first transformation - Box-Cox\n",
        "\n",
        "Not a bell curve in sight. Worse, a lot of the data is clumped at or around 0. There are a number of ways we can massage the data into a a more useable state.\n",
        "\n",
        "We're going to start by trying the [Box-Cox Transformation](https://www.statisticshowto.datasciencecentral.com/box-cox-transformation/) on the data, a popular transformation. It does require a strictly positive input, so we will add 1 to every value in each column."
      ]
    },
    {
      "cell_type": "code",
      "metadata": {
        "trusted": true,
        "id": "maAAPGJJ9LZX"
      },
      "source": [
        "nutr_df = nutr_df + 1"
      ],
      "execution_count": 31,
      "outputs": []
    },
    {
      "cell_type": "markdown",
      "metadata": {
        "id": "hMAjdnEa9LZb"
      },
      "source": [
        "Now for the transformation. The Box-Cox Transformation performs the transformation $y(\\lambda) = \\dfrac{y^{\\lambda}-1}{\\lambda}$ for $\\lambda \\neq 0$ and $y(\\lambda) = log y$ for $\\lambda = 0$ for all values $y$ in a given column. SciPy has a particularly useful `boxcox()` function that can automatically calculate the $\\lambda$ for each column that best normalizes the data in that column. (However, it is does not support `NaN` values; scikit-learn has a comparable `boxcox()` function that is `NaN`-safe, but it is not available on the version of scikit-learn that comes with Azure notebooks.)"
      ]
    },
    {
      "cell_type": "code",
      "metadata": {
        "trusted": true,
        "id": "Vpvc9KE_9LZc"
      },
      "source": [
        "from scipy.stats import boxcox\n",
        "\n",
        "nutr_df_TF = pd.DataFrame(index=nutr_df.index)\n",
        "for col in nutr_df.columns.values:\n",
        "    nutr_df_TF['{}_TF'.format(col)] = boxcox(nutr_df.loc[:, col])[0]"
      ],
      "execution_count": 32,
      "outputs": []
    },
    {
      "cell_type": "markdown",
      "metadata": {
        "id": "Dvb8RwYt9LZf"
      },
      "source": [
        "Let's now take a look at the `DataFrame` containing the transformed data."
      ]
    },
    {
      "cell_type": "code",
      "metadata": {
        "trusted": true,
        "scrolled": true,
        "id": "LrV9pBiG9LZg",
        "outputId": "fda5733e-cf69-4b2a-913d-5fbe882d6b30",
        "colab": {
          "base_uri": "https://localhost:8080/",
          "height": 653
        }
      },
      "source": [
        "ax = nutr_df_TF.hist(bins=50, xlabelsize=-1, ylabelsize=-1, figsize=(11,11))"
      ],
      "execution_count": 33,
      "outputs": [
        {
          "output_type": "display_data",
          "data": {
            "image/png": "[encoded data removed]",
            "text/plain": [
              "<Figure size 792x792 with 49 Axes>"
            ]
          },
          "metadata": {
            "tags": [],
            "needs_background": "light"
          }
        }
      ]
    },
    {
      "cell_type": "markdown",
      "metadata": {
        "id": "2famC-8x9LZi"
      },
      "source": [
        "A few of the columns now look about right, but unfortunately we really didn't see the results we were hoping for, which was bell curves for the bulk of our columns.\n",
        "\n",
        "### Standard scaling\n",
        "\n",
        "Our data units were incompatible to begin with, and the transformations haven't given us any real improvement. We can apply a different technique - centering the data around 0; that is, we will again transform the data, this time so that every column has a mean of 0 and a standard deviation of 1. Put another way, we're going to standardize our data around 0. Scikit-learn has a convenient function for this - [StandardScaler](https://scikit-learn.org/stable/modules/generated/sklearn.preprocessing.StandardScaler.html). We're going to call `fit_transform` to perform the conversion. Please note `fit_transform` will return a `numpy` array rather than a `DataFrame`."
      ]
    },
    {
      "cell_type": "code",
      "metadata": {
        "trusted": true,
        "id": "akJcio4R9LZj"
      },
      "source": [
        "nutr_df_TF = StandardScaler().fit_transform(nutr_df_TF)"
      ],
      "execution_count": 34,
      "outputs": []
    },
    {
      "cell_type": "markdown",
      "metadata": {
        "id": "_j1xYl9R9LZl"
      },
      "source": [
        "You can satisfy your self that the data is now centered by using the `mean()` method on the array."
      ]
    },
    {
      "cell_type": "code",
      "metadata": {
        "trusted": true,
        "id": "2yCQXSuv9LZm",
        "outputId": "2915dce1-4297-48d1-9125-7a7b25b33301",
        "colab": {
          "base_uri": "https://localhost:8080/"
        }
      },
      "source": [
        "print(\"mean: \", np.round(nutr_df_TF.mean(), 2))"
      ],
      "execution_count": 35,
      "outputs": [
        {
          "output_type": "stream",
          "text": [
            "mean:  -0.0\n"
          ],
          "name": "stdout"
        }
      ]
    },
    {
      "cell_type": "markdown",
      "metadata": {
        "id": "IwaS6IcD9LZo"
      },
      "source": [
        "> **Exercise**\n",
        ">\n",
        "> Find the standard deviation for the `nutr_df_TF`. (If you need a hint, you can always use **tab** in Jupyter notebooks)"
      ]
    },
    {
      "cell_type": "code",
      "metadata": {
        "trusted": true,
        "id": "GlcFLDUo9LZp",
        "outputId": "fa9a08fb-4e6a-4763-eac6-0714cc91fc93",
        "colab": {
          "base_uri": "https://localhost:8080/"
        }
      },
      "source": [
        "nutr_df_TF.std()"
      ],
      "execution_count": 38,
      "outputs": [
        {
          "output_type": "execute_result",
          "data": {
            "text/plain": [
              "1.0"
            ]
          },
          "metadata": {
            "tags": []
          },
          "execution_count": 38
        }
      ]
    },
    {
      "cell_type": "markdown",
      "metadata": {
        "id": "RoXZJE1D9LZu"
      },
      "source": [
        "## PCA in practice\n",
        "\n",
        "It is finally time to perform the PCA on our data. (As stated before, even with pretty clean data, a lot of effort has to go into preparing the data for analysis.)"
      ]
    },
    {
      "cell_type": "code",
      "metadata": {
        "trusted": true,
        "id": "w9qKTOMO9LZv"
      },
      "source": [
        "fit = PCA()\n",
        "pca = fit.fit_transform(nutr_df_TF)"
      ],
      "execution_count": 39,
      "outputs": []
    },
    {
      "cell_type": "markdown",
      "metadata": {
        "id": "RU_o0Tl29LZy"
      },
      "source": [
        "So, now that we have peformed the PCA on our data, what do we actually have? Remember that PCA is foremost about finding the eigenvectors for our data. We then want to select some subset of those vectors to form the lower-dimensional subspace in which to analyze our data.\n",
        "\n",
        "Let's take a look at a scatter plot created by the first two components. We can already see some clustering, which we'll be able to better represent when we get towards the end."
      ]
    },
    {
      "cell_type": "code",
      "metadata": {
        "trusted": true,
        "id": "PzWLyVja9LZz",
        "outputId": "f7f0b7de-48ce-4b68-8b82-940e14ce1aa5",
        "colab": {
          "base_uri": "https://localhost:8080/",
          "height": 313
        }
      },
      "source": [
        "plt.scatter(pca[:,0], pca[:,1])\n",
        "plt.xlabel('C1')\n",
        "plt.ylabel('C2')\n",
        "plt.title('Collapsed data')"
      ],
      "execution_count": 57,
      "outputs": [
        {
          "output_type": "execute_result",
          "data": {
            "text/plain": [
              "Text(0.5, 1.0, 'Collapsed data')"
            ]
          },
          "metadata": {
            "tags": []
          },
          "execution_count": 57
        },
        {
          "output_type": "display_data",
          "data": {
            "image/png": "[encoded data removed]",
            "text/plain": [
              "<Figure size 432x288 with 1 Axes>"
            ]
          },
          "metadata": {
            "tags": [],
            "needs_background": "light"
          }
        }
      ]
    },
    {
      "cell_type": "markdown",
      "metadata": {
        "id": "QAuIYsQF9LZ2"
      },
      "source": [
        "Not all of the eigenvectors are created equal. Just a few of them will account for the majority of the variance in the data. (Put another way, a subspace composed of just a few of the eigenvectors will retain the majority of the information from our data.) We want to focus on those vectors.\n",
        "\n",
        "To help us get a sense of how many vectors we should use, consider this scree graph of the variance for the PCA components, which plots the variance explained by the components from greatest to least."
      ]
    },
    {
      "cell_type": "code",
      "metadata": {
        "trusted": true,
        "id": "_rmyJ1L39LZ3",
        "outputId": "33c86433-1d1c-47fd-bd70-292225f55c9d",
        "colab": {
          "base_uri": "https://localhost:8080/",
          "height": 283
        }
      },
      "source": [
        "plt.plot(fit.explained_variance_ratio_)"
      ],
      "execution_count": 42,
      "outputs": [
        {
          "output_type": "execute_result",
          "data": {
            "text/plain": [
              "[<matplotlib.lines.Line2D at 0x7fdd0a67d550>]"
            ]
          },
          "metadata": {
            "tags": []
          },
          "execution_count": 42
        },
        {
          "output_type": "display_data",
          "data": {
            "image/png": "[encoded data removed]",
            "text/plain": [
              "<Figure size 432x288 with 1 Axes>"
            ]
          },
          "metadata": {
            "tags": [],
            "needs_background": "light"
          }
        }
      ]
    },
    {
      "cell_type": "markdown",
      "metadata": {
        "id": "xHeSvSUc9LZ8"
      },
      "source": [
        "This is where data science can become an art. As a rule of thumb, we want to look for \"elbow\" in the graph, which is the point at which the few components have captured the majority of the variance in the data (after that point, we are only adding complexity to the analysis for increasingly diminishing returns). In this particular case, that appears to be at about five components.\n",
        "\n",
        "We can take the cumulative sum of the first five components to see how much variance they capture in total."
      ]
    },
    {
      "cell_type": "code",
      "metadata": {
        "trusted": true,
        "id": "jQ45S3bm9LZ9",
        "outputId": "fbabd544-c38b-4570-f25f-470acda3ceee",
        "colab": {
          "base_uri": "https://localhost:8080/"
        }
      },
      "source": [
        "print(fit.explained_variance_ratio_[:5].sum())"
      ],
      "execution_count": 43,
      "outputs": [
        {
          "output_type": "stream",
          "text": [
            "0.6928086119508389\n"
          ],
          "name": "stdout"
        }
      ]
    },
    {
      "cell_type": "markdown",
      "metadata": {
        "id": "6tFsD7-69LaB"
      },
      "source": [
        "So our five components capture about 70 percent of the variance. We can see what fewer or additional components would yield by looking at the cumulative variance for all of the components. You can see increasing to 6 components would cover an additional 3 percentage points over the first 5, and there's an ever-diminisioning return."
      ]
    },
    {
      "cell_type": "code",
      "metadata": {
        "trusted": true,
        "id": "-3OxY5fQ9LaC",
        "outputId": "06479296-4e16-4fe3-8804-47fccd338f6b",
        "colab": {
          "base_uri": "https://localhost:8080/"
        }
      },
      "source": [
        "fit.explained_variance_ratio_.cumsum()"
      ],
      "execution_count": 44,
      "outputs": [
        {
          "output_type": "execute_result",
          "data": {
            "text/plain": [
              "array([0.29632648, 0.49049329, 0.57724476, 0.65228399, 0.69280861,\n",
              "       0.72640656, 0.7551366 , 0.78092388, 0.8012938 , 0.82145872,\n",
              "       0.8377138 , 0.85246179, 0.865621  , 0.87807887, 0.88887634,\n",
              "       0.89853107, 0.9076723 , 0.91575025, 0.92371178, 0.93149755,\n",
              "       0.93807822, 0.94376877, 0.94887553, 0.95397086, 0.958854  ,\n",
              "       0.96296784, 0.96691119, 0.97059707, 0.97400153, 0.9770842 ,\n",
              "       0.97994791, 0.98268824, 0.98520875, 0.98746622, 0.98960433,\n",
              "       0.99145147, 0.99324725, 0.99467345, 0.99589785, 0.99697336,\n",
              "       0.99789323, 0.99848818, 0.99905637, 0.99953424, 0.99983525,\n",
              "       0.99998804, 1.        ])"
            ]
          },
          "metadata": {
            "tags": []
          },
          "execution_count": 44
        }
      ]
    },
    {
      "cell_type": "markdown",
      "metadata": {
        "id": "Ju8e-gxf9LaE"
      },
      "source": [
        "We can also examine this visually."
      ]
    },
    {
      "cell_type": "code",
      "metadata": {
        "trusted": true,
        "id": "9LWXEFTM9LaF",
        "outputId": "6ff74399-cd6d-489c-9940-9b0d0f3ba571",
        "colab": {
          "base_uri": "https://localhost:8080/",
          "height": 299
        }
      },
      "source": [
        "plt.plot(np.cumsum(fit.explained_variance_ratio_))\n",
        "plt.title(\"Cumulative Explained Variance Graph\")"
      ],
      "execution_count": 45,
      "outputs": [
        {
          "output_type": "execute_result",
          "data": {
            "text/plain": [
              "Text(0.5, 1.0, 'Cumulative Explained Variance Graph')"
            ]
          },
          "metadata": {
            "tags": []
          },
          "execution_count": 45
        },
        {
          "output_type": "display_data",
          "data": {
            "image/png": "[encoded data removed]",
            "text/plain": [
              "<Figure size 432x288 with 1 Axes>"
            ]
          },
          "metadata": {
            "tags": [],
            "needs_background": "light"
          }
        }
      ]
    },
    {
      "cell_type": "markdown",
      "metadata": {
        "id": "53DR99we9LaI"
      },
      "source": [
        "Ultimately, it is a matter of judgment as to how many components to use, but five vectors (and 70 percent of the variance) will suffice for our purposes in this section.\n",
        "\n",
        "To aid further analysis, let's now put those five components into a DataFrame."
      ]
    },
    {
      "cell_type": "code",
      "metadata": {
        "trusted": true,
        "id": "yQ3WMgMl9LaJ",
        "outputId": "4a16d914-3e96-46d0-c2a5-fe253b2836dc",
        "colab": {
          "base_uri": "https://localhost:8080/",
          "height": 233
        }
      },
      "source": [
        "pca_df = pd.DataFrame(pca[:, :5], index=desc_df.index)\n",
        "pca_df.head()"
      ],
      "execution_count": 46,
      "outputs": [
        {
          "output_type": "execute_result",
          "data": {
            "text/html": [
              "<div>\n",
              "<style scoped>\n",
              "    .dataframe tbody tr th:only-of-type {\n",
              "        vertical-align: middle;\n",
              "    }\n",
              "\n",
              "    .dataframe tbody tr th {\n",
              "        vertical-align: top;\n",
              "    }\n",
              "\n",
              "    .dataframe thead th {\n",
              "        text-align: right;\n",
              "    }\n",
              "</style>\n",
              "<table border=\"1\" class=\"dataframe\">\n",
              "  <thead>\n",
              "    <tr style=\"text-align: right;\">\n",
              "      <th></th>\n",
              "      <th>0</th>\n",
              "      <th>1</th>\n",
              "      <th>2</th>\n",
              "      <th>3</th>\n",
              "      <th>4</th>\n",
              "    </tr>\n",
              "    <tr>\n",
              "      <th>NDB_No</th>\n",
              "      <th></th>\n",
              "      <th></th>\n",
              "      <th></th>\n",
              "      <th></th>\n",
              "      <th></th>\n",
              "    </tr>\n",
              "  </thead>\n",
              "  <tbody>\n",
              "    <tr>\n",
              "      <th>1001</th>\n",
              "      <td>-0.732037</td>\n",
              "      <td>-1.707279</td>\n",
              "      <td>4.026262</td>\n",
              "      <td>6.099510</td>\n",
              "      <td>-1.274695</td>\n",
              "    </tr>\n",
              "    <tr>\n",
              "      <th>1002</th>\n",
              "      <td>-1.735579</td>\n",
              "      <td>-0.738615</td>\n",
              "      <td>5.142564</td>\n",
              "      <td>5.936871</td>\n",
              "      <td>-2.264282</td>\n",
              "    </tr>\n",
              "    <tr>\n",
              "      <th>1003</th>\n",
              "      <td>-2.247710</td>\n",
              "      <td>-3.886305</td>\n",
              "      <td>3.300821</td>\n",
              "      <td>7.230059</td>\n",
              "      <td>-3.397515</td>\n",
              "    </tr>\n",
              "    <tr>\n",
              "      <th>1004</th>\n",
              "      <td>3.585201</td>\n",
              "      <td>0.259868</td>\n",
              "      <td>4.311568</td>\n",
              "      <td>1.008528</td>\n",
              "      <td>1.941350</td>\n",
              "    </tr>\n",
              "    <tr>\n",
              "      <th>1005</th>\n",
              "      <td>2.695601</td>\n",
              "      <td>-0.331593</td>\n",
              "      <td>4.389608</td>\n",
              "      <td>1.925306</td>\n",
              "      <td>1.828534</td>\n",
              "    </tr>\n",
              "  </tbody>\n",
              "</table>\n",
              "</div>"
            ],
            "text/plain": [
              "               0         1         2         3         4\n",
              "NDB_No                                                  \n",
              "1001   -0.732037 -1.707279  4.026262  6.099510 -1.274695\n",
              "1002   -1.735579 -0.738615  5.142564  5.936871 -2.264282\n",
              "1003   -2.247710 -3.886305  3.300821  7.230059 -3.397515\n",
              "1004    3.585201  0.259868  4.311568  1.008528  1.941350\n",
              "1005    2.695601 -0.331593  4.389608  1.925306  1.828534"
            ]
          },
          "metadata": {
            "tags": []
          },
          "execution_count": 46
        }
      ]
    },
    {
      "cell_type": "markdown",
      "metadata": {
        "id": "U7ZzfqJz9LaO"
      },
      "source": [
        "Each column represents one of the eigenvectors, and each row is one of the coordinates that defines that vector in five-dimensional space.\n",
        "\n",
        "We will want to add the FoodGroup column back in to aid with our interpretation of the data later on. Let's also rename the component-columns $c_{1}$ through $c_{5}$ so that we know what we are looking at."
      ]
    },
    {
      "cell_type": "code",
      "metadata": {
        "trusted": true,
        "id": "Miv3L9Sq9LaP"
      },
      "source": [
        "pca_df = pca_df.join(desc_df)\n",
        "pca_df.drop(['FoodGroup', 'GmWt_Desc1', 'GmWt_2', 'GmWt_Desc2', 'Refuse_Pct', 'Shrt_Desc'], axis=1, inplace=True)\n",
        "pca_df.rename(columns={0:'c1', 1:'c2', 2:'c3', 3:'c4', 4:'c5'}, inplace=True)"
      ],
      "execution_count": 47,
      "outputs": []
    },
    {
      "cell_type": "markdown",
      "metadata": {
        "id": "MSa_jr2x9LaR"
      },
      "source": [
        "Don't worry that the FoodGroup column has all `NaN` values: it is not a vector, so it has no vector coordinates.\n",
        "\n",
        "One last thing we should demonstrate is that each of the components is mutually perpendicular (or orthogonal in math-speak). One way of expressing that condition is that each component-vector should perfectly correspond with itself and not correlate at all (positively or negatively) with any other vector."
      ]
    },
    {
      "cell_type": "code",
      "metadata": {
        "trusted": true,
        "id": "LWba1hS99LaR",
        "outputId": "42e04e01-b2f3-4ea9-ff08-ae19d821cd8d",
        "colab": {
          "base_uri": "https://localhost:8080/",
          "height": 202
        }
      },
      "source": [
        "np.round(pca_df.corr(), 5)"
      ],
      "execution_count": 48,
      "outputs": [
        {
          "output_type": "execute_result",
          "data": {
            "text/html": [
              "<div>\n",
              "<style scoped>\n",
              "    .dataframe tbody tr th:only-of-type {\n",
              "        vertical-align: middle;\n",
              "    }\n",
              "\n",
              "    .dataframe tbody tr th {\n",
              "        vertical-align: top;\n",
              "    }\n",
              "\n",
              "    .dataframe thead th {\n",
              "        text-align: right;\n",
              "    }\n",
              "</style>\n",
              "<table border=\"1\" class=\"dataframe\">\n",
              "  <thead>\n",
              "    <tr style=\"text-align: right;\">\n",
              "      <th></th>\n",
              "      <th>c1</th>\n",
              "      <th>c2</th>\n",
              "      <th>c3</th>\n",
              "      <th>c4</th>\n",
              "      <th>c5</th>\n",
              "    </tr>\n",
              "  </thead>\n",
              "  <tbody>\n",
              "    <tr>\n",
              "      <th>c1</th>\n",
              "      <td>1.0</td>\n",
              "      <td>0.0</td>\n",
              "      <td>0.0</td>\n",
              "      <td>-0.0</td>\n",
              "      <td>0.0</td>\n",
              "    </tr>\n",
              "    <tr>\n",
              "      <th>c2</th>\n",
              "      <td>0.0</td>\n",
              "      <td>1.0</td>\n",
              "      <td>0.0</td>\n",
              "      <td>-0.0</td>\n",
              "      <td>-0.0</td>\n",
              "    </tr>\n",
              "    <tr>\n",
              "      <th>c3</th>\n",
              "      <td>0.0</td>\n",
              "      <td>0.0</td>\n",
              "      <td>1.0</td>\n",
              "      <td>-0.0</td>\n",
              "      <td>0.0</td>\n",
              "    </tr>\n",
              "    <tr>\n",
              "      <th>c4</th>\n",
              "      <td>-0.0</td>\n",
              "      <td>-0.0</td>\n",
              "      <td>-0.0</td>\n",
              "      <td>1.0</td>\n",
              "      <td>0.0</td>\n",
              "    </tr>\n",
              "    <tr>\n",
              "      <th>c5</th>\n",
              "      <td>0.0</td>\n",
              "      <td>-0.0</td>\n",
              "      <td>0.0</td>\n",
              "      <td>0.0</td>\n",
              "      <td>1.0</td>\n",
              "    </tr>\n",
              "  </tbody>\n",
              "</table>\n",
              "</div>"
            ],
            "text/plain": [
              "     c1   c2   c3   c4   c5\n",
              "c1  1.0  0.0  0.0 -0.0  0.0\n",
              "c2  0.0  1.0  0.0 -0.0 -0.0\n",
              "c3  0.0  0.0  1.0 -0.0  0.0\n",
              "c4 -0.0 -0.0 -0.0  1.0  0.0\n",
              "c5  0.0 -0.0  0.0  0.0  1.0"
            ]
          },
          "metadata": {
            "tags": []
          },
          "execution_count": 48
        }
      ]
    },
    {
      "cell_type": "markdown",
      "metadata": {
        "id": "Zq1T8vT69LaU"
      },
      "source": [
        "## Interpreting the results\n",
        "\n",
        "What do our new vectors mean? What is driving our data? To see these results, we will create pandas Series for each of the components, index them by feature, and then sort them in descreasing order (so that a higher number represents a feature that is positively correlated with that vector and negative numbers represent low correlation)."
      ]
    },
    {
      "cell_type": "code",
      "metadata": {
        "trusted": true,
        "id": "5iRqjMq-9LaU"
      },
      "source": [
        "vects = fit.components_[:5]"
      ],
      "execution_count": 49,
      "outputs": []
    },
    {
      "cell_type": "code",
      "metadata": {
        "trusted": true,
        "id": "up4bHS0S9LaX",
        "outputId": "c7e61ed1-e952-46da-a275-091964e88656",
        "colab": {
          "base_uri": "https://localhost:8080/"
        }
      },
      "source": [
        "c1 = pd.Series(vects[0], index=nutr_df.columns)\n",
        "c1.sort_values(ascending=False)"
      ],
      "execution_count": 50,
      "outputs": [
        {
          "output_type": "execute_result",
          "data": {
            "text/plain": [
              "Protein_(g)          0.249612\n",
              "Selenium_(Âµg)       0.234515\n",
              "Zinc_(mg)            0.228939\n",
              "Choline_Tot_ (mg)    0.224752\n",
              "Phosphorus_(mg)      0.217308\n",
              "Niacin_(mg)          0.208345\n",
              "Cholestrl_(mg)       0.205733\n",
              "Panto_Acid_mg)       0.201055\n",
              "Riboflavin_(mg)      0.201028\n",
              "Vit_B12_(Âµg)        0.199544\n",
              "FA_Mono_(g)          0.194594\n",
              "Lipid_Tot_(g)        0.191798\n",
              "Vit_B6_(mg)          0.191526\n",
              "FA_Sat_(g)           0.188748\n",
              "Vit_D_IU             0.173971\n",
              "FA_Poly_(g)          0.154780\n",
              "Iron_(mg)            0.152441\n",
              "Energ_Kcal           0.150843\n",
              "Vit_D_Âµg            0.146460\n",
              "Ash_(g)              0.137944\n",
              "Potassium_(mg)       0.134949\n",
              "Magnesium_(mg)       0.133265\n",
              "Thiamin_(mg)         0.131898\n",
              "Retinol_(Âµg)        0.118535\n",
              "Sodium_(mg)          0.099912\n",
              "Copper_mg)           0.084969\n",
              "Calcium_(mg)         0.051026\n",
              "Vit_E_(mg)           0.034175\n",
              "NDB_No               0.030397\n",
              "Food_Folate_(Âµg)    0.008557\n",
              "Folate_Tot_(Âµg)     0.007171\n",
              "Folate_DFE_(Âµg)     0.006639\n",
              "Folic_Acid_(Âµg)    -0.002939\n",
              "Vit_A_RAE           -0.011762\n",
              "Vit_K_(Âµg)         -0.041601\n",
              "Manganese_(mg)      -0.045958\n",
              "Vit_A_IU            -0.050575\n",
              "Lycopene_(Âµg)      -0.055024\n",
              "Beta_Crypt_(Âµg)    -0.084520\n",
              "Alpha_Carot_(Âµg)   -0.094252\n",
              "Water_(g)           -0.097676\n",
              "Fiber_TD_(g)        -0.107300\n",
              "Lut+Zea_ (Âµg)      -0.128023\n",
              "Carbohydrt_(g)      -0.130076\n",
              "Beta_Carot_(Âµg)    -0.145936\n",
              "Sugar_Tot_(g)       -0.149095\n",
              "Vit_C_(mg)          -0.159773\n",
              "dtype: float64"
            ]
          },
          "metadata": {
            "tags": []
          },
          "execution_count": 50
        }
      ]
    },
    {
      "cell_type": "markdown",
      "metadata": {
        "id": "hY_HqRNp9Lac"
      },
      "source": [
        "Our first component is primarily driven by the amounts of protein, selenium and zinc, while the amounts of vitamin C and sugar have a lessened impact."
      ]
    },
    {
      "cell_type": "code",
      "metadata": {
        "trusted": true,
        "id": "hC8YpdlB9Lae",
        "outputId": "e359d8a3-ad27-4ecd-ace5-f8891bd2c4ac",
        "colab": {
          "base_uri": "https://localhost:8080/"
        }
      },
      "source": [
        "c2 = pd.Series(vects[1], index=nutr_df.columns)\n",
        "c2.sort_values(ascending=False)"
      ],
      "execution_count": 51,
      "outputs": [
        {
          "output_type": "execute_result",
          "data": {
            "text/plain": [
              "Manganese_(mg)       0.280677\n",
              "Folate_DFE_(Âµg)     0.271974\n",
              "Folate_Tot_(Âµg)     0.271423\n",
              "Fiber_TD_(g)         0.270580\n",
              "Food_Folate_(Âµg)    0.241602\n",
              "Carbohydrt_(g)       0.232894\n",
              "Copper_mg)           0.218687\n",
              "Magnesium_(mg)       0.210462\n",
              "Calcium_(mg)         0.189096\n",
              "Iron_(mg)            0.179731\n",
              "Ash_(g)              0.176376\n",
              "Lut+Zea_ (Âµg)       0.175818\n",
              "Vit_K_(Âµg)          0.168465\n",
              "Vit_E_(mg)           0.167723\n",
              "Sugar_Tot_(g)        0.159880\n",
              "Folic_Acid_(Âµg)     0.156876\n",
              "Thiamin_(mg)         0.146673\n",
              "Energ_Kcal           0.133983\n",
              "Potassium_(mg)       0.126495\n",
              "Beta_Carot_(Âµg)     0.124504\n",
              "FA_Poly_(g)          0.123916\n",
              "Phosphorus_(mg)      0.091412\n",
              "Vit_C_(mg)           0.086557\n",
              "Sodium_(mg)          0.082325\n",
              "Riboflavin_(mg)      0.082285\n",
              "Alpha_Carot_(Âµg)    0.076695\n",
              "Beta_Crypt_(Âµg)     0.062937\n",
              "Lipid_Tot_(g)        0.056329\n",
              "NDB_No               0.054100\n",
              "Vit_A_IU             0.054025\n",
              "Panto_Acid_mg)       0.045132\n",
              "Lycopene_(Âµg)       0.045007\n",
              "FA_Mono_(g)          0.033104\n",
              "Vit_A_RAE            0.021500\n",
              "Niacin_(mg)          0.017678\n",
              "FA_Sat_(g)           0.015918\n",
              "Zinc_(mg)            0.008196\n",
              "Selenium_(Âµg)      -0.005914\n",
              "Protein_(g)         -0.011942\n",
              "Choline_Tot_ (mg)   -0.012100\n",
              "Vit_B6_(mg)         -0.021869\n",
              "Retinol_(Âµg)       -0.059942\n",
              "Vit_D_Âµg           -0.126225\n",
              "Vit_B12_(Âµg)       -0.134720\n",
              "Cholestrl_(mg)      -0.142503\n",
              "Vit_D_IU            -0.150136\n",
              "Water_(g)           -0.191607\n",
              "dtype: float64"
            ]
          },
          "metadata": {
            "tags": []
          },
          "execution_count": 51
        }
      ]
    },
    {
      "cell_type": "markdown",
      "metadata": {
        "id": "WEb1WxrC9Laj"
      },
      "source": [
        "Our second component is primarily driven by the amounts of fiber, manganese and folate.\n",
        "\n",
        "By using PCA we've been able to distill our data down into fewer, more meaningful dimensions and gain insights we might miss otherwise."
      ]
    },
    {
      "cell_type": "markdown",
      "metadata": {
        "trusted": true,
        "id": "kbILac779Lak"
      },
      "source": [
        "## Using our PCA results for categorization\n",
        "\n",
        "One of the most common uses of PCA is to prepare data for categorization. PCA provides meaningful dimensions which are non-correlated, so our cluster will typically provide better results. This is why we started with PCA to before we attempted to cluster our foods together.\n",
        "\n",
        "To perform the categorization, we're going to use [k-means clustering](https://en.wikipedia.org/wiki/K-means_clustering). In a nutshell, k-means will look to identify groups (or clusters) in our data.\n",
        "\n",
        "We're going to start by loading the library, creating our model, and then fitting our PCA results into the model. We are arbitrarily using 3 clusters; in [Machine Learning 2](https://github.com/microsoft/Reactors/tree/main/Machine_Learning_2) there is a deeper conversation of k-means and how to determine the best number of clusters. We're using just the first 5 components as we determined it will provide the best return on investment."
      ]
    },
    {
      "cell_type": "code",
      "metadata": {
        "trusted": true,
        "id": "oDBNgJ7G9Lal",
        "outputId": "1b162292-98a0-41e1-8b32-333b9e5f764f",
        "colab": {
          "base_uri": "https://localhost:8080/"
        }
      },
      "source": [
        "from sklearn.cluster import KMeans\n",
        "kmeansmodel = KMeans(n_clusters=3, random_state=13)\n",
        "kmeansmodel.fit(pca[:, :5])\n",
        "kmeansmodel.labels_"
      ],
      "execution_count": 52,
      "outputs": [
        {
          "output_type": "execute_result",
          "data": {
            "text/plain": [
              "array([1, 1, 1, ..., 1, 2, 1], dtype=int32)"
            ]
          },
          "metadata": {
            "tags": []
          },
          "execution_count": 52
        }
      ]
    },
    {
      "cell_type": "markdown",
      "metadata": {
        "id": "1QLxAhDH9Lap"
      },
      "source": [
        "Let's recreate our `DataFrame` with the PCA values, a new column named **Cluster** which will hold the `label_` or cluster number for each food item, and add back in the text descriptions."
      ]
    },
    {
      "cell_type": "code",
      "metadata": {
        "trusted": true,
        "id": "eqrBB72I9Laq",
        "outputId": "3eea35f2-0d4c-4e28-c7e1-8a8bf6d4bbf7",
        "colab": {
          "base_uri": "https://localhost:8080/",
          "height": 319
        }
      },
      "source": [
        "# Create a new data frame\n",
        "pca_df = pd.DataFrame(pca[:, :5], index=desc_df.index)\n",
        "\n",
        "# Add in the cluster number\n",
        "pca_df['Cluster'] = kmeansmodel.labels_\n",
        "\n",
        "# Add in the text descriptions\n",
        "pca_df = pca_df.join(desc_df)\n",
        "pca_df.head()"
      ],
      "execution_count": 53,
      "outputs": [
        {
          "output_type": "execute_result",
          "data": {
            "text/html": [
              "<div>\n",
              "<style scoped>\n",
              "    .dataframe tbody tr th:only-of-type {\n",
              "        vertical-align: middle;\n",
              "    }\n",
              "\n",
              "    .dataframe tbody tr th {\n",
              "        vertical-align: top;\n",
              "    }\n",
              "\n",
              "    .dataframe thead th {\n",
              "        text-align: right;\n",
              "    }\n",
              "</style>\n",
              "<table border=\"1\" class=\"dataframe\">\n",
              "  <thead>\n",
              "    <tr style=\"text-align: right;\">\n",
              "      <th></th>\n",
              "      <th>0</th>\n",
              "      <th>1</th>\n",
              "      <th>2</th>\n",
              "      <th>3</th>\n",
              "      <th>4</th>\n",
              "      <th>Cluster</th>\n",
              "      <th>FoodGroup</th>\n",
              "      <th>Shrt_Desc</th>\n",
              "      <th>GmWt_Desc1</th>\n",
              "      <th>GmWt_2</th>\n",
              "      <th>GmWt_Desc2</th>\n",
              "      <th>Refuse_Pct</th>\n",
              "    </tr>\n",
              "    <tr>\n",
              "      <th>NDB_No</th>\n",
              "      <th></th>\n",
              "      <th></th>\n",
              "      <th></th>\n",
              "      <th></th>\n",
              "      <th></th>\n",
              "      <th></th>\n",
              "      <th></th>\n",
              "      <th></th>\n",
              "      <th></th>\n",
              "      <th></th>\n",
              "      <th></th>\n",
              "      <th></th>\n",
              "    </tr>\n",
              "  </thead>\n",
              "  <tbody>\n",
              "    <tr>\n",
              "      <th>1001</th>\n",
              "      <td>-0.732037</td>\n",
              "      <td>-1.707279</td>\n",
              "      <td>4.026262</td>\n",
              "      <td>6.099510</td>\n",
              "      <td>-1.274695</td>\n",
              "      <td>1</td>\n",
              "      <td>Dairy and Egg Products</td>\n",
              "      <td>BUTTER,WITH SALT</td>\n",
              "      <td>1 pat,  (1\" sq, 1/3\" high)</td>\n",
              "      <td>14.2</td>\n",
              "      <td>1 tbsp</td>\n",
              "      <td>0.0</td>\n",
              "    </tr>\n",
              "    <tr>\n",
              "      <th>1002</th>\n",
              "      <td>-1.735579</td>\n",
              "      <td>-0.738615</td>\n",
              "      <td>5.142564</td>\n",
              "      <td>5.936871</td>\n",
              "      <td>-2.264282</td>\n",
              "      <td>1</td>\n",
              "      <td>Dairy and Egg Products</td>\n",
              "      <td>BUTTER,WHIPPED,W/ SALT</td>\n",
              "      <td>1 pat,  (1\" sq, 1/3\" high)</td>\n",
              "      <td>9.4</td>\n",
              "      <td>1 tbsp</td>\n",
              "      <td>0.0</td>\n",
              "    </tr>\n",
              "    <tr>\n",
              "      <th>1003</th>\n",
              "      <td>-2.247710</td>\n",
              "      <td>-3.886305</td>\n",
              "      <td>3.300821</td>\n",
              "      <td>7.230059</td>\n",
              "      <td>-3.397515</td>\n",
              "      <td>1</td>\n",
              "      <td>Dairy and Egg Products</td>\n",
              "      <td>BUTTER OIL,ANHYDROUS</td>\n",
              "      <td>1 tbsp</td>\n",
              "      <td>205.0</td>\n",
              "      <td>1 cup</td>\n",
              "      <td>0.0</td>\n",
              "    </tr>\n",
              "    <tr>\n",
              "      <th>1004</th>\n",
              "      <td>3.585201</td>\n",
              "      <td>0.259868</td>\n",
              "      <td>4.311568</td>\n",
              "      <td>1.008528</td>\n",
              "      <td>1.941350</td>\n",
              "      <td>0</td>\n",
              "      <td>Dairy and Egg Products</td>\n",
              "      <td>CHEESE,BLUE</td>\n",
              "      <td>1 oz</td>\n",
              "      <td>17.0</td>\n",
              "      <td>1 cubic inch</td>\n",
              "      <td>0.0</td>\n",
              "    </tr>\n",
              "    <tr>\n",
              "      <th>1005</th>\n",
              "      <td>2.695601</td>\n",
              "      <td>-0.331593</td>\n",
              "      <td>4.389608</td>\n",
              "      <td>1.925306</td>\n",
              "      <td>1.828534</td>\n",
              "      <td>0</td>\n",
              "      <td>Dairy and Egg Products</td>\n",
              "      <td>CHEESE,BRICK</td>\n",
              "      <td>1 cup, diced</td>\n",
              "      <td>113.0</td>\n",
              "      <td>1 cup, shredded</td>\n",
              "      <td>0.0</td>\n",
              "    </tr>\n",
              "  </tbody>\n",
              "</table>\n",
              "</div>"
            ],
            "text/plain": [
              "               0         1         2  ...  GmWt_2       GmWt_Desc2  Refuse_Pct\n",
              "NDB_No                                ...                                     \n",
              "1001   -0.732037 -1.707279  4.026262  ...    14.2           1 tbsp         0.0\n",
              "1002   -1.735579 -0.738615  5.142564  ...     9.4           1 tbsp         0.0\n",
              "1003   -2.247710 -3.886305  3.300821  ...   205.0            1 cup         0.0\n",
              "1004    3.585201  0.259868  4.311568  ...    17.0     1 cubic inch         0.0\n",
              "1005    2.695601 -0.331593  4.389608  ...   113.0  1 cup, shredded         0.0\n",
              "\n",
              "[5 rows x 12 columns]"
            ]
          },
          "metadata": {
            "tags": []
          },
          "execution_count": 53
        }
      ]
    },
    {
      "cell_type": "markdown",
      "metadata": {
        "id": "Vl51LLVh9Lau"
      },
      "source": [
        "### Exploring our clusters\n",
        "\n",
        "Let's see the products which wound up in the first cluster."
      ]
    },
    {
      "cell_type": "code",
      "metadata": {
        "trusted": true,
        "id": "eRfu8CA59Lau",
        "outputId": "5d3d924e-2e36-4a8b-d6c5-dd87cf6ad258",
        "colab": {
          "base_uri": "https://localhost:8080/"
        }
      },
      "source": [
        "pca_df.loc[pca_df['Cluster'] == 0]['Shrt_Desc'][:500]"
      ],
      "execution_count": 56,
      "outputs": [
        {
          "output_type": "execute_result",
          "data": {
            "text/plain": [
              "NDB_No\n",
              "1004                                           CHEESE,BLUE\n",
              "1005                                          CHEESE,BRICK\n",
              "1006                                           CHEESE,BRIE\n",
              "1007                                      CHEESE,CAMEMBERT\n",
              "1009                                        CHEESE,CHEDDAR\n",
              "                               ...                        \n",
              "13818    BEEF,CHUCK,BLADE RST,LN&FAT,1/8\"FAT,CHOIC,CKD,...\n",
              "13821    BEEF,CHK EYE RST,BNL,AMERICA'S BF RST,LN,0\" FA...\n",
              "13822    BEEF,CHK EYE RST,BNLESS,AMERICA'S BF RST,LN,0\"...\n",
              "13823    BEEF,CHUCK EYE RST,BNLESS,AMERICA'S BF RST,LN,...\n",
              "13829    BEEF,RIB,WHL (RIBS 6-12),LN&FAT,1/8\"FAT,CHOIC,...\n",
              "Name: Shrt_Desc, Length: 500, dtype: object"
            ]
          },
          "metadata": {
            "tags": []
          },
          "execution_count": 56
        }
      ]
    },
    {
      "cell_type": "markdown",
      "metadata": {
        "id": "14RoDKXh9Lax"
      },
      "source": [
        "> **Exercise** Display the first 500 rows for the remaining two clusters"
      ]
    },
    {
      "cell_type": "code",
      "metadata": {
        "trusted": true,
        "id": "0_M096Mn9Laz",
        "outputId": "6cca71a0-2268-42a9-90f4-581aa2d1bd79",
        "colab": {
          "base_uri": "https://localhost:8080/"
        }
      },
      "source": [
        "# Display cluster two (remember indexing starts at 0)\n",
        "pca_df.loc[pca_df['Cluster'] == 1]['Shrt_Desc'][:500]"
      ],
      "execution_count": 54,
      "outputs": [
        {
          "output_type": "execute_result",
          "data": {
            "text/plain": [
              "NDB_No\n",
              "1001                                      BUTTER,WITH SALT\n",
              "1002                                BUTTER,WHIPPED,W/ SALT\n",
              "1003                                  BUTTER OIL,ANHYDROUS\n",
              "1012                   CHEESE,COTTAGE,CRMD,LRG OR SML CURD\n",
              "1013                           CHEESE,COTTAGE,CRMD,W/FRUIT\n",
              "                               ...                        \n",
              "11715         LIMA BNS,IMMAT SEEDS,CND,NO SALT,SOL&LIQUIDS\n",
              "11716    LIMA BNS,IMMAT SEEDS,FRZ,BABY,CKD,BLD,DRND,W/SALT\n",
              "11727                BEANS,SNAP,YEL,CND,REG PK,SOL&LIQUIDS\n",
              "11728               BEANS,SNAP,YEL,CND,NO SALT,SOL&LIQUIDS\n",
              "11729                  BEANS,SNAP,GRN,CND,NO SALT,DRND SOL\n",
              "Name: Shrt_Desc, Length: 500, dtype: object"
            ]
          },
          "metadata": {
            "tags": []
          },
          "execution_count": 54
        }
      ]
    },
    {
      "cell_type": "code",
      "metadata": {
        "trusted": true,
        "id": "Xy5TVf579La9",
        "outputId": "3092afab-1285-4a49-89cb-4c39c4cc64da",
        "colab": {
          "base_uri": "https://localhost:8080/"
        }
      },
      "source": [
        "# Display cluster three (remember indexing starts at 0)\n",
        "pca_df.loc[pca_df['Cluster'] == 2]['Shrt_Desc'][:500]"
      ],
      "execution_count": 55,
      "outputs": [
        {
          "output_type": "execute_result",
          "data": {
            "text/plain": [
              "NDB_No\n",
              "1091       MILK,DRY,NONFAT,REG,WO/ ADDED VIT A & VITAMIN D\n",
              "1113                                       WHEY,ACID,DRIED\n",
              "1135         EGG,WHITE,DRIED,FLAKES,STABILIZED,GLUCOSE RED\n",
              "1136            EGG,WHITE,DRIED,PDR,STABILIZED,GLUCOSE RED\n",
              "1144                                 EGG SUBSTITUTE,POWDER\n",
              "                               ...                        \n",
              "42178                            MAYONNAISE,MADE WITH TOFU\n",
              "42196     CANDIES,MARS SNACKFOOD US,MILKY WAY MIDNIGHT BAR\n",
              "42227    CANDIES,MARS SNACKFOOD US,M&M'S ALMOND CHOC CA...\n",
              "43441                                   ROLLS,PUMPERNICKEL\n",
              "43528                     BEVERAGES,ABBOTT,ENSURE PLUS,RTD\n",
              "Name: Shrt_Desc, Length: 500, dtype: object"
            ]
          },
          "metadata": {
            "tags": []
          },
          "execution_count": 55
        }
      ]
    },
    {
      "cell_type": "markdown",
      "metadata": {
        "id": "mRvAYlyJ9LbB"
      },
      "source": [
        "### Conclusion\n",
        "\n",
        "Reducing dimensions to allow us to focus on what's important can be a bit of a a challenge. And, frankly, PCA can be a bit confusing at first. PCA's main goal is to provide us with a better signal to noise ratio. It helps us weed out the dimensions which aren't as important, and provide more meaningful insights into the relationships between our data. It's commonly used before categorization algorithms, such as k-means."
      ]
    }
  ]
}