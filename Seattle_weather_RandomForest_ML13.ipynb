{
  "nbformat": 4,
  "nbformat_minor": 0,
  "metadata": {
    "kernelspec": {
      "display_name": "Python 3",
      "language": "python",
      "name": "python3"
    },
    "language_info": {
      "codemirror_mode": {
        "name": "ipython",
        "version": 3
      },
      "file_extension": ".py",
      "mimetype": "text/x-python",
      "name": "python",
      "nbconvert_exporter": "python",
      "pygments_lexer": "ipython3",
      "version": "3.5.6"
    },
    "colab": {
      "name": "Seattle_weather_RandomForest_ML13.ipynb",
      "provenance": [],
      "collapsed_sections": [],
      "include_colab_link": true
    }
  },
  "cells": [
    {
      "cell_type": "markdown",
      "metadata": {
        "id": "view-in-github",
        "colab_type": "text"
      },
      "source": [
        "<a href=\"https://colab.research.google.com/github/Hutaf/SDA-Machine-Learning/blob/main/Seattle_weather_RandomForest_ML13.ipynb\" target=\"_parent\"><img src=\"https://colab.research.google.com/assets/colab-badge.svg\" alt=\"Open In Colab\"/></a>"
      ]
    },
    {
      "cell_type": "markdown",
      "metadata": {
        "id": "N8bJQ9wjpylY"
      },
      "source": [
        "# **Assignment ML13**\n",
        "Build a classification model of the Seattle Weather dataset with multiple features using scikit-learn's random forest classifier. \n",
        "\n",
        "Make sure you separate training and test sets and evaluate the models performance separately on these subsets. \n",
        "\n",
        "Use the same feature set you developed for the logistic regression assignment. How did the two perform against each other?\n"
      ]
    },
    {
      "cell_type": "markdown",
      "metadata": {
        "id": "j5U8K6afGA7j"
      },
      "source": [
        "## Define heuristic model\n",
        "\n",
        "\n"
      ]
    },
    {
      "cell_type": "code",
      "metadata": {
        "id": "7zPVWwdIqWDR"
      },
      "source": [
        "import seaborn as sns\n",
        "import matplotlib.pyplot as plt\n",
        "import pandas as pd\n",
        "import numpy as np\n",
        "from sklearn.linear_model import LogisticRegression\n",
        "from sklearn.ensemble import RandomForestClassifier\n",
        "from sklearn.model_selection import train_test_split\n",
        "from sklearn.metrics import accuracy_score, precision_score, recall_score, mean_squared_error, confusion_matrix\n",
        "from sklearn.preprocessing import StandardScaler, MinMaxScaler"
      ],
      "execution_count": 1,
      "outputs": []
    },
    {
      "cell_type": "code",
      "metadata": {
        "id": "QAZdZ96uGA7k"
      },
      "source": [
        "filepath = 'https://raw.githubusercontent.com/daniel-dc-cd/data_science/master/module_4_ML/data/seattle_weather_1948-2017.csv'\n",
        "df = pd.read_csv(filepath)\n",
        "\n",
        "numrows = 25549 # can be as large as 25549\n",
        "\n",
        "#create an empty dataframe to hold 100 values\n",
        "heuristic_df = pd.DataFrame({'yesterday':[0.0]*numrows,\n",
        "                             'today':[0.0]*numrows,\n",
        "                             'tomorrow':[True]*numrows})\n",
        "\n",
        "#sort columns for convience\n",
        "seq = ['yesterday',\n",
        "       'today',\n",
        "       'tomorrow']\n",
        "       \n",
        "heuristic_df = heuristic_df.reindex(columns=seq)"
      ],
      "execution_count": 2,
      "outputs": []
    },
    {
      "cell_type": "code",
      "metadata": {
        "id": "NIvpsvxKGA7r",
        "colab": {
          "base_uri": "https://localhost:8080/"
        },
        "outputId": "a8c14179-ae7a-45d2-b759-9825649a3219"
      },
      "source": [
        "print('-'*50)\n",
        "print(df.info())\n",
        "print('-'*50)\n",
        "print(df.describe())\n",
        "print('-'*50)\n",
        "print(df.head())\n",
        "print('\\n')\n",
        "print('-'*100)\n",
        "print(heuristic_df.info())\n",
        "print('-'*50)\n",
        "print(heuristic_df.describe())\n",
        "print('-'*50)\n",
        "print(heuristic_df.head())"
      ],
      "execution_count": 3,
      "outputs": [
        {
          "output_type": "stream",
          "text": [
            "--------------------------------------------------\n",
            "<class 'pandas.core.frame.DataFrame'>\n",
            "RangeIndex: 25551 entries, 0 to 25550\n",
            "Data columns (total 5 columns):\n",
            " #   Column  Non-Null Count  Dtype  \n",
            "---  ------  --------------  -----  \n",
            " 0   DATE    25551 non-null  object \n",
            " 1   PRCP    25548 non-null  float64\n",
            " 2   TMAX    25551 non-null  int64  \n",
            " 3   TMIN    25551 non-null  int64  \n",
            " 4   RAIN    25548 non-null  object \n",
            "dtypes: float64(1), int64(2), object(2)\n",
            "memory usage: 998.2+ KB\n",
            "None\n",
            "--------------------------------------------------\n",
            "               PRCP          TMAX          TMIN\n",
            "count  25548.000000  25551.000000  25551.000000\n",
            "mean       0.106222     59.544206     44.514226\n",
            "std        0.239031     12.772984      8.892836\n",
            "min        0.000000      4.000000      0.000000\n",
            "25%        0.000000     50.000000     38.000000\n",
            "50%        0.000000     58.000000     45.000000\n",
            "75%        0.100000     69.000000     52.000000\n",
            "max        5.020000    103.000000     71.000000\n",
            "--------------------------------------------------\n",
            "         DATE  PRCP  TMAX  TMIN  RAIN\n",
            "0  1948-01-01  0.47    51    42  True\n",
            "1  1948-01-02  0.59    45    36  True\n",
            "2  1948-01-03  0.42    45    35  True\n",
            "3  1948-01-04  0.31    45    34  True\n",
            "4  1948-01-05  0.17    45    32  True\n",
            "\n",
            "\n",
            "----------------------------------------------------------------------------------------------------\n",
            "<class 'pandas.core.frame.DataFrame'>\n",
            "RangeIndex: 25549 entries, 0 to 25548\n",
            "Data columns (total 3 columns):\n",
            " #   Column     Non-Null Count  Dtype  \n",
            "---  ------     --------------  -----  \n",
            " 0   yesterday  25549 non-null  float64\n",
            " 1   today      25549 non-null  float64\n",
            " 2   tomorrow   25549 non-null  bool   \n",
            "dtypes: bool(1), float64(2)\n",
            "memory usage: 424.3 KB\n",
            "None\n",
            "--------------------------------------------------\n",
            "       yesterday    today\n",
            "count    25549.0  25549.0\n",
            "mean         0.0      0.0\n",
            "std          0.0      0.0\n",
            "min          0.0      0.0\n",
            "25%          0.0      0.0\n",
            "50%          0.0      0.0\n",
            "75%          0.0      0.0\n",
            "max          0.0      0.0\n",
            "--------------------------------------------------\n",
            "   yesterday  today  tomorrow\n",
            "0        0.0    0.0      True\n",
            "1        0.0    0.0      True\n",
            "2        0.0    0.0      True\n",
            "3        0.0    0.0      True\n",
            "4        0.0    0.0      True\n"
          ],
          "name": "stdout"
        }
      ]
    },
    {
      "cell_type": "code",
      "metadata": {
        "id": "d8tu8d0bMhYr"
      },
      "source": [
        "# build a heuristic data\n",
        "for z in range(numrows):\n",
        "    #start at time 2 in the data frame\n",
        "    i = z + 2\n",
        "    #pull values from the dataframe\n",
        "    yesterday = df.iloc[(i-2),1]\n",
        "    today = df.iloc[(i-1),1]\n",
        "    tomorrow = df.iloc[i,1] \n",
        "    heuristic_df.iat[z,0] = yesterday\n",
        "    heuristic_df.iat[z,1] = today\n",
        "    heuristic_df.iat[z,2] = tomorrow"
      ],
      "execution_count": 4,
      "outputs": []
    },
    {
      "cell_type": "markdown",
      "metadata": {
        "id": "y0Trs6zRuLBA"
      },
      "source": [
        "### Preparing the Seattle weather data"
      ]
    },
    {
      "cell_type": "code",
      "metadata": {
        "id": "Q-9j3I5toPws",
        "colab": {
          "base_uri": "https://localhost:8080/"
        },
        "outputId": "90840c72-4d9c-41c9-95b8-0c6d1458a24b"
      },
      "source": [
        "heuristic_df.isna().sum()"
      ],
      "execution_count": 5,
      "outputs": [
        {
          "output_type": "execute_result",
          "data": {
            "text/plain": [
              "yesterday    3\n",
              "today        3\n",
              "tomorrow     0\n",
              "dtype: int64"
            ]
          },
          "metadata": {
            "tags": []
          },
          "execution_count": 5
        }
      ]
    },
    {
      "cell_type": "code",
      "metadata": {
        "id": "Xj6W7goNuYcy"
      },
      "source": [
        "def isNull(df, column):\n",
        "  return df[pd.isnull(df[column])]"
      ],
      "execution_count": 6,
      "outputs": []
    },
    {
      "cell_type": "code",
      "metadata": {
        "id": "bVexSEyeut3F",
        "colab": {
          "base_uri": "https://localhost:8080/",
          "height": 141
        },
        "outputId": "b7289b17-61ae-4bfb-be61-c3f9942e930f"
      },
      "source": [
        "isNull(heuristic_df, 'today')"
      ],
      "execution_count": 7,
      "outputs": [
        {
          "output_type": "execute_result",
          "data": {
            "text/html": [
              "<div>\n",
              "<style scoped>\n",
              "    .dataframe tbody tr th:only-of-type {\n",
              "        vertical-align: middle;\n",
              "    }\n",
              "\n",
              "    .dataframe tbody tr th {\n",
              "        vertical-align: top;\n",
              "    }\n",
              "\n",
              "    .dataframe thead th {\n",
              "        text-align: right;\n",
              "    }\n",
              "</style>\n",
              "<table border=\"1\" class=\"dataframe\">\n",
              "  <thead>\n",
              "    <tr style=\"text-align: right;\">\n",
              "      <th></th>\n",
              "      <th>yesterday</th>\n",
              "      <th>today</th>\n",
              "      <th>tomorrow</th>\n",
              "    </tr>\n",
              "  </thead>\n",
              "  <tbody>\n",
              "    <tr>\n",
              "      <th>18414</th>\n",
              "      <td>0.0</td>\n",
              "      <td>NaN</td>\n",
              "      <td>True</td>\n",
              "    </tr>\n",
              "    <tr>\n",
              "      <th>18415</th>\n",
              "      <td>NaN</td>\n",
              "      <td>NaN</td>\n",
              "      <td>False</td>\n",
              "    </tr>\n",
              "    <tr>\n",
              "      <th>21066</th>\n",
              "      <td>0.0</td>\n",
              "      <td>NaN</td>\n",
              "      <td>False</td>\n",
              "    </tr>\n",
              "  </tbody>\n",
              "</table>\n",
              "</div>"
            ],
            "text/plain": [
              "       yesterday  today  tomorrow\n",
              "18414        0.0    NaN      True\n",
              "18415        NaN    NaN     False\n",
              "21066        0.0    NaN     False"
            ]
          },
          "metadata": {
            "tags": []
          },
          "execution_count": 7
        }
      ]
    },
    {
      "cell_type": "code",
      "metadata": {
        "id": "RtMhRklIuRpW",
        "colab": {
          "base_uri": "https://localhost:8080/",
          "height": 141
        },
        "outputId": "848c6e4c-f4b7-4caf-ab18-b844526203b0"
      },
      "source": [
        "isNull(heuristic_df, 'yesterday')"
      ],
      "execution_count": 8,
      "outputs": [
        {
          "output_type": "execute_result",
          "data": {
            "text/html": [
              "<div>\n",
              "<style scoped>\n",
              "    .dataframe tbody tr th:only-of-type {\n",
              "        vertical-align: middle;\n",
              "    }\n",
              "\n",
              "    .dataframe tbody tr th {\n",
              "        vertical-align: top;\n",
              "    }\n",
              "\n",
              "    .dataframe thead th {\n",
              "        text-align: right;\n",
              "    }\n",
              "</style>\n",
              "<table border=\"1\" class=\"dataframe\">\n",
              "  <thead>\n",
              "    <tr style=\"text-align: right;\">\n",
              "      <th></th>\n",
              "      <th>yesterday</th>\n",
              "      <th>today</th>\n",
              "      <th>tomorrow</th>\n",
              "    </tr>\n",
              "  </thead>\n",
              "  <tbody>\n",
              "    <tr>\n",
              "      <th>18415</th>\n",
              "      <td>NaN</td>\n",
              "      <td>NaN</td>\n",
              "      <td>False</td>\n",
              "    </tr>\n",
              "    <tr>\n",
              "      <th>18416</th>\n",
              "      <td>NaN</td>\n",
              "      <td>0.0</td>\n",
              "      <td>False</td>\n",
              "    </tr>\n",
              "    <tr>\n",
              "      <th>21067</th>\n",
              "      <td>NaN</td>\n",
              "      <td>0.0</td>\n",
              "      <td>False</td>\n",
              "    </tr>\n",
              "  </tbody>\n",
              "</table>\n",
              "</div>"
            ],
            "text/plain": [
              "       yesterday  today  tomorrow\n",
              "18415        NaN    NaN     False\n",
              "18416        NaN    0.0     False\n",
              "21067        NaN    0.0     False"
            ]
          },
          "metadata": {
            "tags": []
          },
          "execution_count": 8
        }
      ]
    },
    {
      "cell_type": "code",
      "metadata": {
        "id": "mgdMiYWby235"
      },
      "source": [
        "heuristic_df = heuristic_df.dropna()"
      ],
      "execution_count": 9,
      "outputs": []
    },
    {
      "cell_type": "code",
      "metadata": {
        "colab": {
          "base_uri": "https://localhost:8080/"
        },
        "id": "XhY_X8NmP61_",
        "outputId": "4861d68c-22d9-41d5-bf2b-8e5d25e24c5f"
      },
      "source": [
        "heuristic_df.isna().sum()"
      ],
      "execution_count": 10,
      "outputs": [
        {
          "output_type": "execute_result",
          "data": {
            "text/plain": [
              "yesterday    0\n",
              "today        0\n",
              "tomorrow     0\n",
              "dtype: int64"
            ]
          },
          "metadata": {
            "tags": []
          },
          "execution_count": 10
        }
      ]
    },
    {
      "cell_type": "markdown",
      "metadata": {
        "id": "RUNes7-thXp2"
      },
      "source": [
        "# Regression"
      ]
    },
    {
      "cell_type": "markdown",
      "metadata": {
        "id": "wCQqlDfVsMFP"
      },
      "source": [
        "---\n",
        "### 1. Break the dataset into two parts, training and testing.\n"
      ]
    },
    {
      "cell_type": "code",
      "metadata": {
        "id": "PHy5P29sx4w6"
      },
      "source": [
        "X = heuristic_df.loc[:, ['yesterday', 'today']].values\n",
        "y = heuristic_df['tomorrow'].astype('int')\n",
        "X_train, X_test, y_train, y_test = train_test_split(X, y, test_size=0.2, random_state = 42)"
      ],
      "execution_count": 12,
      "outputs": []
    },
    {
      "cell_type": "markdown",
      "metadata": {
        "id": "oXsD5uHCqnaQ"
      },
      "source": [
        "### Scaling"
      ]
    },
    {
      "cell_type": "markdown",
      "metadata": {
        "id": "wtLHrvzSUuNp"
      },
      "source": [
        "#### **StandardScaler**"
      ]
    },
    {
      "cell_type": "code",
      "metadata": {
        "id": "eVWmeMSjo07S"
      },
      "source": [
        "scaler=StandardScaler()\n",
        "X_train_scaled = scaler.fit_transform(X_train)\n",
        "X_test_scaled = scaler.transform(X_test)"
      ],
      "execution_count": 13,
      "outputs": []
    },
    {
      "cell_type": "markdown",
      "metadata": {
        "id": "rBBa7iS2UyD7"
      },
      "source": [
        "#### **MinMaxScaler**"
      ]
    },
    {
      "cell_type": "code",
      "metadata": {
        "id": "K9SjNA6xTV1u"
      },
      "source": [
        "MinMax=MinMaxScaler()\n",
        "X_train_ms = MinMax.fit_transform(X_train)\n",
        "X_test_ms = MinMax.transform(X_test)"
      ],
      "execution_count": 14,
      "outputs": []
    },
    {
      "cell_type": "markdown",
      "metadata": {
        "id": "XlM_PzZ6sYdJ"
      },
      "source": [
        "---\n",
        "### 2. Use the first 80% of the dataset for training and the last 20% for testing."
      ]
    },
    {
      "cell_type": "code",
      "metadata": {
        "id": "4niHxg8xtjCs",
        "colab": {
          "base_uri": "https://localhost:8080/"
        },
        "outputId": "0493be3d-cbf7-45ed-f6e6-cd10d9b3939d"
      },
      "source": [
        "reg= LogisticRegression(random_state=42,max_iter=200)\n",
        "reg.fit(X_train,y_train)\n",
        "print(\"Training score: {}\".format(reg.score(X_train,y_train)))"
      ],
      "execution_count": 15,
      "outputs": [
        {
          "output_type": "stream",
          "text": [
            "Training score: 0.6741375091754344\n"
          ],
          "name": "stdout"
        }
      ]
    },
    {
      "cell_type": "code",
      "metadata": {
        "id": "5Is4SZzmy03b",
        "colab": {
          "base_uri": "https://localhost:8080/"
        },
        "outputId": "c377ee1c-586f-474f-8012-6538ae5a53de"
      },
      "source": [
        "reg= LogisticRegression(random_state=42,max_iter=200)\n",
        "reg.fit(X_train_scaled,y_train)\n",
        "print(\"Training score with (StandardScaler): {}\".format(reg.score(X_train_scaled,y_train)))"
      ],
      "execution_count": 16,
      "outputs": [
        {
          "output_type": "stream",
          "text": [
            "Training score with (StandardScaler): 0.6742843161242965\n"
          ],
          "name": "stdout"
        }
      ]
    },
    {
      "cell_type": "code",
      "metadata": {
        "colab": {
          "base_uri": "https://localhost:8080/"
        },
        "id": "sbImEb_YT3v-",
        "outputId": "40abb7e3-26e2-4064-8a8a-270901d1805f"
      },
      "source": [
        "reg= LogisticRegression(random_state=42,max_iter=200)\n",
        "reg.fit(X_train_ms,y_train)\n",
        "print(\"Training score with (MinMaxScaler): {}\".format(reg.score(X_train_ms,y_train)))"
      ],
      "execution_count": 17,
      "outputs": [
        {
          "output_type": "stream",
          "text": [
            "Training score with (MinMaxScaler): 0.6683141668705652\n"
          ],
          "name": "stdout"
        }
      ]
    },
    {
      "cell_type": "markdown",
      "metadata": {
        "id": "cFmGb2oqseIZ"
      },
      "source": [
        "---\n",
        "### 3. Evaluate both sets of data using your function."
      ]
    },
    {
      "cell_type": "code",
      "metadata": {
        "id": "t-AfU2EdtNCD"
      },
      "source": [
        "import numpy as np\n",
        "def SSE(y_test, y_pred):\n",
        "  difference = y_test - y_pred\n",
        "  squared_errors = difference ** 2\n",
        "  return np.sum(squared_errors)"
      ],
      "execution_count": 18,
      "outputs": []
    },
    {
      "cell_type": "code",
      "metadata": {
        "id": "vuOS5oc3zh0M"
      },
      "source": [
        "def evaluation(model, X_test, y_test):\n",
        "  print(\"Accuracy: {}%\".format(round(accuracy_score(y_test, model.predict(X_test))*100)))\n",
        "  print(\"Precision: {}%\".format(round(precision_score(y_test, model.predict(X_test))*100)))\n",
        "  print(\"Recall: {}%\".format(round(recall_score(y_test, model.predict(X_test))*100)))\n",
        "  print(\"MSE: {}\".format(mean_squared_error(y_test, model.predict(X_test))))\n",
        "  sse = SSE(y_pred=model.predict(X_test), y_test=y_test.astype('int'))\n",
        "  print(\"SSE: {}\".format(sse))"
      ],
      "execution_count": 19,
      "outputs": []
    },
    {
      "cell_type": "code",
      "metadata": {
        "id": "GtAM7Qt624Px",
        "colab": {
          "base_uri": "https://localhost:8080/"
        },
        "outputId": "639b6834-fb56-453f-8d49-74054c18bcc2"
      },
      "source": [
        "# data\n",
        "print('*'*30)\n",
        "print(\"Training Performance\")\n",
        "print('*'*30)\n",
        "evaluation(reg, X_train, y_train)\n",
        "print('*'*15)\n",
        "print('Scaled')\n",
        "print('*'*15)\n",
        "print('--- Standard ---')\n",
        "evaluation(reg, X_train_scaled, y_train)\n",
        "print('*'*30)\n",
        "print('--- MinMax ---')\n",
        "evaluation(reg, X_train_ms, y_train)\n",
        "print('*'*30)\n",
        "print('\\n')\n",
        "\n",
        "print('*'*30)\n",
        "print(\"Testing Performance\")\n",
        "print('*'*30)\n",
        "evaluation(reg, X_test, y_test)\n",
        "print('*'*15)\n",
        "print('Scaled')\n",
        "print('*'*15)\n",
        "print('--- Standard ---')\n",
        "evaluation(reg, X_test_scaled, y_test)\n",
        "print('*'*30)\n",
        "print('--- MinMax ---')\n",
        "evaluation(reg, X_test_ms, y_test)\n",
        "print('*'*30)\n",
        "print('\\n')"
      ],
      "execution_count": 22,
      "outputs": [
        {
          "output_type": "stream",
          "text": [
            "******************************\n",
            "Training Performance\n",
            "******************************\n",
            "Accuracy: 70.0%\n",
            "Precision: 65.0%\n",
            "Recall: 63.0%\n",
            "MSE: 0.30242231465622704\n",
            "SSE: 6180\n",
            "***************\n",
            "Scaled\n",
            "***************\n",
            "--- Standard ---\n",
            "Accuracy: 68.0%\n",
            "Precision: 70.0%\n",
            "Recall: 44.0%\n",
            "MSE: 0.31504771225838024\n",
            "SSE: 6438\n",
            "******************************\n",
            "--- MinMax ---\n",
            "Accuracy: 67.0%\n",
            "Precision: 74.0%\n",
            "Recall: 34.0%\n",
            "MSE: 0.3316858331294348\n",
            "SSE: 6778\n",
            "******************************\n",
            "\n",
            "\n",
            "******************************\n",
            "Testing Performance\n",
            "******************************\n",
            "Accuracy: 71.0%\n",
            "Precision: 67.0%\n",
            "Recall: 64.0%\n",
            "MSE: 0.2930123311802701\n",
            "SSE: 1497\n",
            "***************\n",
            "Scaled\n",
            "***************\n",
            "--- Standard ---\n",
            "Accuracy: 69.0%\n",
            "Precision: 75.0%\n",
            "Recall: 45.0%\n",
            "MSE: 0.3080837737326287\n",
            "SSE: 1574\n",
            "******************************\n",
            "--- MinMax ---\n",
            "Accuracy: 67.0%\n",
            "Precision: 77.0%\n",
            "Recall: 34.0%\n",
            "MSE: 0.3317674691720493\n",
            "SSE: 1695\n",
            "******************************\n",
            "\n",
            "\n"
          ],
          "name": "stdout"
        }
      ]
    },
    {
      "cell_type": "markdown",
      "metadata": {
        "id": "nf_6d40-0jqI"
      },
      "source": [
        "### Extra: Confusion Matrix"
      ]
    },
    {
      "cell_type": "code",
      "metadata": {
        "id": "emZCvMHQ0ocq",
        "colab": {
          "base_uri": "https://localhost:8080/",
          "height": 283
        },
        "outputId": "f26780a9-c086-4494-ac38-618aa850c681"
      },
      "source": [
        "sns.heatmap(confusion_matrix(y_test, reg.predict(X_test_scaled)) / len(y), cmap='Blues', annot=True)"
      ],
      "execution_count": 23,
      "outputs": [
        {
          "output_type": "execute_result",
          "data": {
            "text/plain": [
              "<matplotlib.axes._subplots.AxesSubplot at 0x7f1e2f4d1048>"
            ]
          },
          "metadata": {
            "tags": []
          },
          "execution_count": 23
        },
        {
          "output_type": "display_data",
          "data": {
            "image/png": "[encoded data removed]",
            "text/plain": [
              "<Figure size 432x288 with 2 Axes>"
            ]
          },
          "metadata": {
            "tags": [],
            "needs_background": "light"
          }
        }
      ]
    },
    {
      "cell_type": "markdown",
      "metadata": {
        "id": "gHrw1DMxheTr"
      },
      "source": [
        "# Classification"
      ]
    },
    {
      "cell_type": "markdown",
      "metadata": {
        "id": "s989dXOSheTs"
      },
      "source": [
        "---\n",
        "### 1. Break the dataset into two parts, training and testing.\n"
      ]
    },
    {
      "cell_type": "markdown",
      "metadata": {
        "id": "wGGkasikheTt"
      },
      "source": [
        "---\n",
        "### 2. Use the first 80% of the dataset for training and the last 20% for testing."
      ]
    },
    {
      "cell_type": "code",
      "metadata": {
        "id": "BecYjr9zjBOo",
        "colab": {
          "base_uri": "https://localhost:8080/"
        },
        "outputId": "21488d81-346b-4dd2-bd44-78dad2644938"
      },
      "source": [
        "rf=RandomForestClassifier(n_estimators= 10)\n",
        "rf.fit(X_train,y_train)\n",
        "print(\"Training score: {}\".format(rf.score(X_train, y_train)))"
      ],
      "execution_count": 24,
      "outputs": [
        {
          "output_type": "stream",
          "text": [
            "Training score: 0.7544898458527037\n"
          ],
          "name": "stdout"
        }
      ]
    },
    {
      "cell_type": "code",
      "metadata": {
        "id": "bV16c9DDzwJr",
        "colab": {
          "base_uri": "https://localhost:8080/"
        },
        "outputId": "2badceba-e36c-4bad-94e3-85f3e5fed9ac"
      },
      "source": [
        "# Scaled data\n",
        "rf=RandomForestClassifier(n_estimators= 10)\n",
        "rf.fit(X_train_scaled,y_train)\n",
        "print(\"Training score with (StandardScaler): {}\".format(rf.score(X_train_scaled, y_train)))"
      ],
      "execution_count": 25,
      "outputs": [
        {
          "output_type": "stream",
          "text": [
            "Training score with (StandardScaler): 0.7546855884511867\n"
          ],
          "name": "stdout"
        }
      ]
    },
    {
      "cell_type": "code",
      "metadata": {
        "colab": {
          "base_uri": "https://localhost:8080/"
        },
        "id": "wt3D3Qu_TkFT",
        "outputId": "83cd567d-6ec2-466d-b989-991b71d0ae06"
      },
      "source": [
        "rf=RandomForestClassifier(n_estimators= 10)\n",
        "rf.fit(X_train_ms,y_train)\n",
        "print(\"Training score with (MinMaxScaler): {}\".format(rf.score(X_train_ms, y_train)))"
      ],
      "execution_count": 26,
      "outputs": [
        {
          "output_type": "stream",
          "text": [
            "Training score with (MinMaxScaler): 0.7536090041595302\n"
          ],
          "name": "stdout"
        }
      ]
    },
    {
      "cell_type": "markdown",
      "metadata": {
        "id": "RIipStx7heTt"
      },
      "source": [
        "---\n",
        "### 3. Evaluate both sets of data using your function."
      ]
    },
    {
      "cell_type": "code",
      "metadata": {
        "id": "vTjRU3ux3sNN",
        "colab": {
          "base_uri": "https://localhost:8080/"
        },
        "outputId": "f6efb4a6-6cf5-4ed9-ac9b-7aa4621268c6"
      },
      "source": [
        "# data\n",
        "print('*'*30)\n",
        "print(\"Training Performance\")\n",
        "print('*'*30)\n",
        "evaluation(rf, X_train, y_train)\n",
        "print('*'*15)\n",
        "print('Scaled')\n",
        "print('*'*15)\n",
        "print('--- Standard ---')\n",
        "evaluation(rf, X_train_scaled, y_train)\n",
        "print('*'*30)\n",
        "print('--- MinMax ---')\n",
        "evaluation(rf, X_train_ms, y_train)\n",
        "print('*'*30)\n",
        "print('\\n')\n",
        "\n",
        "print('*'*30)\n",
        "print(\"Testing Performance\")\n",
        "print('*'*30)\n",
        "evaluation(rf, X_test, y_test)\n",
        "print('*'*15)\n",
        "print('Scaled')\n",
        "print('--- Standard ---')\n",
        "evaluation(rf, X_test_scaled, y_test)\n",
        "print('*'*30)\n",
        "print('\\n')\n",
        "print('--- MinMax ---')\n",
        "evaluation(rf, X_test_ms, y_test)\n",
        "print('*'*30)\n",
        "print('\\n')"
      ],
      "execution_count": 27,
      "outputs": [
        {
          "output_type": "stream",
          "text": [
            "******************************\n",
            "Training Performance\n",
            "******************************\n",
            "Accuracy: 69.0%\n",
            "Precision: 64.0%\n",
            "Recall: 62.0%\n",
            "MSE: 0.3075116222167849\n",
            "SSE: 6284\n",
            "***************\n",
            "Scaled\n",
            "***************\n",
            "--- Standard ---\n",
            "Accuracy: 68.0%\n",
            "Precision: 67.0%\n",
            "Recall: 49.0%\n",
            "MSE: 0.3183264007829704\n",
            "SSE: 6505\n",
            "******************************\n",
            "--- MinMax ---\n",
            "Accuracy: 75.0%\n",
            "Precision: 76.0%\n",
            "Recall: 61.0%\n",
            "MSE: 0.24639099584046978\n",
            "SSE: 5035\n",
            "******************************\n",
            "\n",
            "\n",
            "******************************\n",
            "Testing Performance\n",
            "******************************\n",
            "Accuracy: 69.0%\n",
            "Precision: 66.0%\n",
            "Recall: 62.0%\n",
            "MSE: 0.3076923076923077\n",
            "SSE: 1572\n",
            "***************\n",
            "Scaled\n",
            "--- Standard ---\n",
            "Accuracy: 69.0%\n",
            "Precision: 71.0%\n",
            "Recall: 50.0%\n",
            "MSE: 0.3090624388334312\n",
            "SSE: 1579\n",
            "******************************\n",
            "\n",
            "\n",
            "--- MinMax ---\n",
            "Accuracy: 69.0%\n",
            "Precision: 68.0%\n",
            "Recall: 53.0%\n",
            "MSE: 0.3141514973576042\n",
            "SSE: 1605\n",
            "******************************\n",
            "\n",
            "\n"
          ],
          "name": "stdout"
        }
      ]
    },
    {
      "cell_type": "markdown",
      "metadata": {
        "id": "-ZLNoDjMheTu"
      },
      "source": [
        "### Extra: Confusion Matrix"
      ]
    },
    {
      "cell_type": "code",
      "metadata": {
        "id": "CSBmMog0m8zY",
        "colab": {
          "base_uri": "https://localhost:8080/",
          "height": 285
        },
        "outputId": "ac251f5f-79fb-4d7c-fd37-6db24d72e2ce"
      },
      "source": [
        "sns.heatmap(confusion_matrix(y_test, rf.predict(X_test_ms)) / len(y), cmap='Blues', annot=True)"
      ],
      "execution_count": 28,
      "outputs": [
        {
          "output_type": "execute_result",
          "data": {
            "text/plain": [
              "<matplotlib.axes._subplots.AxesSubplot at 0x7f1e2b6e1470>"
            ]
          },
          "metadata": {
            "tags": []
          },
          "execution_count": 28
        },
        {
          "output_type": "display_data",
          "data": {
            "image/png": "[encoded data removed]",
            "text/plain": [
              "<Figure size 432x288 with 2 Axes>"
            ]
          },
          "metadata": {
            "tags": [],
            "needs_background": "light"
          }
        }
      ]
    }
  ]
}