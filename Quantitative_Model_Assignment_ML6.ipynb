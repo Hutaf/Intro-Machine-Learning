{
  "nbformat": 4,
  "nbformat_minor": 0,
  "metadata": {
    "kernelspec": {
      "display_name": "Python 3",
      "language": "python",
      "name": "python3"
    },
    "language_info": {
      "codemirror_mode": {
        "name": "ipython",
        "version": 3
      },
      "file_extension": ".py",
      "mimetype": "text/x-python",
      "name": "python",
      "nbconvert_exporter": "python",
      "pygments_lexer": "ipython3",
      "version": "3.5.6"
    },
    "colab": {
      "name": "Quantitative_Model_Assignment_ML6.ipynb",
      "provenance": [],
      "collapsed_sections": [],
      "include_colab_link": true
    },
    "accelerator": "GPU"
  },
  "cells": [
    {
      "cell_type": "markdown",
      "metadata": {
        "id": "view-in-github",
        "colab_type": "text"
      },
      "source": [
        "<a href=\"https://colab.research.google.com/github/Hutaf/SDA-Machine-Learning/blob/main/Quantitative_Model_Assignment_ML6.ipynb\" target=\"_parent\"><img src=\"https://colab.research.google.com/assets/colab-badge.svg\" alt=\"Open In Colab\"/></a>"
      ]
    },
    {
      "cell_type": "markdown",
      "metadata": {
        "id": "N8bJQ9wjpylY"
      },
      "source": [
        "## Assignment ML6\n",
        "Use the same project from the previous assignment (the heuristic modeling), then:\n",
        "1. Modify the heuristic model to a basic quantitative model.\n"
      ]
    },
    {
      "cell_type": "code",
      "metadata": {
        "id": "7zPVWwdIqWDR"
      },
      "source": [
        "import seaborn as sns\n",
        "import matplotlib.pyplot as plt\n",
        "import pandas as pd\n",
        "from sklearn.linear_model import LogisticRegression\n",
        "from sklearn.ensemble import RandomForestClassifier, AdaBoostClassifier, GradientBoostingClassifier\n",
        "from sklearn.neighbors import KNeighborsClassifier\n",
        "from sklearn.tree import DecisionTreeClassifier\n",
        "from sklearn.svm import SVC\n",
        "from sklearn.model_selection import train_test_split\n",
        "from sklearn.metrics import accuracy_score, precision_score, recall_score, mean_squared_error, confusion_matrix\n",
        "from sklearn.preprocessing import StandardScaler"
      ],
      "execution_count": 1,
      "outputs": []
    },
    {
      "cell_type": "code",
      "metadata": {
        "id": "wNgf3XkbBZp8"
      },
      "source": [
        "filepath = 'https://raw.githubusercontent.com/daniel-dc-cd/data_science/master/module_4_ML/data/seattle_weather_1948-2017.csv'\n",
        "df = pd.read_csv(filepath)"
      ],
      "execution_count": 3,
      "outputs": []
    },
    {
      "cell_type": "code",
      "metadata": {
        "id": "NIvpsvxKGA7r",
        "outputId": "bcbd1216-d05e-4075-b890-449199a4341a",
        "colab": {
          "base_uri": "https://localhost:8080/",
          "height": 202
        }
      },
      "source": [
        "df.head()"
      ],
      "execution_count": 4,
      "outputs": [
        {
          "output_type": "execute_result",
          "data": {
            "text/html": [
              "<div>\n",
              "<style scoped>\n",
              "    .dataframe tbody tr th:only-of-type {\n",
              "        vertical-align: middle;\n",
              "    }\n",
              "\n",
              "    .dataframe tbody tr th {\n",
              "        vertical-align: top;\n",
              "    }\n",
              "\n",
              "    .dataframe thead th {\n",
              "        text-align: right;\n",
              "    }\n",
              "</style>\n",
              "<table border=\"1\" class=\"dataframe\">\n",
              "  <thead>\n",
              "    <tr style=\"text-align: right;\">\n",
              "      <th></th>\n",
              "      <th>DATE</th>\n",
              "      <th>PRCP</th>\n",
              "      <th>TMAX</th>\n",
              "      <th>TMIN</th>\n",
              "      <th>RAIN</th>\n",
              "    </tr>\n",
              "  </thead>\n",
              "  <tbody>\n",
              "    <tr>\n",
              "      <th>0</th>\n",
              "      <td>1948-01-01</td>\n",
              "      <td>0.47</td>\n",
              "      <td>51</td>\n",
              "      <td>42</td>\n",
              "      <td>True</td>\n",
              "    </tr>\n",
              "    <tr>\n",
              "      <th>1</th>\n",
              "      <td>1948-01-02</td>\n",
              "      <td>0.59</td>\n",
              "      <td>45</td>\n",
              "      <td>36</td>\n",
              "      <td>True</td>\n",
              "    </tr>\n",
              "    <tr>\n",
              "      <th>2</th>\n",
              "      <td>1948-01-03</td>\n",
              "      <td>0.42</td>\n",
              "      <td>45</td>\n",
              "      <td>35</td>\n",
              "      <td>True</td>\n",
              "    </tr>\n",
              "    <tr>\n",
              "      <th>3</th>\n",
              "      <td>1948-01-04</td>\n",
              "      <td>0.31</td>\n",
              "      <td>45</td>\n",
              "      <td>34</td>\n",
              "      <td>True</td>\n",
              "    </tr>\n",
              "    <tr>\n",
              "      <th>4</th>\n",
              "      <td>1948-01-05</td>\n",
              "      <td>0.17</td>\n",
              "      <td>45</td>\n",
              "      <td>32</td>\n",
              "      <td>True</td>\n",
              "    </tr>\n",
              "  </tbody>\n",
              "</table>\n",
              "</div>"
            ],
            "text/plain": [
              "         DATE  PRCP  TMAX  TMIN  RAIN\n",
              "0  1948-01-01  0.47    51    42  True\n",
              "1  1948-01-02  0.59    45    36  True\n",
              "2  1948-01-03  0.42    45    35  True\n",
              "3  1948-01-04  0.31    45    34  True\n",
              "4  1948-01-05  0.17    45    32  True"
            ]
          },
          "metadata": {
            "tags": []
          },
          "execution_count": 4
        }
      ]
    },
    {
      "cell_type": "code",
      "metadata": {
        "id": "oBfa1dJxiVjp",
        "outputId": "c5bc8cc3-24c0-49cb-efc2-27f5742ff77a",
        "colab": {
          "base_uri": "https://localhost:8080/",
          "height": 609
        }
      },
      "source": [
        "plt.figure(figsize=(10,10))\n",
        "sns.boxplot(data=df)"
      ],
      "execution_count": 5,
      "outputs": [
        {
          "output_type": "execute_result",
          "data": {
            "text/plain": [
              "<matplotlib.axes._subplots.AxesSubplot at 0x7f36a3dd2e48>"
            ]
          },
          "metadata": {
            "tags": []
          },
          "execution_count": 5
        },
        {
          "output_type": "display_data",
          "data": {
            "image/png": "[encoded data removed]",
            "text/plain": [
              "<Figure size 720x720 with 1 Axes>"
            ]
          },
          "metadata": {
            "tags": [],
            "needs_background": "light"
          }
        }
      ]
    },
    {
      "cell_type": "code",
      "metadata": {
        "id": "8x3QE_JerfpJ",
        "outputId": "5af5e79a-3820-48f5-8786-6dff38c29e4e",
        "colab": {
          "base_uri": "https://localhost:8080/",
          "height": 609
        }
      },
      "source": [
        "plt.figure(figsize=(10,10))\n",
        "sns.barplot(data=df)"
      ],
      "execution_count": 6,
      "outputs": [
        {
          "output_type": "execute_result",
          "data": {
            "text/plain": [
              "<matplotlib.axes._subplots.AxesSubplot at 0x7f36c859ec18>"
            ]
          },
          "metadata": {
            "tags": []
          },
          "execution_count": 6
        },
        {
          "output_type": "display_data",
          "data": {
            "image/png": "[encoded data removed]",
            "text/plain": [
              "<Figure size 720x720 with 1 Axes>"
            ]
          },
          "metadata": {
            "tags": [],
            "needs_background": "light"
          }
        }
      ]
    },
    {
      "cell_type": "code",
      "metadata": {
        "id": "txNmnV8-yNGZ",
        "outputId": "113ae2b1-ec23-48bb-dadd-f2704c2f08ac",
        "colab": {
          "base_uri": "https://localhost:8080/",
          "height": 351
        }
      },
      "source": [
        "sns.countplot(df['RAIN'])"
      ],
      "execution_count": 7,
      "outputs": [
        {
          "output_type": "stream",
          "text": [
            "/usr/local/lib/python3.6/dist-packages/seaborn/_decorators.py:43: FutureWarning: Pass the following variable as a keyword arg: x. From version 0.12, the only valid positional argument will be `data`, and passing other arguments without an explicit keyword will result in an error or misinterpretation.\n",
            "  FutureWarning\n"
          ],
          "name": "stderr"
        },
        {
          "output_type": "execute_result",
          "data": {
            "text/plain": [
              "<matplotlib.axes._subplots.AxesSubplot at 0x7f36a3240978>"
            ]
          },
          "metadata": {
            "tags": []
          },
          "execution_count": 7
        },
        {
          "output_type": "display_data",
          "data": {
            "image/png": "[encoded data removed]",
            "text/plain": [
              "<Figure size 432x288 with 1 Axes>"
            ]
          },
          "metadata": {
            "tags": [],
            "needs_background": "light"
          }
        }
      ]
    },
    {
      "cell_type": "code",
      "metadata": {
        "id": "i8bBv6rIyVgS",
        "outputId": "be99247b-b8ea-4114-fc4f-7053627c5188",
        "colab": {
          "base_uri": "https://localhost:8080/",
          "height": 351
        }
      },
      "source": [
        "sns.scatterplot(df['PRCP'], df['RAIN'])"
      ],
      "execution_count": 8,
      "outputs": [
        {
          "output_type": "stream",
          "text": [
            "/usr/local/lib/python3.6/dist-packages/seaborn/_decorators.py:43: FutureWarning: Pass the following variables as keyword args: x, y. From version 0.12, the only valid positional argument will be `data`, and passing other arguments without an explicit keyword will result in an error or misinterpretation.\n",
            "  FutureWarning\n"
          ],
          "name": "stderr"
        },
        {
          "output_type": "execute_result",
          "data": {
            "text/plain": [
              "<matplotlib.axes._subplots.AxesSubplot at 0x7f36a3254320>"
            ]
          },
          "metadata": {
            "tags": []
          },
          "execution_count": 8
        },
        {
          "output_type": "display_data",
          "data": {
            "image/png": "[encoded data removed]",
            "text/plain": [
              "<Figure size 432x288 with 1 Axes>"
            ]
          },
          "metadata": {
            "tags": [],
            "needs_background": "light"
          }
        }
      ]
    },
    {
      "cell_type": "code",
      "metadata": {
        "id": "1-enexSYyf0q",
        "outputId": "dc5cec33-beca-4fbf-a68c-b9c4658c9640",
        "colab": {
          "base_uri": "https://localhost:8080/",
          "height": 351
        }
      },
      "source": [
        "sns.scatterplot(df['TMAX'], df['RAIN'])"
      ],
      "execution_count": 9,
      "outputs": [
        {
          "output_type": "stream",
          "text": [
            "/usr/local/lib/python3.6/dist-packages/seaborn/_decorators.py:43: FutureWarning: Pass the following variables as keyword args: x, y. From version 0.12, the only valid positional argument will be `data`, and passing other arguments without an explicit keyword will result in an error or misinterpretation.\n",
            "  FutureWarning\n"
          ],
          "name": "stderr"
        },
        {
          "output_type": "execute_result",
          "data": {
            "text/plain": [
              "<matplotlib.axes._subplots.AxesSubplot at 0x7f36a370e860>"
            ]
          },
          "metadata": {
            "tags": []
          },
          "execution_count": 9
        },
        {
          "output_type": "display_data",
          "data": {
            "image/png": "[encoded data removed]",
            "text/plain": [
              "<Figure size 432x288 with 1 Axes>"
            ]
          },
          "metadata": {
            "tags": [],
            "needs_background": "light"
          }
        }
      ]
    },
    {
      "cell_type": "code",
      "metadata": {
        "id": "7wQoIB9UyjM0",
        "outputId": "c9fd290b-b622-4571-d017-8301e5e29b71",
        "colab": {
          "base_uri": "https://localhost:8080/",
          "height": 351
        }
      },
      "source": [
        "sns.scatterplot(df['TMIN'], df['RAIN'])"
      ],
      "execution_count": 10,
      "outputs": [
        {
          "output_type": "stream",
          "text": [
            "/usr/local/lib/python3.6/dist-packages/seaborn/_decorators.py:43: FutureWarning: Pass the following variables as keyword args: x, y. From version 0.12, the only valid positional argument will be `data`, and passing other arguments without an explicit keyword will result in an error or misinterpretation.\n",
            "  FutureWarning\n"
          ],
          "name": "stderr"
        },
        {
          "output_type": "execute_result",
          "data": {
            "text/plain": [
              "<matplotlib.axes._subplots.AxesSubplot at 0x7f36a1ebbf28>"
            ]
          },
          "metadata": {
            "tags": []
          },
          "execution_count": 10
        },
        {
          "output_type": "display_data",
          "data": {
            "image/png": "[encoded data removed]",
            "text/plain": [
              "<Figure size 432x288 with 1 Axes>"
            ]
          },
          "metadata": {
            "tags": [],
            "needs_background": "light"
          }
        }
      ]
    },
    {
      "cell_type": "markdown",
      "metadata": {
        "id": "y0Trs6zRuLBA"
      },
      "source": [
        "### Preparing the Seattle weather data"
      ]
    },
    {
      "cell_type": "code",
      "metadata": {
        "id": "Q-9j3I5toPws",
        "outputId": "92b8c5c4-db28-4f9a-d2a6-b20eed5882b6",
        "colab": {
          "base_uri": "https://localhost:8080/"
        }
      },
      "source": [
        "df.isna().sum()"
      ],
      "execution_count": 11,
      "outputs": [
        {
          "output_type": "execute_result",
          "data": {
            "text/plain": [
              "DATE    0\n",
              "PRCP    3\n",
              "TMAX    0\n",
              "TMIN    0\n",
              "RAIN    3\n",
              "dtype: int64"
            ]
          },
          "metadata": {
            "tags": []
          },
          "execution_count": 11
        }
      ]
    },
    {
      "cell_type": "code",
      "metadata": {
        "id": "Xj6W7goNuYcy"
      },
      "source": [
        "def isNull(df, column):\n",
        "  return df[pd.isnull(df[column])]"
      ],
      "execution_count": 12,
      "outputs": []
    },
    {
      "cell_type": "code",
      "metadata": {
        "id": "bVexSEyeut3F",
        "outputId": "24642ce6-ee87-4fae-f6d4-7d403c6cb1da",
        "colab": {
          "base_uri": "https://localhost:8080/",
          "height": 141
        }
      },
      "source": [
        "isNull(df, 'PRCP')"
      ],
      "execution_count": 13,
      "outputs": [
        {
          "output_type": "execute_result",
          "data": {
            "text/html": [
              "<div>\n",
              "<style scoped>\n",
              "    .dataframe tbody tr th:only-of-type {\n",
              "        vertical-align: middle;\n",
              "    }\n",
              "\n",
              "    .dataframe tbody tr th {\n",
              "        vertical-align: top;\n",
              "    }\n",
              "\n",
              "    .dataframe thead th {\n",
              "        text-align: right;\n",
              "    }\n",
              "</style>\n",
              "<table border=\"1\" class=\"dataframe\">\n",
              "  <thead>\n",
              "    <tr style=\"text-align: right;\">\n",
              "      <th></th>\n",
              "      <th>DATE</th>\n",
              "      <th>PRCP</th>\n",
              "      <th>TMAX</th>\n",
              "      <th>TMIN</th>\n",
              "      <th>RAIN</th>\n",
              "    </tr>\n",
              "  </thead>\n",
              "  <tbody>\n",
              "    <tr>\n",
              "      <th>18415</th>\n",
              "      <td>1998-06-02</td>\n",
              "      <td>NaN</td>\n",
              "      <td>72</td>\n",
              "      <td>52</td>\n",
              "      <td>NaN</td>\n",
              "    </tr>\n",
              "    <tr>\n",
              "      <th>18416</th>\n",
              "      <td>1998-06-03</td>\n",
              "      <td>NaN</td>\n",
              "      <td>66</td>\n",
              "      <td>51</td>\n",
              "      <td>NaN</td>\n",
              "    </tr>\n",
              "    <tr>\n",
              "      <th>21067</th>\n",
              "      <td>2005-09-05</td>\n",
              "      <td>NaN</td>\n",
              "      <td>70</td>\n",
              "      <td>52</td>\n",
              "      <td>NaN</td>\n",
              "    </tr>\n",
              "  </tbody>\n",
              "</table>\n",
              "</div>"
            ],
            "text/plain": [
              "             DATE  PRCP  TMAX  TMIN RAIN\n",
              "18415  1998-06-02   NaN    72    52  NaN\n",
              "18416  1998-06-03   NaN    66    51  NaN\n",
              "21067  2005-09-05   NaN    70    52  NaN"
            ]
          },
          "metadata": {
            "tags": []
          },
          "execution_count": 13
        }
      ]
    },
    {
      "cell_type": "code",
      "metadata": {
        "id": "RtMhRklIuRpW",
        "outputId": "34ac44f2-9fd1-4d0e-812f-df60648baf72",
        "colab": {
          "base_uri": "https://localhost:8080/",
          "height": 141
        }
      },
      "source": [
        "isNull(df, 'RAIN')"
      ],
      "execution_count": 14,
      "outputs": [
        {
          "output_type": "execute_result",
          "data": {
            "text/html": [
              "<div>\n",
              "<style scoped>\n",
              "    .dataframe tbody tr th:only-of-type {\n",
              "        vertical-align: middle;\n",
              "    }\n",
              "\n",
              "    .dataframe tbody tr th {\n",
              "        vertical-align: top;\n",
              "    }\n",
              "\n",
              "    .dataframe thead th {\n",
              "        text-align: right;\n",
              "    }\n",
              "</style>\n",
              "<table border=\"1\" class=\"dataframe\">\n",
              "  <thead>\n",
              "    <tr style=\"text-align: right;\">\n",
              "      <th></th>\n",
              "      <th>DATE</th>\n",
              "      <th>PRCP</th>\n",
              "      <th>TMAX</th>\n",
              "      <th>TMIN</th>\n",
              "      <th>RAIN</th>\n",
              "    </tr>\n",
              "  </thead>\n",
              "  <tbody>\n",
              "    <tr>\n",
              "      <th>18415</th>\n",
              "      <td>1998-06-02</td>\n",
              "      <td>NaN</td>\n",
              "      <td>72</td>\n",
              "      <td>52</td>\n",
              "      <td>NaN</td>\n",
              "    </tr>\n",
              "    <tr>\n",
              "      <th>18416</th>\n",
              "      <td>1998-06-03</td>\n",
              "      <td>NaN</td>\n",
              "      <td>66</td>\n",
              "      <td>51</td>\n",
              "      <td>NaN</td>\n",
              "    </tr>\n",
              "    <tr>\n",
              "      <th>21067</th>\n",
              "      <td>2005-09-05</td>\n",
              "      <td>NaN</td>\n",
              "      <td>70</td>\n",
              "      <td>52</td>\n",
              "      <td>NaN</td>\n",
              "    </tr>\n",
              "  </tbody>\n",
              "</table>\n",
              "</div>"
            ],
            "text/plain": [
              "             DATE  PRCP  TMAX  TMIN RAIN\n",
              "18415  1998-06-02   NaN    72    52  NaN\n",
              "18416  1998-06-03   NaN    66    51  NaN\n",
              "21067  2005-09-05   NaN    70    52  NaN"
            ]
          },
          "metadata": {
            "tags": []
          },
          "execution_count": 14
        }
      ]
    },
    {
      "cell_type": "code",
      "metadata": {
        "id": "DG-gAnCeu-PN"
      },
      "source": [
        "#df['PRCP'] = df['PRCP'].fillna(df['PRCP'].median)\n",
        "#isNull(df, 'PRCP')"
      ],
      "execution_count": 15,
      "outputs": []
    },
    {
      "cell_type": "code",
      "metadata": {
        "id": "mEx8j0LrvmPn"
      },
      "source": [
        "#df['RAIN'] = df['RAIN'].fillna(False)\n",
        "#isNull(df, 'RAIN')"
      ],
      "execution_count": 16,
      "outputs": []
    },
    {
      "cell_type": "code",
      "metadata": {
        "id": "mgdMiYWby235"
      },
      "source": [
        "df = df.dropna()"
      ],
      "execution_count": 17,
      "outputs": []
    },
    {
      "cell_type": "markdown",
      "metadata": {
        "id": "RUNes7-thXp2"
      },
      "source": [
        "# Regression"
      ]
    },
    {
      "cell_type": "markdown",
      "metadata": {
        "id": "wCQqlDfVsMFP"
      },
      "source": [
        "---\n",
        "### 1. Break the dataset into two parts, training and testing.\n"
      ]
    },
    {
      "cell_type": "code",
      "metadata": {
        "id": "PHy5P29sx4w6"
      },
      "source": [
        "X = df.loc[:, ['PRCP', 'TMAX', 'TMIN']].values\n",
        "y = df['RAIN'].astype('int')\n",
        "X_train, X_test, y_train, y_test = train_test_split(X, y, test_size=0.2, random_state = 42)"
      ],
      "execution_count": 18,
      "outputs": []
    },
    {
      "cell_type": "markdown",
      "metadata": {
        "id": "oXsD5uHCqnaQ"
      },
      "source": [
        "### Scaling"
      ]
    },
    {
      "cell_type": "code",
      "metadata": {
        "id": "eVWmeMSjo07S"
      },
      "source": [
        "scaler=StandardScaler()\n",
        "X_train_scaled = scaler.fit_transform(X_train)\n",
        "X_test_scaled = scaler.transform(X_test)"
      ],
      "execution_count": 19,
      "outputs": []
    },
    {
      "cell_type": "markdown",
      "metadata": {
        "id": "XlM_PzZ6sYdJ"
      },
      "source": [
        "---\n",
        "### 2. Use the first 80% of the dataset for training and the last 20% for testing."
      ]
    },
    {
      "cell_type": "markdown",
      "metadata": {
        "id": "AXJJ6xTIE5aJ"
      },
      "source": [
        "### Logistic Regression"
      ]
    },
    {
      "cell_type": "code",
      "metadata": {
        "id": "4niHxg8xtjCs",
        "outputId": "e95886bb-dcd9-438d-ad25-686dd7c21007",
        "colab": {
          "base_uri": "https://localhost:8080/"
        }
      },
      "source": [
        "reg= LogisticRegression(random_state=42,max_iter=200)\n",
        "reg.fit(X_train,y_train)\n",
        "print(\"Training Accuracy: {}%\".format(round(accuracy_score(y_train, reg.predict(X_train))*100)))"
      ],
      "execution_count": 20,
      "outputs": [
        {
          "output_type": "stream",
          "text": [
            "Training Accuracy: 93.0%\n"
          ],
          "name": "stdout"
        }
      ]
    },
    {
      "cell_type": "code",
      "metadata": {
        "id": "5Is4SZzmy03b",
        "outputId": "d892e7cb-581a-42e5-85ad-c76adbb3140e",
        "colab": {
          "base_uri": "https://localhost:8080/"
        }
      },
      "source": [
        "reg= LogisticRegression(random_state=42,max_iter=200)\n",
        "reg.fit(X_train_scaled,y_train)\n",
        "print(\"Training Accuracy with Scaled data: {}%\".format(round(accuracy_score(y_train, reg.predict(X_train_scaled))*100)))"
      ],
      "execution_count": 21,
      "outputs": [
        {
          "output_type": "stream",
          "text": [
            "Training Accuracy with Scaled data: 97.0%\n"
          ],
          "name": "stdout"
        }
      ]
    },
    {
      "cell_type": "markdown",
      "metadata": {
        "id": "cFmGb2oqseIZ"
      },
      "source": [
        "---\n",
        "### 3. Evaluate both sets of data using your function."
      ]
    },
    {
      "cell_type": "code",
      "metadata": {
        "id": "t-AfU2EdtNCD"
      },
      "source": [
        "import numpy as np\n",
        "def SSE(y_test, y_pred):\n",
        "  difference = y_test - y_pred\n",
        "  squared_errors = difference ** 2\n",
        "  return np.sum(squared_errors)"
      ],
      "execution_count": 24,
      "outputs": []
    },
    {
      "cell_type": "code",
      "metadata": {
        "id": "vuOS5oc3zh0M"
      },
      "source": [
        "def evaluation(model, X, y):\n",
        "  print(\"Accuracy: {}%\".format(round(accuracy_score(y, model.predict(X))*100)))\n",
        "  print(\"Precision: {}%\".format(round(precision_score(y, model.predict(X))*100)))\n",
        "  print(\"Recall: {}%\".format(round(recall_score(y, model.predict(X))*100)))\n",
        "  print(\"MSE: {}\".format(mean_squared_error(y, model.predict(X))))\n",
        "  sse = SSE(y_pred=model.predict(X), y_test=y.astype('int'))\n",
        "  print(\"SSE: {}\".format(sse))"
      ],
      "execution_count": 25,
      "outputs": []
    },
    {
      "cell_type": "code",
      "metadata": {
        "id": "GtAM7Qt624Px",
        "outputId": "0a40b2f7-294b-42bd-e920-ed8a938a39bb",
        "colab": {
          "base_uri": "https://localhost:8080/"
        }
      },
      "source": [
        "# Logistic Regression\n",
        "print(\"*\"*50)\n",
        "print('Logistic Regression')\n",
        "print(\"*\"*50)\n",
        "print('*'*30)\n",
        "print(\"Training Performance\")\n",
        "print('*'*30)\n",
        "evaluation(reg, X_train, y_train)\n",
        "print('*'*15)\n",
        "print('Scaled Data')\n",
        "evaluation(reg, X_train_scaled, y_train)\n",
        "print('*'*30)\n",
        "print('\\n')\n",
        "print('*'*30)\n",
        "print(\"Testing Performance\")\n",
        "print('*'*30)\n",
        "evaluation(reg, X_test, y_test)\n",
        "print('*'*15)\n",
        "print('Scaled Data')\n",
        "evaluation(reg, X_test_scaled, y_test)\n",
        "print('*'*30)"
      ],
      "execution_count": 26,
      "outputs": [
        {
          "output_type": "stream",
          "text": [
            "**************************************************\n",
            "Logistic Regression\n",
            "**************************************************\n",
            "******************************\n",
            "Training Performance\n",
            "******************************\n",
            "Accuracy: 64.0%\n",
            "Precision: 100.0%\n",
            "Recall: 16.0%\n",
            "MSE: 0.36128779724043447\n",
            "SSE: 7384\n",
            "***************\n",
            "Scaled Data\n",
            "Accuracy: 97.0%\n",
            "Precision: 100.0%\n",
            "Recall: 92.0%\n",
            "MSE: 0.03395635580780898\n",
            "SSE: 694\n",
            "******************************\n",
            "\n",
            "\n",
            "******************************\n",
            "Testing Performance\n",
            "******************************\n",
            "Accuracy: 65.0%\n",
            "Precision: 100.0%\n",
            "Recall: 16.0%\n",
            "MSE: 0.35401174168297456\n",
            "SSE: 1809\n",
            "***************\n",
            "Scaled Data\n",
            "Accuracy: 97.0%\n",
            "Precision: 100.0%\n",
            "Recall: 92.0%\n",
            "MSE: 0.03444227005870842\n",
            "SSE: 176\n",
            "******************************\n"
          ],
          "name": "stdout"
        }
      ]
    },
    {
      "cell_type": "markdown",
      "metadata": {
        "id": "nf_6d40-0jqI"
      },
      "source": [
        "### Extra: Confusion Matrix"
      ]
    },
    {
      "cell_type": "code",
      "metadata": {
        "id": "emZCvMHQ0ocq",
        "outputId": "97eb3959-bba3-46f2-e82e-f4fced6dafac",
        "colab": {
          "base_uri": "https://localhost:8080/",
          "height": 283
        }
      },
      "source": [
        "sns.heatmap(confusion_matrix(y_test, reg.predict(X_test_scaled)) / len(y), cmap='Blues', annot=True)"
      ],
      "execution_count": 28,
      "outputs": [
        {
          "output_type": "execute_result",
          "data": {
            "text/plain": [
              "<matplotlib.axes._subplots.AxesSubplot at 0x7f36a1e56630>"
            ]
          },
          "metadata": {
            "tags": []
          },
          "execution_count": 28
        },
        {
          "output_type": "display_data",
          "data": {
            "image/png": "[encoded data removed]",
            "text/plain": [
              "<Figure size 432x288 with 2 Axes>"
            ]
          },
          "metadata": {
            "tags": [],
            "needs_background": "light"
          }
        }
      ]
    },
    {
      "cell_type": "markdown",
      "metadata": {
        "id": "gHrw1DMxheTr"
      },
      "source": [
        "# Classification"
      ]
    },
    {
      "cell_type": "markdown",
      "metadata": {
        "id": "s989dXOSheTs"
      },
      "source": [
        "---\n",
        "### 1. Break the dataset into two parts, training and testing.\n"
      ]
    },
    {
      "cell_type": "code",
      "metadata": {
        "id": "axulOcYqhjIN"
      },
      "source": [
        "X = df.loc[:, ['PRCP', 'TMAX', 'TMIN']].values\n",
        "y = df['RAIN'].astype('int')\n",
        "X_train, X_test, y_train, y_test = train_test_split(X, y, test_size=0.2, random_state = 42)"
      ],
      "execution_count": 30,
      "outputs": []
    },
    {
      "cell_type": "markdown",
      "metadata": {
        "id": "wGGkasikheTt"
      },
      "source": [
        "---\n",
        "### 2. Use the first 80% of the dataset for training and the last 20% for testing."
      ]
    },
    {
      "cell_type": "markdown",
      "metadata": {
        "id": "wOFkgRuuEDPL"
      },
      "source": [
        "### Random Forest"
      ]
    },
    {
      "cell_type": "code",
      "metadata": {
        "id": "BecYjr9zjBOo",
        "outputId": "0bdb9b6c-164b-4c7e-cd78-24c9d209a8bf",
        "colab": {
          "base_uri": "https://localhost:8080/"
        }
      },
      "source": [
        "rf=RandomForestClassifier()\n",
        "rf.fit(X_train,y_train)\n",
        "print(\"Training Accuracy: {}%\".format(round(accuracy_score(y_train, rf.predict(X_train))*100)))"
      ],
      "execution_count": 31,
      "outputs": [
        {
          "output_type": "stream",
          "text": [
            "Training Accuracy: 100.0%\n"
          ],
          "name": "stdout"
        }
      ]
    },
    {
      "cell_type": "code",
      "metadata": {
        "id": "bV16c9DDzwJr",
        "outputId": "d9187c59-2595-426c-f686-a5ad7ce09a41",
        "colab": {
          "base_uri": "https://localhost:8080/"
        }
      },
      "source": [
        "# Scaled data\n",
        "rf=RandomForestClassifier()\n",
        "rf.fit(X_train_scaled,y_train)\n",
        "print(\"Training Accuracy with scaled data: {}%\".format(round(accuracy_score(y_train, rf.predict(X_train_scaled))*100)))"
      ],
      "execution_count": 32,
      "outputs": [
        {
          "output_type": "stream",
          "text": [
            "Training Accuracy with scaled data: 100.0%\n"
          ],
          "name": "stdout"
        }
      ]
    },
    {
      "cell_type": "markdown",
      "metadata": {
        "id": "u4h0w7QND_7B"
      },
      "source": [
        "### KNN"
      ]
    },
    {
      "cell_type": "code",
      "metadata": {
        "id": "mkRCW9JVDru0",
        "outputId": "32767f4e-5a01-4e77-c9e2-c9da536a7d3e",
        "colab": {
          "base_uri": "https://localhost:8080/"
        }
      },
      "source": [
        "knn = KNeighborsClassifier(n_neighbors=3)\n",
        "knn.fit(X_train,y_train)\n",
        "print(\"Training Accuracy: {}%\".format(round(accuracy_score(y_train, knn.predict(X_train))*100)))"
      ],
      "execution_count": 33,
      "outputs": [
        {
          "output_type": "stream",
          "text": [
            "Training Accuracy: 98.0%\n"
          ],
          "name": "stdout"
        }
      ]
    },
    {
      "cell_type": "code",
      "metadata": {
        "id": "GNa4yzz3D36q",
        "outputId": "4c1dd53a-0949-4b17-8839-5fffd35f1dc3",
        "colab": {
          "base_uri": "https://localhost:8080/"
        }
      },
      "source": [
        "# Scaled data\n",
        "knn = KNeighborsClassifier(n_neighbors=3)\n",
        "knn.fit(X_train_scaled,y_train)\n",
        "print(\"Training Accuracy with scaled data: {}%\".format(round(accuracy_score(y_train, knn.predict(X_train_scaled))*100)))"
      ],
      "execution_count": 34,
      "outputs": [
        {
          "output_type": "stream",
          "text": [
            "Training Accuracy with scaled data: 99.0%\n"
          ],
          "name": "stdout"
        }
      ]
    },
    {
      "cell_type": "markdown",
      "metadata": {
        "id": "G-hlQ3tpEL-i"
      },
      "source": [
        "### Gradient Boosting "
      ]
    },
    {
      "cell_type": "code",
      "metadata": {
        "id": "neW7IMYGD_FD",
        "outputId": "d6e8085c-8a82-44f3-f4fc-58c0e8bb673e",
        "colab": {
          "base_uri": "https://localhost:8080/"
        }
      },
      "source": [
        "gb = GradientBoostingClassifier()\n",
        "gb.fit(X_train,y_train)\n",
        "print(\"Training Accuracy: {}%\".format(round(accuracy_score(y_train, gb.predict(X_train))*100)))"
      ],
      "execution_count": 35,
      "outputs": [
        {
          "output_type": "stream",
          "text": [
            "Training Accuracy: 100.0%\n"
          ],
          "name": "stdout"
        }
      ]
    },
    {
      "cell_type": "code",
      "metadata": {
        "id": "rvYqQW_jEYc0",
        "outputId": "0473fed6-31a6-482d-ace4-eba7b38eed16",
        "colab": {
          "base_uri": "https://localhost:8080/"
        }
      },
      "source": [
        "gb = GradientBoostingClassifier()\n",
        "gb.fit(X_train_scaled,y_train)\n",
        "print(\"Training Accuracy with scaled data: {}%\".format(round(accuracy_score(y_train, gb.predict(X_train_scaled))*100)))"
      ],
      "execution_count": 36,
      "outputs": [
        {
          "output_type": "stream",
          "text": [
            "Training Accuracy with scaled data: 100.0%\n"
          ],
          "name": "stdout"
        }
      ]
    },
    {
      "cell_type": "markdown",
      "metadata": {
        "id": "e5oR3O-eEhtd"
      },
      "source": [
        "### SVC"
      ]
    },
    {
      "cell_type": "code",
      "metadata": {
        "id": "gT2ZSoBA9i4j",
        "outputId": "6ea157c1-b09d-49ee-f309-c5581cfbc0ef",
        "colab": {
          "base_uri": "https://localhost:8080/"
        }
      },
      "source": [
        "svc= SVC()\n",
        "svc.fit(X_train,y_train)\n",
        "print(\"Training Accuracy: {}%\".format(round(accuracy_score(y_train, svc.predict(X_train))*100)))"
      ],
      "execution_count": 37,
      "outputs": [
        {
          "output_type": "stream",
          "text": [
            "Training Accuracy: 78.0%\n"
          ],
          "name": "stdout"
        }
      ]
    },
    {
      "cell_type": "code",
      "metadata": {
        "id": "2QtpaqUzAsEp",
        "outputId": "e1c57fbe-f872-42cc-fe86-824a42821ffb",
        "colab": {
          "base_uri": "https://localhost:8080/"
        }
      },
      "source": [
        "svc= SVC()\n",
        "svc.fit(X_train_scaled,y_train)\n",
        "print(\"Training Accuracy with Scaled data (SVC): {}%\".format(round(accuracy_score(y_train, svc.predict(X_train_scaled))*100)))"
      ],
      "execution_count": 38,
      "outputs": [
        {
          "output_type": "stream",
          "text": [
            "Training Accuracy with Scaled data (SVC): 98.0%\n"
          ],
          "name": "stdout"
        }
      ]
    },
    {
      "cell_type": "markdown",
      "metadata": {
        "id": "RIipStx7heTt"
      },
      "source": [
        "---\n",
        "### 3. Evaluate both sets of data using your function."
      ]
    },
    {
      "cell_type": "code",
      "metadata": {
        "id": "vTjRU3ux3sNN",
        "outputId": "89826bfa-2b3a-4fbc-d80d-ffe9e398fb10",
        "colab": {
          "base_uri": "https://localhost:8080/"
        }
      },
      "source": [
        "print(\"*\"*50)\n",
        "print('Random Forest')\n",
        "print(\"*\"*50)\n",
        "print('\\n')\n",
        "print('*'*30)\n",
        "print(\"Training Performance\")\n",
        "print('*'*30)\n",
        "evaluation(rf, X_train, y_train)\n",
        "print('*'*15)\n",
        "print('Scaled Data')\n",
        "evaluation(rf, X_train_scaled, y_train)\n",
        "print('*'*30)\n",
        "print('\\n')\n",
        "print('*'*30)\n",
        "print(\"Testing Performance\")\n",
        "print('*'*30)\n",
        "evaluation(rf, X_test, y_test)\n",
        "print('*'*15)\n",
        "print('Scaled Data')\n",
        "evaluation(rf, X_test_scaled, y_test)\n",
        "print('*'*30)"
      ],
      "execution_count": 42,
      "outputs": [
        {
          "output_type": "stream",
          "text": [
            "**************************************************\n",
            "Random Forest\n",
            "**************************************************\n",
            "\n",
            "\n",
            "******************************\n",
            "Training Performance\n",
            "******************************\n",
            "Accuracy: 43.0%\n",
            "Precision: 43.0%\n",
            "Recall: 100.0%\n",
            "MSE: 0.5722184166748214\n",
            "SSE: 11695\n",
            "***************\n",
            "Scaled Data\n",
            "Accuracy: 100.0%\n",
            "Precision: 100.0%\n",
            "Recall: 100.0%\n",
            "MSE: 0.0\n",
            "SSE: 0\n",
            "******************************\n",
            "\n",
            "\n",
            "******************************\n",
            "Testing Performance\n",
            "******************************\n",
            "Accuracy: 42.0%\n",
            "Precision: 42.0%\n",
            "Recall: 100.0%\n",
            "MSE: 0.5778864970645793\n",
            "SSE: 2953\n",
            "***************\n",
            "Scaled Data\n",
            "Accuracy: 100.0%\n",
            "Precision: 100.0%\n",
            "Recall: 100.0%\n",
            "MSE: 0.0\n",
            "SSE: 0\n",
            "******************************\n"
          ],
          "name": "stdout"
        }
      ]
    },
    {
      "cell_type": "code",
      "metadata": {
        "id": "SCjCL8PcGIBJ",
        "outputId": "b09d50ae-133a-44f0-cd4a-dd58f79a8fbc",
        "colab": {
          "base_uri": "https://localhost:8080/"
        }
      },
      "source": [
        "print(\"*\"*50)\n",
        "print('KNN')\n",
        "print(\"*\"*50)\n",
        "print('\\n')\n",
        "print('*'*30)\n",
        "print(\"Training Performance\")\n",
        "print('*'*30)\n",
        "evaluation(knn, X_train, y_train)\n",
        "print('*'*15)\n",
        "print('Scaled Data')\n",
        "evaluation(knn, X_train_scaled, y_train)\n",
        "print('*'*30)\n",
        "print('\\n')\n",
        "print('*'*30)\n",
        "print(\"Testing Performance\")\n",
        "print('*'*30)\n",
        "evaluation(knn, X_test, y_test)\n",
        "print('*'*15)\n",
        "print('Scaled Data')\n",
        "evaluation(knn, X_test_scaled, y_test)\n",
        "print('*'*30)"
      ],
      "execution_count": 43,
      "outputs": [
        {
          "output_type": "stream",
          "text": [
            "**************************************************\n",
            "KNN\n",
            "**************************************************\n",
            "\n",
            "\n",
            "******************************\n",
            "Training Performance\n",
            "******************************\n",
            "Accuracy: 57.0%\n"
          ],
          "name": "stdout"
        },
        {
          "output_type": "stream",
          "text": [
            "/usr/local/lib/python3.6/dist-packages/sklearn/metrics/_classification.py:1272: UndefinedMetricWarning: Precision is ill-defined and being set to 0.0 due to no predicted samples. Use `zero_division` parameter to control this behavior.\n",
            "  _warn_prf(average, modifier, msg_start, len(result))\n"
          ],
          "name": "stderr"
        },
        {
          "output_type": "stream",
          "text": [
            "Precision: 0.0%\n",
            "Recall: 0.0%\n",
            "MSE: 0.42778158332517857\n",
            "SSE: 8743\n",
            "***************\n",
            "Scaled Data\n",
            "Accuracy: 99.0%\n",
            "Precision: 100.0%\n",
            "Recall: 98.0%\n",
            "MSE: 0.0076817692533516\n",
            "SSE: 157\n",
            "******************************\n",
            "\n",
            "\n",
            "******************************\n",
            "Testing Performance\n",
            "******************************\n",
            "Accuracy: 58.0%\n"
          ],
          "name": "stdout"
        },
        {
          "output_type": "stream",
          "text": [
            "/usr/local/lib/python3.6/dist-packages/sklearn/metrics/_classification.py:1272: UndefinedMetricWarning: Precision is ill-defined and being set to 0.0 due to no predicted samples. Use `zero_division` parameter to control this behavior.\n",
            "  _warn_prf(average, modifier, msg_start, len(result))\n"
          ],
          "name": "stderr"
        },
        {
          "output_type": "stream",
          "text": [
            "Precision: 0.0%\n",
            "Recall: 0.0%\n",
            "MSE: 0.42211350293542077\n",
            "SSE: 2157\n",
            "***************\n",
            "Scaled Data\n",
            "Accuracy: 98.0%\n",
            "Precision: 100.0%\n",
            "Recall: 96.0%\n",
            "MSE: 0.018003913894324854\n",
            "SSE: 92\n",
            "******************************\n"
          ],
          "name": "stdout"
        }
      ]
    },
    {
      "cell_type": "code",
      "metadata": {
        "id": "uXY0qlYEGn1o",
        "outputId": "5f9e1891-51b0-402b-9920-8fcc7faed87f",
        "colab": {
          "base_uri": "https://localhost:8080/"
        }
      },
      "source": [
        "print(\"*\"*50)\n",
        "print('Gradient Boosting')\n",
        "print(\"*\"*50)\n",
        "print('\\n')\n",
        "print('*'*30)\n",
        "print(\"Training Performance\")\n",
        "print('*'*30)\n",
        "evaluation(gb, X_train, y_train)\n",
        "print('*'*15)\n",
        "print('Scaled Data')\n",
        "evaluation(gb, X_train_scaled, y_train)\n",
        "print('*'*30)\n",
        "print('\\n')\n",
        "print('*'*30)\n",
        "print(\"Testing Performance\")\n",
        "print('*'*30)\n",
        "evaluation(gb, X_test, y_test)\n",
        "print('*'*15)\n",
        "print('Scaled Data')\n",
        "evaluation(gb, X_test_scaled, y_test)\n",
        "print('*'*30)"
      ],
      "execution_count": 44,
      "outputs": [
        {
          "output_type": "stream",
          "text": [
            "**************************************************\n",
            "Gradient Boosting\n",
            "**************************************************\n",
            "\n",
            "\n",
            "******************************\n",
            "Training Performance\n",
            "******************************\n",
            "Accuracy: 43.0%\n",
            "Precision: 43.0%\n",
            "Recall: 100.0%\n",
            "MSE: 0.5722184166748214\n",
            "SSE: 11695\n",
            "***************\n",
            "Scaled Data\n",
            "Accuracy: 100.0%\n",
            "Precision: 100.0%\n",
            "Recall: 100.0%\n",
            "MSE: 0.0\n",
            "SSE: 0\n",
            "******************************\n",
            "\n",
            "\n",
            "******************************\n",
            "Testing Performance\n",
            "******************************\n",
            "Accuracy: 42.0%\n",
            "Precision: 42.0%\n",
            "Recall: 100.0%\n",
            "MSE: 0.5778864970645793\n",
            "SSE: 2953\n",
            "***************\n",
            "Scaled Data\n",
            "Accuracy: 100.0%\n",
            "Precision: 100.0%\n",
            "Recall: 100.0%\n",
            "MSE: 0.0\n",
            "SSE: 0\n",
            "******************************\n"
          ],
          "name": "stdout"
        }
      ]
    },
    {
      "cell_type": "code",
      "metadata": {
        "id": "xerHRFqVA3eW",
        "outputId": "b19cb8be-cda9-4575-a38c-aede697cf653",
        "colab": {
          "base_uri": "https://localhost:8080/"
        }
      },
      "source": [
        "print(\"*\"*50)\n",
        "print('SVC')\n",
        "print(\"*\"*50)\n",
        "print('\\n')\n",
        "print('*'*30)\n",
        "print(\"Training Performance\")\n",
        "print('*'*30)\n",
        "evaluation(svc, X_train, y_train)\n",
        "print('*'*15)\n",
        "print('Scaled Data')\n",
        "evaluation(svc, X_train_scaled, y_train)\n",
        "print('*'*30)\n",
        "print('\\n')\n",
        "print('*'*30)\n",
        "print(\"Testing Performance\")\n",
        "print('*'*30)\n",
        "evaluation(svc, X_test, y_test)\n",
        "print('*'*15)\n",
        "print('Scaled Data')\n",
        "evaluation(svc, X_test_scaled, y_test)\n",
        "print('*'*30)"
      ],
      "execution_count": 45,
      "outputs": [
        {
          "output_type": "stream",
          "text": [
            "**************************************************\n",
            "SVC\n",
            "**************************************************\n",
            "\n",
            "\n",
            "******************************\n",
            "Training Performance\n",
            "******************************\n",
            "Accuracy: 43.0%\n",
            "Precision: 43.0%\n",
            "Recall: 100.0%\n",
            "MSE: 0.5722184166748214\n",
            "SSE: 11695\n",
            "***************\n",
            "Scaled Data\n",
            "Accuracy: 98.0%\n",
            "Precision: 100.0%\n",
            "Recall: 95.0%\n",
            "MSE: 0.023289950092964088\n",
            "SSE: 476\n",
            "******************************\n",
            "\n",
            "\n",
            "******************************\n",
            "Testing Performance\n",
            "******************************\n",
            "Accuracy: 42.0%\n",
            "Precision: 42.0%\n",
            "Recall: 100.0%\n",
            "MSE: 0.5778864970645793\n",
            "SSE: 2953\n",
            "***************\n",
            "Scaled Data\n",
            "Accuracy: 98.0%\n",
            "Precision: 100.0%\n",
            "Recall: 95.0%\n",
            "MSE: 0.02172211350293542\n",
            "SSE: 111\n",
            "******************************\n"
          ],
          "name": "stdout"
        }
      ]
    },
    {
      "cell_type": "markdown",
      "metadata": {
        "id": "-ZLNoDjMheTu"
      },
      "source": [
        "### Extra: Confusion Matrix"
      ]
    },
    {
      "cell_type": "markdown",
      "metadata": {
        "id": "X38EGKUEGBSS"
      },
      "source": [
        "### RF"
      ]
    },
    {
      "cell_type": "code",
      "metadata": {
        "id": "CSBmMog0m8zY",
        "outputId": "6e9cb9d0-c5e1-4fe3-c416-fac79d498bd7",
        "colab": {
          "base_uri": "https://localhost:8080/",
          "height": 283
        }
      },
      "source": [
        "sns.heatmap(confusion_matrix(y_test, rf.predict(X_test_scaled)) / len(y), cmap='Blues', annot=True)"
      ],
      "execution_count": 46,
      "outputs": [
        {
          "output_type": "execute_result",
          "data": {
            "text/plain": [
              "<matplotlib.axes._subplots.AxesSubplot at 0x7f369f21f278>"
            ]
          },
          "metadata": {
            "tags": []
          },
          "execution_count": 46
        },
        {
          "output_type": "display_data",
          "data": {
            "image/png": "[encoded data removed]",
            "text/plain": [
              "<Figure size 432x288 with 2 Axes>"
            ]
          },
          "metadata": {
            "tags": [],
            "needs_background": "light"
          }
        }
      ]
    },
    {
      "cell_type": "markdown",
      "metadata": {
        "id": "9qJxPHQoHEHW"
      },
      "source": [
        "### KNN"
      ]
    },
    {
      "cell_type": "code",
      "metadata": {
        "id": "8ac7Jy3sHJx6",
        "outputId": "f0b126e4-e33e-4b1b-df0e-1ab69a7a0e5d",
        "colab": {
          "base_uri": "https://localhost:8080/",
          "height": 283
        }
      },
      "source": [
        "sns.heatmap(confusion_matrix(y_test, knn.predict(X_test_scaled)) / len(y), cmap='Blues', annot=True)"
      ],
      "execution_count": 47,
      "outputs": [
        {
          "output_type": "execute_result",
          "data": {
            "text/plain": [
              "<matplotlib.axes._subplots.AxesSubplot at 0x7f369f214208>"
            ]
          },
          "metadata": {
            "tags": []
          },
          "execution_count": 47
        },
        {
          "output_type": "display_data",
          "data": {
            "image/png": "[encoded data removed]",
            "text/plain": [
              "<Figure size 432x288 with 2 Axes>"
            ]
          },
          "metadata": {
            "tags": [],
            "needs_background": "light"
          }
        }
      ]
    },
    {
      "cell_type": "markdown",
      "metadata": {
        "id": "lugbOCoPHFlA"
      },
      "source": [
        "### Gradient Boosting"
      ]
    },
    {
      "cell_type": "code",
      "metadata": {
        "id": "MT86avQWHNun",
        "outputId": "d3187cb0-10e5-4736-f2b1-42c1ed17bd63",
        "colab": {
          "base_uri": "https://localhost:8080/",
          "height": 283
        }
      },
      "source": [
        "sns.heatmap(confusion_matrix(y_test, gb.predict(X_test_scaled)) / len(y), cmap='Blues', annot=True)"
      ],
      "execution_count": 48,
      "outputs": [
        {
          "output_type": "execute_result",
          "data": {
            "text/plain": [
              "<matplotlib.axes._subplots.AxesSubplot at 0x7f369f2a37b8>"
            ]
          },
          "metadata": {
            "tags": []
          },
          "execution_count": 48
        },
        {
          "output_type": "display_data",
          "data": {
            "image/png": "[encoded data removed]",
            "text/plain": [
              "<Figure size 432x288 with 2 Axes>"
            ]
          },
          "metadata": {
            "tags": [],
            "needs_background": "light"
          }
        }
      ]
    },
    {
      "cell_type": "markdown",
      "metadata": {
        "id": "QQEf3byAHAvb"
      },
      "source": [
        "### SVC"
      ]
    },
    {
      "cell_type": "code",
      "metadata": {
        "id": "BYMAfLyfDZer",
        "outputId": "0334c3be-9883-48ee-b2c8-b8c03847f325",
        "colab": {
          "base_uri": "https://localhost:8080/",
          "height": 283
        }
      },
      "source": [
        "sns.heatmap(confusion_matrix(y_test, svc.predict(X_test_scaled)) / len(y), cmap='Blues', annot=True)"
      ],
      "execution_count": 49,
      "outputs": [
        {
          "output_type": "execute_result",
          "data": {
            "text/plain": [
              "<matplotlib.axes._subplots.AxesSubplot at 0x7f369f124978>"
            ]
          },
          "metadata": {
            "tags": []
          },
          "execution_count": 49
        },
        {
          "output_type": "display_data",
          "data": {
            "image/png": "[encoded data removed]",
            "text/plain": [
              "<Figure size 432x288 with 2 Axes>"
            ]
          },
          "metadata": {
            "tags": [],
            "needs_background": "light"
          }
        }
      ]
    }
  ]
}